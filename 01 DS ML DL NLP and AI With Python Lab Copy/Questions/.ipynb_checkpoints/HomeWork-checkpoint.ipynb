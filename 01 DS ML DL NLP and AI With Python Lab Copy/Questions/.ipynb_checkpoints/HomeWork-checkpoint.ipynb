{
 "cells": [
  {
   "cell_type": "code",
   "execution_count": 0,
   "metadata": {
    "colab": {},
    "colab_type": "code",
    "id": "JtJ20Xwzkt-H"
   },
   "outputs": [],
   "source": [
    "04-Sep-2019 Name:Rishikesh\n",
    "\n",
    "Problem Statement: Draw a histogram which will have bins from 0 to 35, 36-50, 51-69,70-90 and 91 to 100\n",
    "    \n",
    "plt.hist(marks,bins=[0,35,50,69,90,100], color='green')\n",
    "plt.title('Marks Obtained by Students', color='Purple')\n",
    "plt.xlabel('Marks Range')\n",
    "plt.ylabel('Marks')\n",
    "plt.legend('Marks')..\n",
    "\n",
    "plt.show()"
   ]
  },
  {
   "cell_type": "code",
   "execution_count": 0,
   "metadata": {
    "colab": {},
    "colab_type": "code",
    "id": "mtl8IFuXhwPZ"
   },
   "outputs": [],
   "source": []
  },
  {
   "cell_type": "code",
   "execution_count": 0,
   "metadata": {
    "colab": {},
    "colab_type": "code",
    "id": "orkf1o6jptkZ"
   },
   "outputs": [],
   "source": [
    "04-Sep-2019 NAme: Rishikesh\n",
    "Problem Statement: TO find covariance of given 2 arrays/series/columns of a file    \n",
    "    \n",
    "    # define a function to derive covariance by passing 1 arrays\n",
    "    def UDF_covariance(a1, a2): \n",
    "    import math \n",
    "    import numpy as np  \n",
    " \n",
    "    no = len(a1)\n",
    "    if (len(a1) != len(a2)): \n",
    "        return 'Both no of array elements are not equal'\n",
    "    meanOfFseries = np.mean(a1)\n",
    "    meanOfSseries = np.mean(a2)\n",
    "    \n",
    "    sum = 0\n",
    "    for i in range(0, no): \n",
    "        sum = (sum + (a1[i] - meanOfFseries ) * (a2[i] - meanOfSseries)) \n",
    "      \n",
    "    return (sum / (no - 1)) \n",
    "  \n",
    "import pandas as pd\n",
    "import numpy as np\n",
    "df=pd.read_csv(\"D:\\\\RamReddyData\\\\auto-mpg.csv\")\n",
    "#Fseries = df['mpg'] \n",
    "#Sseries = df['weight']\n",
    "Fseries = [1,2,3]\n",
    "Sseries = [2,4,6]\n",
    "\n",
    "\n",
    "print(UDF_covariance(Fseries,Sseries))\n",
    "print(np.cov(Fseries,Sseries))"
   ]
  },
  {
   "cell_type": "code",
   "execution_count": 0,
   "metadata": {
    "colab": {},
    "colab_type": "code",
    "id": "mUCXpfNeru3X"
   },
   "outputs": [],
   "source": [
    "#Name : Srinath\n",
    "#Problem : Finding Covariance\n",
    "#Date: 04-09-2019\n",
    "def cova(x,y):\n",
    "    x_mean = sum(x)/len(x)\n",
    "    y_mean = sum(y)/len(y)\n",
    "    cov = sum((x - x_mean)*(y - y_mean) for x, y in zip(x, y)) / (len(x)-1)\n",
    "    return cov\n",
    "  \n",
    "  \n",
    "cova([1,2,3,4,5],[4,3,2,2,5])\n",
    "result = 0.25\n",
    "\n",
    "np.cov([1,2,3,4,5],[4,3,2,2,5])\n",
    "result = array([[2.5 , 0.25],\n",
    "       [0.25, 1.7 ]])"
   ]
  },
  {
   "cell_type": "code",
   "execution_count": 0,
   "metadata": {
    "colab": {},
    "colab_type": "code",
    "id": "IqxB_Hjzr9ei"
   },
   "outputs": [],
   "source": [
    "# 06-09-2019,    Hariom Patidar\n",
    "\n",
    "# Code For Covariance \n",
    "---------------------------------------------\n",
    "\n",
    "import numpy as np\n",
    "def covariance(arr1, arr2):\n",
    "  \n",
    "  arr1_mean = np.mean(arr1)\n",
    "  arr2_mean = np.mean(arr2)\n",
    "  \n",
    "  if len(arr1) != len(arr2):\n",
    "    print(\"Length of the given arrays are not same \")\n",
    "  sum = 0\n",
    "  for l in range(len(arr1)):\n",
    "    sum+= ((arr1[i]- arr1_mean) * (arr2[i] - arr2_mean))\n",
    "  return sum/(len(arr1)-1)\n",
    "\n",
    "a = [10,20,30,40]\n",
    "b = [30,10,60,50]\n",
    "check = covariance(a,b)\n",
    "print(check)\n",
    "print(np.cov(a,b))\n",
    "  \n",
    "\n",
    " # Code For Correlation \n",
    "---------------------------------------------\n",
    "\n",
    "\n",
    "\n",
    "def correl(a,b):\n",
    "  if len(a) == len(b):\n",
    "    deno, num = 0, 0\n",
    "    a_mean = np.mean(a)\n",
    "    b_mean = np.mean(b)\n",
    "    for i in range(0, len(a)):\n",
    "      deno+= ((a[i]- a_mean)*(b[i] - b_mean))\n",
    "      a1 = (a[i]- a_mean)**2\n",
    "      b1 = (b[i] - b_mean)**2\n",
    "      num += np.sqrt(a1*b1)\n",
    "    return deno/num\n",
    "\n",
    "print(correl(a,b))\n",
    "print(np.corrcoef(a,b))\n",
    "\n",
    "  \n",
    "  "
   ]
  },
  {
   "cell_type": "code",
   "execution_count": 0,
   "metadata": {
    "colab": {},
    "colab_type": "code",
    "id": "N-DJrVUBYFnK"
   },
   "outputs": [],
   "source": []
  }
 ],
 "metadata": {
  "colab": {
   "collapsed_sections": [],
   "name": "HomeWork",
   "provenance": [],
   "version": "0.3.2"
  },
  "kernelspec": {
   "display_name": "Python 3",
   "language": "python",
   "name": "python3"
  },
  "language_info": {
   "codemirror_mode": {
    "name": "ipython",
    "version": 3
   },
   "file_extension": ".py",
   "mimetype": "text/x-python",
   "name": "python",
   "nbconvert_exporter": "python",
   "pygments_lexer": "ipython3",
   "version": "3.6.9"
  }
 },
 "nbformat": 4,
 "nbformat_minor": 1
}
