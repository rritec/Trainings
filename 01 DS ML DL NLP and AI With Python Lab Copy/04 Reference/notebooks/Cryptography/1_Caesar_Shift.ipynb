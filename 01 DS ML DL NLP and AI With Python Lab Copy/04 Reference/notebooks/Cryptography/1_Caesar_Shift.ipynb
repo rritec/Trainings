{
 "cells": [
  {
   "cell_type": "markdown",
   "metadata": {},
   "source": [
    "## Caesar Cipher\n",
    "\n",
    "This notebook introduces the Caesar cipher. \n",
    "\n",
    "A Caesar cipher is one of the easiest ways to encrypt text. It's also extremely easy to crack. But for the purposes of introducing ciphers, it's a great place to start. \n",
    "\n",
    "The setup is pretty simple. You start with a message that you want to codify so someone else cannot read it. Say the message is **\"I hope you cannot read this.\"**. This is called the *plaintext*. Now we need to apply some algorithm to our text so the output is incoherent. For example, the output may be **O nuvk eua igttuz xkgj znoy.\"**.  What we did in this case is shift every letter six places to the right: A becomes G, B becomes H, Z becomes F, and so on. \n",
    "\n",
    "> **plaintext:**  I hope you cannot read this.  \n",
    "> **ciphertext:** O nuvk eua igttuz xkgj znoy.\n",
    "\n",
    "Right away we can see this particular setup is very easy to crack. It includes capitalization and the words are clearly split. By converting all the text to lowercase and removing all spacees, we can make it a bit more difficult. However, there are only 25 different ways to shift the letters. That means a brute force attack, or trying all possibilities, is trivial.\n",
    "\n",
    "Let's see what this looks like in code. We'll create a class called *CaesarCipher* that can encrypt or decrypt text. "
   ]
  },
  {
   "cell_type": "markdown",
   "metadata": {},
   "source": [
    "---"
   ]
  },
  {
   "cell_type": "code",
   "execution_count": 1,
   "metadata": {},
   "outputs": [],
   "source": [
    "class CaesarCipher:\n",
    "    \n",
    "    \n",
    "    \n",
    "    def _clean_text(self, text):\n",
    "        '''converts text to lowercase, removes spaces, and removes punctuation.'''\n",
    "        import string\n",
    "        assert type(text) == str, 'input needs to be a string!'\n",
    "        text = text.lower()\n",
    "        text = text.replace(' ', '')\n",
    "        self.clean_text = \"\".join(character for character in text \n",
    "                                  if character not in string.punctuation)\n",
    "        return self.clean_text\n",
    "    \n",
    "    \n",
    "    def _string2characters(self, text):\n",
    "        '''converts a string to individual characters.'''\n",
    "        assert type(text) == str, 'input needs to be a string!'\n",
    "        self.str2char = list(text)\n",
    "        return self.str2char\n",
    "    \n",
    "    \n",
    "    def _chars2nums(self, characters):\n",
    "        '''converts individual characters to integers.'''\n",
    "        assert type(characters) == list, 'input needs to be a list of characters!'\n",
    "        codebook = {'a':0, 'b':1, 'c':2, 'd':3, 'e':4, 'f':5, 'g':6, 'h':7, 'i':8, 'j':9,\n",
    "               'k':10, 'l':11, 'm':12, 'n':13, 'o':14, 'p':15, 'q':16, 'r':17, 's':18,\n",
    "               't':19, 'u':20, 'v':21, 'w':22, 'x':23, 'y':24, 'z':25}\n",
    "        for i, char in enumerate(characters):\n",
    "            try:\n",
    "                characters[i] = codebook[char]\n",
    "            except:\n",
    "                pass\n",
    "        self.char2num = characters\n",
    "        return self.char2num\n",
    "    \n",
    "    \n",
    "    def _nums2chars(self, numbers):\n",
    "        '''converts individual integers to characters .'''\n",
    "        assert type(numbers) == list, 'input needs to be a list of numbers!'\n",
    "        codebook = {0:'a', 1:'b', 2:'c', 3:'d', 4:'e', 5:'f', 6:'g', 7:'h', 8:'i', 9:'j',\n",
    "               10:'k', 11:'l', 12:'m', 13:'n', 14:'o', 15:'p', 16:'q', 17:'r', 18:'s',\n",
    "               19:'t', 20:'u', 21:'v', 22:'w', 23:'x', 24:'y', 25:'z'}\n",
    "        for i, num in enumerate(numbers):\n",
    "            try:\n",
    "                numbers[i] = codebook[num]\n",
    "            except:\n",
    "                pass\n",
    "        self.num2chars = numbers\n",
    "        return self.num2chars\n",
    "    \n",
    "    \n",
    "    def _preprocessing(self, text):\n",
    "        ''''''\n",
    "        clean_text = self._clean_text(text)\n",
    "        list_of_chars = self._string2characters(clean_text)\n",
    "        list_of_nums = self._chars2nums(list_of_chars)\n",
    "        return list_of_nums\n",
    "    \n",
    "    def encrypt(self, text, shift=3):\n",
    "        '''return text that is shifted according to user's input.'''\n",
    "        import numpy as np\n",
    "        preprocess = self._preprocessing(text)\n",
    "        nums_shifted = list((np.array(preprocess) + shift) % 26)\n",
    "        return ''.join(self._nums2chars(nums_shifted))\n",
    "        \n",
    "    def decrypt(self, text, shift=3):\n",
    "        '''returns text shifted by user-defined shift length.'''\n",
    "        import numpy as np\n",
    "        preprocess = self._preprocessing(text)\n",
    "        nums = self._chars2nums(preprocess)\n",
    "        num_shift = list((np.array(nums) - shift) % 26)\n",
    "        return ''.join(self._nums2chars(num_shift))"
   ]
  },
  {
   "cell_type": "markdown",
   "metadata": {},
   "source": [
    "---"
   ]
  },
  {
   "cell_type": "code",
   "execution_count": 2,
   "metadata": {},
   "outputs": [],
   "source": [
    "cc = CaesarCipher()"
   ]
  },
  {
   "cell_type": "code",
   "execution_count": 3,
   "metadata": {},
   "outputs": [
    {
     "data": {
      "text/plain": [
       "'onuvkeuaigttuzxkgjznoy'"
      ]
     },
     "execution_count": 3,
     "metadata": {},
     "output_type": "execute_result"
    }
   ],
   "source": [
    "# example\n",
    "cc.encrypt('I hope you cannot read this.', shift=6)"
   ]
  },
  {
   "cell_type": "markdown",
   "metadata": {},
   "source": [
    "---"
   ]
  },
  {
   "cell_type": "code",
   "execution_count": 4,
   "metadata": {},
   "outputs": [
    {
     "data": {
      "text/plain": [
       "'the QuIcK brown fox jumps over the lazy dog!'"
      ]
     },
     "execution_count": 4,
     "metadata": {},
     "output_type": "execute_result"
    }
   ],
   "source": [
    "text = 'the QuIcK brown fox jumps over the lazy dog!'\n",
    "text"
   ]
  },
  {
   "cell_type": "code",
   "execution_count": 5,
   "metadata": {},
   "outputs": [
    {
     "data": {
      "text/plain": [
       "'ymjvznhpgwtbsktcozruxtajwymjqfeditl'"
      ]
     },
     "execution_count": 5,
     "metadata": {},
     "output_type": "execute_result"
    }
   ],
   "source": [
    "# show one encryption\n",
    "encrypted = cc.encrypt(text, shift=5)\n",
    "encrypted"
   ]
  },
  {
   "cell_type": "code",
   "execution_count": 6,
   "metadata": {},
   "outputs": [
    {
     "name": "stdout",
     "output_type": "stream",
     "text": [
      "uifrvjdlcspxogpykvnqtpwfsuifmbazeph\n",
      "vjgswkemdtqyphqzlworuqxgtvjgncbafqi\n",
      "wkhtxlfneurzqiramxpsvryhuwkhodcbgrj\n",
      "xliuymgofvsarjsbnyqtwszivxlipedchsk\n",
      "ymjvznhpgwtbsktcozruxtajwymjqfeditl\n",
      "znkwaoiqhxuctludpasvyubkxznkrgfejum\n",
      "aolxbpjriyvdumveqbtwzvclyaolshgfkvn\n",
      "bpmycqksjzwevnwfrcuxawdmzbpmtihglwo\n",
      "cqnzdrltkaxfwoxgsdvybxenacqnujihmxp\n",
      "droaesmulbygxpyhtewzcyfobdrovkjinyq\n",
      "espbftnvmczhyqziufxadzgpcespwlkjozr\n",
      "ftqcguowndaizrajvgybeahqdftqxmlkpas\n",
      "gurdhvpxoebjasbkwhzcfbiregurynmlqbt\n",
      "hvseiwqypfckbtclxiadgcjsfhvszonmrcu\n",
      "iwtfjxrzqgdlcudmyjbehdktgiwtaponsdv\n",
      "jxugkysarhemdvenzkcfieluhjxubqpotew\n",
      "kyvhlztbsifnewfoaldgjfmvikyvcrqpufx\n",
      "lzwimauctjgofxgpbmehkgnwjlzwdsrqvgy\n",
      "maxjnbvdukhpgyhqcnfilhoxkmaxetsrwhz\n",
      "nbykocwevliqhzirdogjmipylnbyfutsxia\n",
      "oczlpdxfwmjriajsephknjqzmoczgvutyjb\n",
      "pdamqeygxnksjbktfqilokranpdahwvuzkc\n",
      "qebnrfzhyoltkclugrjmplsboqebixwvald\n",
      "rfcosgaizpmuldmvhsknqmtcprfcjyxwbme\n",
      "sgdpthbjaqnvmenwitlornudqsgdkzyxcnf\n"
     ]
    }
   ],
   "source": [
    "# show all encryption possibilities\n",
    "for i in range(1,26):\n",
    "    print(cc.encrypt(text, shift=i))"
   ]
  },
  {
   "cell_type": "code",
   "execution_count": 7,
   "metadata": {},
   "outputs": [
    {
     "name": "stdout",
     "output_type": "stream",
     "text": [
      "shift 1: xliuymgofvsarjsbnyqtwszivxlipedchsk\n",
      "\n",
      "shift 2: wkhtxlfneurzqiramxpsvryhuwkhodcbgrj\n",
      "\n",
      "shift 3: vjgswkemdtqyphqzlworuqxgtvjgncbafqi\n",
      "\n",
      "shift 4: uifrvjdlcspxogpykvnqtpwfsuifmbazeph\n",
      "\n",
      "shift 5: thequickbrownfoxjumpsoverthelazydog\n",
      "\n",
      "shift 6: sgdpthbjaqnvmenwitlornudqsgdkzyxcnf\n",
      "\n",
      "shift 7: rfcosgaizpmuldmvhsknqmtcprfcjyxwbme\n",
      "\n",
      "shift 8: qebnrfzhyoltkclugrjmplsboqebixwvald\n",
      "\n",
      "shift 9: pdamqeygxnksjbktfqilokranpdahwvuzkc\n",
      "\n",
      "shift10: oczlpdxfwmjriajsephknjqzmoczgvutyjb\n",
      "\n",
      "shift11: nbykocwevliqhzirdogjmipylnbyfutsxia\n",
      "\n",
      "shift12: maxjnbvdukhpgyhqcnfilhoxkmaxetsrwhz\n",
      "\n",
      "shift13: lzwimauctjgofxgpbmehkgnwjlzwdsrqvgy\n",
      "\n",
      "shift14: kyvhlztbsifnewfoaldgjfmvikyvcrqpufx\n",
      "\n",
      "shift15: jxugkysarhemdvenzkcfieluhjxubqpotew\n",
      "\n",
      "shift16: iwtfjxrzqgdlcudmyjbehdktgiwtaponsdv\n",
      "\n",
      "shift17: hvseiwqypfckbtclxiadgcjsfhvszonmrcu\n",
      "\n",
      "shift18: gurdhvpxoebjasbkwhzcfbiregurynmlqbt\n",
      "\n",
      "shift19: ftqcguowndaizrajvgybeahqdftqxmlkpas\n",
      "\n",
      "shift20: espbftnvmczhyqziufxadzgpcespwlkjozr\n",
      "\n",
      "shift21: droaesmulbygxpyhtewzcyfobdrovkjinyq\n",
      "\n",
      "shift22: cqnzdrltkaxfwoxgsdvybxenacqnujihmxp\n",
      "\n",
      "shift23: bpmycqksjzwevnwfrcuxawdmzbpmtihglwo\n",
      "\n",
      "shift24: aolxbpjriyvdumveqbtwzvclyaolshgfkvn\n",
      "\n",
      "shift25: znkwaoiqhxuctludpasvyubkxznkrgfejum\n",
      "\n"
     ]
    }
   ],
   "source": [
    "# show all decryption possibilities\n",
    "for i in range(1,26):\n",
    "    print('shift{:2}: {}'.format(i, cc.decrypt(encrypted, shift=i)))\n",
    "    print('')"
   ]
  }
 ],
 "metadata": {
  "kernelspec": {
   "display_name": "Python [conda root]",
   "language": "python",
   "name": "conda-root-py"
  },
  "language_info": {
   "codemirror_mode": {
    "name": "ipython",
    "version": 3
   },
   "file_extension": ".py",
   "mimetype": "text/x-python",
   "name": "python",
   "nbconvert_exporter": "python",
   "pygments_lexer": "ipython3",
   "version": "3.5.4"
  }
 },
 "nbformat": 4,
 "nbformat_minor": 2
}
