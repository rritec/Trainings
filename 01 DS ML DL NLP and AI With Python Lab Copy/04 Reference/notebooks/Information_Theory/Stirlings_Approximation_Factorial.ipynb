{
 "cells": [
  {
   "cell_type": "markdown",
   "metadata": {},
   "source": [
    "## Background\n",
    "\n",
    "There exists a method known as Stirling's approximation that allows us to estimate the factorial of a number with a simple formula. Stirling's is an approximation so it's not perfect. However, by adding subsequent terms, we can increase the accuracy of our approximation.\n",
    "\n",
    "This notebook will focus on the 1st (and possibly 2nd) order approximations of Stirling's. We'll compare the output of Stirling's to that of the true factorial values for small numbers under 100 to see how the error changes. "
   ]
  },
  {
   "cell_type": "code",
   "execution_count": 1,
   "metadata": {},
   "outputs": [],
   "source": [
    "%matplotlib inline\n",
    "import matplotlib.pyplot as plt\n",
    "import numpy as np"
   ]
  },
  {
   "cell_type": "code",
   "execution_count": 2,
   "metadata": {},
   "outputs": [],
   "source": [
    "def factorial(number):\n",
    "    '''returns the factorial of a number'''\n",
    "    import numpy as np\n",
    "    \n",
    "    # error checking\n",
    "    assert type(number) == int, \"number must be an integer\"\n",
    "    \n",
    "    # main logic\n",
    "    output = 1\n",
    "    for i in range(number,1,-1):\n",
    "        output *= i\n",
    "    return output"
   ]
  },
  {
   "cell_type": "code",
   "execution_count": 3,
   "metadata": {},
   "outputs": [],
   "source": [
    "def stirling_first_order_approximation(number):\n",
    "    '''returns 1t order Stirlings approximation of the factorial of a number'''\n",
    "    import numpy as np\n",
    "    \n",
    "    # error checking\n",
    "    assert type(number) == int, \"number must be an integer\"\n",
    "    \n",
    "    #main logic\n",
    "    approx = (number ** number) * (np.exp(-number)) * (np.sqrt(2 * np.pi* number))\n",
    "    return approx"
   ]
  },
  {
   "cell_type": "code",
   "execution_count": 4,
   "metadata": {},
   "outputs": [],
   "source": [
    "factorials, stirling_one = [], []\n",
    "\n",
    "for i in range(2,50):\n",
    "    factorials.append(factorial(i))\n",
    "    stirling_one.append(stirling_first_order_approximation(i))\n",
    "\n",
    "factorials = np.array(factorials)\n",
    "stirling_one = np.array(stirling_one)\n",
    "delta = np.array(factorials-stirling_one, dtype=float)"
   ]
  },
  {
   "cell_type": "code",
   "execution_count": 5,
   "metadata": {},
   "outputs": [],
   "source": [
    "x = np.arange(2, 50)\n",
    "y = np.log(delta)"
   ]
  },
  {
   "cell_type": "code",
   "execution_count": 6,
   "metadata": {},
   "outputs": [
    {
     "data": {
      "image/png": "[encoded data removed]",
      "text/plain": [
       "<matplotlib.figure.Figure at 0x105e82860>"
      ]
     },
     "metadata": {},
     "output_type": "display_data"
    }
   ],
   "source": [
    "plt.plot(x, y)\n",
    "plt.title(\"delta(factorial, 1st order stirling)\")\n",
    "plt.xlabel(\"number\")\n",
    "plt.ylabel(\"log(delta)\");"
   ]
  }
 ],
 "metadata": {
  "kernelspec": {
   "display_name": "Python [conda root]",
   "language": "python",
   "name": "conda-root-py"
  },
  "language_info": {
   "codemirror_mode": {
    "name": "ipython",
    "version": 3
   },
   "file_extension": ".py",
   "mimetype": "text/x-python",
   "name": "python",
   "nbconvert_exporter": "python",
   "pygments_lexer": "ipython3",
   "version": "3.5.4"
  }
 },
 "nbformat": 4,
 "nbformat_minor": 2
}
