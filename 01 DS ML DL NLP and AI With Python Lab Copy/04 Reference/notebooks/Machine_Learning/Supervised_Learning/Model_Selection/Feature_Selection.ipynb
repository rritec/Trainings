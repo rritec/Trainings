{
 "cells": [
  {
   "cell_type": "code",
   "execution_count": null,
   "metadata": {},
   "outputs": [],
   "source": [
    "alphas = [0.0001, 0.001, 0.01, 0.1, 1, 10, 100]\n",
    "print('All errors are RMSE')\n",
    "print('-'*74)\n",
    "for alpha in alphas:\n",
    "    # instantiate and fit model\n",
    "    lasso = Lasso(alpha=alpha, fit_intercept=True, random_state=99)\n",
    "    lasso.fit(X_train, y_train)\n",
    "    # calculate errors\n",
    "    train_error = np.sqrt(mean_squared_error(y_train, lasso.predict(X_train)))\n",
    "    validation_error = np.sqrt(mean_squared_error(y_validation, lasso.predict(X_validation)))\n",
    "    test_error = np.sqrt(mean_squared_error(y_test, lasso.predict(X_test)))\n",
    "    # print errors as report\n",
    "    print('alpha: {:6} | train error: {:5} | val error: {:6} | test error: {}'.\n",
    "          format(alpha,\n",
    "                 round(train_error,2),\n",
    "                 round(validation_error,2),\n",
    "                 round(test_error,2)))"
   ]
  }
 ],
 "metadata": {
  "kernelspec": {
   "display_name": "Python [conda root]",
   "language": "python",
   "name": "conda-root-py"
  },
  "language_info": {
   "codemirror_mode": {
    "name": "ipython",
    "version": 3
   },
   "file_extension": ".py",
   "mimetype": "text/x-python",
   "name": "python",
   "nbconvert_exporter": "python",
   "pygments_lexer": "ipython3",
   "version": "3.5.4"
  }
 },
 "nbformat": 4,
 "nbformat_minor": 2
}
