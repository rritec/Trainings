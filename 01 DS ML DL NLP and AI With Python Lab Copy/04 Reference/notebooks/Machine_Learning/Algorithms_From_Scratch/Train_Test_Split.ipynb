{
 "cells": [
  {
   "cell_type": "code",
   "execution_count": 1,
   "metadata": {
    "collapsed": true
   },
   "outputs": [],
   "source": [
    "import numpy as np"
   ]
  },
  {
   "cell_type": "code",
   "execution_count": 2,
   "metadata": {},
   "outputs": [
    {
     "data": {
      "text/plain": [
       "array([[44, 42, 47, 60, 78, 60, 26, 79, 43, 63],\n",
       "       [38, 60, 16, 75, 44, 63, 80,  8, 21, 80],\n",
       "       [14, 76, 22, 67,  5, 16, 11,  5, 26, 57],\n",
       "       [32,  1, 22, 96,  0, 40, 23, 54, 24, 76],\n",
       "       [83, 96, 34, 47, 15, 39, 85, 58, 29, 80],\n",
       "       [43, 55, 36, 72, 77, 61,  4, 77, 38, 94],\n",
       "       [49, 57, 58, 44, 91, 22, 95, 46, 11, 11],\n",
       "       [ 0, 77, 60, 70, 98, 10, 50, 38, 13, 90],\n",
       "       [72, 56, 71, 25, 25, 12, 79, 26, 81, 68],\n",
       "       [63,  0, 47, 80, 78, 13, 32, 90, 50,  9]])"
      ]
     },
     "execution_count": 2,
     "metadata": {},
     "output_type": "execute_result"
    }
   ],
   "source": [
    "fake_data = np.random.randint(0,100,100).reshape(10,10)\n",
    "fake_data"
   ]
  },
  {
   "cell_type": "code",
   "execution_count": 3,
   "metadata": {
    "collapsed": true
   },
   "outputs": [],
   "source": [
    "def train_test_split(data, shuffle=True, test_proportion=0.2, random_state=None):\n",
    "    '''return train and test sets'''\n",
    "    \n",
    "    # error checking\n",
    "    assert type(shuffle) == bool, 'shuffle must be True or False!'\n",
    "    if random_state != None:\n",
    "        assert type(random_state) == int, 'random_state must be an integer!'\n",
    "    \n",
    "    # reproducibility\n",
    "    if random_state:\n",
    "        np.random.seed(random_state)\n",
    "    \n",
    "    # setup indices\n",
    "    indices = np.arange(data.shape[0])\n",
    "    if shuffle:\n",
    "        np.random.shuffle(indices)\n",
    "    \n",
    "    # main logic\n",
    "    num_indices = len(indices)\n",
    "    split = int( np.floor(test_proportion * num_indices) )\n",
    "    train = data[indices[split:]]\n",
    "    test = data[indices[:split]]\n",
    "    \n",
    "    return train, test"
   ]
  },
  {
   "cell_type": "code",
   "execution_count": 4,
   "metadata": {
    "collapsed": true
   },
   "outputs": [],
   "source": [
    "train, test = train_test_split(fake_data, shuffle=True, test_proportion=0.4, random_state=43)"
   ]
  },
  {
   "cell_type": "code",
   "execution_count": 5,
   "metadata": {},
   "outputs": [
    {
     "data": {
      "text/plain": [
       "array([[14, 76, 22, 67,  5, 16, 11,  5, 26, 57],\n",
       "       [43, 55, 36, 72, 77, 61,  4, 77, 38, 94],\n",
       "       [38, 60, 16, 75, 44, 63, 80,  8, 21, 80],\n",
       "       [ 0, 77, 60, 70, 98, 10, 50, 38, 13, 90],\n",
       "       [44, 42, 47, 60, 78, 60, 26, 79, 43, 63],\n",
       "       [83, 96, 34, 47, 15, 39, 85, 58, 29, 80]])"
      ]
     },
     "execution_count": 5,
     "metadata": {},
     "output_type": "execute_result"
    }
   ],
   "source": [
    "train"
   ]
  },
  {
   "cell_type": "code",
   "execution_count": 6,
   "metadata": {},
   "outputs": [
    {
     "data": {
      "text/plain": [
       "array([[32,  1, 22, 96,  0, 40, 23, 54, 24, 76],\n",
       "       [63,  0, 47, 80, 78, 13, 32, 90, 50,  9],\n",
       "       [49, 57, 58, 44, 91, 22, 95, 46, 11, 11],\n",
       "       [72, 56, 71, 25, 25, 12, 79, 26, 81, 68]])"
      ]
     },
     "execution_count": 6,
     "metadata": {},
     "output_type": "execute_result"
    }
   ],
   "source": [
    "test"
   ]
  }
 ],
 "metadata": {
  "kernelspec": {
   "display_name": "Python [conda root]",
   "language": "python",
   "name": "conda-root-py"
  },
  "language_info": {
   "codemirror_mode": {
    "name": "ipython",
    "version": 3
   },
   "file_extension": ".py",
   "mimetype": "text/x-python",
   "name": "python",
   "nbconvert_exporter": "python",
   "pygments_lexer": "ipython3",
   "version": "3.5.4"
  }
 },
 "nbformat": 4,
 "nbformat_minor": 2
}
