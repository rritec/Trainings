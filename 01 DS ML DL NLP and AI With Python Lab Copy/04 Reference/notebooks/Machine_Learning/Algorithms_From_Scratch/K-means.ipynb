{
 "cells": [
  {
   "cell_type": "code",
   "execution_count": 1,
   "metadata": {
    "collapsed": true
   },
   "outputs": [],
   "source": [
    "import numpy as np\n",
    "from sklearn.metrics import silhouette_score\n",
    "from scipy.spatial.distance import euclidean"
   ]
  },
  {
   "cell_type": "code",
   "execution_count": 2,
   "metadata": {
    "collapsed": true
   },
   "outputs": [],
   "source": [
    "class Kmeans:\n",
    "    '''\n",
    "    K-means is a clustering algorithm that finds convex clusters. \n",
    "    \n",
    "    The user specifies the number of clusters a priori.'''\n",
    "    \n",
    "    \n",
    "    def __init__(self, K=2, init='k++', random_state=42):\n",
    "        self.K_ = K\n",
    "        self.init_ = init\n",
    "        self._seed = random_state\n",
    "        self.centroid_init_ = None\n",
    "        self.centroid_loc_ = None\n",
    "        self._centroid_test = None\n",
    "        self._nrows = None\n",
    "        self._nfeatures = None\n",
    "        self.count_ = None\n",
    "        self.inertia_ = None\n",
    "        self.silhouette_ = None\n",
    "\n",
    "    \n",
    "    def _k_plus_plus(self, X, k):\n",
    "        '''k++ implementation for cluster initialization\n",
    "\n",
    "        Input:\n",
    "            X = numpy data matrix\n",
    "            k = number of centroids\n",
    "        Output:\n",
    "            k++ selected centroid indices\n",
    "        '''\n",
    "        n_clust = 0\n",
    "        idx = np.arange(len(X))\n",
    "\n",
    "        while n_clust < k:\n",
    "            # initialize \n",
    "            if n_clust == 0:\n",
    "                choice = np.random.choice(idx, size=1)\n",
    "                cluster_idx = np.array(choice)\n",
    "            else:\n",
    "                distances = np.array([euclidean(X[choice], X[i]) for i in range(len(X))])\n",
    "                for i,_ in enumerate(distances):\n",
    "                    if i in cluster_idx:\n",
    "                        distances[i] = 0\n",
    "                total_distance = np.sum(distances)\n",
    "                prob = np.array([distance/total_distance for distance in distances])    \n",
    "                choice = np.random.choice(idx, size=1, p=prob)\n",
    "                if choice not in cluster_idx:\n",
    "                    cluster_idx = np.append(cluster_idx, choice)\n",
    "                    np.delete(idx, choice)\n",
    "            n_clust = len(cluster_idx)\n",
    "        return cluster_idx\n",
    "    \n",
    "    \n",
    "    def _initialize_centroids(self, X, seed=True):\n",
    "        '''Randomly initialize centroids.\n",
    "        \n",
    "        Input:\n",
    "            X = numpy data matrix\n",
    "        Output:\n",
    "            K centroid locations\n",
    "        '''\n",
    "        if seed == True:\n",
    "            np.random.seed(self._seed)\n",
    "        \n",
    "        self._nrows = X.shape[0]\n",
    "        self._nfeatures = X.shape[1]\n",
    "        \n",
    "        assert self.init_ == 'random' or 'k++' or 'forgy', \"choose 'random', 'k++', 'forgy' for init\"\n",
    "        \n",
    "        if self.init_ == 'random':\n",
    "            centroid_locs = [np.random.randint(low=np.min(X),\n",
    "                                               high=np.max(X),\n",
    "                                               size= self._nfeatures) for _ in range(self.K_)]\n",
    "        elif self.init_ == 'k++':\n",
    "            centroid_locs = X[self._k_plus_plus(X, self.K_)]\n",
    "\n",
    "            self.centroid_loc_ = centroid_locs\n",
    "        elif self.init_ == 'forgy':\n",
    "            centroid_locs = X[np.random.choice(self._nrows, replace=False, size=self.K_)]\n",
    "        \n",
    "        self.centroid_loc_ = centroid_locs\n",
    "        self.centroid_init_ = np.array(centroid_locs).reshape(self.K_,-1)\n",
    "\n",
    "    \n",
    "    def _calc_distance(self, X):\n",
    "        '''Calculate the distance between data points and centroids.\n",
    "        \n",
    "        Input:\n",
    "            X = numpy data matrix\n",
    "        Output:\n",
    "            matrix of distance between each data point and each cluster\n",
    "        '''\n",
    "        return np.array([euclidean(X[i], self.centroid_loc_[j]) \n",
    "                         for i in range(self._nrows) \n",
    "                         for j in range(self.K_)]).reshape(self._nrows, self.K_)\n",
    "    \n",
    "  \n",
    "    def _update_cluster_loc(self, X):\n",
    "        '''Update centroid locations for each iteration of fitting.\n",
    "        \n",
    "        Input:\n",
    "            X = numpy data matrix\n",
    "        Output:\n",
    "            updated centroid location\n",
    "        '''\n",
    "        predictions = self.predict(X)\n",
    "        idx = set(predictions)\n",
    "        assert idx != self.K_, \"Bad initialization: use 'k++' or 'forgy' init\"\n",
    "        self.centroid_loc_ = np.array([np.mean(X[self.predict(X) == i], axis=0)\n",
    "                                           for i in range(self.K_)]).reshape(len(idx),-1)\n",
    "\n",
    "        \n",
    "    def fit(self, X):\n",
    "        '''Calculate centroid positions given training data.\n",
    "        \n",
    "        Input:\n",
    "            X = numpy data matrix\n",
    "        Output:\n",
    "            fitted centroid locations\n",
    "        '''\n",
    "        self._initialize_centroids(X, seed=True)\n",
    "        self.count_ = 0\n",
    "        while True:\n",
    "            self.count_ += 1\n",
    "            self._centroid_test = self.centroid_loc_\n",
    "            self._update_cluster_loc(X)\n",
    "\n",
    "            if np.all(self._centroid_test == self.centroid_loc_):\n",
    "                self._inertia()\n",
    "                self._silhouette_score()\n",
    "                break\n",
    "    \n",
    "    \n",
    "    def predict(self, X):\n",
    "        '''Assign data points to cluster number.\n",
    "        \n",
    "        Input:\n",
    "            X = numpy data matrix\n",
    "        Output:\n",
    "            cluster ID\n",
    "        '''\n",
    "        return np.argmin(self._calc_distance(X), axis=1)\n",
    "    \n",
    "    \n",
    "    def _inertia(self):\n",
    "        '''Calculates the total inertia after fitting.'''\n",
    "        self.inertia_ = np.sum([euclidean(X[self.predict(X)==j][i], self.centroid_loc_[j])**2\n",
    "                                for j in range(self.K_)\n",
    "                                for i in range(X[self.predict(X)==j].shape[0])])\n",
    "    \n",
    "    \n",
    "    # Need to write this part from scratch\n",
    "    def _silhouette_score(self):\n",
    "        '''Calculates the silhouette score after fitting.'''\n",
    "        self.silhouette_ = silhouette_score(X, self.predict(X))\n",
    "        \n",
    "    # Extensions\n",
    "    # 1. Add multiple initializations to find better clusters\n",
    "    # 2. Create plot methods "
   ]
  },
  {
   "cell_type": "markdown",
   "metadata": {},
   "source": [
    "---"
   ]
  },
  {
   "cell_type": "code",
   "execution_count": 3,
   "metadata": {},
   "outputs": [
    {
     "data": {
      "text/plain": [
       "array([ 8.,  7.,  9.])"
      ]
     },
     "execution_count": 3,
     "metadata": {},
     "output_type": "execute_result"
    }
   ],
   "source": [
    "X = np.random.randint(0,30,90).reshape(30,3).astype('float')\n",
    "X[10,:]"
   ]
  },
  {
   "cell_type": "code",
   "execution_count": 21,
   "metadata": {
    "collapsed": true
   },
   "outputs": [],
   "source": [
    "km = Kmeans(K=3, random_state=33, init='forgy')\n",
    "km.fit(X)"
   ]
  },
  {
   "cell_type": "code",
   "execution_count": 22,
   "metadata": {},
   "outputs": [
    {
     "data": {
      "text/plain": [
       "array([[ 28.,   0.,   0.],\n",
       "       [  8.,   4.,   1.],\n",
       "       [ 20.,  12.,   4.]])"
      ]
     },
     "execution_count": 22,
     "metadata": {},
     "output_type": "execute_result"
    }
   ],
   "source": [
    "km.centroid_init_"
   ]
  },
  {
   "cell_type": "code",
   "execution_count": 23,
   "metadata": {},
   "outputs": [
    {
     "data": {
      "text/plain": [
       "array([[ 28.        ,   0.        ,   0.        ],\n",
       "       [  6.21428571,   8.28571429,   8.14285714],\n",
       "       [ 18.66666667,  15.46666667,  14.53333333]])"
      ]
     },
     "execution_count": 23,
     "metadata": {},
     "output_type": "execute_result"
    }
   ],
   "source": [
    "km.centroid_loc_"
   ]
  },
  {
   "cell_type": "code",
   "execution_count": 24,
   "metadata": {},
   "outputs": [
    {
     "data": {
      "text/plain": [
       "array([1, 2, 1, 2, 2, 2, 2, 1, 2, 2, 1, 2, 2, 1, 2, 1, 1, 2, 2, 2, 2, 1, 1,\n",
       "       1, 1, 2, 1, 1, 1, 0])"
      ]
     },
     "execution_count": 24,
     "metadata": {},
     "output_type": "execute_result"
    }
   ],
   "source": [
    "km.predict(X)"
   ]
  },
  {
   "cell_type": "code",
   "execution_count": 25,
   "metadata": {},
   "outputs": [
    {
     "data": {
      "text/plain": [
       "2"
      ]
     },
     "execution_count": 25,
     "metadata": {},
     "output_type": "execute_result"
    }
   ],
   "source": [
    "km.count_"
   ]
  },
  {
   "cell_type": "code",
   "execution_count": 26,
   "metadata": {},
   "outputs": [
    {
     "data": {
      "text/plain": [
       "3115.7285714285717"
      ]
     },
     "execution_count": 26,
     "metadata": {},
     "output_type": "execute_result"
    }
   ],
   "source": [
    "km.inertia_"
   ]
  },
  {
   "cell_type": "code",
   "execution_count": 27,
   "metadata": {},
   "outputs": [
    {
     "data": {
      "text/plain": [
       "0.25566979262344464"
      ]
     },
     "execution_count": 27,
     "metadata": {},
     "output_type": "execute_result"
    }
   ],
   "source": [
    "km.silhouette_"
   ]
  },
  {
   "cell_type": "code",
   "execution_count": null,
   "metadata": {
    "collapsed": true
   },
   "outputs": [],
   "source": []
  },
  {
   "cell_type": "code",
   "execution_count": null,
   "metadata": {
    "collapsed": true
   },
   "outputs": [],
   "source": []
  },
  {
   "cell_type": "code",
   "execution_count": 38,
   "metadata": {},
   "outputs": [
    {
     "data": {
      "text/plain": [
       "[(0, 1, 24.68960369492076),\n",
       " (0, 2, 23.18505265611158),\n",
       " (1, 0, 24.68960369492076),\n",
       " (1, 2, 15.731053824260112),\n",
       " (2, 0, 23.18505265611158),\n",
       " (2, 1, 15.731053824260112)]"
      ]
     },
     "execution_count": 38,
     "metadata": {},
     "output_type": "execute_result"
    }
   ],
   "source": [
    "d = [(i,j, euclidean(km.centroid_loc_[i], km.centroid_loc_[j]))\n",
    "     for i in range(km.K_) for j in range(km.K_) if i!=j]\n",
    "d"
   ]
  },
  {
   "cell_type": "code",
   "execution_count": 84,
   "metadata": {},
   "outputs": [
    {
     "name": "stdout",
     "output_type": "stream",
     "text": [
      "0 1 (0, 1, 24.68960369492076)\n",
      "0 2 (0, 1, 24.68960369492076)\n",
      "1 1 (0, 2, 23.18505265611158)\n",
      "1 2 (0, 2, 23.18505265611158)\n",
      "2 1 (1, 0, 24.68960369492076)\n",
      "2 2 (1, 0, 24.68960369492076)\n",
      "3 1 (1, 2, 15.731053824260112)\n",
      "3 2 (1, 2, 15.731053824260112)\n",
      "4 1 (2, 0, 23.18505265611158)\n",
      "4 2 (2, 0, 23.18505265611158)\n",
      "5 1 (2, 1, 15.731053824260112)\n",
      "5 2 (2, 1, 15.731053824260112)\n"
     ]
    }
   ],
   "source": [
    "for i, tup in enumerate(d):\n",
    "    for j in range(1,km.K_):\n",
    "        print(i,j, tup)"
   ]
  },
  {
   "cell_type": "code",
   "execution_count": null,
   "metadata": {},
   "outputs": [],
   "source": []
  },
  {
   "cell_type": "code",
   "execution_count": 35,
   "metadata": {},
   "outputs": [
    {
     "data": {
      "text/plain": [
       "23.18505265611158"
      ]
     },
     "execution_count": 35,
     "metadata": {},
     "output_type": "execute_result"
    }
   ],
   "source": [
    "euclidean(km.centroid_loc_[2], km.centroid_loc_[0])"
   ]
  },
  {
   "cell_type": "markdown",
   "metadata": {},
   "source": [
    "---"
   ]
  },
  {
   "cell_type": "code",
   "execution_count": 11,
   "metadata": {
    "collapsed": true
   },
   "outputs": [],
   "source": [
    "km2 = Kmeans(random_state=33, init='k++')\n",
    "km2.fit(X)"
   ]
  },
  {
   "cell_type": "code",
   "execution_count": 12,
   "metadata": {},
   "outputs": [
    {
     "data": {
      "text/plain": [
       "array([[ 19.,   7.,  15.],\n",
       "       [  0.,  18.,  29.]])"
      ]
     },
     "execution_count": 12,
     "metadata": {},
     "output_type": "execute_result"
    }
   ],
   "source": [
    "km2.centroid_init_"
   ]
  },
  {
   "cell_type": "code",
   "execution_count": 13,
   "metadata": {},
   "outputs": [
    {
     "data": {
      "text/plain": [
       "array([[ 15.17647059,  17.35294118,   9.23529412],\n",
       "       [  6.46153846,  15.53846154,  23.38461538]])"
      ]
     },
     "execution_count": 13,
     "metadata": {},
     "output_type": "execute_result"
    }
   ],
   "source": [
    "km2.centroid_loc_"
   ]
  },
  {
   "cell_type": "code",
   "execution_count": 14,
   "metadata": {},
   "outputs": [
    {
     "data": {
      "text/plain": [
       "array([0, 0, 1, 0, 1, 1, 0, 0, 1, 0, 0, 0, 1, 1, 0, 1, 1, 1, 0, 0, 0, 1, 1,\n",
       "       0, 1, 0, 0, 0, 1, 0])"
      ]
     },
     "execution_count": 14,
     "metadata": {},
     "output_type": "execute_result"
    }
   ],
   "source": [
    "km2.predict(X)"
   ]
  },
  {
   "cell_type": "code",
   "execution_count": 15,
   "metadata": {},
   "outputs": [
    {
     "data": {
      "text/plain": [
       "4"
      ]
     },
     "execution_count": 15,
     "metadata": {},
     "output_type": "execute_result"
    }
   ],
   "source": [
    "km2.count_"
   ]
  },
  {
   "cell_type": "code",
   "execution_count": 16,
   "metadata": {},
   "outputs": [
    {
     "data": {
      "text/plain": [
       "4346.950226244343"
      ]
     },
     "execution_count": 16,
     "metadata": {},
     "output_type": "execute_result"
    }
   ],
   "source": [
    "km2.inertia_"
   ]
  },
  {
   "cell_type": "code",
   "execution_count": 17,
   "metadata": {},
   "outputs": [
    {
     "data": {
      "text/plain": [
       "0.2706598718853046"
      ]
     },
     "execution_count": 17,
     "metadata": {},
     "output_type": "execute_result"
    }
   ],
   "source": [
    "km2.silhouette_"
   ]
  },
  {
   "cell_type": "markdown",
   "metadata": {},
   "source": [
    "---"
   ]
  },
  {
   "cell_type": "code",
   "execution_count": 18,
   "metadata": {
    "collapsed": true
   },
   "outputs": [],
   "source": [
    "from sklearn.cluster import KMeans"
   ]
  },
  {
   "cell_type": "code",
   "execution_count": 19,
   "metadata": {},
   "outputs": [
    {
     "data": {
      "text/plain": [
       "KMeans(algorithm='auto', copy_x=True, init='k-means++', max_iter=300,\n",
       "    n_clusters=2, n_init=10, n_jobs=1, precompute_distances='auto',\n",
       "    random_state=None, tol=0.0001, verbose=0)"
      ]
     },
     "execution_count": 19,
     "metadata": {},
     "output_type": "execute_result"
    }
   ],
   "source": [
    "kmeans = KMeans(n_clusters=2, init='k-means++')\n",
    "kmeans.fit(X)"
   ]
  },
  {
   "cell_type": "code",
   "execution_count": 20,
   "metadata": {},
   "outputs": [
    {
     "data": {
      "text/plain": [
       "array([[  6.46153846,  15.53846154,  23.38461538],\n",
       "       [ 15.17647059,  17.35294118,   9.23529412]])"
      ]
     },
     "execution_count": 20,
     "metadata": {},
     "output_type": "execute_result"
    }
   ],
   "source": [
    "kmeans.cluster_centers_"
   ]
  },
  {
   "cell_type": "code",
   "execution_count": 21,
   "metadata": {},
   "outputs": [
    {
     "data": {
      "text/plain": [
       "array([1, 1, 0, 1, 0, 0, 1, 1, 0, 1, 1, 1, 0, 0, 1, 0, 0, 0, 1, 1, 1, 0, 0,\n",
       "       1, 0, 1, 1, 1, 0, 1], dtype=int32)"
      ]
     },
     "execution_count": 21,
     "metadata": {},
     "output_type": "execute_result"
    }
   ],
   "source": [
    "kmeans.predict(X)"
   ]
  },
  {
   "cell_type": "code",
   "execution_count": 22,
   "metadata": {},
   "outputs": [
    {
     "data": {
      "text/plain": [
       "3"
      ]
     },
     "execution_count": 22,
     "metadata": {},
     "output_type": "execute_result"
    }
   ],
   "source": [
    "kmeans.n_iter_"
   ]
  },
  {
   "cell_type": "code",
   "execution_count": 23,
   "metadata": {},
   "outputs": [
    {
     "data": {
      "text/plain": [
       "4346.9502262443439"
      ]
     },
     "execution_count": 23,
     "metadata": {},
     "output_type": "execute_result"
    }
   ],
   "source": [
    "kmeans.inertia_"
   ]
  },
  {
   "cell_type": "code",
   "execution_count": 24,
   "metadata": {},
   "outputs": [
    {
     "data": {
      "text/plain": [
       "0.2706598718853046"
      ]
     },
     "execution_count": 24,
     "metadata": {},
     "output_type": "execute_result"
    }
   ],
   "source": [
    "silhouette_score(X, kmeans.predict(X))"
   ]
  }
 ],
 "metadata": {
  "kernelspec": {
   "display_name": "Python [conda root]",
   "language": "python",
   "name": "conda-root-py"
  },
  "language_info": {
   "codemirror_mode": {
    "name": "ipython",
    "version": 3
   },
   "file_extension": ".py",
   "mimetype": "text/x-python",
   "name": "python",
   "nbconvert_exporter": "python",
   "pygments_lexer": "ipython3",
   "version": "3.5.4"
  }
 },
 "nbformat": 4,
 "nbformat_minor": 2
}
