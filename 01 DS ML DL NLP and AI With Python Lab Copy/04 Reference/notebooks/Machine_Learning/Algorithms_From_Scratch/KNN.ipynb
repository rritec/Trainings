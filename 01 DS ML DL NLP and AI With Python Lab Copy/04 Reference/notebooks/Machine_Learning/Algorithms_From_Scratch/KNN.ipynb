{
 "cells": [
  {
   "cell_type": "code",
   "execution_count": 3,
   "metadata": {
    "collapsed": true
   },
   "outputs": [],
   "source": [
    "import numpy as np\n",
    "from scipy.stats import mode\n",
    "from scipy.spatial.distance import euclidean"
   ]
  },
  {
   "cell_type": "code",
   "execution_count": 14,
   "metadata": {
    "collapsed": true
   },
   "outputs": [],
   "source": [
    "class KNN:\n",
    "    '''\n",
    "    KNN is a lazy supervised machine learning algorithm. \n",
    "    \n",
    "    The user specifies the number of neighbors to find.'''\n",
    "    \n",
    "    \n",
    "    def __init__(self, K=2, learning='classification'):\n",
    "        '''\n",
    "        K = number of neighbors\n",
    "        learning = 'classification' or 'regression'\n",
    "        '''\n",
    "        assert learning == 'classification' or learning == 'regression', 'need to set learning.'\n",
    "        self.K_ = K\n",
    "        self.type_ = learning\n",
    "        self._nrows = None\n",
    "        self._indices = None\n",
    "        self._X = None\n",
    "    \n",
    "    \n",
    "    def _calc_distance(self):\n",
    "        '''Calculate the distance between data points.\n",
    "        Input:\n",
    "            X = numpy data matrix\n",
    "        Output:\n",
    "            matrix of distance between each data point and each cluster\n",
    "        '''\n",
    "        self._nrows = len(self._X)\n",
    "        distances = np.array([euclidean(self._X[i], self._X[j]) if i!=j else np.inf\n",
    "                              for i in range(self._nrows) \n",
    "                              for j in range(self._nrows)])\n",
    "        return distances.reshape(self._nrows, self._nrows)\n",
    "    \n",
    "    \n",
    "    def _sort_indices(self, X):\n",
    "        '''Sort distance matrix indices by shortest distance. \n",
    "        Input:\n",
    "            X = numpy distance matrix from self._calc_distance\n",
    "        Output:\n",
    "            indices sorted by min distance\n",
    "        '''\n",
    "        return np.argsort(X, axis=1)\n",
    "\n",
    "    \n",
    "    def fit(self, X):\n",
    "        '''Copy data.\n",
    "        Input:\n",
    "            X = numpy array of data points'''\n",
    "        assert self.K_ < X.shape[0], 'You chose too many neighbors!'\n",
    "        self._X = X\n",
    "    \n",
    "    \n",
    "    def predict(self, y):\n",
    "        '''Predict on new data.'''\n",
    "        distances = self._calc_distance()\n",
    "        self._indices = self._sort_indices(distances)\n",
    "        self._indices = np.delete(self._indices, (self._indices.shape[1] - 1), axis=1)\n",
    "        self._indices = self._indices[:,:self.K_]\n",
    "        if self.type_ == 'classification':\n",
    "            return mode(y[self._indices], axis=1)[0]\n",
    "        else: \n",
    "            return np.mean(y[self._indices], axis=1)[0]"
   ]
  },
  {
   "cell_type": "markdown",
   "metadata": {
    "collapsed": true
   },
   "source": [
    "## Generate Data"
   ]
  },
  {
   "cell_type": "code",
   "execution_count": 4,
   "metadata": {},
   "outputs": [
    {
     "data": {
      "text/plain": [
       "array([[ 0,  0],\n",
       "       [ 1,  2],\n",
       "       [ 4,  9],\n",
       "       [ 5, 10]])"
      ]
     },
     "execution_count": 4,
     "metadata": {},
     "output_type": "execute_result"
    }
   ],
   "source": [
    "X = np.array([0,0,1,2,4,9,5,10]).reshape(4,2)\n",
    "X"
   ]
  },
  {
   "cell_type": "code",
   "execution_count": 5,
   "metadata": {},
   "outputs": [
    {
     "data": {
      "text/plain": [
       "array([1, 1, 1, 0])"
      ]
     },
     "execution_count": 5,
     "metadata": {},
     "output_type": "execute_result"
    }
   ],
   "source": [
    "y = np.array([1,1,1,0])\n",
    "y"
   ]
  },
  {
   "cell_type": "markdown",
   "metadata": {
    "collapsed": true
   },
   "source": [
    "## Modeling"
   ]
  },
  {
   "cell_type": "code",
   "execution_count": 29,
   "metadata": {
    "collapsed": true
   },
   "outputs": [],
   "source": [
    "knn = KNN(K=3)"
   ]
  },
  {
   "cell_type": "code",
   "execution_count": 30,
   "metadata": {},
   "outputs": [
    {
     "data": {
      "text/plain": [
       "array([[1],\n",
       "       [1],\n",
       "       [1],\n",
       "       [1]])"
      ]
     },
     "execution_count": 30,
     "metadata": {},
     "output_type": "execute_result"
    }
   ],
   "source": [
    "knn.fit(X)\n",
    "knn.predict(y)"
   ]
  }
 ],
 "metadata": {
  "kernelspec": {
   "display_name": "Python [conda root]",
   "language": "python",
   "name": "conda-root-py"
  },
  "language_info": {
   "codemirror_mode": {
    "name": "ipython",
    "version": 3
   },
   "file_extension": ".py",
   "mimetype": "text/x-python",
   "name": "python",
   "nbconvert_exporter": "python",
   "pygments_lexer": "ipython3",
   "version": "3.5.4"
  }
 },
 "nbformat": 4,
 "nbformat_minor": 2
}
