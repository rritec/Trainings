{
 "cells": [
  {
   "cell_type": "code",
   "execution_count": 1,
   "metadata": {
    "collapsed": true
   },
   "outputs": [],
   "source": [
    "import numpy as np"
   ]
  },
  {
   "cell_type": "code",
   "execution_count": 2,
   "metadata": {},
   "outputs": [
    {
     "data": {
      "text/plain": [
       "array([[75, 50, 96, 10, 21, 46, 93,  1, 91,  7],\n",
       "       [64, 92,  2, 21, 25, 53, 62, 82,  5, 58],\n",
       "       [58, 26, 55, 33, 91, 47,  3, 14, 40, 23],\n",
       "       [93, 67,  6,  0, 49, 13,  5, 61, 11, 16],\n",
       "       [36, 41, 40, 58, 47, 55, 80, 98, 66, 94],\n",
       "       [32, 69, 52, 87, 79, 50, 30, 68, 93, 65],\n",
       "       [11, 73, 39, 59, 81, 55, 71,  2, 68, 61],\n",
       "       [88, 25, 62, 63, 26, 57, 98, 74, 11, 25],\n",
       "       [ 2, 34, 30, 10,  5, 18, 76, 43, 11, 88],\n",
       "       [ 4, 17, 87, 87, 50, 78, 58, 31, 29, 89]])"
      ]
     },
     "execution_count": 2,
     "metadata": {},
     "output_type": "execute_result"
    }
   ],
   "source": [
    "fake_data = np.random.randint(0,100,100).reshape(10,10)\n",
    "fake_data"
   ]
  },
  {
   "cell_type": "code",
   "execution_count": 3,
   "metadata": {
    "collapsed": true
   },
   "outputs": [],
   "source": [
    "def train_validation_test_split(data, shuffle=True, validation_proportion=0.3,\n",
    "                                test_proportion=0.2, random_state=None):\n",
    "    '''return train, validation, and test sets'''\n",
    "    \n",
    "    # error checking\n",
    "    assert type(shuffle) == bool, 'shuffle must be True or False!'\n",
    "    if random_state != None:\n",
    "        assert type(random_state) == int, 'random_state must be an integer!'\n",
    "    assert validation_proportion + test_proportion < 1, 'need some training data!'\n",
    "    \n",
    "    # reproducibility\n",
    "    if random_state:\n",
    "        np.random.seed(random_state)\n",
    "    \n",
    "    # setup indices\n",
    "    indices = np.arange(data.shape[0])\n",
    "    if shuffle:\n",
    "        np.random.shuffle(indices)\n",
    "    \n",
    "    # MAIN LOGIC\n",
    "    # calc num of indices to keep\n",
    "    num_indices = len(indices)\n",
    "    validation_split = int( np.floor(validation_proportion * num_indices) )\n",
    "    test_split = int( np.floor(test_proportion * num_indices) )\n",
    "    \n",
    "    # parse indices\n",
    "    training_indices = indices[test_split:]\n",
    "    train_indices = training_indices[validation_split:]\n",
    "    validation_indices = training_indices[:validation_split]\n",
    "    test_indices = indices[:test_split]\n",
    "    \n",
    "    # create data sets\n",
    "    train = data[train_indices]\n",
    "    validation = data[validation_indices]\n",
    "    test = data[test_indices]\n",
    "    \n",
    "    return train, validation, test"
   ]
  },
  {
   "cell_type": "code",
   "execution_count": 4,
   "metadata": {
    "collapsed": true
   },
   "outputs": [],
   "source": [
    "train, validation, test = train_validation_test_split(fake_data,  \n",
    "                                                      shuffle=True, \n",
    "                                                      validation_proportion=0.3,\n",
    "                                                      test_proportion=0.2, \n",
    "                                                      random_state=43)"
   ]
  },
  {
   "cell_type": "code",
   "execution_count": 5,
   "metadata": {},
   "outputs": [
    {
     "data": {
      "text/plain": [
       "array([[32, 69, 52, 87, 79, 50, 30, 68, 93, 65],\n",
       "       [64, 92,  2, 21, 25, 53, 62, 82,  5, 58],\n",
       "       [88, 25, 62, 63, 26, 57, 98, 74, 11, 25],\n",
       "       [75, 50, 96, 10, 21, 46, 93,  1, 91,  7],\n",
       "       [36, 41, 40, 58, 47, 55, 80, 98, 66, 94]])"
      ]
     },
     "execution_count": 5,
     "metadata": {},
     "output_type": "execute_result"
    }
   ],
   "source": [
    "train"
   ]
  },
  {
   "cell_type": "code",
   "execution_count": 6,
   "metadata": {},
   "outputs": [
    {
     "data": {
      "text/plain": [
       "array([[11, 73, 39, 59, 81, 55, 71,  2, 68, 61],\n",
       "       [ 2, 34, 30, 10,  5, 18, 76, 43, 11, 88],\n",
       "       [58, 26, 55, 33, 91, 47,  3, 14, 40, 23]])"
      ]
     },
     "execution_count": 6,
     "metadata": {},
     "output_type": "execute_result"
    }
   ],
   "source": [
    "validation"
   ]
  },
  {
   "cell_type": "code",
   "execution_count": 7,
   "metadata": {},
   "outputs": [
    {
     "data": {
      "text/plain": [
       "array([[93, 67,  6,  0, 49, 13,  5, 61, 11, 16],\n",
       "       [ 4, 17, 87, 87, 50, 78, 58, 31, 29, 89]])"
      ]
     },
     "execution_count": 7,
     "metadata": {},
     "output_type": "execute_result"
    }
   ],
   "source": [
    "test"
   ]
  }
 ],
 "metadata": {
  "kernelspec": {
   "display_name": "Python [conda root]",
   "language": "python",
   "name": "conda-root-py"
  },
  "language_info": {
   "codemirror_mode": {
    "name": "ipython",
    "version": 3
   },
   "file_extension": ".py",
   "mimetype": "text/x-python",
   "name": "python",
   "nbconvert_exporter": "python",
   "pygments_lexer": "ipython3",
   "version": "3.5.4"
  }
 },
 "nbformat": 4,
 "nbformat_minor": 2
}
