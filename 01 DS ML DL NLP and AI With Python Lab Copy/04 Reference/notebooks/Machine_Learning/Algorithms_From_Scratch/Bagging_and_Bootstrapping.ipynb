{
 "cells": [
  {
   "cell_type": "code",
   "execution_count": 1,
   "metadata": {},
   "outputs": [],
   "source": [
    "import numpy as np"
   ]
  },
  {
   "cell_type": "markdown",
   "metadata": {},
   "source": [
    "## Bootstrap"
   ]
  },
  {
   "cell_type": "code",
   "execution_count": 2,
   "metadata": {},
   "outputs": [],
   "source": [
    "class Bootstrap:\n",
    "    \n",
    "    def create_dataset(self, X, y, seed=None):\n",
    "        '''creates bootstrapped dataset'''\n",
    "        if seed:\n",
    "            np.random.seed(seed)\n",
    "        n_rows = len(X)\n",
    "        indices = np.arange(n_rows)\n",
    "        indices = np.random.choice(indices, size=n_rows, replace=True)\n",
    "        return X[indices], y[indices]"
   ]
  },
  {
   "cell_type": "markdown",
   "metadata": {},
   "source": [
    "## Create Data"
   ]
  },
  {
   "cell_type": "code",
   "execution_count": 3,
   "metadata": {},
   "outputs": [],
   "source": [
    "np.random.seed(10)"
   ]
  },
  {
   "cell_type": "code",
   "execution_count": 4,
   "metadata": {},
   "outputs": [
    {
     "data": {
      "text/plain": [
       "array([[9, 4, 0, 1, 9],\n",
       "       [0, 1, 8, 9, 0],\n",
       "       [8, 6, 4, 3, 0],\n",
       "       [4, 6, 8, 1, 8],\n",
       "       [4, 1, 3, 6, 5],\n",
       "       [3, 9, 6, 9, 1],\n",
       "       [9, 4, 2, 6, 7],\n",
       "       [8, 8, 9, 2, 0],\n",
       "       [6, 7, 8, 1, 7],\n",
       "       [1, 4, 0, 8, 5]])"
      ]
     },
     "execution_count": 4,
     "metadata": {},
     "output_type": "execute_result"
    }
   ],
   "source": [
    "X = np.random.randint(0,10,50).reshape(10,5)\n",
    "X"
   ]
  },
  {
   "cell_type": "code",
   "execution_count": 5,
   "metadata": {},
   "outputs": [
    {
     "data": {
      "text/plain": [
       "array([1, 0, 1, 1, 1, 0, 1, 0, 0, 1])"
      ]
     },
     "execution_count": 5,
     "metadata": {},
     "output_type": "execute_result"
    }
   ],
   "source": [
    "y = np.random.binomial(1, 0.5, 10)\n",
    "y"
   ]
  },
  {
   "cell_type": "markdown",
   "metadata": {},
   "source": [
    "### Bootstrap Example"
   ]
  },
  {
   "cell_type": "code",
   "execution_count": 6,
   "metadata": {},
   "outputs": [],
   "source": [
    "bs = Bootstrap()\n",
    "X, y = bs.create_dataset(X,y)"
   ]
  },
  {
   "cell_type": "code",
   "execution_count": 7,
   "metadata": {},
   "outputs": [
    {
     "data": {
      "text/plain": [
       "array([[9, 4, 0, 1, 9],\n",
       "       [9, 4, 0, 1, 9],\n",
       "       [9, 4, 2, 6, 7],\n",
       "       [1, 4, 0, 8, 5],\n",
       "       [0, 1, 8, 9, 0],\n",
       "       [6, 7, 8, 1, 7],\n",
       "       [1, 4, 0, 8, 5],\n",
       "       [0, 1, 8, 9, 0],\n",
       "       [8, 6, 4, 3, 0],\n",
       "       [6, 7, 8, 1, 7]])"
      ]
     },
     "execution_count": 7,
     "metadata": {},
     "output_type": "execute_result"
    }
   ],
   "source": [
    "X"
   ]
  },
  {
   "cell_type": "code",
   "execution_count": 8,
   "metadata": {},
   "outputs": [
    {
     "data": {
      "text/plain": [
       "array([1, 1, 1, 1, 0, 0, 1, 0, 1, 0])"
      ]
     },
     "execution_count": 8,
     "metadata": {},
     "output_type": "execute_result"
    }
   ],
   "source": [
    "y"
   ]
  },
  {
   "cell_type": "markdown",
   "metadata": {},
   "source": [
    "## Bagging"
   ]
  },
  {
   "cell_type": "code",
   "execution_count": 9,
   "metadata": {},
   "outputs": [],
   "source": [
    "class Bagging(Bootstrap):\n",
    "    \n",
    "    def __init__(self):\n",
    "        self.estimator = None\n",
    "        \n",
    "    def simulate(self, estimator, X, y, n_datasets, seed=None):\n",
    "        if seed:\n",
    "            self.seed=seed\n",
    "        self.coefficients_ = []\n",
    "        self.estimator = estimator\n",
    "        for dataset in range(n_datasets):\n",
    "            X_, y_ = self.create_dataset(X, y, seed=self.seed)\n",
    "            self.estimator.fit(X_, y_)\n",
    "            self.coefficients_.append(self.estimator.coef_)\n",
    "            self.seed += 1"
   ]
  },
  {
   "cell_type": "markdown",
   "metadata": {},
   "source": [
    "### Example: Sklearn vs Bagging"
   ]
  },
  {
   "cell_type": "markdown",
   "metadata": {},
   "source": [
    "#### Sklearn"
   ]
  },
  {
   "cell_type": "code",
   "execution_count": 10,
   "metadata": {},
   "outputs": [],
   "source": [
    "from sklearn.linear_model import LinearRegression\n",
    "lr = LinearRegression()"
   ]
  },
  {
   "cell_type": "code",
   "execution_count": 11,
   "metadata": {},
   "outputs": [
    {
     "name": "stdout",
     "output_type": "stream",
     "text": [
      "[ 0.05415476  0.04757173 -0.13439324  0.03477829 -0.04744752]\n"
     ]
    }
   ],
   "source": [
    "lr.fit(X,y)\n",
    "print(lr.coef_)"
   ]
  },
  {
   "cell_type": "markdown",
   "metadata": {},
   "source": [
    "#### Bagging"
   ]
  },
  {
   "cell_type": "code",
   "execution_count": 12,
   "metadata": {},
   "outputs": [],
   "source": [
    "bg = Bagging()\n",
    "bg.simulate(lr, X, y, n_datasets=100, seed=42)"
   ]
  },
  {
   "cell_type": "code",
   "execution_count": 13,
   "metadata": {},
   "outputs": [
    {
     "data": {
      "text/plain": [
       "[array([ 0.03065716, -0.0095945 , -0.11071628,  0.04298948,  0.03107712]),\n",
       " array([ 0.03202357,  0.00323003, -0.10583687,  0.05571963,  0.03346221]),\n",
       " array([ 0.01504485,  0.09281765, -0.10585113,  0.0013086 , -0.02779966]),\n",
       " array([ 0.03890223,  0.04224749, -0.1397625 ,  0.01358421, -0.05403209]),\n",
       " array([ 0.05415476,  0.04757173, -0.13439324,  0.03477829, -0.04744752]),\n",
       " array([ 0.01504485,  0.09281765, -0.10585113,  0.0013086 , -0.02779966]),\n",
       " array([ 0.0225789 ,  0.04256523, -0.084117  ,  0.0519456 ,  0.04574701]),\n",
       " array([ 0.05415476,  0.04757173, -0.13439324,  0.03477829, -0.04744752]),\n",
       " array([ 0.03202357,  0.00323003, -0.10583687,  0.05571963,  0.03346221]),\n",
       " array([ 0.02997327, -0.04066438, -0.09418353,  0.0071274 ,  0.01730941])]"
      ]
     },
     "execution_count": 13,
     "metadata": {},
     "output_type": "execute_result"
    }
   ],
   "source": [
    "bg.coefficients_[:10]"
   ]
  },
  {
   "cell_type": "markdown",
   "metadata": {},
   "source": [
    "#### Mean of Coefficients"
   ]
  },
  {
   "cell_type": "code",
   "execution_count": 14,
   "metadata": {},
   "outputs": [
    {
     "data": {
      "text/plain": [
       "array([ 0.03915596,  0.0205273 , -0.11609587,  0.02856614, -0.01729375])"
      ]
     },
     "execution_count": 14,
     "metadata": {},
     "output_type": "execute_result"
    }
   ],
   "source": [
    "np.mean(bg.coefficients_, axis=0)"
   ]
  },
  {
   "cell_type": "markdown",
   "metadata": {},
   "source": [
    "#### Standard Error of Coefficients"
   ]
  },
  {
   "cell_type": "code",
   "execution_count": 15,
   "metadata": {},
   "outputs": [
    {
     "data": {
      "text/plain": [
       "array([ 0.01944324,  0.03295672,  0.02520118,  0.01921173,  0.03869426])"
      ]
     },
     "execution_count": 15,
     "metadata": {},
     "output_type": "execute_result"
    }
   ],
   "source": [
    "np.std(bg.coefficients_, axis=0)"
   ]
  }
 ],
 "metadata": {
  "kernelspec": {
   "display_name": "Python [conda root]",
   "language": "python",
   "name": "conda-root-py"
  },
  "language_info": {
   "codemirror_mode": {
    "name": "ipython",
    "version": 3
   },
   "file_extension": ".py",
   "mimetype": "text/x-python",
   "name": "python",
   "nbconvert_exporter": "python",
   "pygments_lexer": "ipython3",
   "version": "3.5.4"
  }
 },
 "nbformat": 4,
 "nbformat_minor": 2
}
