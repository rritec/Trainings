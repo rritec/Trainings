{
 "cells": [
  {
   "cell_type": "code",
   "execution_count": 1,
   "metadata": {},
   "outputs": [],
   "source": [
    "%matplotlib inline\n",
    "import matplotlib.pyplot as plt\n",
    "import numpy as np\n",
    "from numpy import linalg\n",
    "import sklearn\n",
    "from sklearn import decomposition\n",
    "from sklearn.datasets import load_iris"
   ]
  },
  {
   "cell_type": "code",
   "execution_count": 2,
   "metadata": {},
   "outputs": [
    {
     "name": "stdout",
     "output_type": "stream",
     "text": [
      "Numpy version 1.13.3.\n",
      "Sklearn version 0.19.1.\n"
     ]
    }
   ],
   "source": [
    "print('Numpy version {}.'.format(np.__version__))\n",
    "print('Sklearn version {}.'.format(sklearn.__version__))"
   ]
  },
  {
   "cell_type": "markdown",
   "metadata": {},
   "source": [
    "---"
   ]
  },
  {
   "cell_type": "markdown",
   "metadata": {},
   "source": [
    "### Covariance Function (for explanatory purposes only)"
   ]
  },
  {
   "cell_type": "code",
   "execution_count": 3,
   "metadata": {},
   "outputs": [],
   "source": [
    "def covariance_matrix(matrix):\n",
    "    '''returns the covariance matrix'''\n",
    "    import numpy as np\n",
    "    \n",
    "    # setup\n",
    "    n_rows = len(matrix)\n",
    "    divisor = n_rows - 1\n",
    "    col_means = np.mean(matrix, axis=0, keepdims=True)\n",
    "    \n",
    "    # main logic\n",
    "    centered_matrix = matrix - col_means\n",
    "    covariance_matrix = np.dot(centered_matrix.T, centered_matrix) / divisor\n",
    "    \n",
    "    return covariance_matrix"
   ]
  },
  {
   "cell_type": "markdown",
   "metadata": {},
   "source": [
    "---"
   ]
  },
  {
   "cell_type": "markdown",
   "metadata": {},
   "source": [
    "### Generate Data"
   ]
  },
  {
   "cell_type": "code",
   "execution_count": 4,
   "metadata": {},
   "outputs": [
    {
     "data": {
      "text/plain": [
       "array([[2, 6, 3, 4],\n",
       "       [6, 1, 2, 9],\n",
       "       [5, 8, 1, 2],\n",
       "       [4, 9, 7, 9]])"
      ]
     },
     "execution_count": 4,
     "metadata": {},
     "output_type": "execute_result"
    }
   ],
   "source": [
    "matrix = np.random.randint(1, 10, (4,4))\n",
    "matrix"
   ]
  },
  {
   "cell_type": "markdown",
   "metadata": {},
   "source": [
    "---"
   ]
  },
  {
   "cell_type": "markdown",
   "metadata": {},
   "source": [
    "### Numpy Covariance Matrix"
   ]
  },
  {
   "cell_type": "code",
   "execution_count": 5,
   "metadata": {},
   "outputs": [
    {
     "data": {
      "text/plain": [
       "array([[  2.91666667,  -2.66666667,  -1.41666667,   2.        ],\n",
       "       [ -2.66666667,  12.66666667,   4.33333333,  -4.66666667],\n",
       "       [ -1.41666667,   4.33333333,   6.91666667,   5.66666667],\n",
       "       [  2.        ,  -4.66666667,   5.66666667,  12.66666667]])"
      ]
     },
     "execution_count": 5,
     "metadata": {},
     "output_type": "execute_result"
    }
   ],
   "source": [
    "np.cov(matrix, rowvar=False)"
   ]
  },
  {
   "cell_type": "markdown",
   "metadata": {},
   "source": [
    "### My Covariance Matrix"
   ]
  },
  {
   "cell_type": "code",
   "execution_count": 6,
   "metadata": {},
   "outputs": [
    {
     "data": {
      "text/plain": [
       "array([[  2.91666667,  -2.66666667,  -1.41666667,   2.        ],\n",
       "       [ -2.66666667,  12.66666667,   4.33333333,  -4.66666667],\n",
       "       [ -1.41666667,   4.33333333,   6.91666667,   5.66666667],\n",
       "       [  2.        ,  -4.66666667,   5.66666667,  12.66666667]])"
      ]
     },
     "execution_count": 6,
     "metadata": {},
     "output_type": "execute_result"
    }
   ],
   "source": [
    "covariance_matrix(matrix)"
   ]
  },
  {
   "cell_type": "markdown",
   "metadata": {},
   "source": [
    "---"
   ]
  },
  {
   "cell_type": "markdown",
   "metadata": {},
   "source": [
    "# The PCA Algorithm\n",
    "\n",
    "PCA requires the following sequential steps:\n",
    "\n",
    "1) calculate covariance matrix  \n",
    "2) calculate eigenvalues and eigenvectors  \n",
    "3) sort eigenvectors and eigenvalues in descending order  \n",
    "4) transform original dataset using sorted eigenvectors"
   ]
  },
  {
   "cell_type": "markdown",
   "metadata": {},
   "source": [
    "---"
   ]
  },
  {
   "cell_type": "code",
   "execution_count": 7,
   "metadata": {},
   "outputs": [],
   "source": [
    "class PCA:\n",
    "    \n",
    "    import numpy as np\n",
    "    \n",
    "    def __init__(self, n_components):\n",
    "        self.n_components_ = n_components\n",
    "        self.explained_variance_ = None\n",
    "        \n",
    "    def _covariance_matrix(self, matrix):\n",
    "        '''returns the covariance matrix'''\n",
    "        n_rows = len(matrix)\n",
    "        divisor = matrix.shape[0] - 1\n",
    "        centered_matrix = matrix - np.mean(matrix, axis=0, keepdims=True)\n",
    "        return np.dot(centered_matrix.T, centered_matrix) / divisor\n",
    "    \n",
    "    def _eigendecomposition(self, cov_matrix):\n",
    "        '''return eigenvalues and eigenvectors of covariance matrix'''\n",
    "        eigenvals, eigenvecs = np.linalg.eigh(cov_matrix)\n",
    "        return eigenvals, eigenvecs\n",
    "    \n",
    "    def _eigensort(self, eigenvalues, eigenvectors):\n",
    "        '''return eigenvalues and associated eigenvectors sorted in descending order'''\n",
    "        sorted_eigval_indices = np.argsort(-eigenvalues)\n",
    "        sorted_eigenvalues = eigenvalues[sorted_eigval_indices]\n",
    "        sorted_eigenvectors = eigenvectors[:, sorted_eigval_indices]\n",
    "        return sorted_eigenvalues, sorted_eigenvectors\n",
    "    \n",
    "    def fit(self, matrix):\n",
    "        ''''''\n",
    "        cov_matrix = self._covariance_matrix(matrix)\n",
    "        eigenvals, eigenvecs = self._eigendecomposition(cov_matrix)\n",
    "        self._sorted_eigenvalues, self._sorted_eigenvectors = self._eigensort(eigenvals, eigenvecs)\n",
    "        self.explained_variance_ = self._sorted_eigenvalues / np.sum(self._sorted_eigenvalues)\n",
    "        # subset to n_components\n",
    "        self._sorted_eigenvalues = self._sorted_eigenvalues[:self.n_components_]\n",
    "        self._sorted_eigenvectors = self._sorted_eigenvectors[:, :self.n_components_]\n",
    "        self.explained_variance_ = self.explained_variance_[:self.n_components_]\n",
    "    \n",
    "    def transform(self, matrix):\n",
    "        '''transform data matrix into PCA space'''\n",
    "        demeaned_matrix = matrix - np.mean(matrix, axis=0, keepdims=True)\n",
    "        return np.dot(demeaned_matrix, self._sorted_eigenvectors)"
   ]
  },
  {
   "cell_type": "markdown",
   "metadata": {},
   "source": [
    "---"
   ]
  },
  {
   "cell_type": "markdown",
   "metadata": {},
   "source": [
    "## Comparison: Sklearn vs My Implementation"
   ]
  },
  {
   "cell_type": "markdown",
   "metadata": {},
   "source": [
    "### Sklearn PCA"
   ]
  },
  {
   "cell_type": "code",
   "execution_count": 8,
   "metadata": {
    "collapsed": true
   },
   "outputs": [],
   "source": [
    "spca = decomposition.PCA(n_components=3, random_state=42)\n",
    "spca.fit(matrix)\n",
    "sklearn_transform = spca.transform(matrix)"
   ]
  },
  {
   "cell_type": "code",
   "execution_count": 9,
   "metadata": {},
   "outputs": [
    {
     "data": {
      "text/plain": [
       "array([[ 0.2014346 , -0.65029593,  0.09077023,  0.72684254],\n",
       "       [-0.13145347,  0.56492928,  0.67385022,  0.45771254],\n",
       "       [-0.89868317, -0.37027599,  0.20866112, -0.10828109]])"
      ]
     },
     "execution_count": 9,
     "metadata": {},
     "output_type": "execute_result"
    }
   ],
   "source": [
    "spca.components_"
   ]
  },
  {
   "cell_type": "code",
   "execution_count": 10,
   "metadata": {},
   "outputs": [
    {
     "data": {
      "text/plain": [
       "array([ 0.51480033,  0.41729868,  0.06790099])"
      ]
     },
     "execution_count": 10,
     "metadata": {},
     "output_type": "execute_result"
    }
   ],
   "source": [
    "spca.explained_variance_ratio_"
   ]
  },
  {
   "cell_type": "code",
   "execution_count": 11,
   "metadata": {},
   "outputs": [
    {
     "data": {
      "text/plain": [
       "array([[-1.92960548, -0.78811734,  2.18643403],\n",
       "       [ 5.671055  , -2.52386513, -0.30698528],\n",
       "       [-4.26111908, -2.3157447 , -1.45092752],\n",
       "       [ 0.51966956,  5.62772717, -0.42852123]])"
      ]
     },
     "execution_count": 11,
     "metadata": {},
     "output_type": "execute_result"
    }
   ],
   "source": [
    "sklearn_transform"
   ]
  },
  {
   "cell_type": "markdown",
   "metadata": {},
   "source": [
    "### My Implementation"
   ]
  },
  {
   "cell_type": "code",
   "execution_count": 12,
   "metadata": {},
   "outputs": [],
   "source": [
    "pca = PCA(n_components=3)\n",
    "pca.fit(matrix)"
   ]
  },
  {
   "cell_type": "code",
   "execution_count": 13,
   "metadata": {},
   "outputs": [
    {
     "data": {
      "text/plain": [
       "array([[ 0.2014346 , -0.65029593,  0.09077023,  0.72684254],\n",
       "       [-0.13145347,  0.56492928,  0.67385022,  0.45771254],\n",
       "       [ 0.89868317,  0.37027599, -0.20866112,  0.10828109]])"
      ]
     },
     "execution_count": 13,
     "metadata": {},
     "output_type": "execute_result"
    }
   ],
   "source": [
    "pca._sorted_eigenvectors.T"
   ]
  },
  {
   "cell_type": "code",
   "execution_count": 14,
   "metadata": {},
   "outputs": [
    {
     "data": {
      "text/plain": [
       "array([ 0.51480033,  0.41729868,  0.06790099])"
      ]
     },
     "execution_count": 14,
     "metadata": {},
     "output_type": "execute_result"
    }
   ],
   "source": [
    "pca.explained_variance_"
   ]
  },
  {
   "cell_type": "code",
   "execution_count": 15,
   "metadata": {},
   "outputs": [
    {
     "data": {
      "text/plain": [
       "array([[-1.92960548, -0.78811734, -2.18643403],\n",
       "       [ 5.671055  , -2.52386513,  0.30698528],\n",
       "       [-4.26111908, -2.3157447 ,  1.45092752],\n",
       "       [ 0.51966956,  5.62772717,  0.42852123]])"
      ]
     },
     "execution_count": 15,
     "metadata": {},
     "output_type": "execute_result"
    }
   ],
   "source": [
    "pca.transform(matrix)"
   ]
  },
  {
   "cell_type": "markdown",
   "metadata": {},
   "source": [
    "## Are Eigenvectors Equivalent?\n",
    "I'm taking the absolute value of the eigenvectors because which direction a vector points makes no difference in this case. The only thing that matters is the orientation of the principal components."
   ]
  },
  {
   "cell_type": "code",
   "execution_count": 16,
   "metadata": {},
   "outputs": [
    {
     "data": {
      "text/plain": [
       "True"
      ]
     },
     "execution_count": 16,
     "metadata": {},
     "output_type": "execute_result"
    }
   ],
   "source": [
    "np.allclose(abs(spca.components_), abs(pca._sorted_eigenvectors.T))"
   ]
  },
  {
   "cell_type": "markdown",
   "metadata": {},
   "source": [
    "---"
   ]
  },
  {
   "cell_type": "markdown",
   "metadata": {},
   "source": [
    "## Example: Iris Dataset"
   ]
  },
  {
   "cell_type": "code",
   "execution_count": 17,
   "metadata": {},
   "outputs": [],
   "source": [
    "iris = load_iris()\n",
    "data = iris.data\n",
    "target = iris.target"
   ]
  },
  {
   "cell_type": "markdown",
   "metadata": {},
   "source": [
    "#### Sklearn"
   ]
  },
  {
   "cell_type": "code",
   "execution_count": 18,
   "metadata": {},
   "outputs": [
    {
     "data": {
      "text/plain": [
       "PCA(copy=True, iterated_power='auto', n_components=4, random_state=42,\n",
       "  svd_solver='auto', tol=0.0, whiten=False)"
      ]
     },
     "execution_count": 18,
     "metadata": {},
     "output_type": "execute_result"
    }
   ],
   "source": [
    "sklearn_pca = decomposition.PCA(n_components=4, random_state=42)\n",
    "sklearn_pca.fit(data)"
   ]
  },
  {
   "cell_type": "code",
   "execution_count": 19,
   "metadata": {},
   "outputs": [
    {
     "data": {
      "text/plain": [
       "array([ 0.92461621,  0.05301557,  0.01718514,  0.00518309])"
      ]
     },
     "execution_count": 19,
     "metadata": {},
     "output_type": "execute_result"
    }
   ],
   "source": [
    "sklearn_pca.explained_variance_ratio_"
   ]
  },
  {
   "cell_type": "code",
   "execution_count": 20,
   "metadata": {},
   "outputs": [
    {
     "data": {
      "text/plain": [
       "array([[ 0.36158968, -0.08226889,  0.85657211,  0.35884393],\n",
       "       [ 0.65653988,  0.72971237, -0.1757674 , -0.07470647],\n",
       "       [-0.58099728,  0.59641809,  0.07252408,  0.54906091],\n",
       "       [ 0.31725455, -0.32409435, -0.47971899,  0.75112056]])"
      ]
     },
     "execution_count": 20,
     "metadata": {},
     "output_type": "execute_result"
    }
   ],
   "source": [
    "sklearn_pca.components_"
   ]
  },
  {
   "cell_type": "markdown",
   "metadata": {},
   "source": [
    "#### My Implementation"
   ]
  },
  {
   "cell_type": "code",
   "execution_count": 21,
   "metadata": {},
   "outputs": [],
   "source": [
    "my_pca = PCA(n_components=4)\n",
    "my_pca.fit(data)"
   ]
  },
  {
   "cell_type": "code",
   "execution_count": 22,
   "metadata": {},
   "outputs": [
    {
     "data": {
      "text/plain": [
       "array([ 0.92461621,  0.05301557,  0.01718514,  0.00518309])"
      ]
     },
     "execution_count": 22,
     "metadata": {},
     "output_type": "execute_result"
    }
   ],
   "source": [
    "my_pca.explained_variance_"
   ]
  },
  {
   "cell_type": "code",
   "execution_count": 23,
   "metadata": {},
   "outputs": [
    {
     "data": {
      "text/plain": [
       "array([[-0.36158968,  0.08226889, -0.85657211, -0.35884393],\n",
       "       [ 0.65653988,  0.72971237, -0.1757674 , -0.07470647],\n",
       "       [ 0.58099728, -0.59641809, -0.07252408, -0.54906091],\n",
       "       [ 0.31725455, -0.32409435, -0.47971899,  0.75112056]])"
      ]
     },
     "execution_count": 23,
     "metadata": {},
     "output_type": "execute_result"
    }
   ],
   "source": [
    "my_pca._sorted_eigenvectors.T"
   ]
  },
  {
   "cell_type": "markdown",
   "metadata": {},
   "source": [
    "### Explained Variance Plot"
   ]
  },
  {
   "cell_type": "code",
   "execution_count": 24,
   "metadata": {},
   "outputs": [
    {
     "data": {
      "image/png": "[encoded data removed]",
      "text/plain": [
       "<matplotlib.figure.Figure at 0x10661b2e8>"
      ]
     },
     "metadata": {},
     "output_type": "display_data"
    }
   ],
   "source": [
    "plt.bar(['PC1', 'PC2', 'PC3', 'PC4'], my_pca.explained_variance_ * 100)\n",
    "plt.title('Explained Variance by Principal Component')\n",
    "plt.ylabel('%')\n",
    "plt.grid(alpha=0.4);"
   ]
  }
 ],
 "metadata": {
  "anaconda-cloud": {},
  "kernelspec": {
   "display_name": "Python [conda root]",
   "language": "python",
   "name": "conda-root-py"
  },
  "language_info": {
   "codemirror_mode": {
    "name": "ipython",
    "version": 3
   },
   "file_extension": ".py",
   "mimetype": "text/x-python",
   "name": "python",
   "nbconvert_exporter": "python",
   "pygments_lexer": "ipython3",
   "version": "3.5.4"
  }
 },
 "nbformat": 4,
 "nbformat_minor": 2
}
