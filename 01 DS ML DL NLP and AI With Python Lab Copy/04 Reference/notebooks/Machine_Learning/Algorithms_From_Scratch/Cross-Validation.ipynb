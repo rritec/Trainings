{
 "cells": [
  {
   "cell_type": "code",
   "execution_count": 1,
   "metadata": {
    "collapsed": true
   },
   "outputs": [],
   "source": [
    "import numpy as np"
   ]
  },
  {
   "cell_type": "code",
   "execution_count": 2,
   "metadata": {},
   "outputs": [
    {
     "data": {
      "text/plain": [
       "array([[ 4, 91,  9, 37, 28, 29,  3, 43, 71, 59],\n",
       "       [55, 19, 38, 83, 21, 92, 85, 82, 91, 19],\n",
       "       [ 1, 49, 31, 86, 43, 80, 44, 87, 73, 73],\n",
       "       [29, 97,  6, 73, 40, 17, 16, 97, 50, 14],\n",
       "       [13, 10, 56, 21, 24, 47, 43, 96, 57, 35],\n",
       "       [21, 41,  3, 72, 34, 65, 89, 14, 83, 63],\n",
       "       [ 0, 70, 39, 80, 83, 67, 81, 36, 26, 79],\n",
       "       [65,  9, 17, 19, 58, 13,  3, 92, 11, 72],\n",
       "       [93, 64, 84, 37, 23, 34, 15, 48,  9, 48],\n",
       "       [13, 28, 93, 54, 77, 58, 75, 72, 37, 48]])"
      ]
     },
     "execution_count": 2,
     "metadata": {},
     "output_type": "execute_result"
    }
   ],
   "source": [
    "fake_data = np.random.randint(0,100,100).reshape(10,10)\n",
    "fake_data"
   ]
  },
  {
   "cell_type": "code",
   "execution_count": 211,
   "metadata": {},
   "outputs": [],
   "source": [
    "def cross_validation(data, shuffle=True, folds=2, random_state=None, verbose=True):\n",
    "    '''return train and test sets'''\n",
    "        \n",
    "    # error checking\n",
    "    assert type(shuffle) == bool, 'shuffle must be True or False!'\n",
    "    assert type(folds) == int, 'must be an integer'\n",
    "    assert folds > 1, 'must have 2 or more folds'\n",
    "    assert folds <= len(data), 'can have no more than {} folds!'.format(len(data))\n",
    "    if random_state != None:\n",
    "        assert type(random_state) == int, 'random_state must be an integer!'\n",
    "    \n",
    "    # reproducibility\n",
    "    if random_state:\n",
    "        np.random.seed(random_state)\n",
    "    \n",
    "    # setup indices\n",
    "    indices = np.arange(data.shape[0])\n",
    "    if shuffle:\n",
    "        np.random.shuffle(indices)\n",
    "    \n",
    "    # setup K-fold\n",
    "    num_indices = len(indices)\n",
    "    split_proportion = 1/folds\n",
    "    split = int( np.floor(split_proportion * num_indices) )\n",
    "    \n",
    "    # main logic\n",
    "    for fold in range(folds):\n",
    "        mask = np.ones(num_indices, dtype=bool)\n",
    "        offset = split*fold\n",
    "        if fold < folds-1:\n",
    "            test_indices = indices[offset:split+offset]\n",
    "        else:\n",
    "            test_indices = indices[offset:]\n",
    "        mask[offset:split+offset] = False\n",
    "        train_indices = indices[mask]        \n",
    "        train = data[train_indices]\n",
    "        test = data[test_indices]\n",
    "        if verbose:\n",
    "            print('Fold:', fold)\n",
    "            print('Train:\\n', train)\n",
    "            print('Test:\\n', test, '\\n')\n",
    "    \n",
    "    #return train, test"
   ]
  },
  {
   "cell_type": "code",
   "execution_count": 216,
   "metadata": {},
   "outputs": [
    {
     "name": "stdout",
     "output_type": "stream",
     "text": [
      "Fold: 0\n",
      "Train:\n",
      " [[ 4 91  9 37 28 29  3 43 71 59]\n",
      " [65  9 17 19 58 13  3 92 11 72]\n",
      " [ 1 49 31 86 43 80 44 87 73 73]\n",
      " [13 28 93 54 77 58 75 72 37 48]\n",
      " [13 10 56 21 24 47 43 96 57 35]\n",
      " [29 97  6 73 40 17 16 97 50 14]\n",
      " [ 0 70 39 80 83 67 81 36 26 79]]\n",
      "Test:\n",
      " [[93 64 84 37 23 34 15 48  9 48]\n",
      " [55 19 38 83 21 92 85 82 91 19]\n",
      " [21 41  3 72 34 65 89 14 83 63]] \n",
      "\n",
      "Fold: 1\n",
      "Train:\n",
      " [[93 64 84 37 23 34 15 48  9 48]\n",
      " [55 19 38 83 21 92 85 82 91 19]\n",
      " [21 41  3 72 34 65 89 14 83 63]\n",
      " [13 28 93 54 77 58 75 72 37 48]\n",
      " [13 10 56 21 24 47 43 96 57 35]\n",
      " [29 97  6 73 40 17 16 97 50 14]\n",
      " [ 0 70 39 80 83 67 81 36 26 79]]\n",
      "Test:\n",
      " [[ 4 91  9 37 28 29  3 43 71 59]\n",
      " [65  9 17 19 58 13  3 92 11 72]\n",
      " [ 1 49 31 86 43 80 44 87 73 73]] \n",
      "\n",
      "Fold: 2\n",
      "Train:\n",
      " [[93 64 84 37 23 34 15 48  9 48]\n",
      " [55 19 38 83 21 92 85 82 91 19]\n",
      " [21 41  3 72 34 65 89 14 83 63]\n",
      " [ 4 91  9 37 28 29  3 43 71 59]\n",
      " [65  9 17 19 58 13  3 92 11 72]\n",
      " [ 1 49 31 86 43 80 44 87 73 73]\n",
      " [ 0 70 39 80 83 67 81 36 26 79]]\n",
      "Test:\n",
      " [[13 28 93 54 77 58 75 72 37 48]\n",
      " [13 10 56 21 24 47 43 96 57 35]\n",
      " [29 97  6 73 40 17 16 97 50 14]\n",
      " [ 0 70 39 80 83 67 81 36 26 79]] \n",
      "\n"
     ]
    }
   ],
   "source": [
    "cross_validation(fake_data, shuffle=True, folds=3, random_state=42, verbose=True)"
   ]
  }
 ],
 "metadata": {
  "kernelspec": {
   "display_name": "Python [conda root]",
   "language": "python",
   "name": "conda-root-py"
  },
  "language_info": {
   "codemirror_mode": {
    "name": "ipython",
    "version": 3
   },
   "file_extension": ".py",
   "mimetype": "text/x-python",
   "name": "python",
   "nbconvert_exporter": "python",
   "pygments_lexer": "ipython3",
   "version": "3.5.4"
  }
 },
 "nbformat": 4,
 "nbformat_minor": 2
}
