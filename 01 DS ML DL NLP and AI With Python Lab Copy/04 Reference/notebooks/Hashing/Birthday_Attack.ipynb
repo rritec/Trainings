{
 "cells": [
  {
   "cell_type": "markdown",
   "metadata": {},
   "source": [
    "According to the [Birthday attack](https://en.wikipedia.org/wiki/Birthday_attack) article on Wikipedia:\n",
    ">A birthday attack is a type of cryptographic attack that exploits the mathematics behind the birthday problem in probability theory. This attack can be used to abuse communication between two or more parties. The attack depends on the higher likelihood of collisions found between random attack attempts and a fixed degree of permutations (pigeonholes). With a birthday attack, it is possible to find a collision of a hash function in $\\sqrt{2^{n}}$=$2^{n/2}$ with $2^{n}$ being the classical preimage resistance security."
   ]
  },
  {
   "cell_type": "markdown",
   "metadata": {},
   "source": [
    "Given a function *f*, the goal of the attack is to find two different inputs *$x_{1}$*, *$x_{2}$* such that f($x_{1}$)=f($x_{2}$). Such a pair $x_{1}$, $x_{2}$ is called a collision. The method used to find a collision is simply to evaluate the function *f* for different input values that may be chosen randomly or pseudorandomly until the same result is found more than once. Because of the birthday problem, this method can be rather efficient. Specifically, if a function f(x) yields any of *H* different outputs with equal probability and *H* is sufficiently large, then we expect to obtain a pair of different arguments $x_{1}$ and $x_{2}$ with f($x_{1}$) = f($x_{2}$) after evaluating the function for about $1.25{\\sqrt {H}}$ different arguments on average."
   ]
  },
  {
   "cell_type": "code",
   "execution_count": 1,
   "metadata": {
    "collapsed": true
   },
   "outputs": [],
   "source": [
    "def hasher(number, modulus):\n",
    "    '''simply hash function'''\n",
    "    return number % modulus"
   ]
  },
  {
   "cell_type": "code",
   "execution_count": 2,
   "metadata": {
    "collapsed": true
   },
   "outputs": [],
   "source": [
    "from functools import partial\n",
    "\n",
    "# set modulus for all examples\n",
    "myhash = partial(hasher, modulus=47)"
   ]
  },
  {
   "cell_type": "code",
   "execution_count": 3,
   "metadata": {
    "collapsed": true
   },
   "outputs": [],
   "source": [
    "from math import log1p, sqrt\n",
    "\n",
    "def birthday(probability_exponent, bits):\n",
    "    '''probability_exponent: desired probability of random collision'''\n",
    "    probability = 10. ** probability_exponent\n",
    "    outputs     =  2. ** bits\n",
    "    return sqrt(2. * outputs * -log1p(-probability))"
   ]
  },
  {
   "cell_type": "code",
   "execution_count": 4,
   "metadata": {},
   "outputs": [
    {
     "data": {
      "text/plain": [
       "4.536858806263531"
      ]
     },
     "execution_count": 4,
     "metadata": {},
     "output_type": "execute_result"
    }
   ],
   "source": [
    "birthday(-2, 10)"
   ]
  },
  {
   "cell_type": "code",
   "execution_count": 6,
   "metadata": {},
   "outputs": [
    {
     "data": {
      "text/plain": [
       "array([868, 988, 838, 285, 906, 485, 429, 386, 325, 923])"
      ]
     },
     "execution_count": 6,
     "metadata": {},
     "output_type": "execute_result"
    }
   ],
   "source": [
    "import numpy as np\n",
    "\n",
    "integers = np.random.randint(low=1, high=1000, size=10)\n",
    "integers"
   ]
  },
  {
   "cell_type": "code",
   "execution_count": 7,
   "metadata": {},
   "outputs": [
    {
     "data": {
      "text/plain": [
       "Counter({1: 1, 3: 1, 6: 1, 10: 1, 13: 1, 15: 1, 22: 1, 30: 1, 39: 1, 43: 1})"
      ]
     },
     "execution_count": 7,
     "metadata": {},
     "output_type": "execute_result"
    }
   ],
   "source": [
    "from collections import Counter\n",
    "\n",
    "hashes = [myhash(integer) for integer in integers]\n",
    "Counter(hashes)"
   ]
  }
 ],
 "metadata": {
  "kernelspec": {
   "display_name": "Python [conda root]",
   "language": "python",
   "name": "conda-root-py"
  },
  "language_info": {
   "codemirror_mode": {
    "name": "ipython",
    "version": 3
   },
   "file_extension": ".py",
   "mimetype": "text/x-python",
   "name": "python",
   "nbconvert_exporter": "python",
   "pygments_lexer": "ipython3",
   "version": "3.5.4"
  }
 },
 "nbformat": 4,
 "nbformat_minor": 2
}
