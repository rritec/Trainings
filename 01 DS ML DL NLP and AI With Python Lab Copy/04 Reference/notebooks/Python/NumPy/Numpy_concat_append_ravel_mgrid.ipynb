{
 "cells": [
  {
   "cell_type": "code",
   "execution_count": 1,
   "metadata": {
    "collapsed": true
   },
   "outputs": [],
   "source": [
    "import numpy as np"
   ]
  },
  {
   "cell_type": "markdown",
   "metadata": {},
   "source": [
    "## Concat\n",
    "\n",
    "Add rows or columns to an existing array."
   ]
  },
  {
   "cell_type": "code",
   "execution_count": 22,
   "metadata": {},
   "outputs": [],
   "source": [
    "matrix1 = np.arange(20).reshape(10,2)\n",
    "arr1 = np.arange(10, 30, 2)\n",
    "arr2 = np.array([99,1001])\n",
    "matrix2 = np.array([96,97,98,99]).reshape(2,2)"
   ]
  },
  {
   "cell_type": "code",
   "execution_count": 17,
   "metadata": {},
   "outputs": [
    {
     "name": "stdout",
     "output_type": "stream",
     "text": [
      "[0 1] 10\n",
      "[2 3] 12\n",
      "[4 5] 14\n",
      "[6 7] 16\n",
      "[8 9] 18\n",
      "[10 11] 20\n",
      "[12 13] 22\n",
      "[14 15] 24\n",
      "[16 17] 26\n",
      "[18 19] 28\n"
     ]
    }
   ],
   "source": [
    "for array1, array2 in zip(matrix1, arr1):\n",
    "    print(array1, array2)"
   ]
  },
  {
   "cell_type": "markdown",
   "metadata": {},
   "source": [
    "### Add row(s) with axis=0"
   ]
  },
  {
   "cell_type": "code",
   "execution_count": 18,
   "metadata": {},
   "outputs": [
    {
     "data": {
      "text/plain": [
       "array([[   0,    1],\n",
       "       [   2,    3],\n",
       "       [   4,    5],\n",
       "       [   6,    7],\n",
       "       [   8,    9],\n",
       "       [  10,   11],\n",
       "       [  12,   13],\n",
       "       [  14,   15],\n",
       "       [  16,   17],\n",
       "       [  18,   19],\n",
       "       [  99, 1001]])"
      ]
     },
     "execution_count": 18,
     "metadata": {},
     "output_type": "execute_result"
    }
   ],
   "source": [
    "# add single row\n",
    "np.concatenate((matrix1, arr2.reshape(1,-1)), axis=0)"
   ]
  },
  {
   "cell_type": "code",
   "execution_count": 5,
   "metadata": {},
   "outputs": [
    {
     "data": {
      "text/plain": [
       "array([[ 0,  1],\n",
       "       [ 2,  3],\n",
       "       [ 4,  5],\n",
       "       [ 6,  7],\n",
       "       [ 8,  9],\n",
       "       [10, 11],\n",
       "       [12, 13],\n",
       "       [14, 15],\n",
       "       [16, 17],\n",
       "       [18, 19],\n",
       "       [96, 97],\n",
       "       [98, 99]])"
      ]
     },
     "execution_count": 5,
     "metadata": {},
     "output_type": "execute_result"
    }
   ],
   "source": [
    "# add multiple rows\n",
    "np.concatenate((arr1, arr4), axis=0)"
   ]
  },
  {
   "cell_type": "markdown",
   "metadata": {},
   "source": [
    "### Add column(s) with axis=1"
   ]
  },
  {
   "cell_type": "code",
   "execution_count": 6,
   "metadata": {},
   "outputs": [
    {
     "data": {
      "text/plain": [
       "array([[ 0,  1, 10],\n",
       "       [ 2,  3, 12],\n",
       "       [ 4,  5, 14],\n",
       "       [ 6,  7, 16],\n",
       "       [ 8,  9, 18],\n",
       "       [10, 11, 20],\n",
       "       [12, 13, 22],\n",
       "       [14, 15, 24],\n",
       "       [16, 17, 26],\n",
       "       [18, 19, 28]])"
      ]
     },
     "execution_count": 6,
     "metadata": {},
     "output_type": "execute_result"
    }
   ],
   "source": [
    "# add column\n",
    "np.concatenate((arr1, arr2.reshape(-1,1)), axis=1)"
   ]
  },
  {
   "cell_type": "markdown",
   "metadata": {},
   "source": [
    "### Where is this useful?\n",
    "\n",
    "Let's create a scenario where data is generated on-the-fly and needs appending to our array. Think data matrix here."
   ]
  },
  {
   "cell_type": "code",
   "execution_count": 7,
   "metadata": {},
   "outputs": [
    {
     "data": {
      "text/plain": [
       "array([[1, 0, 1, 1, 1, 0, 0, 1, 0, 1],\n",
       "       [1, 0, 0, 0, 0, 1, 1, 1, 1, 0],\n",
       "       [1, 1, 1, 0, 0, 1, 1, 1, 0, 1],\n",
       "       [1, 0, 1, 0, 0, 1, 1, 0, 1, 0],\n",
       "       [0, 0, 0, 1, 0, 0, 0, 0, 1, 1],\n",
       "       [1, 0, 1, 0, 1, 1, 0, 0, 0, 0],\n",
       "       [1, 1, 0, 1, 1, 0, 1, 0, 1, 0],\n",
       "       [1, 1, 1, 0, 1, 0, 1, 1, 0, 0],\n",
       "       [0, 0, 0, 1, 1, 0, 0, 1, 1, 1],\n",
       "       [1, 0, 0, 0, 0, 0, 0, 1, 0, 0]])"
      ]
     },
     "execution_count": 7,
     "metadata": {},
     "output_type": "execute_result"
    }
   ],
   "source": [
    "# with concatenate\n",
    "for i in range(10):\n",
    "    row = np.random.binomial(n=1, p=0.5, size=10).reshape(1,-1)\n",
    "    if i == 0:\n",
    "        array = np.array(row)\n",
    "    else:\n",
    "        array = np.concatenate((array, row), axis=0)\n",
    "array"
   ]
  },
  {
   "cell_type": "code",
   "execution_count": 8,
   "metadata": {},
   "outputs": [
    {
     "data": {
      "text/plain": [
       "(10, 10)"
      ]
     },
     "execution_count": 8,
     "metadata": {},
     "output_type": "execute_result"
    }
   ],
   "source": [
    "array.shape"
   ]
  },
  {
   "cell_type": "markdown",
   "metadata": {},
   "source": [
    "### What about np.append()?"
   ]
  },
  {
   "cell_type": "code",
   "execution_count": 9,
   "metadata": {},
   "outputs": [
    {
     "data": {
      "text/plain": [
       "array([[1, 1, 1, 0, 1, 0, 1, 1, 0, 1],\n",
       "       [1, 1, 1, 0, 0, 1, 1, 1, 1, 0],\n",
       "       [1, 1, 0, 0, 0, 0, 1, 1, 0, 0],\n",
       "       [0, 1, 0, 0, 1, 1, 1, 1, 0, 1],\n",
       "       [1, 0, 0, 1, 1, 0, 1, 1, 1, 1],\n",
       "       [1, 0, 0, 1, 0, 1, 0, 0, 1, 0],\n",
       "       [0, 0, 1, 0, 1, 0, 0, 1, 1, 0],\n",
       "       [1, 1, 0, 1, 1, 1, 0, 0, 0, 1],\n",
       "       [0, 0, 0, 1, 0, 1, 1, 0, 1, 1],\n",
       "       [1, 1, 1, 1, 0, 0, 0, 0, 1, 0]])"
      ]
     },
     "execution_count": 9,
     "metadata": {},
     "output_type": "execute_result"
    }
   ],
   "source": [
    "# with append \n",
    "for i in range(10):\n",
    "    row = np.random.binomial(n=1, p=0.5, size=10).reshape(1,-1)\n",
    "    if i == 0:\n",
    "        array = np.array(row)\n",
    "    else:\n",
    "        array = np.append(array, row, axis=0)\n",
    "array"
   ]
  },
  {
   "cell_type": "code",
   "execution_count": 10,
   "metadata": {},
   "outputs": [
    {
     "data": {
      "text/plain": [
       "(10, 10)"
      ]
     },
     "execution_count": 10,
     "metadata": {},
     "output_type": "execute_result"
    }
   ],
   "source": [
    "array.shape"
   ]
  },
  {
   "cell_type": "markdown",
   "metadata": {},
   "source": [
    "It turns out that **np.append()** uses **np.concatenate()** under the hood. You may as well just use **np.concatenate()** since that's the case. It's faster for the same reason."
   ]
  },
  {
   "cell_type": "markdown",
   "metadata": {},
   "source": [
    "## Ravel\n",
    "\n",
    "Return a contiguous flattened 1D array."
   ]
  },
  {
   "cell_type": "code",
   "execution_count": 24,
   "metadata": {},
   "outputs": [
    {
     "data": {
      "text/plain": [
       "array([[ 0,  1],\n",
       "       [ 2,  3],\n",
       "       [ 4,  5],\n",
       "       [ 6,  7],\n",
       "       [ 8,  9],\n",
       "       [10, 11],\n",
       "       [12, 13],\n",
       "       [14, 15],\n",
       "       [16, 17],\n",
       "       [18, 19]])"
      ]
     },
     "execution_count": 24,
     "metadata": {},
     "output_type": "execute_result"
    }
   ],
   "source": [
    "matrix1"
   ]
  },
  {
   "cell_type": "code",
   "execution_count": 26,
   "metadata": {},
   "outputs": [
    {
     "data": {
      "text/plain": [
       "array([ 0,  1,  2,  3,  4,  5,  6,  7,  8,  9, 10, 11, 12, 13, 14, 15, 16,\n",
       "       17, 18, 19])"
      ]
     },
     "execution_count": 26,
     "metadata": {},
     "output_type": "execute_result"
    }
   ],
   "source": [
    "# C order is row-wise\n",
    "ravel_C = np.ravel(matrix1, 'C')\n",
    "ravel_C"
   ]
  },
  {
   "cell_type": "code",
   "execution_count": 27,
   "metadata": {},
   "outputs": [
    {
     "data": {
      "text/plain": [
       "(20,)"
      ]
     },
     "execution_count": 27,
     "metadata": {},
     "output_type": "execute_result"
    }
   ],
   "source": [
    "ravel_C.shape"
   ]
  },
  {
   "cell_type": "code",
   "execution_count": 28,
   "metadata": {},
   "outputs": [
    {
     "data": {
      "text/plain": [
       "array([ 0,  2,  4,  6,  8, 10, 12, 14, 16, 18,  1,  3,  5,  7,  9, 11, 13,\n",
       "       15, 17, 19])"
      ]
     },
     "execution_count": 28,
     "metadata": {},
     "output_type": "execute_result"
    }
   ],
   "source": [
    "# F order is column-wise\n",
    "ravel_F = np.ravel(matrix1, 'F')\n",
    "ravel_F"
   ]
  },
  {
   "cell_type": "code",
   "execution_count": 29,
   "metadata": {},
   "outputs": [
    {
     "data": {
      "text/plain": [
       "(20,)"
      ]
     },
     "execution_count": 29,
     "metadata": {},
     "output_type": "execute_result"
    }
   ],
   "source": [
    "ravel_F.shape"
   ]
  },
  {
   "cell_type": "code",
   "execution_count": 30,
   "metadata": {},
   "outputs": [
    {
     "data": {
      "text/plain": [
       "array([[[ 0,  1,  2],\n",
       "        [ 3,  4,  5],\n",
       "        [ 6,  7,  8]],\n",
       "\n",
       "       [[ 9, 10, 11],\n",
       "        [12, 13, 14],\n",
       "        [15, 16, 17]],\n",
       "\n",
       "       [[18, 19, 20],\n",
       "        [21, 22, 23],\n",
       "        [24, 25, 26]]])"
      ]
     },
     "execution_count": 30,
     "metadata": {},
     "output_type": "execute_result"
    }
   ],
   "source": [
    "tensor3d = np.arange(27).reshape(3,3,3)\n",
    "tensor3d"
   ]
  },
  {
   "cell_type": "code",
   "execution_count": 34,
   "metadata": {},
   "outputs": [
    {
     "data": {
      "text/plain": [
       "array([ 0,  1,  2,  3,  4,  5,  6,  7,  8,  9, 10, 11, 12, 13, 14, 15, 16,\n",
       "       17, 18, 19, 20, 21, 22, 23, 24, 25, 26])"
      ]
     },
     "execution_count": 34,
     "metadata": {},
     "output_type": "execute_result"
    }
   ],
   "source": [
    "np.ravel(tensor3d, 'C')"
   ]
  },
  {
   "cell_type": "code",
   "execution_count": 35,
   "metadata": {},
   "outputs": [
    {
     "data": {
      "text/plain": [
       "array([ 0,  9, 18,  3, 12, 21,  6, 15, 24,  1, 10, 19,  4, 13, 22,  7, 16,\n",
       "       25,  2, 11, 20,  5, 14, 23,  8, 17, 26])"
      ]
     },
     "execution_count": 35,
     "metadata": {},
     "output_type": "execute_result"
    }
   ],
   "source": [
    "np.ravel(tensor3d, 'F')"
   ]
  },
  {
   "cell_type": "markdown",
   "metadata": {},
   "source": [
    "## Mesh-grid\n",
    "\n",
    "Returns a dense multi-dimensional “meshgrid”."
   ]
  },
  {
   "cell_type": "code",
   "execution_count": 47,
   "metadata": {},
   "outputs": [
    {
     "data": {
      "text/plain": [
       "array([[[1, 1, 1, 1, 1],\n",
       "        [3, 3, 3, 3, 3],\n",
       "        [5, 5, 5, 5, 5],\n",
       "        [7, 7, 7, 7, 7],\n",
       "        [9, 9, 9, 9, 9]],\n",
       "\n",
       "       [[0, 2, 4, 6, 8],\n",
       "        [0, 2, 4, 6, 8],\n",
       "        [0, 2, 4, 6, 8],\n",
       "        [0, 2, 4, 6, 8],\n",
       "        [0, 2, 4, 6, 8]]])"
      ]
     },
     "execution_count": 47,
     "metadata": {},
     "output_type": "execute_result"
    }
   ],
   "source": [
    "# first range sets number of rows and its values \n",
    "# second range sets number of cols and its values\n",
    "grid1 = np.mgrid[1:10:2,0:10:2]\n",
    "grid1"
   ]
  },
  {
   "cell_type": "code",
   "execution_count": 48,
   "metadata": {},
   "outputs": [
    {
     "data": {
      "text/plain": [
       "(2, 5, 5)"
      ]
     },
     "execution_count": 48,
     "metadata": {},
     "output_type": "execute_result"
    }
   ],
   "source": [
    "grid1.shape"
   ]
  },
  {
   "cell_type": "code",
   "execution_count": 49,
   "metadata": {},
   "outputs": [
    {
     "data": {
      "text/plain": [
       "array([[[-100, -100, -100],\n",
       "        [ -95,  -95,  -95],\n",
       "        [ -90,  -90,  -90],\n",
       "        [ -85,  -85,  -85],\n",
       "        [ -80,  -80,  -80],\n",
       "        [ -75,  -75,  -75],\n",
       "        [ -70,  -70,  -70],\n",
       "        [ -65,  -65,  -65],\n",
       "        [ -60,  -60,  -60],\n",
       "        [ -55,  -55,  -55],\n",
       "        [ -50,  -50,  -50],\n",
       "        [ -45,  -45,  -45],\n",
       "        [ -40,  -40,  -40],\n",
       "        [ -35,  -35,  -35],\n",
       "        [ -30,  -30,  -30],\n",
       "        [ -25,  -25,  -25],\n",
       "        [ -20,  -20,  -20],\n",
       "        [ -15,  -15,  -15],\n",
       "        [ -10,  -10,  -10],\n",
       "        [  -5,   -5,   -5],\n",
       "        [   0,    0,    0],\n",
       "        [   5,    5,    5],\n",
       "        [  10,   10,   10],\n",
       "        [  15,   15,   15],\n",
       "        [  20,   20,   20],\n",
       "        [  25,   25,   25],\n",
       "        [  30,   30,   30],\n",
       "        [  35,   35,   35],\n",
       "        [  40,   40,   40],\n",
       "        [  45,   45,   45],\n",
       "        [  50,   50,   50],\n",
       "        [  55,   55,   55],\n",
       "        [  60,   60,   60],\n",
       "        [  65,   65,   65],\n",
       "        [  70,   70,   70],\n",
       "        [  75,   75,   75],\n",
       "        [  80,   80,   80],\n",
       "        [  85,   85,   85],\n",
       "        [  90,   90,   90],\n",
       "        [  95,   95,   95]],\n",
       "\n",
       "       [[   0,    1,    2],\n",
       "        [   0,    1,    2],\n",
       "        [   0,    1,    2],\n",
       "        [   0,    1,    2],\n",
       "        [   0,    1,    2],\n",
       "        [   0,    1,    2],\n",
       "        [   0,    1,    2],\n",
       "        [   0,    1,    2],\n",
       "        [   0,    1,    2],\n",
       "        [   0,    1,    2],\n",
       "        [   0,    1,    2],\n",
       "        [   0,    1,    2],\n",
       "        [   0,    1,    2],\n",
       "        [   0,    1,    2],\n",
       "        [   0,    1,    2],\n",
       "        [   0,    1,    2],\n",
       "        [   0,    1,    2],\n",
       "        [   0,    1,    2],\n",
       "        [   0,    1,    2],\n",
       "        [   0,    1,    2],\n",
       "        [   0,    1,    2],\n",
       "        [   0,    1,    2],\n",
       "        [   0,    1,    2],\n",
       "        [   0,    1,    2],\n",
       "        [   0,    1,    2],\n",
       "        [   0,    1,    2],\n",
       "        [   0,    1,    2],\n",
       "        [   0,    1,    2],\n",
       "        [   0,    1,    2],\n",
       "        [   0,    1,    2],\n",
       "        [   0,    1,    2],\n",
       "        [   0,    1,    2],\n",
       "        [   0,    1,    2],\n",
       "        [   0,    1,    2],\n",
       "        [   0,    1,    2],\n",
       "        [   0,    1,    2],\n",
       "        [   0,    1,    2],\n",
       "        [   0,    1,    2],\n",
       "        [   0,    1,    2],\n",
       "        [   0,    1,    2]]])"
      ]
     },
     "execution_count": 49,
     "metadata": {},
     "output_type": "execute_result"
    }
   ],
   "source": [
    "grid2 = np.mgrid[-100:100:5, range(3)]\n",
    "grid2"
   ]
  },
  {
   "cell_type": "code",
   "execution_count": 50,
   "metadata": {},
   "outputs": [
    {
     "data": {
      "text/plain": [
       "(2, 40, 3)"
      ]
     },
     "execution_count": 50,
     "metadata": {},
     "output_type": "execute_result"
    }
   ],
   "source": [
    "grid2.shape"
   ]
  }
 ],
 "metadata": {
  "kernelspec": {
   "display_name": "Python [conda root]",
   "language": "python",
   "name": "conda-root-py"
  },
  "language_info": {
   "codemirror_mode": {
    "name": "ipython",
    "version": 3
   },
   "file_extension": ".py",
   "mimetype": "text/x-python",
   "name": "python",
   "nbconvert_exporter": "python",
   "pygments_lexer": "ipython3",
   "version": "3.5.4"
  }
 },
 "nbformat": 4,
 "nbformat_minor": 2
}
