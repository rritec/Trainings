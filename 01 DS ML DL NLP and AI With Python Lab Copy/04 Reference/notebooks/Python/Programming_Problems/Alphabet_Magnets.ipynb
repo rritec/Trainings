{
 "cells": [
  {
   "cell_type": "markdown",
   "metadata": {},
   "source": [
    "### Sal's classroom has a bag of alphabet magnets. She wants to know if she can spell her friend's name using the letters in the bag. \n",
    "\n",
    "### Write a function called *CanYouSpell* that will take a list of letters and a name and print out yes if the name can be spelled and no otherwise.\n",
    "\n",
    "> CanYouSpell(['y','n','p','g','n','l'],\"lynn\") would print YES  \n",
    "> CanYouSpell(['y','n','p','g','l'],\"lynn\") would print NO"
   ]
  },
  {
   "cell_type": "code",
   "execution_count": 1,
   "metadata": {
    "collapsed": true
   },
   "outputs": [],
   "source": [
    "def CanYouSpell(list_of_letters, name):\n",
    "    '''takes list of letters and a name, then returns Boolean showing if name can be spelled'''\n",
    "    \n",
    "    # type checking\n",
    "    assert type(list_of_letters) == list, 'list_of_letters input must be a list'\n",
    "    assert type(name) == str, 'name input must be a string'\n",
    "    \n",
    "    # import\n",
    "    from collections import defaultdict\n",
    "    \n",
    "    # defaultdict objects\n",
    "    defdict1 = defaultdict(int)\n",
    "    defdict2 = defaultdict(int)\n",
    "    \n",
    "    # main logic\n",
    "    if len(list_of_letters) < len(name):\n",
    "        return False\n",
    "    else:\n",
    "        # count letter occurrences in list_of_letters\n",
    "        for letter in list_of_letters:\n",
    "            defdict1[letter] += 1\n",
    "        # count letter occurrences in name\n",
    "        for letter in name:\n",
    "            defdict2[letter] += 1\n",
    "        # check if possible to spell name\n",
    "        for k, _ in defdict2.items():\n",
    "            if defdict1[k] < defdict2[k]:\n",
    "                return False     \n",
    "    return True"
   ]
  },
  {
   "cell_type": "markdown",
   "metadata": {},
   "source": [
    "---"
   ]
  },
  {
   "cell_type": "code",
   "execution_count": 2,
   "metadata": {},
   "outputs": [
    {
     "data": {
      "text/plain": [
       "True"
      ]
     },
     "execution_count": 2,
     "metadata": {},
     "output_type": "execute_result"
    }
   ],
   "source": [
    "# example 1\n",
    "CanYouSpell(['y','n','p','g','n','l'],\"lynn\")"
   ]
  },
  {
   "cell_type": "code",
   "execution_count": 3,
   "metadata": {},
   "outputs": [
    {
     "data": {
      "text/plain": [
       "False"
      ]
     },
     "execution_count": 3,
     "metadata": {},
     "output_type": "execute_result"
    }
   ],
   "source": [
    "# example 2\n",
    "CanYouSpell(['y','n','p','g','l'],\"lynn\")"
   ]
  },
  {
   "cell_type": "code",
   "execution_count": 4,
   "metadata": {},
   "outputs": [
    {
     "data": {
      "text/plain": [
       "False"
      ]
     },
     "execution_count": 4,
     "metadata": {},
     "output_type": "execute_result"
    }
   ],
   "source": [
    "# example: too few letters\n",
    "CanYouSpell(['y','n','p','g'],\"lynn\")"
   ]
  },
  {
   "cell_type": "code",
   "execution_count": 5,
   "metadata": {},
   "outputs": [
    {
     "data": {
      "text/plain": [
       "True"
      ]
     },
     "execution_count": 5,
     "metadata": {},
     "output_type": "execute_result"
    }
   ],
   "source": [
    "# fun example 1\n",
    "CanYouSpell(list('oranges and apples'), 'apple')"
   ]
  },
  {
   "cell_type": "code",
   "execution_count": 6,
   "metadata": {},
   "outputs": [
    {
     "data": {
      "text/plain": [
       "False"
      ]
     },
     "execution_count": 6,
     "metadata": {},
     "output_type": "execute_result"
    }
   ],
   "source": [
    "# fun example 2\n",
    "CanYouSpell(list('oranges and apps'), 'apple')"
   ]
  }
 ],
 "metadata": {
  "kernelspec": {
   "display_name": "Python [conda root]",
   "language": "python",
   "name": "conda-root-py"
  },
  "language_info": {
   "codemirror_mode": {
    "name": "ipython",
    "version": 3
   },
   "file_extension": ".py",
   "mimetype": "text/x-python",
   "name": "python",
   "nbconvert_exporter": "python",
   "pygments_lexer": "ipython3",
   "version": "3.5.4"
  }
 },
 "nbformat": 4,
 "nbformat_minor": 2
}
