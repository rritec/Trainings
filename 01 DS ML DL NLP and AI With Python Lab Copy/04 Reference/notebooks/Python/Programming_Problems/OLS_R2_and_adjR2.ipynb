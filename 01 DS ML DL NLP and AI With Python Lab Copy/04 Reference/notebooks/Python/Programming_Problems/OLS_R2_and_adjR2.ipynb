{
 "cells": [
  {
   "cell_type": "markdown",
   "metadata": {},
   "source": [
    "## Problem Statement"
   ]
  },
  {
   "cell_type": "markdown",
   "metadata": {},
   "source": [
    "We'll use statsmodels to fit some (Ordinary Least Squares) linear models using random data.\n",
    "\n",
    "First make a response **y** of 200 random numbers. Then generate 20 random features in an **X** to predict with. Fit a linear model using both the 'Famous Equation' and the python built-ins. Check the summary() output of the results from the python built-ins. Do you have any features with P>|t| less than 0.05? (Repeat the process until you have at least one.)\n",
    "\n",
    "Check out the model's R-squared and Adj. R-squared. Repeat the feature generation and model fitting process with 40, 60, 80, and 100 features. What happens with R-squared and Adj. R-squared?\n",
    "\n",
    "If you have time, automate this experimental procedure and make a plot of R-squared and Adj. R-squared against number of features for one to one hundred features."
   ]
  },
  {
   "cell_type": "markdown",
   "metadata": {},
   "source": [
    "## Solution"
   ]
  },
  {
   "cell_type": "code",
   "execution_count": 1,
   "metadata": {},
   "outputs": [
    {
     "name": "stderr",
     "output_type": "stream",
     "text": [
      "/Users/davidziganto/anaconda/lib/python3.5/site-packages/statsmodels/compat/pandas.py:56: FutureWarning: The pandas.core.datetools module is deprecated and will be removed in a future version. Please use the pandas.tseries module instead.\n",
      "  from pandas.core import datetools\n"
     ]
    }
   ],
   "source": [
    "%matplotlib inline\n",
    "\n",
    "import numpy as np\n",
    "import statsmodels.api as sm\n",
    "import matplotlib.pyplot as plt"
   ]
  },
  {
   "cell_type": "markdown",
   "metadata": {},
   "source": [
    "#### Function to Generate Random Data"
   ]
  },
  {
   "cell_type": "code",
   "execution_count": 2,
   "metadata": {},
   "outputs": [],
   "source": [
    "def generate_random_data(num_rows, num_features, random_state=None):\n",
    "    '''returns 2D numpy based on user-defined inputs with random features.'''\n",
    "    if random_state:\n",
    "        np.random.seed(random_state)\n",
    "    for feature in range(num_features):\n",
    "        if feature == 0:\n",
    "            data = np.random.uniform(size=num_rows)\n",
    "        elif feature == 1:\n",
    "            data = np.hstack((data.reshape(-1,1),\n",
    "                              np.random.uniform(size=num_rows).reshape(-1,1)))\n",
    "        else:\n",
    "            data = np.hstack((data, np.random.uniform(size=num_rows).reshape(-1,1)))\n",
    "    return data"
   ]
  },
  {
   "cell_type": "markdown",
   "metadata": {},
   "source": [
    "#### Examples"
   ]
  },
  {
   "cell_type": "code",
   "execution_count": 3,
   "metadata": {},
   "outputs": [
    {
     "data": {
      "text/plain": [
       "array([ 0.13919365,  0.41774229,  0.19783082,  0.60390506,  0.2983936 ,\n",
       "        0.84592261,  0.11423064,  0.79070327,  0.32579652,  0.08888766])"
      ]
     },
     "execution_count": 3,
     "metadata": {},
     "output_type": "execute_result"
    }
   ],
   "source": [
    "# not reproducible\n",
    "generate_random_data(num_rows=10, num_features=1, random_state=None)"
   ]
  },
  {
   "cell_type": "code",
   "execution_count": 4,
   "metadata": {},
   "outputs": [
    {
     "data": {
      "text/plain": [
       "array([ 0.37454012,  0.95071431,  0.73199394,  0.59865848,  0.15601864,\n",
       "        0.15599452,  0.05808361,  0.86617615,  0.60111501,  0.70807258])"
      ]
     },
     "execution_count": 4,
     "metadata": {},
     "output_type": "execute_result"
    }
   ],
   "source": [
    "# reproducible\n",
    "generate_random_data(num_rows=10, num_features=1, random_state=42)"
   ]
  },
  {
   "cell_type": "code",
   "execution_count": 5,
   "metadata": {},
   "outputs": [
    {
     "data": {
      "text/plain": [
       "array([[ 0.37454012,  0.02058449,  0.61185289,  0.60754485,  0.12203823],\n",
       "       [ 0.95071431,  0.96990985,  0.13949386,  0.17052412,  0.49517691],\n",
       "       [ 0.73199394,  0.83244264,  0.29214465,  0.06505159,  0.03438852],\n",
       "       [ 0.59865848,  0.21233911,  0.36636184,  0.94888554,  0.9093204 ],\n",
       "       [ 0.15601864,  0.18182497,  0.45606998,  0.96563203,  0.25877998],\n",
       "       [ 0.15599452,  0.18340451,  0.78517596,  0.80839735,  0.66252228],\n",
       "       [ 0.05808361,  0.30424224,  0.19967378,  0.30461377,  0.31171108],\n",
       "       [ 0.86617615,  0.52475643,  0.51423444,  0.09767211,  0.52006802],\n",
       "       [ 0.60111501,  0.43194502,  0.59241457,  0.68423303,  0.54671028],\n",
       "       [ 0.70807258,  0.29122914,  0.04645041,  0.44015249,  0.18485446]])"
      ]
     },
     "execution_count": 5,
     "metadata": {},
     "output_type": "execute_result"
    }
   ],
   "source": [
    "# multiple columns + reproducible\n",
    "generate_random_data(num_rows=10, num_features=5, random_state=42)"
   ]
  },
  {
   "cell_type": "markdown",
   "metadata": {},
   "source": [
    "#### Generate Data"
   ]
  },
  {
   "cell_type": "code",
   "execution_count": 6,
   "metadata": {},
   "outputs": [],
   "source": [
    "y = generate_random_data(num_rows=200, num_features=1, random_state=101)\n",
    "X = generate_random_data(num_rows=200, num_features=20, random_state=99)"
   ]
  },
  {
   "cell_type": "markdown",
   "metadata": {},
   "source": [
    "#### Model w/20 Features"
   ]
  },
  {
   "cell_type": "code",
   "execution_count": 7,
   "metadata": {},
   "outputs": [],
   "source": [
    "results = sm.OLS(y, X).fit()"
   ]
  },
  {
   "cell_type": "code",
   "execution_count": 8,
   "metadata": {},
   "outputs": [
    {
     "name": "stdout",
     "output_type": "stream",
     "text": [
      "                            OLS Regression Results                            \n",
      "==============================================================================\n",
      "Dep. Variable:                      y   R-squared:                       0.763\n",
      "Model:                            OLS   Adj. R-squared:                  0.737\n",
      "Method:                 Least Squares   F-statistic:                     28.99\n",
      "Date:                Tue, 02 Jan 2018   Prob (F-statistic):           8.09e-46\n",
      "Time:                        09:09:47   Log-Likelihood:                -33.271\n",
      "No. Observations:                 200   AIC:                             106.5\n",
      "Df Residuals:                     180   BIC:                             172.5\n",
      "Df Model:                          20                                         \n",
      "Covariance Type:            nonrobust                                         \n",
      "==============================================================================\n",
      "                 coef    std err          t      P>|t|      [0.025      0.975]\n",
      "------------------------------------------------------------------------------\n",
      "x1             0.0835      0.077      1.085      0.279      -0.068       0.235\n",
      "x2             0.0617      0.080      0.769      0.443      -0.097       0.220\n",
      "x3             0.0104      0.074      0.141      0.888      -0.135       0.156\n",
      "x4             0.1691      0.073      2.317      0.022       0.025       0.313\n",
      "x5             0.1281      0.077      1.661      0.098      -0.024       0.280\n",
      "x6             0.1631      0.074      2.194      0.029       0.016       0.310\n",
      "x7            -0.0334      0.080     -0.418      0.676      -0.191       0.124\n",
      "x8             0.1240      0.078      1.589      0.114      -0.030       0.278\n",
      "x9            -0.0534      0.075     -0.715      0.475      -0.201       0.094\n",
      "x10            0.0943      0.079      1.195      0.234      -0.061       0.250\n",
      "x11           -0.1134      0.078     -1.460      0.146      -0.267       0.040\n",
      "x12           -0.0074      0.077     -0.096      0.924      -0.159       0.144\n",
      "x13            0.1326      0.076      1.735      0.084      -0.018       0.283\n",
      "x14            0.0625      0.074      0.843      0.401      -0.084       0.209\n",
      "x15            0.0292      0.073      0.399      0.691      -0.115       0.174\n",
      "x16           -0.0012      0.078     -0.015      0.988      -0.155       0.152\n",
      "x17            0.0281      0.082      0.341      0.733      -0.134       0.190\n",
      "x18           -0.0253      0.075     -0.337      0.737      -0.174       0.123\n",
      "x19            0.0989      0.073      1.362      0.175      -0.044       0.242\n",
      "x20            0.0135      0.079      0.171      0.864      -0.142       0.169\n",
      "==============================================================================\n",
      "Omnibus:                       19.560   Durbin-Watson:                   2.066\n",
      "Prob(Omnibus):                  0.000   Jarque-Bera (JB):                6.960\n",
      "Skew:                          -0.141   Prob(JB):                       0.0308\n",
      "Kurtosis:                       2.131   Cond. No.                         11.4\n",
      "==============================================================================\n",
      "\n",
      "Warnings:\n",
      "[1] Standard Errors assume that the covariance matrix of the errors is correctly specified.\n"
     ]
    }
   ],
   "source": [
    "print(results.summary())"
   ]
  },
  {
   "cell_type": "markdown",
   "metadata": {},
   "source": [
    "#### Get $R^2$"
   ]
  },
  {
   "cell_type": "code",
   "execution_count": 9,
   "metadata": {},
   "outputs": [
    {
     "data": {
      "text/plain": [
       "0.76308605022488574"
      ]
     },
     "execution_count": 9,
     "metadata": {},
     "output_type": "execute_result"
    }
   ],
   "source": [
    "results.rsquared"
   ]
  },
  {
   "cell_type": "markdown",
   "metadata": {},
   "source": [
    "#### Get Adjusted $R^2$"
   ]
  },
  {
   "cell_type": "code",
   "execution_count": 10,
   "metadata": {},
   "outputs": [
    {
     "data": {
      "text/plain": [
       "0.73676227802765082"
      ]
     },
     "execution_count": 10,
     "metadata": {},
     "output_type": "execute_result"
    }
   ],
   "source": [
    "results.rsquared_adj"
   ]
  },
  {
   "cell_type": "markdown",
   "metadata": {},
   "source": [
    "#### Automated Processing"
   ]
  },
  {
   "cell_type": "code",
   "execution_count": 11,
   "metadata": {},
   "outputs": [],
   "source": [
    "min_features = 1\n",
    "max_features = 100\n",
    "\n",
    "r_squared = []\n",
    "adj_r_squared = []\n",
    "\n",
    "y = generate_random_data(num_rows=200, num_features=1, random_state=99)\n",
    "\n",
    "for features in range(min_features, max_features+1):\n",
    "    X = generate_random_data(num_rows=200, num_features=features, random_state=101)\n",
    "    results = sm.OLS(y, X).fit()\n",
    "    r_squared.append(results.rsquared)\n",
    "    adj_r_squared.append(results.rsquared_adj)"
   ]
  },
  {
   "cell_type": "markdown",
   "metadata": {},
   "source": [
    "#### Plot"
   ]
  },
  {
   "cell_type": "code",
   "execution_count": 12,
   "metadata": {},
   "outputs": [
    {
     "data": {
      "image/png": "[encoded data removed]",
      "text/plain": [
       "<matplotlib.figure.Figure at 0x1160c0e48>"
      ]
     },
     "metadata": {},
     "output_type": "display_data"
    }
   ],
   "source": [
    "plt.plot(np.arange(1,101), r_squared, label='$R^2$')\n",
    "plt.plot(np.arange(1,101), adj_r_squared, label='$R^2$ adj')\n",
    "plt.title('$R^2$ vs $R^2$ adjusted')\n",
    "plt.xlabel('# features')\n",
    "plt.ylabel('score')\n",
    "plt.xlim(1,100)\n",
    "plt.ylim(0.55, 1)\n",
    "plt.legend()\n",
    "plt.grid();"
   ]
  }
 ],
 "metadata": {
  "kernelspec": {
   "display_name": "Python [conda root]",
   "language": "python",
   "name": "conda-root-py"
  },
  "language_info": {
   "codemirror_mode": {
    "name": "ipython",
    "version": 3
   },
   "file_extension": ".py",
   "mimetype": "text/x-python",
   "name": "python",
   "nbconvert_exporter": "python",
   "pygments_lexer": "ipython3",
   "version": "3.5.4"
  }
 },
 "nbformat": 4,
 "nbformat_minor": 2
}
