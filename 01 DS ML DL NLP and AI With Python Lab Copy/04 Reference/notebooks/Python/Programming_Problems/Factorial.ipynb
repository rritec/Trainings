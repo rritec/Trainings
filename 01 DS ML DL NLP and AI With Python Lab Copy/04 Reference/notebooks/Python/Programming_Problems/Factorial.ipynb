{
 "cells": [
  {
   "cell_type": "markdown",
   "metadata": {},
   "source": [
    "## Introduction"
   ]
  },
  {
   "cell_type": "markdown",
   "metadata": {},
   "source": [
    "Factorial(n) written as *n!* is the product of all the numbers up to *n*. \n",
    "\n",
    "8! = 8 x 7 x 6 x 5 x 4 x 3 x 2 x 1 = 40320"
   ]
  },
  {
   "cell_type": "markdown",
   "metadata": {},
   "source": [
    "## Instructions"
   ]
  },
  {
   "cell_type": "markdown",
   "metadata": {},
   "source": [
    "Write a function called **factorial** to calculate the factorial of a given number."
   ]
  },
  {
   "cell_type": "markdown",
   "metadata": {},
   "source": [
    "## Solutions"
   ]
  },
  {
   "cell_type": "code",
   "execution_count": 1,
   "metadata": {},
   "outputs": [],
   "source": [
    "import numpy as np"
   ]
  },
  {
   "cell_type": "markdown",
   "metadata": {},
   "source": [
    "#### No Recursion"
   ]
  },
  {
   "cell_type": "code",
   "execution_count": 11,
   "metadata": {},
   "outputs": [],
   "source": [
    "def factorial(n):\n",
    "    '''returns factorial of number n w/out recursion'''\n",
    "    \n",
    "    # error checking\n",
    "    assert n >= 0, 'n must be a nonnegative integer'\n",
    "    assert type(n) == int, 'n must be a nonnegative integer'\n",
    "    \n",
    "    out = 1\n",
    "    for value in range(1, n+1):\n",
    "        out *= value\n",
    "    return out"
   ]
  },
  {
   "cell_type": "code",
   "execution_count": 58,
   "metadata": {},
   "outputs": [
    {
     "name": "stdout",
     "output_type": "stream",
     "text": [
      "n: 0 | result: 1\n",
      "n: 1 | result: 1\n",
      "n: 2 | result: 2\n",
      "n: 3 | result: 6\n",
      "n: 4 | result: 24\n",
      "n: 5 | result: 120\n",
      "n: 6 | result: 720\n",
      "n: 7 | result: 5040\n",
      "n: 8 | result: 40320\n",
      "n: 9 | result: 362880\n"
     ]
    }
   ],
   "source": [
    "for i in range(10):\n",
    "    print('n: {} | result: {}'.format(i, factorial(i)))"
   ]
  },
  {
   "cell_type": "markdown",
   "metadata": {},
   "source": [
    "#### Recursion"
   ]
  },
  {
   "cell_type": "code",
   "execution_count": 47,
   "metadata": {},
   "outputs": [],
   "source": [
    "def recursive_factorial(n):\n",
    "    '''returns factorial of number n w/recursion'''\n",
    "    \n",
    "    # error checking\n",
    "    assert n >= 0, 'n must be a nonnegative integer'\n",
    "    assert type(n) == int, 'n must be a nonnegative integer'\n",
    "    \n",
    "    # main logic\n",
    "    if n == 0:   \n",
    "        return 1\n",
    "    else:\n",
    "        output = n * recursive_factorial(n - 1) \n",
    "    return output"
   ]
  },
  {
   "cell_type": "code",
   "execution_count": 57,
   "metadata": {},
   "outputs": [
    {
     "name": "stdout",
     "output_type": "stream",
     "text": [
      "n: 0 | result: 1\n",
      "n: 1 | result: 1\n",
      "n: 2 | result: 2\n",
      "n: 3 | result: 6\n",
      "n: 4 | result: 24\n",
      "n: 5 | result: 120\n",
      "n: 6 | result: 720\n",
      "n: 7 | result: 5040\n",
      "n: 8 | result: 40320\n",
      "n: 9 | result: 362880\n"
     ]
    }
   ],
   "source": [
    "for i in range(10):\n",
    "    print('n: {} | result: {}'.format(i, recursive_factorial(i)))"
   ]
  }
 ],
 "metadata": {
  "kernelspec": {
   "display_name": "Python [conda root]",
   "language": "python",
   "name": "conda-root-py"
  },
  "language_info": {
   "codemirror_mode": {
    "name": "ipython",
    "version": 3
   },
   "file_extension": ".py",
   "mimetype": "text/x-python",
   "name": "python",
   "nbconvert_exporter": "python",
   "pygments_lexer": "ipython3",
   "version": "3.5.4"
  }
 },
 "nbformat": 4,
 "nbformat_minor": 2
}
