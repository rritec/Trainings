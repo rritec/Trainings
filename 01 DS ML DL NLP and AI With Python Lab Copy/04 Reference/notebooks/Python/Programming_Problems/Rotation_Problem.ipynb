{
 "cells": [
  {
   "cell_type": "code",
   "execution_count": 1,
   "metadata": {
    "collapsed": true
   },
   "outputs": [],
   "source": [
    "def rotation(num1, num2, verbose=False):\n",
    "    '''tests whether num2 is a rotated version of num1'''\n",
    "    \n",
    "    num1 = list(str(num1))\n",
    "    num2 = list(str(num2))\n",
    "    \n",
    "    assert len(num1) == len(num2), \"numbers are different lengths\"\n",
    "    \n",
    "    for i, _ in enumerate(num1):\n",
    "        if num1 == num2:\n",
    "            print('{} rotations to the right'.format(i))\n",
    "            return True\n",
    "        else:\n",
    "            pop = list(num2.pop())\n",
    "            num2 = pop + num2\n",
    "        if verbose:\n",
    "            print(num1)\n",
    "            print(num2)\n",
    "            print('-'*25)"
   ]
  },
  {
   "cell_type": "code",
   "execution_count": 2,
   "metadata": {
    "collapsed": true
   },
   "outputs": [],
   "source": [
    "num1 = 12345\n",
    "num2 = 51234"
   ]
  },
  {
   "cell_type": "code",
   "execution_count": 3,
   "metadata": {},
   "outputs": [
    {
     "name": "stdout",
     "output_type": "stream",
     "text": [
      "['1', '2', '3', '4', '5']\n",
      "['4', '5', '1', '2', '3']\n",
      "-------------------------\n",
      "['1', '2', '3', '4', '5']\n",
      "['3', '4', '5', '1', '2']\n",
      "-------------------------\n",
      "['1', '2', '3', '4', '5']\n",
      "['2', '3', '4', '5', '1']\n",
      "-------------------------\n",
      "['1', '2', '3', '4', '5']\n",
      "['1', '2', '3', '4', '5']\n",
      "-------------------------\n",
      "4 rotations to the right\n"
     ]
    },
    {
     "data": {
      "text/plain": [
       "True"
      ]
     },
     "execution_count": 3,
     "metadata": {},
     "output_type": "execute_result"
    }
   ],
   "source": [
    "rotation(num1, num2, verbose=True)"
   ]
  }
 ],
 "metadata": {
  "kernelspec": {
   "display_name": "Python [conda root]",
   "language": "python",
   "name": "conda-root-py"
  },
  "language_info": {
   "codemirror_mode": {
    "name": "ipython",
    "version": 3
   },
   "file_extension": ".py",
   "mimetype": "text/x-python",
   "name": "python",
   "nbconvert_exporter": "python",
   "pygments_lexer": "ipython3",
   "version": "3.5.4"
  }
 },
 "nbformat": 4,
 "nbformat_minor": 2
}
