{
 "cells": [
  {
   "cell_type": "code",
   "execution_count": 1,
   "metadata": {},
   "outputs": [],
   "source": [
    "import numpy as np"
   ]
  },
  {
   "cell_type": "markdown",
   "metadata": {},
   "source": [
    "## Bubble Sort\n",
    "Bubble sort is described in detail on [Wikipedia](https://en.wikipedia.org/wiki/Bubble_sort).\n",
    "\n",
    "Its complexity is $O(n^2)$."
   ]
  },
  {
   "cell_type": "code",
   "execution_count": 2,
   "metadata": {},
   "outputs": [],
   "source": [
    "def bubble_sort(array, verbose=False):\n",
    "    '''The bubble sort algorithm.\n",
    "    \n",
    "    INPUT: array or list\n",
    "    OUTPUT: sorted array or list\n",
    "    '''\n",
    "    \n",
    "    # setup\n",
    "    unsorted = True\n",
    "    list_length = len(array) - 1\n",
    "    \n",
    "    # main logic\n",
    "    while unsorted:\n",
    "        changes = 0\n",
    "        for i in range(list_length):\n",
    "            if mylist[i] > mylist[i+1]:\n",
    "                mylist[i], mylist[i+1] = mylist[i+1], mylist[i]\n",
    "                changes += 1\n",
    "        if not changes:\n",
    "            unsorted = False\n",
    "        if verbose:\n",
    "            print(mylist)"
   ]
  },
  {
   "cell_type": "code",
   "execution_count": 3,
   "metadata": {},
   "outputs": [
    {
     "data": {
      "text/plain": [
       "array([39, 40, 35, 46, 11, 33, 23, 14, 38, 32,  1, 10, 16, 34, 26, 22, 23,\n",
       "       10, 12, 11, 10,  0,  6, 10, 31])"
      ]
     },
     "execution_count": 3,
     "metadata": {},
     "output_type": "execute_result"
    }
   ],
   "source": [
    "mylist = np.random.randint(0, 50, 25)\n",
    "mylist"
   ]
  },
  {
   "cell_type": "code",
   "execution_count": 4,
   "metadata": {},
   "outputs": [
    {
     "name": "stdout",
     "output_type": "stream",
     "text": [
      "[39 35 40 11 33 23 14 38 32  1 10 16 34 26 22 23 10 12 11 10  0  6 10 31 46]\n",
      "[35 39 11 33 23 14 38 32  1 10 16 34 26 22 23 10 12 11 10  0  6 10 31 40 46]\n",
      "[35 11 33 23 14 38 32  1 10 16 34 26 22 23 10 12 11 10  0  6 10 31 39 40 46]\n",
      "[11 33 23 14 35 32  1 10 16 34 26 22 23 10 12 11 10  0  6 10 31 38 39 40 46]\n",
      "[11 23 14 33 32  1 10 16 34 26 22 23 10 12 11 10  0  6 10 31 35 38 39 40 46]\n",
      "[11 14 23 32  1 10 16 33 26 22 23 10 12 11 10  0  6 10 31 34 35 38 39 40 46]\n",
      "[11 14 23  1 10 16 32 26 22 23 10 12 11 10  0  6 10 31 33 34 35 38 39 40 46]\n",
      "[11 14  1 10 16 23 26 22 23 10 12 11 10  0  6 10 31 32 33 34 35 38 39 40 46]\n",
      "[11  1 10 14 16 23 22 23 10 12 11 10  0  6 10 26 31 32 33 34 35 38 39 40 46]\n",
      "[ 1 10 11 14 16 22 23 10 12 11 10  0  6 10 23 26 31 32 33 34 35 38 39 40 46]\n",
      "[ 1 10 11 14 16 22 10 12 11 10  0  6 10 23 23 26 31 32 33 34 35 38 39 40 46]\n",
      "[ 1 10 11 14 16 10 12 11 10  0  6 10 22 23 23 26 31 32 33 34 35 38 39 40 46]\n",
      "[ 1 10 11 14 10 12 11 10  0  6 10 16 22 23 23 26 31 32 33 34 35 38 39 40 46]\n",
      "[ 1 10 11 10 12 11 10  0  6 10 14 16 22 23 23 26 31 32 33 34 35 38 39 40 46]\n",
      "[ 1 10 10 11 11 10  0  6 10 12 14 16 22 23 23 26 31 32 33 34 35 38 39 40 46]\n",
      "[ 1 10 10 11 10  0  6 10 11 12 14 16 22 23 23 26 31 32 33 34 35 38 39 40 46]\n",
      "[ 1 10 10 10  0  6 10 11 11 12 14 16 22 23 23 26 31 32 33 34 35 38 39 40 46]\n",
      "[ 1 10 10  0  6 10 10 11 11 12 14 16 22 23 23 26 31 32 33 34 35 38 39 40 46]\n",
      "[ 1 10  0  6 10 10 10 11 11 12 14 16 22 23 23 26 31 32 33 34 35 38 39 40 46]\n",
      "[ 1  0  6 10 10 10 10 11 11 12 14 16 22 23 23 26 31 32 33 34 35 38 39 40 46]\n",
      "[ 0  1  6 10 10 10 10 11 11 12 14 16 22 23 23 26 31 32 33 34 35 38 39 40 46]\n",
      "[ 0  1  6 10 10 10 10 11 11 12 14 16 22 23 23 26 31 32 33 34 35 38 39 40 46]\n"
     ]
    }
   ],
   "source": [
    "bubble_sort(mylist, verbose=True)"
   ]
  }
 ],
 "metadata": {
  "kernelspec": {
   "display_name": "Python [conda root]",
   "language": "python",
   "name": "conda-root-py"
  },
  "language_info": {
   "codemirror_mode": {
    "name": "ipython",
    "version": 3
   },
   "file_extension": ".py",
   "mimetype": "text/x-python",
   "name": "python",
   "nbconvert_exporter": "python",
   "pygments_lexer": "ipython3",
   "version": "3.5.4"
  }
 },
 "nbformat": 4,
 "nbformat_minor": 2
}
