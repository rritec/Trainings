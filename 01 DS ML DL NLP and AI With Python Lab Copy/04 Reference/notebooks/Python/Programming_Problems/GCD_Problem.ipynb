{
 "cells": [
  {
   "cell_type": "code",
   "execution_count": 1,
   "metadata": {},
   "outputs": [],
   "source": [
    "def naive_gcd(num1, num2):\n",
    "    '''enumerate divisors and returns largest of intersection(num1, num2).'''\n",
    "    \n",
    "    assert num1 > 0, \"num1 must be positive.\"\n",
    "    assert num2 > 0, \"num2 must be positive.\"\n",
    "    \n",
    "    divisors1 = []\n",
    "    divisors2 = []\n",
    "    \n",
    "    count = 0\n",
    "    \n",
    "    for divisor in range(1, num1):\n",
    "        count += 1  ## just to keep tally\n",
    "        if num1 % divisor == 0:\n",
    "            divisors1.append(divisor)\n",
    "            \n",
    "    for divisor in range(1, num2):\n",
    "        count += 1 ## just to keep tally\n",
    "        if num2 % divisor == 0:\n",
    "            divisors2.append(divisor)\n",
    "    \n",
    "    gcd = max(set(divisors1) & set(divisors2))\n",
    "    print(\"GCD: {}\\nCount: {}\".format(gcd, count))"
   ]
  },
  {
   "cell_type": "code",
   "execution_count": 2,
   "metadata": {},
   "outputs": [
    {
     "name": "stdout",
     "output_type": "stream",
     "text": [
      "GCD: 4\n",
      "Count: 16098\n"
     ]
    }
   ],
   "source": [
    "naive_gcd(1236, 14864)"
   ]
  },
  {
   "cell_type": "code",
   "execution_count": 3,
   "metadata": {},
   "outputs": [],
   "source": [
    "def gcd(num1, num2):\n",
    "    '''returns the greatest common divisor'''\n",
    "    \n",
    "    assert num1 >= 0, \"num1 must be nonnegative.\"\n",
    "    assert num2 >= 0, \"num2 must be nonnegative.\"\n",
    "    \n",
    "    count = 0\n",
    "    \n",
    "    while num1 != 0:\n",
    "        count += 1  ## just to keep tally\n",
    "        gcd = num1\n",
    "        num1 = num2 % num1\n",
    "        num2 = gcd\n",
    "    print(\"GCD: {}\\nCount: {}\".format(gcd, count))"
   ]
  },
  {
   "cell_type": "code",
   "execution_count": 4,
   "metadata": {},
   "outputs": [
    {
     "name": "stdout",
     "output_type": "stream",
     "text": [
      "GCD: 4\n",
      "Count: 6\n"
     ]
    }
   ],
   "source": [
    "gcd(1236,14864)"
   ]
  },
  {
   "cell_type": "markdown",
   "metadata": {},
   "source": [
    "---"
   ]
  },
  {
   "cell_type": "code",
   "execution_count": 5,
   "metadata": {},
   "outputs": [
    {
     "name": "stdout",
     "output_type": "stream",
     "text": [
      "GCD: 1\n",
      "Count: 333101\n"
     ]
    }
   ],
   "source": [
    "naive_gcd(134526, 198577)"
   ]
  },
  {
   "cell_type": "code",
   "execution_count": 6,
   "metadata": {},
   "outputs": [
    {
     "name": "stdout",
     "output_type": "stream",
     "text": [
      "GCD: 1\n",
      "Count: 8\n"
     ]
    }
   ],
   "source": [
    "gcd(134526, 198577)"
   ]
  }
 ],
 "metadata": {
  "kernelspec": {
   "display_name": "Python [conda root]",
   "language": "python",
   "name": "conda-root-py"
  },
  "language_info": {
   "codemirror_mode": {
    "name": "ipython",
    "version": 3
   },
   "file_extension": ".py",
   "mimetype": "text/x-python",
   "name": "python",
   "nbconvert_exporter": "python",
   "pygments_lexer": "ipython3",
   "version": "3.5.4"
  }
 },
 "nbformat": 4,
 "nbformat_minor": 2
}
