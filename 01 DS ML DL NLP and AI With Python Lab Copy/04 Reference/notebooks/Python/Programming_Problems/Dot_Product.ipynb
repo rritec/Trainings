{
 "cells": [
  {
   "cell_type": "code",
   "execution_count": 1,
   "metadata": {
    "collapsed": true
   },
   "outputs": [],
   "source": [
    "import numpy as np"
   ]
  },
  {
   "cell_type": "code",
   "execution_count": 2,
   "metadata": {
    "collapsed": true
   },
   "outputs": [],
   "source": [
    "def find_w(a, b):\n",
    "    '''function that returns solution to a*w=b, if it exists'''\n",
    "    # check if 1D or 2D array\n",
    "    if len(a.shape) != 2:\n",
    "        # reshape if 1D array, else throws error\n",
    "        a = a.reshape(-1,1)\n",
    "        try:\n",
    "            return np.linalg.solve(a,b)\n",
    "        except:\n",
    "            print('Warning: Singular Matrix')  ## case where a=0 and b!=0\n",
    "    else:\n",
    "        # num rows < num columns = infinite solutions\n",
    "        if a.shape[0] < a.shape[1]:\n",
    "            print('Underdetermined System: infinite or no solutions')\n",
    "        else:\n",
    "            try:\n",
    "                return np.linalg.solve(a,b)\n",
    "            except:\n",
    "                print('0 solutions')"
   ]
  },
  {
   "cell_type": "markdown",
   "metadata": {},
   "source": [
    "### Example Problem"
   ]
  },
  {
   "cell_type": "code",
   "execution_count": 3,
   "metadata": {},
   "outputs": [
    {
     "name": "stdout",
     "output_type": "stream",
     "text": [
      "[[5 3 7]\n",
      " [2 4 1]]\n",
      "\n",
      "[537 241]\n"
     ]
    }
   ],
   "source": [
    "X = np.array([5,3,7,2,4,1]).reshape(2,3)\n",
    "y = np.array([537, 241])\n",
    "print(X)\n",
    "print()\n",
    "print(y)"
   ]
  },
  {
   "cell_type": "code",
   "execution_count": 4,
   "metadata": {},
   "outputs": [
    {
     "name": "stdout",
     "output_type": "stream",
     "text": [
      "Underdetermined System: infinite or no solutions\n"
     ]
    }
   ],
   "source": [
    "find_w(X,y)"
   ]
  },
  {
   "cell_type": "markdown",
   "metadata": {},
   "source": [
    "** *This is an underdetermined systems as there are 2 equations and 3 variables. Therefore, there exist an infinite number of solutions.* **"
   ]
  },
  {
   "cell_type": "markdown",
   "metadata": {},
   "source": [
    "### Example A"
   ]
  },
  {
   "cell_type": "code",
   "execution_count": 5,
   "metadata": {},
   "outputs": [
    {
     "data": {
      "text/plain": [
       "array([ 4.])"
      ]
     },
     "execution_count": 5,
     "metadata": {},
     "output_type": "execute_result"
    }
   ],
   "source": [
    "X = np.array([2])\n",
    "y = np.array([8])\n",
    "find_w(X,y)"
   ]
  },
  {
   "cell_type": "markdown",
   "metadata": {},
   "source": [
    "### Example B"
   ]
  },
  {
   "cell_type": "code",
   "execution_count": 6,
   "metadata": {},
   "outputs": [
    {
     "name": "stdout",
     "output_type": "stream",
     "text": [
      "Warning: Singular Matrix\n"
     ]
    }
   ],
   "source": [
    "X = np.array([0])\n",
    "y = np.array([8])\n",
    "find_w(X,y)"
   ]
  },
  {
   "cell_type": "markdown",
   "metadata": {},
   "source": [
    "** *No solution. Zero times anything is always zero!* **"
   ]
  },
  {
   "cell_type": "markdown",
   "metadata": {},
   "source": [
    "### Example C"
   ]
  },
  {
   "cell_type": "code",
   "execution_count": 7,
   "metadata": {},
   "outputs": [
    {
     "name": "stdout",
     "output_type": "stream",
     "text": [
      "Warning: Singular Matrix\n"
     ]
    }
   ],
   "source": [
    "X = np.array([2,4])\n",
    "y = np.array([8])\n",
    "find_w(X,y)"
   ]
  },
  {
   "cell_type": "markdown",
   "metadata": {},
   "source": [
    "np.linalg.solve expects square matrix so disregard message. Infinite solutions for this one. Underdetermined."
   ]
  },
  {
   "cell_type": "markdown",
   "metadata": {},
   "source": [
    "### Example D"
   ]
  },
  {
   "cell_type": "code",
   "execution_count": 8,
   "metadata": {},
   "outputs": [
    {
     "data": {
      "text/plain": [
       "array([-2.,  3.])"
      ]
     },
     "execution_count": 8,
     "metadata": {},
     "output_type": "execute_result"
    }
   ],
   "source": [
    "X = np.array([2,4,0,1]).reshape(2,2)\n",
    "y = np.array([8,3])\n",
    "find_w(X,y)"
   ]
  },
  {
   "cell_type": "markdown",
   "metadata": {},
   "source": [
    "### Example E"
   ]
  },
  {
   "cell_type": "code",
   "execution_count": 9,
   "metadata": {},
   "outputs": [
    {
     "name": "stdout",
     "output_type": "stream",
     "text": [
      "0 solutions\n"
     ]
    }
   ],
   "source": [
    "X = np.array([2,4,0,1,9,5]).reshape(3,2)\n",
    "y = np.array([8,3,1])\n",
    "find_w(X,y)"
   ]
  },
  {
   "cell_type": "markdown",
   "metadata": {},
   "source": [
    "### Example F"
   ]
  },
  {
   "cell_type": "code",
   "execution_count": 10,
   "metadata": {},
   "outputs": [
    {
     "data": {
      "text/plain": [
       "array([ 2.,  0.])"
      ]
     },
     "execution_count": 10,
     "metadata": {},
     "output_type": "execute_result"
    }
   ],
   "source": [
    "X = np.array([2,2,3,3]).reshape(2,2)\n",
    "y = np.array([4,6])\n",
    "find_w(X,y)"
   ]
  },
  {
   "cell_type": "markdown",
   "metadata": {},
   "source": [
    "Actually infinite solutions because same equation twice, just with different coefficients. Really have 1 unique equation with 2 unknowns. Underdetermined. Need to catch this edge case in code."
   ]
  },
  {
   "cell_type": "markdown",
   "metadata": {},
   "source": [
    "### Example G"
   ]
  },
  {
   "cell_type": "markdown",
   "metadata": {},
   "source": [
    "Can't be done. Can't multiply text * numbers."
   ]
  },
  {
   "cell_type": "markdown",
   "metadata": {},
   "source": [
    "### Example H"
   ]
  },
  {
   "cell_type": "code",
   "execution_count": 11,
   "metadata": {},
   "outputs": [
    {
     "data": {
      "text/plain": [
       "array([ 8.,  6.])"
      ]
     },
     "execution_count": 11,
     "metadata": {},
     "output_type": "execute_result"
    }
   ],
   "source": [
    "X = np.array([1,0,0,1]).reshape(2,2)\n",
    "y = np.array([8,6])\n",
    "find_w(X,y)"
   ]
  },
  {
   "cell_type": "markdown",
   "metadata": {},
   "source": [
    "### Example I"
   ]
  },
  {
   "cell_type": "code",
   "execution_count": 12,
   "metadata": {},
   "outputs": [
    {
     "name": "stdout",
     "output_type": "stream",
     "text": [
      "Underdetermined System: infinite or no solutions\n"
     ]
    }
   ],
   "source": [
    "X = np.array([1,1,0,1,0,1]).reshape(2,3)\n",
    "y = np.array([8,6])\n",
    "find_w(X,y)"
   ]
  },
  {
   "cell_type": "markdown",
   "metadata": {},
   "source": [
    "### Example J"
   ]
  },
  {
   "cell_type": "code",
   "execution_count": 13,
   "metadata": {},
   "outputs": [
    {
     "data": {
      "text/plain": [
       "array([ 8., -2.])"
      ]
     },
     "execution_count": 13,
     "metadata": {},
     "output_type": "execute_result"
    }
   ],
   "source": [
    "X = np.array([1,0,1,1]).reshape(2,2)\n",
    "y = np.array([8,6])\n",
    "find_w(X,y)"
   ]
  },
  {
   "cell_type": "markdown",
   "metadata": {},
   "source": [
    "### NOTES\n",
    "\n",
    "An **underdetermined** system is one in which there are fewer equations than unknowns. The result is either 0 or infinite solutions. There are 0 solutions when equations are inconsistent. For example, x+y=1 and x+y=2. That can't possibly be because the same equation gives different outputs. There are infinite solutions otherwise.\n",
    "\n",
    "An **overdetermined** system is one in which there are more equations than unknowns. Be wary of inconsistent equations (x+y=1 and x+y=2) that will cause this system to have 0 solutions. Otherise a unique solution exists.\n",
    "\n",
    "**Takeaway:** *so long as the number of unique equations is at least the same as the number of variables AND there are no inconsistencies, a unique solution exists.*"
   ]
  }
 ],
 "metadata": {
  "kernelspec": {
   "display_name": "Python [conda root]",
   "language": "python",
   "name": "conda-root-py"
  },
  "language_info": {
   "codemirror_mode": {
    "name": "ipython",
    "version": 3
   },
   "file_extension": ".py",
   "mimetype": "text/x-python",
   "name": "python",
   "nbconvert_exporter": "python",
   "pygments_lexer": "ipython3",
   "version": "3.5.4"
  }
 },
 "nbformat": 4,
 "nbformat_minor": 2
}
