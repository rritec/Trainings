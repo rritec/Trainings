{
 "cells": [
  {
   "cell_type": "markdown",
   "metadata": {},
   "source": [
    "## Introduction\n",
    "\n",
    "Objective #1: Find a solution for this problem:\n",
    "\n",
    "$\\frac{A}{BC} + \\frac{D}{EF} + \\frac{G}{HI} = 1$\n",
    "\n",
    "Objective #2: Enumerate all solutions to the problem."
   ]
  },
  {
   "cell_type": "markdown",
   "metadata": {},
   "source": [
    "## Setup"
   ]
  },
  {
   "cell_type": "code",
   "execution_count": 1,
   "metadata": {
    "collapsed": true
   },
   "outputs": [],
   "source": [
    "import numpy as np"
   ]
  },
  {
   "cell_type": "code",
   "execution_count": 4,
   "metadata": {},
   "outputs": [
    {
     "data": {
      "text/plain": [
       "array([1, 2, 3, 4, 5, 6, 7, 8, 9])"
      ]
     },
     "execution_count": 4,
     "metadata": {},
     "output_type": "execute_result"
    }
   ],
   "source": [
    "digits = np.arange(1,10)\n",
    "digits"
   ]
  },
  {
   "cell_type": "code",
   "execution_count": 7,
   "metadata": {
    "collapsed": true
   },
   "outputs": [],
   "source": [
    "def checker(arr):\n",
    "    return arr[0]/(arr[1]*arr[2]) + arr[3]/(arr[4]*arr[5]) + arr[6]/(arr[7]*arr[8])"
   ]
  },
  {
   "cell_type": "code",
   "execution_count": 27,
   "metadata": {
    "collapsed": true
   },
   "outputs": [],
   "source": [
    "def pretty_print(count, permute):\n",
    "    print('A={} B={} C={} D={} E={} F={} G={} H={} I={}'.format(permute[0], permute[1],\n",
    "                                                            permute[2], permute[3],\n",
    "                                                            permute[4], permute[5], \n",
    "                                                            permute[6], permute[7],\n",
    "                                                            permute[8]))\n",
    "    print('\\nSearches:', count)"
   ]
  },
  {
   "cell_type": "markdown",
   "metadata": {},
   "source": [
    "## Objective #1: find a solution"
   ]
  },
  {
   "cell_type": "code",
   "execution_count": 12,
   "metadata": {
    "collapsed": true
   },
   "outputs": [],
   "source": [
    "def naive_search():\n",
    "    '''random search using permutations - returns number of searches and solution.'''\n",
    "    import numpy as np\n",
    "    digits = np.arange(1,10)\n",
    "    count = 0\n",
    "    permute = np.random.permutation(digits)\n",
    "    while checker(permute) != 1:\n",
    "        count += 1\n",
    "        permute = np.random.permutation(digits)\n",
    "    return count, permute"
   ]
  },
  {
   "cell_type": "code",
   "execution_count": 21,
   "metadata": {},
   "outputs": [
    {
     "name": "stdout",
     "output_type": "stream",
     "text": [
      "9455\n",
      "[7 4 2 1 3 6 5 8 9]\n"
     ]
    }
   ],
   "source": [
    "searches, array = naive_search()\n",
    "print(searches)\n",
    "print(array)"
   ]
  },
  {
   "cell_type": "code",
   "execution_count": 28,
   "metadata": {},
   "outputs": [
    {
     "name": "stdout",
     "output_type": "stream",
     "text": [
      "A=7 B=4 C=2 D=1 E=3 F=6 G=5 H=8 I=9\n",
      "\n",
      "Searches: 9455\n"
     ]
    }
   ],
   "source": [
    "pretty_print(searches, array)"
   ]
  },
  {
   "cell_type": "markdown",
   "metadata": {},
   "source": [
    "## Monte Carlo Expectation"
   ]
  },
  {
   "cell_type": "code",
   "execution_count": 61,
   "metadata": {
    "collapsed": true
   },
   "outputs": [],
   "source": [
    "count = []\n",
    "solution = []\n",
    "for _ in range(int(1e3)):\n",
    "    searches, array = naive_search()\n",
    "    count.append(searches) \n",
    "    solution.append(array)"
   ]
  },
  {
   "cell_type": "code",
   "execution_count": 62,
   "metadata": {},
   "outputs": [
    {
     "data": {
      "text/plain": [
       "7434.53"
      ]
     },
     "execution_count": 62,
     "metadata": {},
     "output_type": "execute_result"
    }
   ],
   "source": [
    "sum(count)/len(count)"
   ]
  },
  {
   "cell_type": "markdown",
   "metadata": {},
   "source": [
    "## Next Steps\n",
    "\n",
    "Can you find a brute force approach?\n",
    "\n",
    "Can you find a faster method?"
   ]
  }
 ],
 "metadata": {
  "kernelspec": {
   "display_name": "Python [conda root]",
   "language": "python",
   "name": "conda-root-py"
  },
  "language_info": {
   "codemirror_mode": {
    "name": "ipython",
    "version": 3
   },
   "file_extension": ".py",
   "mimetype": "text/x-python",
   "name": "python",
   "nbconvert_exporter": "python",
   "pygments_lexer": "ipython3",
   "version": "3.5.4"
  }
 },
 "nbformat": 4,
 "nbformat_minor": 2
}
