{
 "cells": [
  {
   "cell_type": "code",
   "execution_count": 1,
   "metadata": {
    "collapsed": true
   },
   "outputs": [],
   "source": [
    "import numpy as np"
   ]
  },
  {
   "cell_type": "markdown",
   "metadata": {},
   "source": [
    "#### Show Step-by-Step"
   ]
  },
  {
   "cell_type": "code",
   "execution_count": 2,
   "metadata": {},
   "outputs": [
    {
     "data": {
      "text/plain": [
       "array([ 2,  4,  8, 16,  7, 99])"
      ]
     },
     "execution_count": 2,
     "metadata": {},
     "output_type": "execute_result"
    }
   ],
   "source": [
    "test = np.array([2,4,8,16,7,99])\n",
    "test"
   ]
  },
  {
   "cell_type": "code",
   "execution_count": 3,
   "metadata": {},
   "outputs": [
    {
     "name": "stdout",
     "output_type": "stream",
     "text": [
      "2.0\n",
      "3.0\n",
      "4.66666666667\n",
      "7.5\n",
      "7.4\n",
      "22.6666666667\n"
     ]
    }
   ],
   "source": [
    "for i in range(len(test)):\n",
    "    if i == 0:\n",
    "        print(np.mean(test[0]))\n",
    "    else:\n",
    "        print(np.mean(test[:i+1]))"
   ]
  },
  {
   "cell_type": "markdown",
   "metadata": {},
   "source": [
    "#### Function for Rolling Mean"
   ]
  },
  {
   "cell_type": "code",
   "execution_count": 4,
   "metadata": {
    "collapsed": true
   },
   "outputs": [],
   "source": [
    "def rolling_mean(array, verbose=False):\n",
    "    '''computes the mean incrementally'''\n",
    "    \n",
    "    assert type(array) == np.ndarray, \"input must be of type np.ndarray\"\n",
    "    \n",
    "    mv_avg = 0\n",
    "    num_elements = len(array)\n",
    "    \n",
    "    for i, elem in enumerate(array):\n",
    "        mv_avg += (elem-mv_avg)/(i+1)\n",
    "        if verbose:\n",
    "            print(i+1, mv_avg)\n",
    "    return mv_avg"
   ]
  },
  {
   "cell_type": "markdown",
   "metadata": {},
   "source": [
    "#### Example"
   ]
  },
  {
   "cell_type": "code",
   "execution_count": 5,
   "metadata": {},
   "outputs": [
    {
     "name": "stdout",
     "output_type": "stream",
     "text": [
      "1 2.0\n",
      "2 3.0\n",
      "3 4.66666666667\n",
      "4 7.5\n",
      "5 7.4\n",
      "6 22.6666666667\n"
     ]
    },
    {
     "data": {
      "text/plain": [
       "22.666666666666664"
      ]
     },
     "execution_count": 5,
     "metadata": {},
     "output_type": "execute_result"
    }
   ],
   "source": [
    "rolling_mean(test, verbose=True)"
   ]
  }
 ],
 "metadata": {
  "kernelspec": {
   "display_name": "Python [conda root]",
   "language": "python",
   "name": "conda-root-py"
  },
  "language_info": {
   "codemirror_mode": {
    "name": "ipython",
    "version": 3
   },
   "file_extension": ".py",
   "mimetype": "text/x-python",
   "name": "python",
   "nbconvert_exporter": "python",
   "pygments_lexer": "ipython3",
   "version": "3.5.4"
  }
 },
 "nbformat": 4,
 "nbformat_minor": 2
}
