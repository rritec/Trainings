{
 "cells": [
  {
   "cell_type": "markdown",
   "metadata": {},
   "source": [
    "# LIST\n",
    "\n",
    "* Mutable  \n",
    "* Mixed-type\n",
    "\n",
    "Lists are ordered sets of objects. They are powerful, flexible, and one of the most widely used data structures in all of Python.\n",
    "\n",
    "**When a list is not the answer:**  \n",
    "\n",
    "1) You need to store lots of floating point numbers  \n",
    "2) You are constantly adding and removing items from the left end or both ends of a list  \n",
    "3) You need to save/load lots of floating point numbers  \n",
    "4) You plan iterate through a list that will never change\n",
    "\n",
    "**Why #1?**  \n",
    "* An array if much more efficient because an array only stores the packed bytes instead of the actual float objects\n",
    "\n",
    "**Why #2?**  \n",
    "* deque (double-ended queue) works faster\n",
    "\n",
    "**Why #3?**\n",
    "* An array is much more efficient\n",
    "\n",
    "**Why #4?**\n",
    "* A tuple can be faster"
   ]
  },
  {
   "cell_type": "markdown",
   "metadata": {},
   "source": [
    "# TUPLE\n",
    "\n",
    "* Immutable\n",
    "* Mixed-type\n",
    "\n",
    "Tuples are often described as immutable lists. Because tuples are immutable they can be faster than lists. So if you're looking for flexibility, go with a list. But if you're looking for speed and your list won't change or you want to prevent values from changing, go with a tuple."
   ]
  },
  {
   "cell_type": "markdown",
   "metadata": {},
   "source": [
    "# ARRAY\n",
    "\n",
    "* Mutable\n",
    "* Single-type\n",
    "* Fast loading/saving\n",
    "\n",
    "An array is much more efficient than a list if you're only looking to store a single object type like a float. "
   ]
  },
  {
   "cell_type": "markdown",
   "metadata": {},
   "source": [
    "# DICTIONARY\n",
    "\n",
    "* Keys are immutable\n",
    "* Values are mutable\n",
    "* Keys mapped to values via hashing\n",
    "* Incredibly fast\n",
    "* Significant memory overhead\n",
    "\n",
    "Dictionaries are unordered sets. Items in a dictionary are accessed via keys (not by index as in a list). Each key of the dictionary is mapped to a value and the values of a dictionary can be any Python data type. In other words, dictionaries are unordered key-value pairs. "
   ]
  },
  {
   "cell_type": "markdown",
   "metadata": {},
   "source": [
    "# SET\n",
    "\n",
    "* Mutable (can be updated but can't change values)\n",
    "* Unique values\n",
    "* Great for testing membership\n",
    "\n",
    "A set in Python is an ordered collection of unique and immutable objects. It's highly optimized for testing membership. So if you're thinking about using \"in\" to test membership, think again - sets are much, much faster!"
   ]
  },
  {
   "cell_type": "markdown",
   "metadata": {},
   "source": [
    "# PERFORMANCE EXPERIMENT - LIST vs DICT vs SET\n",
    "\n",
    "Let's generate 1M unique floats (our haystack) and 1,000 additional floats (our needles). 500 of our needles will be contained in our haystack and 500 will be guaranteed not to be. We will compare the performance of lists vs dicts vs sets for testing membership."
   ]
  },
  {
   "cell_type": "code",
   "execution_count": 1,
   "metadata": {
    "collapsed": true
   },
   "outputs": [],
   "source": [
    "from array import array\n",
    "from random import random\n",
    "import numpy as np\n",
    "\n",
    "np.random.seed(52)\n",
    "haystack = array('d', (random() for i in range(10**6)))\n",
    "needles_in = array('d', np.random.choice(haystack, size=500, replace=False))\n",
    "needles_out = array('d', (random() for i in range(500)))\n",
    "needles = array('d', list(needles_in) + list(needles_out))"
   ]
  },
  {
   "cell_type": "code",
   "execution_count": 2,
   "metadata": {},
   "outputs": [
    {
     "data": {
      "text/plain": [
       "1000"
      ]
     },
     "execution_count": 2,
     "metadata": {},
     "output_type": "execute_result"
    }
   ],
   "source": [
    "len(needles)"
   ]
  },
  {
   "cell_type": "code",
   "execution_count": 3,
   "metadata": {},
   "outputs": [
    {
     "data": {
      "text/plain": [
       "500"
      ]
     },
     "execution_count": 3,
     "metadata": {},
     "output_type": "execute_result"
    }
   ],
   "source": [
    "# show needles_in actually in haystack\n",
    "len(set(needles_in) & set(haystack))"
   ]
  },
  {
   "cell_type": "code",
   "execution_count": 4,
   "metadata": {},
   "outputs": [
    {
     "data": {
      "text/plain": [
       "0"
      ]
     },
     "execution_count": 4,
     "metadata": {},
     "output_type": "execute_result"
    }
   ],
   "source": [
    "# show needles_out not in haystack\n",
    "len(set(needles_out) & set(haystack))"
   ]
  },
  {
   "cell_type": "code",
   "execution_count": 5,
   "metadata": {
    "collapsed": true
   },
   "outputs": [],
   "source": [
    "# Setup\n",
    "needlelist = list(needles)\n",
    "haystacklist = list(haystack)\n",
    "\n",
    "needledict = dict.fromkeys(needles)\n",
    "haystackdict = dict.fromkeys(haystack)\n",
    "\n",
    "needleset = set(needles)\n",
    "haystackset = set(haystack)"
   ]
  },
  {
   "cell_type": "code",
   "execution_count": 6,
   "metadata": {
    "collapsed": true
   },
   "outputs": [],
   "source": [
    "def test_run(needle, haystack):\n",
    "    found = 0\n",
    "    for item in needle:\n",
    "        if item in haystack:\n",
    "            found +=1\n",
    "    return found"
   ]
  },
  {
   "cell_type": "code",
   "execution_count": 7,
   "metadata": {},
   "outputs": [
    {
     "name": "stdout",
     "output_type": "stream",
     "text": [
      "8.34 s ± 317 ms per loop (mean ± std. dev. of 7 runs, 1 loop each)\n"
     ]
    }
   ],
   "source": [
    "# List performance\n",
    "%timeit test_run(needlelist, haystacklist)"
   ]
  },
  {
   "cell_type": "code",
   "execution_count": 8,
   "metadata": {},
   "outputs": [
    {
     "name": "stdout",
     "output_type": "stream",
     "text": [
      "304 µs ± 30.2 µs per loop (mean ± std. dev. of 7 runs, 1000 loops each)\n"
     ]
    }
   ],
   "source": [
    "# Dict performance\n",
    "%timeit test_run(needledict.keys(), haystackdict.keys())"
   ]
  },
  {
   "cell_type": "code",
   "execution_count": 9,
   "metadata": {},
   "outputs": [
    {
     "name": "stdout",
     "output_type": "stream",
     "text": [
      "314 µs ± 13.9 µs per loop (mean ± std. dev. of 7 runs, 1000 loops each)\n"
     ]
    }
   ],
   "source": [
    "# Set performance\n",
    "%timeit test_run(needleset, haystackset)"
   ]
  },
  {
   "cell_type": "code",
   "execution_count": 10,
   "metadata": {},
   "outputs": [
    {
     "name": "stdout",
     "output_type": "stream",
     "text": [
      "165 µs ± 5.25 µs per loop (mean ± std. dev. of 7 runs, 10000 loops each)\n"
     ]
    }
   ],
   "source": [
    "# Set performance alternative to above - quicker bc uses optimized set logic\n",
    "%timeit len(needleset & haystackset)"
   ]
  },
  {
   "cell_type": "code",
   "execution_count": 11,
   "metadata": {},
   "outputs": [
    {
     "data": {
      "text/plain": [
       "True"
      ]
     },
     "execution_count": 11,
     "metadata": {},
     "output_type": "execute_result"
    }
   ],
   "source": [
    "## proof that all are equivalent\n",
    "test_run(needlelist, haystacklist) == test_run(needledict.keys(), haystackdict.keys()) == \\\n",
    "test_run(needleset, haystackset) == len(needleset & haystackset)"
   ]
  },
  {
   "cell_type": "code",
   "execution_count": 12,
   "metadata": {},
   "outputs": [
    {
     "data": {
      "image/png": "[encoded data removed]",
      "text/plain": [
       "<matplotlib.figure.Figure at 0x11477a9e8>"
      ]
     },
     "metadata": {},
     "output_type": "display_data"
    }
   ],
   "source": [
    "%matplotlib inline\n",
    "import matplotlib.pyplot as plt\n",
    "\n",
    "plt.bar(range(3), [1, 9.86/(187*10**-6), 9.86/(180*10**-6)], tick_label = ['list', 'dict', 'set'], align='center')\n",
    "plt.ylabel('relative speed (higher=faster)')\n",
    "plt.title('List vs Dict vs Set');"
   ]
  }
 ],
 "metadata": {
  "anaconda-cloud": {},
  "kernelspec": {
   "display_name": "Python [default]",
   "language": "python",
   "name": "python3"
  },
  "language_info": {
   "codemirror_mode": {
    "name": "ipython",
    "version": 3
   },
   "file_extension": ".py",
   "mimetype": "text/x-python",
   "name": "python",
   "nbconvert_exporter": "python",
   "pygments_lexer": "ipython3",
   "version": "3.5.4"
  }
 },
 "nbformat": 4,
 "nbformat_minor": 1
}
