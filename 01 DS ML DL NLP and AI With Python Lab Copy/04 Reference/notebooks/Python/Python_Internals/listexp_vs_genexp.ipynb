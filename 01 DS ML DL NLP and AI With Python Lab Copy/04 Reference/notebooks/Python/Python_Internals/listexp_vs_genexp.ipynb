{
 "cells": [
  {
   "cell_type": "code",
   "execution_count": 1,
   "metadata": {
    "collapsed": true
   },
   "outputs": [],
   "source": [
    "from itertools import cycle"
   ]
  },
  {
   "cell_type": "code",
   "execution_count": 2,
   "metadata": {
    "collapsed": true
   },
   "outputs": [],
   "source": [
    "lst = [x for x in range(int(1e6))]"
   ]
  },
  {
   "cell_type": "code",
   "execution_count": 3,
   "metadata": {},
   "outputs": [
    {
     "name": "stdout",
     "output_type": "stream",
     "text": [
      "499999500000\n",
      "499999500000\n",
      "499999500000\n",
      "499999500000\n",
      "499999500000\n",
      "499999500000\n",
      "499999500000\n",
      "499999500000\n",
      "499999500000\n",
      "499999500000\n",
      "499999500000\n",
      "499999500000\n",
      "499999500000\n",
      "499999500000\n",
      "499999500000\n",
      "499999500000\n",
      "499999500000\n",
      "499999500000\n",
      "499999500000\n",
      "499999500000\n",
      "499999500000\n",
      "499999500000\n",
      "499999500000\n",
      "499999500000\n",
      "499999500000\n",
      "499999500000\n",
      "499999500000\n",
      "499999500000\n",
      "499999500000\n",
      "499999500000\n",
      "499999500000\n",
      "499999500000\n",
      "499999500000\n",
      "499999500000\n",
      "499999500000\n",
      "499999500000\n",
      "499999500000\n",
      "499999500000\n",
      "499999500000\n",
      "499999500000\n",
      "499999500000\n",
      "499999500000\n",
      "499999500000\n",
      "499999500000\n",
      "499999500000\n",
      "499999500000\n",
      "499999500000\n",
      "499999500000\n",
      "499999500000\n",
      "499999500000\n",
      "499999500000\n",
      "499999500000\n",
      "499999500000\n",
      "499999500000\n",
      "499999500000\n",
      "499999500000\n",
      "499999500000\n",
      "499999500000\n",
      "499999500000\n",
      "499999500000\n",
      "499999500000\n",
      "499999500000\n",
      "499999500000\n",
      "499999500000\n",
      "499999500000\n",
      "499999500000\n",
      "499999500000\n",
      "499999500000\n",
      "499999500000\n",
      "499999500000\n",
      "499999500000\n",
      "499999500000\n",
      "499999500000\n",
      "499999500000\n",
      "499999500000\n",
      "499999500000\n",
      "499999500000\n",
      "499999500000\n",
      "499999500000\n",
      "499999500000\n",
      "499999500000\n",
      "148 ms ± 2.65 ms per loop (mean ± std. dev. of 7 runs, 10 loops each)\n"
     ]
    }
   ],
   "source": [
    "%%timeit\n",
    "mysum = 0\n",
    "for el in lst:\n",
    "    mysum += el\n",
    "print(mysum)"
   ]
  },
  {
   "cell_type": "code",
   "execution_count": 4,
   "metadata": {},
   "outputs": [],
   "source": [
    "gen = cycle((x for x in range(int(1e6))))"
   ]
  },
  {
   "cell_type": "code",
   "execution_count": 5,
   "metadata": {},
   "outputs": [
    {
     "name": "stdout",
     "output_type": "stream",
     "text": [
      "499999500000\n",
      "499999500000\n",
      "499999500000\n",
      "499999500000\n",
      "499999500000\n",
      "499999500000\n",
      "499999500000\n",
      "499999500000\n",
      "279 ms ± 17.9 ms per loop (mean ± std. dev. of 7 runs, 1 loop each)\n"
     ]
    }
   ],
   "source": [
    "%%timeit\n",
    "mysum = 0\n",
    "for i in lst:\n",
    "    mysum += next(gen)\n",
    "print(mysum)"
   ]
  },
  {
   "cell_type": "code",
   "execution_count": 6,
   "metadata": {
    "collapsed": true
   },
   "outputs": [],
   "source": [
    "def gen():\n",
    "    while True:\n",
    "        yield 1"
   ]
  },
  {
   "cell_type": "code",
   "execution_count": 7,
   "metadata": {},
   "outputs": [],
   "source": [
    "gen2 = gen()"
   ]
  },
  {
   "cell_type": "code",
   "execution_count": 8,
   "metadata": {},
   "outputs": [
    {
     "name": "stdout",
     "output_type": "stream",
     "text": [
      "1\n",
      "1\n",
      "1\n",
      "1\n",
      "1\n",
      "1\n",
      "1\n",
      "1\n",
      "1\n",
      "1\n"
     ]
    }
   ],
   "source": [
    "for i in range(10):\n",
    "    print(next(gen2))"
   ]
  },
  {
   "cell_type": "code",
   "execution_count": 9,
   "metadata": {},
   "outputs": [
    {
     "name": "stdout",
     "output_type": "stream",
     "text": [
      "1000000\n",
      "1000000\n",
      "1000000\n",
      "1000000\n",
      "1000000\n",
      "1000000\n",
      "1000000\n",
      "1000000\n",
      "353 ms ± 14.6 ms per loop (mean ± std. dev. of 7 runs, 1 loop each)\n"
     ]
    }
   ],
   "source": [
    "%%timeit\n",
    "mysum = 0\n",
    "for i in lst:\n",
    "    mysum += next(gen2)\n",
    "print(mysum)"
   ]
  }
 ],
 "metadata": {
  "kernelspec": {
   "display_name": "Python [conda root]",
   "language": "python",
   "name": "conda-root-py"
  },
  "language_info": {
   "codemirror_mode": {
    "name": "ipython",
    "version": 3
   },
   "file_extension": ".py",
   "mimetype": "text/x-python",
   "name": "python",
   "nbconvert_exporter": "python",
   "pygments_lexer": "ipython3",
   "version": "3.5.4"
  }
 },
 "nbformat": 4,
 "nbformat_minor": 2
}
