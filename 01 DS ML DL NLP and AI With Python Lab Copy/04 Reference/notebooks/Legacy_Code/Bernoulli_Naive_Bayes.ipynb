{
 "cells": [
  {
   "cell_type": "code",
   "execution_count": 1,
   "metadata": {},
   "outputs": [],
   "source": [
    "import numpy as np"
   ]
  },
  {
   "cell_type": "code",
   "execution_count": 2,
   "metadata": {},
   "outputs": [],
   "source": [
    "def create_dataset(n_rows=10, n_cols=2, prob=(0.5, 0.5), seed=None):\n",
    "    '''\n",
    "    creates a 2D numpy array with 0s and 1s for columns\n",
    "    \n",
    "    INPUT:\n",
    "        n_rows = (int) number of rows in dataset\n",
    "        n_cols = (int) number of columns starting with target followed by features\n",
    "        prob = (tuple) probability of success for target, feature 1, feature 2, ..., feature n\n",
    "    OUTPUT:\n",
    "        dataset (numpy array)\n",
    "    '''\n",
    "    # error handling\n",
    "    assert type(n_rows) == int, 'n_rows must be an integer'\n",
    "    assert type(n_cols) == int, 'n_cols must be an integer'\n",
    "    assert type(prob) == tuple, 'prob must be a tuple of probabilities'\n",
    "    assert len(prob) == n_cols, 'tuple must contain probabilities for each n_col'\n",
    "    assert type(seed) == int, 'seed must be an integer'\n",
    "    \n",
    "    # reproducibility\n",
    "    if seed:\n",
    "        np.random.seed(seed)\n",
    "        \n",
    "    # create dataset\n",
    "    for i, p in enumerate(prob):\n",
    "        if i < 1:\n",
    "            dataset = np.random.binomial(n=1, p=prob[i], size=n_rows)\n",
    "        else:\n",
    "            column = np.random.binomial(n=1, p=prob[i], size=n_rows)\n",
    "            dataset = np.c_[dataset, column]\n",
    "    \n",
    "    return dataset"
   ]
  },
  {
   "cell_type": "code",
   "execution_count": 3,
   "metadata": {},
   "outputs": [],
   "source": [
    "probabilities = (0.5, 0.5, 0.5, 0.5)\n",
    "data = create_dataset(n_rows=4, n_cols=4, prob=probabilities, seed=42)"
   ]
  },
  {
   "cell_type": "code",
   "execution_count": 4,
   "metadata": {},
   "outputs": [
    {
     "data": {
      "text/plain": [
       "array([[0, 0, 1, 1],\n",
       "       [1, 0, 1, 0],\n",
       "       [1, 0, 0, 0],\n",
       "       [1, 1, 1, 0]])"
      ]
     },
     "execution_count": 4,
     "metadata": {},
     "output_type": "execute_result"
    }
   ],
   "source": [
    "data"
   ]
  },
  {
   "cell_type": "code",
   "execution_count": 5,
   "metadata": {},
   "outputs": [],
   "source": [
    "X = data[:, 1:]\n",
    "y = data[:, 0]"
   ]
  },
  {
   "cell_type": "code",
   "execution_count": 6,
   "metadata": {},
   "outputs": [
    {
     "data": {
      "text/plain": [
       "array([[0, 1, 1],\n",
       "       [0, 1, 0],\n",
       "       [0, 0, 0],\n",
       "       [1, 1, 0]])"
      ]
     },
     "execution_count": 6,
     "metadata": {},
     "output_type": "execute_result"
    }
   ],
   "source": [
    "X"
   ]
  },
  {
   "cell_type": "code",
   "execution_count": 7,
   "metadata": {},
   "outputs": [],
   "source": [
    "class BernoulliNB:\n",
    "    \n",
    "    \n",
    "    def __init__(self):\n",
    "        self.prob_target_one_ = None\n",
    "        self.prob_target_zero_ = None\n",
    "     \n",
    "    \n",
    "    def _reshape(self, X):\n",
    "        '''converts array to appropriate dimensions'''\n",
    "        try:\n",
    "            n_cols = X.shape[1]\n",
    "        except:\n",
    "            n_cols = X.reshape(-1,1)\n",
    "        return n_cols\n",
    "    \n",
    "    \n",
    "    def fit(self, X, y):\n",
    "        '''calculate priors and likelihoods'''\n",
    "        # setup\n",
    "        n_classes = len(np.unique(y))\n",
    "        n_cols = self._reshape(X)\n",
    "        \n",
    "        # priors (target)\n",
    "        self.prob_target_one_ = np.mean(y)\n",
    "        self.prob_target_zero_ = 1 - self.prob_target_one_\n",
    "        \n",
    "        # likelihoods (features)\n",
    "        n_feature_bins = 2\n",
    "        self.prob_features_ = np.zeros((n_feature_bins, n_cols), dtype=float)\n",
    "        \n",
    "        for i in range(n_feature_bins):\n",
    "            for j in range(n_cols):\n",
    "                column = X[:,j]\n",
    "                intersection_y_and_col = sum(np.logical_and(y==i, column==i))\n",
    "                sum_y = sum(y==i)\n",
    "                self.prob_features_[i,j] = intersection_y_and_col / sum_y\n",
    "        \n",
    "        prob_complements = 1 - self.prob_features_\n",
    "        self.prob_features_ = np.concatenate((nb.prob_features_, prob_complements), axis=0)\n",
    "        self.prob_features_ = self.prob_features_[[0,2,3,1],:] # rearrange array\n",
    "    \n",
    "    \n",
    "    def predict(self, X):\n",
    "        '''return most likely class'''\n",
    "        # NEED MULTIPLE PREDICTIONS\n",
    "        \n",
    "        # setup\n",
    "        X = np.array(X)\n",
    "        n_rows = X.shape[0]\n",
    "        try: \n",
    "            n_cols = X.shape[1] \n",
    "        except: \n",
    "            n_cols = X.shape[0]\n",
    "        class_zero_probs,  class_one_probs = np.split(nb.prob_features_, 2)\n",
    "        \n",
    "        # likelihoods\n",
    "        class_zero_likelihoods = class_zero_probs[X, np.arange(n_cols)]\n",
    "        class_one_likelihoods = class_one_probs[X, np.arange(n_cols)]\n",
    "            \n",
    "        # posteriors\n",
    "        class_zero_posterior = self.prob_target_zero_ * np.prod(class_zero_likelihoods)\n",
    "        class_one_posterior = self.prob_target_one_ * np.prod(class_one_likelihoods)\n",
    "\n",
    "        return (class_zero_posterior, class_one_posterior), np.argmax((class_zero_posterior, class_one_posterior))"
   ]
  },
  {
   "cell_type": "code",
   "execution_count": 8,
   "metadata": {},
   "outputs": [],
   "source": [
    "nb = BernoulliNB()\n",
    "nb.fit(X,y)"
   ]
  },
  {
   "cell_type": "code",
   "execution_count": 9,
   "metadata": {},
   "outputs": [
    {
     "data": {
      "text/plain": [
       "array([[ 1.        ,  0.        ,  0.        ],\n",
       "       [ 0.        ,  1.        ,  1.        ],\n",
       "       [ 0.66666667,  0.33333333,  1.        ],\n",
       "       [ 0.33333333,  0.66666667,  0.        ]])"
      ]
     },
     "execution_count": 9,
     "metadata": {},
     "output_type": "execute_result"
    }
   ],
   "source": [
    "nb.prob_features_"
   ]
  },
  {
   "cell_type": "code",
   "execution_count": 10,
   "metadata": {},
   "outputs": [
    {
     "data": {
      "text/plain": [
       "((0.0, 0.083333333333333343), 1)"
      ]
     },
     "execution_count": 10,
     "metadata": {},
     "output_type": "execute_result"
    }
   ],
   "source": [
    "nb.predict(np.array([1,0,0]))"
   ]
  },
  {
   "cell_type": "code",
   "execution_count": null,
   "metadata": {},
   "outputs": [],
   "source": []
  }
 ],
 "metadata": {
  "kernelspec": {
   "display_name": "Python [conda root]",
   "language": "python",
   "name": "conda-root-py"
  },
  "language_info": {
   "codemirror_mode": {
    "name": "ipython",
    "version": 3
   },
   "file_extension": ".py",
   "mimetype": "text/x-python",
   "name": "python",
   "nbconvert_exporter": "python",
   "pygments_lexer": "ipython3",
   "version": "3.5.4"
  }
 },
 "nbformat": 4,
 "nbformat_minor": 2
}
