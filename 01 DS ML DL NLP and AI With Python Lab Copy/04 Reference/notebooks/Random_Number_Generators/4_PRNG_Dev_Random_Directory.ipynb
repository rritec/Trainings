{
 "cells": [
  {
   "cell_type": "code",
   "execution_count": 1,
   "metadata": {
    "collapsed": true
   },
   "outputs": [],
   "source": [
    "import os"
   ]
  },
  {
   "cell_type": "markdown",
   "metadata": {},
   "source": [
    "## Accessing dev/random"
   ]
  },
  {
   "cell_type": "code",
   "execution_count": 16,
   "metadata": {},
   "outputs": [
    {
     "data": {
      "text/plain": [
       "b'\\xdb/T1i\\xdc\\x89\\xe0Q5'"
      ]
     },
     "execution_count": 16,
     "metadata": {},
     "output_type": "execute_result"
    }
   ],
   "source": [
    "# Return a bytes object containing random bytes suitable for cryptographic use.\n",
    "rand = os.urandom(10)\n",
    "rand"
   ]
  },
  {
   "cell_type": "markdown",
   "metadata": {},
   "source": [
    "## Function"
   ]
  },
  {
   "cell_type": "code",
   "execution_count": 17,
   "metadata": {
    "collapsed": true
   },
   "outputs": [],
   "source": [
    "def bytes2decimal(byte_obj):\n",
    "    '''Takes bytes object and returns decimal equivalent.'''\n",
    "    return int.from_bytes(rand, byteorder='big')"
   ]
  },
  {
   "cell_type": "markdown",
   "metadata": {},
   "source": [
    "## Example"
   ]
  },
  {
   "cell_type": "code",
   "execution_count": 18,
   "metadata": {},
   "outputs": [
    {
     "data": {
      "text/plain": [
       "1035071323466485622395189"
      ]
     },
     "execution_count": 18,
     "metadata": {},
     "output_type": "execute_result"
    }
   ],
   "source": [
    "b2d = bytes2decimal(rand)\n",
    "b2d"
   ]
  },
  {
   "cell_type": "markdown",
   "metadata": {},
   "source": [
    "## Multiple Examples"
   ]
  },
  {
   "cell_type": "code",
   "execution_count": 19,
   "metadata": {},
   "outputs": [
    {
     "name": "stdout",
     "output_type": "stream",
     "text": [
      "b'\\x19\\x10cd\\x99'         107649131673\n",
      "b'\\x19\\xa2\\x7fx\\xa8'      110100445352\n",
      "b'\"T\\xdfM\\xb9'            147452808633\n",
      "b'\\xff\\x85O\\x83\\xcf'      1097453241295\n",
      "b'\\x1d\\xddE\\x9e\\\\'        128266378844\n",
      "b'\\xa1\\x80%\\xf4\\x0b'      693639705611\n",
      "b'#gxPy'                  152059793529\n",
      "b\"\\xfa\\xd5'%\\x87\"         1077317936519\n",
      "b'\\x83\\x06 1t'            562743488884\n",
      "b'D4@I\\x88'               292934404488\n",
      "b'\\xe7\\xffR\\x9d\\x07'      996421049607\n",
      "b'\\xad\\xca\\x8e#\\r'        746427654925\n",
      "b'\\x0bM{\\x8e\\xec'         48544583404\n",
      "b'E\\x9b\\x99\\xc3\\xfe'      298963289086\n",
      "b'\\x98a17O'               654465644367\n",
      "b'\\x1ck\\xa7\\xa7\\xb9'      122065233849\n",
      "b'\\x17g\\x8cS\\x8c'         100521497484\n",
      "b'\\xa9\\xdf=Dh'            729594807400\n",
      "b'\\xfdR%c\\x1c'            1088004907804\n",
      "b'\\x1c\\xf2\\xcd \\x86'      124332613766\n"
     ]
    }
   ],
   "source": [
    "for _ in range(20):\n",
    "    rand = os.urandom(5)\n",
    "    print('{0:25} {1}'.format(str(rand), bytes2decimal(rand)))"
   ]
  }
 ],
 "metadata": {
  "kernelspec": {
   "display_name": "Python [conda root]",
   "language": "python",
   "name": "conda-root-py"
  },
  "language_info": {
   "codemirror_mode": {
    "name": "ipython",
    "version": 3
   },
   "file_extension": ".py",
   "mimetype": "text/x-python",
   "name": "python",
   "nbconvert_exporter": "python",
   "pygments_lexer": "ipython3",
   "version": "3.5.4"
  }
 },
 "nbformat": 4,
 "nbformat_minor": 2
}
