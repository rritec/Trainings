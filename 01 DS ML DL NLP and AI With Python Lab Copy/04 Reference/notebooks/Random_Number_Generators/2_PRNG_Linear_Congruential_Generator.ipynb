{
 "cells": [
  {
   "cell_type": "markdown",
   "metadata": {},
   "source": [
    "Wikipedia link: [linear congruential generator](https://en.wikipedia.org/wiki/Linear_congruential_generator_)\n",
    "\n",
    "Wikipedia description: \n",
    "> A linear congruential generator (LCG) is an algorithm that yields a sequence of pseudo-randomized numbers calculated with a discontinuous piecewise linear equation. The method represents one of the oldest and best-known pseudorandom number generator algorithms. The theory behind them is relatively easy to understand, and they are easily implemented and fast, especially on computer hardware which can provide modulo arithmetic by storage-bit truncation.\n",
    "\n",
    "The generator is defined by the recurrence relation:\n",
    "\n",
    "X$_{n+1}$ = (aX$_{n}$+c) mod m\n",
    "\n",
    "where X is the sequence of pseudorandom values and\n",
    "- m is the modulus (0 $<$ m)\n",
    "- a is the multiplier (0 $<$ a $<$ m)\n",
    "- c is the increment (0 $\\leq$ c $<$ m)\n",
    "- X$_{o}$ is the seed value (0 $\\leq$ X$_{o}$ < m)\n",
    "\n",
    "all of which are integer values."
   ]
  },
  {
   "cell_type": "code",
   "execution_count": 1,
   "metadata": {
    "collapsed": true
   },
   "outputs": [],
   "source": [
    "def lcg(m, a, c, seed):\n",
    "    '''linear congruential generator that pseudorandomly generates numbers.\n",
    "    \n",
    "    In:\n",
    "        m = (+ int) modulus\n",
    "        a = (+ int) multiplier\n",
    "        c = (nonnegative int) increment\n",
    "        seed = (nonnegative int) initial value\n",
    "    Out:\n",
    "        single random number\n",
    "    '''\n",
    "    \n",
    "    # type and value checks\n",
    "    assert type(m) == int, \"'m' must be an integer\"\n",
    "    assert m > 0, \"'m' must be an int greater than 0\"\n",
    "    assert type(a) == int, \"'a' must be an integer\"\n",
    "    assert a > 0, \"'a' must be an int greater than 0\"\n",
    "    assert type(c) == int, \"'c' must be an integer\"\n",
    "    assert c >= 0, \"'c' must be an int greater than 0\"\n",
    "    assert type(seed) == int, \"'seed' must be an integer\"\n",
    "    assert seed >= 0, \"'seed' must be an int greater than 0\"\n",
    "    \n",
    "    # algorithm\n",
    "    X_n = seed\n",
    "    while True:\n",
    "        X_n = (a * X_n + c) % m\n",
    "        yield X_n"
   ]
  },
  {
   "cell_type": "code",
   "execution_count": 2,
   "metadata": {
    "collapsed": true
   },
   "outputs": [],
   "source": [
    "def auto_print(implementation, number):\n",
    "    for _ in range(number):\n",
    "        print(next(implementation)) "
   ]
  },
  {
   "cell_type": "markdown",
   "metadata": {},
   "source": [
    "#### Basic Implementation"
   ]
  },
  {
   "cell_type": "code",
   "execution_count": 3,
   "metadata": {},
   "outputs": [
    {
     "name": "stdout",
     "output_type": "stream",
     "text": [
      "12\n",
      "27\n",
      "8\n",
      "30\n",
      "29\n",
      "22\n",
      "4\n",
      "2\n",
      "19\n",
      "14\n",
      "10\n",
      "13\n",
      "3\n",
      "26\n",
      "1\n",
      "12\n",
      "27\n",
      "8\n",
      "30\n",
      "29\n"
     ]
    }
   ],
   "source": [
    "basic = lcg(m=31, a=7, c=5, seed=1)\n",
    "auto_print(basic, 20)"
   ]
  },
  {
   "cell_type": "markdown",
   "metadata": {},
   "source": [
    "#### There's a Problem: Parameter Choice Matters"
   ]
  },
  {
   "cell_type": "code",
   "execution_count": 4,
   "metadata": {},
   "outputs": [
    {
     "name": "stdout",
     "output_type": "stream",
     "text": [
      "1\n",
      "3\n",
      "7\n",
      "15\n",
      "0\n",
      "1\n",
      "3\n",
      "7\n",
      "15\n",
      "0\n",
      "1\n",
      "3\n",
      "7\n",
      "15\n",
      "0\n",
      "1\n",
      "3\n",
      "7\n",
      "15\n",
      "0\n"
     ]
    }
   ],
   "source": [
    "problem = lcg(m=31, a=2, c=1, seed=0)\n",
    "auto_print(problem, 20)"
   ]
  },
  {
   "cell_type": "markdown",
   "metadata": {},
   "source": [
    "**Explanation:** a poor choice of parameters leads to a short period length. Once the period length, or cycle, is known, it is trivially to make predictions. This means the numbers generated are no longer random."
   ]
  },
  {
   "cell_type": "markdown",
   "metadata": {},
   "source": [
    "#### Lehmer Implementation (c=0)"
   ]
  },
  {
   "cell_type": "code",
   "execution_count": 5,
   "metadata": {},
   "outputs": [
    {
     "name": "stdout",
     "output_type": "stream",
     "text": [
      "16807\n",
      "282475249\n",
      "1622650073\n",
      "984943658\n",
      "1144108930\n",
      "470211272\n",
      "101027544\n",
      "1457850878\n",
      "1458777923\n",
      "2007237709\n",
      "823564440\n",
      "1115438165\n",
      "1784484492\n",
      "74243042\n",
      "114807987\n",
      "1137522503\n",
      "1441282327\n",
      "16531729\n",
      "823378840\n",
      "143542612\n"
     ]
    }
   ],
   "source": [
    "lehmer = lcg(m=2147483647, a=16807, c=0, seed=1)\n",
    "auto_print(lehmer, 20)"
   ]
  },
  {
   "cell_type": "markdown",
   "metadata": {},
   "source": [
    "**Note:** this Lehmer implementation uses a Mersenne Prime (a prime that is 1 less than a power of two: 2$^n$ - 1)."
   ]
  },
  {
   "cell_type": "markdown",
   "metadata": {
    "collapsed": true
   },
   "source": [
    "## Advantages\n",
    "\n",
    "- Fast\n",
    "- Minimal memory to retain state\n",
    "- Great for embedded systems and video games \n",
    "\n",
    "## Disadvantages\n",
    "\n",
    "- Serial correlation of sequence (see Marsaglia's Theorem)\n",
    "- Short period of the low-order bits when m is chosen to be a power of 2\n",
    "- Not suitable for a Monte Carlo simulation\n",
    "- Must not be used for cryptographic applications\n",
    "\n",
    "## Final Notes\n",
    "\n",
    "The low-order bits of LCGs when m is a power of 2 should never be relied on for any degree of randomness whatsoever. Indeed, simply substituting 2$^n$ for the modulus term reveals that the low order bits go through very short cycles. In particular, any full-cycle LCG when m is a power of 2 will produce alternately odd and even results."
   ]
  }
 ],
 "metadata": {
  "kernelspec": {
   "display_name": "Python [conda root]",
   "language": "python",
   "name": "conda-root-py"
  },
  "language_info": {
   "codemirror_mode": {
    "name": "ipython",
    "version": 3
   },
   "file_extension": ".py",
   "mimetype": "text/x-python",
   "name": "python",
   "nbconvert_exporter": "python",
   "pygments_lexer": "ipython3",
   "version": "3.5.4"
  }
 },
 "nbformat": 4,
 "nbformat_minor": 2
}
