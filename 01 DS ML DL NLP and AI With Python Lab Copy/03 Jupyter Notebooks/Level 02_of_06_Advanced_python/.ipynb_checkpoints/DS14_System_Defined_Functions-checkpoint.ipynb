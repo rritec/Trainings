{
 "cells": [
  {
   "cell_type": "markdown",
   "metadata": {
    "colab_type": "text",
    "id": "TnyzHsKJXDOd"
   },
   "source": [
    "# In Core level of the python we learned\n",
    "-----------\n",
    "- The difference between `Markdown` and `python code` of language\n",
    "- Different **IDEs** \n",
    "    - Spyder    \n",
    "    - Visual Studio Code\n",
    "    - Jupyter\n",
    "    - etc\n",
    "- Markdown language basic commands\n",
    "    - 6 Types of Headings\n",
    "    - Emphasis(Bold,italic and Strike out)\n",
    "    - Sequence Numbers ,Bullet points\n",
    "    - URL\n",
    "    - Image\n",
    "    - Video Embeding\n",
    "    - Table     \n",
    "    - [for more refer](https://help.github.com/articles/basic-writing-and-formatting-syntax/)\n",
    "    \n",
    "    \n",
    "    \n",
    "    \n",
    "- How to write Python code in normal `notepad`\n",
    "- How to write Python code in  `spyder`\n",
    "- How to write Python code in  `Visual Studio Code`\n",
    "- How to write Python code in  in `jupyter`\n",
    "\n",
    "- Different Python Objects\n",
    "    - int\n",
    "    - float\n",
    "    - complex\n",
    "    - str\n",
    "    - bool\n",
    "    - list\n",
    "    - Dict\n",
    "    - Tuple\n",
    "    - Set\n",
    "    - range\n",
    "    - DataFrame\n",
    "    - ..etc\n",
    "    \n",
    "- Mutable Vs Immutable\n",
    "- Read items of str /list/Dict/Tuple/Set/range ..etc\n",
    "    - index\n",
    "    - slice\n",
    "    - fancy\n",
    "- Operators\n",
    "    - Comparision(>,<,>=,<=,...)\n",
    "    - Logical/bool(and/or/not)\n",
    "    - Numpy logical (logical_and/logical_or/logical_not)\n",
    "- Control Flows\n",
    "    - if elif elif ... else\n",
    "    - while loop\n",
    "        - break\n",
    "        - cotinue\n",
    "    - for loop       "
   ]
  },
  {
   "cell_type": "markdown",
   "metadata": {
    "colab_type": "text",
    "id": "aZ6lE6KIXDOi"
   },
   "source": [
    "# System Defined Functions\n",
    "-----\n",
    "- we already learned some system defined function in core python ,those are\n",
    "    - type --> to know the data type of object\n",
    "    - int --> if possible to convert anything into int\n",
    "    - float --> if possible to convert anything into float\n",
    "    - complex --> if possible to convert anything into complex\n",
    "    - str --> To convert anything into str\n",
    "    - bool --> if possible to convert anything into bool\n",
    "    - list  --> to create a new list /if possible convert anything into list\n",
    "    - enumarate --> to capture index and value of object items\n",
    "    - range --> to generate some sequence of numbers\n",
    "    - slice --> continious a bunch of items"
   ]
  },
  {
   "cell_type": "markdown",
   "metadata": {
    "colab_type": "text",
    "id": "-mE9sR5oXDOm"
   },
   "source": [
    "# let us talk about system defined functions"
   ]
  },
  {
   "cell_type": "code",
   "execution_count": 0,
   "metadata": {
    "colab": {},
    "colab_type": "code",
    "id": "sjCwmd3NXDOp",
    "outputId": "f25f17c1-85ac-49b5-e1d7-b4c4e39bb80a"
   },
   "outputs": [
    {
     "data": {
      "text/plain": [
       "[1, 3, 5, 7, 9, 11]"
      ]
     },
     "execution_count": 4,
     "metadata": {
      "tags": []
     },
     "output_type": "execute_result"
    }
   ],
   "source": [
    "list(range(1,12,2))"
   ]
  },
  {
   "cell_type": "code",
   "execution_count": 0,
   "metadata": {
    "colab": {},
    "colab_type": "code",
    "id": "5cD9AjZoXDPF"
   },
   "outputs": [],
   "source": [
    "a_list = list(range(10,30,2))"
   ]
  },
  {
   "cell_type": "code",
   "execution_count": 0,
   "metadata": {
    "colab": {},
    "colab_type": "code",
    "id": "XEdKLGt9XDPR",
    "outputId": "cace1f59-0f5b-4e29-b0ec-5d518b1cf81e"
   },
   "outputs": [
    {
     "data": {
      "text/plain": [
       "[10, 12, 14, 16, 18, 20, 22, 24, 26, 28]"
      ]
     },
     "execution_count": 2,
     "metadata": {
      "tags": []
     },
     "output_type": "execute_result"
    }
   ],
   "source": [
    "a_list"
   ]
  },
  {
   "cell_type": "code",
   "execution_count": 0,
   "metadata": {
    "colab": {},
    "colab_type": "code",
    "id": "j9L4rngYXDPg",
    "outputId": "d4d7256c-6e26-4f3e-e24f-3799d41be2eb"
   },
   "outputs": [
    {
     "data": {
      "text/plain": [
       "10"
      ]
     },
     "execution_count": 3,
     "metadata": {
      "tags": []
     },
     "output_type": "execute_result"
    }
   ],
   "source": [
    "len(a_list) # len is a system defined function"
   ]
  },
  {
   "cell_type": "code",
   "execution_count": 0,
   "metadata": {
    "colab": {},
    "colab_type": "code",
    "id": "Zj5xPFmIXDPv"
   },
   "outputs": [],
   "source": [
    "max?"
   ]
  },
  {
   "cell_type": "code",
   "execution_count": 0,
   "metadata": {
    "colab": {},
    "colab_type": "code",
    "id": "K4vKLF7WXDP6",
    "outputId": "cb7c5c2e-2d3b-460d-a7f3-17da4bad76cb"
   },
   "outputs": [
    {
     "data": {
      "text/plain": [
       "28"
      ]
     },
     "execution_count": 4,
     "metadata": {
      "tags": []
     },
     "output_type": "execute_result"
    }
   ],
   "source": [
    "max(a_list)"
   ]
  },
  {
   "cell_type": "code",
   "execution_count": 0,
   "metadata": {
    "colab": {},
    "colab_type": "code",
    "id": "65sRwW0pXDQJ"
   },
   "outputs": [],
   "source": [
    "min?"
   ]
  },
  {
   "cell_type": "code",
   "execution_count": 0,
   "metadata": {
    "colab": {},
    "colab_type": "code",
    "id": "gKwlgCGiXDQU",
    "outputId": "72bd68fd-c36f-4778-c6e8-e1e1817a1f8c"
   },
   "outputs": [
    {
     "data": {
      "text/plain": [
       "10"
      ]
     },
     "execution_count": 5,
     "metadata": {
      "tags": []
     },
     "output_type": "execute_result"
    }
   ],
   "source": [
    "min(a_list)"
   ]
  },
  {
   "cell_type": "code",
   "execution_count": 0,
   "metadata": {
    "colab": {},
    "colab_type": "code",
    "id": "lkWHex3uXDQm",
    "outputId": "8b433f70-5247-442a-b670-5245b64fb280"
   },
   "outputs": [
    {
     "data": {
      "text/plain": [
       "list"
      ]
     },
     "execution_count": 6,
     "metadata": {
      "tags": []
     },
     "output_type": "execute_result"
    }
   ],
   "source": [
    "type(a_list)"
   ]
  },
  {
   "cell_type": "code",
   "execution_count": 0,
   "metadata": {
    "colab": {},
    "colab_type": "code",
    "id": "L9QTfJmgXDQ1",
    "outputId": "f3b27c97-76ef-4b39-ab4c-583c919c8f35"
   },
   "outputs": [
    {
     "name": "stderr",
     "output_type": "stream",
     "text": [
      "C:\\Anaconda3\\lib\\site-packages\\h5py\\__init__.py:34: FutureWarning: Conversion of the second argument of issubdtype from `float` to `np.floating` is deprecated. In future, it will be treated as `np.float64 == np.dtype(float).type`.\n",
      "  from ._conv import register_converters as _register_converters\n",
      "Using TensorFlow backend.\n"
     ]
    }
   ],
   "source": [
    "from keras.layers import Conv2D"
   ]
  },
  {
   "cell_type": "code",
   "execution_count": 0,
   "metadata": {
    "colab": {},
    "colab_type": "code",
    "id": "trA9T8hZXDRC"
   },
   "outputs": [],
   "source": [
    "Conv2D?"
   ]
  },
  {
   "cell_type": "code",
   "execution_count": 0,
   "metadata": {
    "colab": {},
    "colab_type": "code",
    "id": "SytoUjfwXDRP",
    "outputId": "c27744d4-dfae-410b-a993-e609f9bd6471"
   },
   "outputs": [
    {
     "data": {
      "text/plain": [
       "10"
      ]
     },
     "execution_count": 12,
     "metadata": {
      "tags": []
     },
     "output_type": "execute_result"
    }
   ],
   "source": [
    "int(10.33)"
   ]
  },
  {
   "cell_type": "code",
   "execution_count": 0,
   "metadata": {
    "colab": {},
    "colab_type": "code",
    "id": "cPSZpypgXDRl",
    "outputId": "86758ba7-0ae8-4062-d13e-20f8c6623ea1"
   },
   "outputs": [
    {
     "data": {
      "text/plain": [
       "10.0"
      ]
     },
     "execution_count": 13,
     "metadata": {
      "tags": []
     },
     "output_type": "execute_result"
    }
   ],
   "source": [
    "float(10)"
   ]
  },
  {
   "cell_type": "code",
   "execution_count": 0,
   "metadata": {
    "colab": {},
    "colab_type": "code",
    "id": "IZjN6uurXDR4",
    "outputId": "55b566d6-312f-49f1-cd1e-fc11dcb81e6f"
   },
   "outputs": [
    {
     "data": {
      "text/plain": [
       "True"
      ]
     },
     "execution_count": 14,
     "metadata": {
      "tags": []
     },
     "output_type": "execute_result"
    }
   ],
   "source": [
    "bool(1)"
   ]
  },
  {
   "cell_type": "code",
   "execution_count": 0,
   "metadata": {
    "colab": {},
    "colab_type": "code",
    "id": "3IwNuI-MXDSU",
    "outputId": "9789bf5e-4fdd-43e4-e188-910d76ef27e2"
   },
   "outputs": [
    {
     "data": {
      "text/plain": [
       "'10'"
      ]
     },
     "execution_count": 15,
     "metadata": {
      "tags": []
     },
     "output_type": "execute_result"
    }
   ],
   "source": [
    "str(10)"
   ]
  },
  {
   "cell_type": "code",
   "execution_count": 0,
   "metadata": {
    "colab": {},
    "colab_type": "code",
    "id": "1iCNBKgMXDSi",
    "outputId": "490a7238-ca62-4a3e-8c75-afb551ea8c8d"
   },
   "outputs": [
    {
     "data": {
      "text/plain": [
       "(1+0j)"
      ]
     },
     "execution_count": 16,
     "metadata": {
      "tags": []
     },
     "output_type": "execute_result"
    }
   ],
   "source": [
    "complex(1)"
   ]
  },
  {
   "cell_type": "code",
   "execution_count": 0,
   "metadata": {
    "colab": {},
    "colab_type": "code",
    "id": "LXSYM6nKXDSx",
    "outputId": "efbf69ca-4283-42bb-acbe-c793dadde787"
   },
   "outputs": [
    {
     "name": "stdout",
     "output_type": "stream",
     "text": [
      "Hello\n"
     ]
    }
   ],
   "source": [
    "print(\"Hello\") # python 2.x version # we used to write # print \"Hello\""
   ]
  },
  {
   "cell_type": "code",
   "execution_count": 0,
   "metadata": {
    "colab": {},
    "colab_type": "code",
    "id": "eldcyxcPXDTB"
   },
   "outputs": [],
   "source": []
  }
 ],
 "metadata": {
  "colab": {
   "name": "DS14_System_Defined_Functions.ipynb",
   "provenance": [],
   "version": "0.3.2"
  },
  "kernelspec": {
   "display_name": "Python 3",
   "language": "python",
   "name": "python3"
  },
  "language_info": {
   "codemirror_mode": {
    "name": "ipython",
    "version": 3
   },
   "file_extension": ".py",
   "mimetype": "text/x-python",
   "name": "python",
   "nbconvert_exporter": "python",
   "pygments_lexer": "ipython3",
   "version": "3.6.9"
  }
 },
 "nbformat": 4,
 "nbformat_minor": 1
}
