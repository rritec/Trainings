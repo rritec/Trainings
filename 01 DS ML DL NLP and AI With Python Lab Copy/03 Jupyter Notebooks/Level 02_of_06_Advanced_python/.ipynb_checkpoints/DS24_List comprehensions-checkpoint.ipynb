{
 "cells": [
  {
   "cell_type": "markdown",
   "metadata": {
    "colab_type": "text",
    "id": "JiLuxag9vHox"
   },
   "source": [
    "# List comprehensions [   ]\n",
    "- List comprehension is a simple way to define and create `list` in Python\n",
    "- In mathematics the square numbers of the natural numbers are $ \\{ x^2 |  {x} \\epsilon {N} \\} $ or the set of complex integers $ \\{ (x,y) | x \\epsilon {Z} , y \\epsilon Z \\}$\n",
    "- `Guido van Rossum` prefers list comprehensions and does not like lambda functions \n",
    "- List comprehension is a complete substitute for the lambda function as well as the functions map(), filter() and reduce()"
   ]
  },
  {
   "cell_type": "markdown",
   "metadata": {
    "colab_type": "text",
    "id": "VrKdreeuvHo2"
   },
   "source": [
    "## 1. Scenario: Find square of each list item"
   ]
  },
  {
   "cell_type": "markdown",
   "metadata": {
    "colab_type": "text",
    "id": "8Pulv_IAvHo4"
   },
   "source": [
    "### 1.1. Method 1: Using for loop"
   ]
  },
  {
   "cell_type": "code",
   "execution_count": 0,
   "metadata": {
    "colab": {},
    "colab_type": "code",
    "id": "zwa9zHycvHo6"
   },
   "outputs": [],
   "source": [
    "a_list = list(range(10,30,3))"
   ]
  },
  {
   "cell_type": "code",
   "execution_count": 0,
   "metadata": {
    "colab": {},
    "colab_type": "code",
    "id": "EWORz34YvHpF",
    "outputId": "c2b6e92f-fb46-476e-ae62-1f44ae543b47"
   },
   "outputs": [
    {
     "data": {
      "text/plain": [
       "[10, 13, 16, 19, 22, 25, 28]"
      ]
     },
     "execution_count": 2,
     "metadata": {
      "tags": []
     },
     "output_type": "execute_result"
    }
   ],
   "source": [
    "a_list"
   ]
  },
  {
   "cell_type": "code",
   "execution_count": 0,
   "metadata": {
    "colab": {},
    "colab_type": "code",
    "id": "zyp00H9PvHpX"
   },
   "outputs": [],
   "source": [
    "squares = []\n",
    "for i in a_list:\n",
    "    squares.append(i ** 2)\n",
    "    "
   ]
  },
  {
   "cell_type": "code",
   "execution_count": 0,
   "metadata": {
    "colab": {},
    "colab_type": "code",
    "id": "6YqWCbnYvHpg",
    "outputId": "9f30a315-47d4-49c5-a0b1-354e4134a4ea"
   },
   "outputs": [
    {
     "data": {
      "text/plain": [
       "[100, 169, 256, 361, 484, 625, 784]"
      ]
     },
     "execution_count": 4,
     "metadata": {
      "tags": []
     },
     "output_type": "execute_result"
    }
   ],
   "source": [
    "squares"
   ]
  },
  {
   "cell_type": "markdown",
   "metadata": {
    "colab_type": "text",
    "id": "c9UKZVk6vHpr"
   },
   "source": [
    "### 1.2. Method 2: using lambda functions"
   ]
  },
  {
   "cell_type": "code",
   "execution_count": 0,
   "metadata": {
    "colab": {},
    "colab_type": "code",
    "id": "RbKTdT1fvHpt",
    "outputId": "2071ba57-fe7b-40a3-f59e-e2e37963e04e"
   },
   "outputs": [
    {
     "data": {
      "text/plain": [
       "[100, 169, 256, 361, 484, 625, 784]"
      ]
     },
     "execution_count": 5,
     "metadata": {
      "tags": []
     },
     "output_type": "execute_result"
    }
   ],
   "source": [
    "list(map(lambda x:x**2,a_list))"
   ]
  },
  {
   "cell_type": "markdown",
   "metadata": {
    "colab_type": "text",
    "id": "5CRS1SWbvHp9"
   },
   "source": [
    "### 1.3. Method 3: Using List Comprehensions"
   ]
  },
  {
   "cell_type": "markdown",
   "metadata": {
    "colab_type": "text",
    "id": "HFH-dPawvHqA"
   },
   "source": [
    "# x2 | x ∈ ℕ  \n",
    "\n",
    "- | = for\n",
    "- ∈ = in"
   ]
  },
  {
   "cell_type": "code",
   "execution_count": 0,
   "metadata": {
    "colab": {},
    "colab_type": "code",
    "id": "1vg6li8vvHqC"
   },
   "outputs": [],
   "source": [
    "squares1 = [x ** 2 for x in a_list]"
   ]
  },
  {
   "cell_type": "code",
   "execution_count": 0,
   "metadata": {
    "colab": {},
    "colab_type": "code",
    "id": "ifRGpWLlvHqK",
    "outputId": "c4a2bae6-fd60-4078-8ce1-237a5e8a63e2"
   },
   "outputs": [
    {
     "data": {
      "text/plain": [
       "[100, 169, 256, 361, 484, 625, 784]"
      ]
     },
     "execution_count": 7,
     "metadata": {
      "tags": []
     },
     "output_type": "execute_result"
    }
   ],
   "source": [
    "squares1"
   ]
  },
  {
   "cell_type": "markdown",
   "metadata": {
    "colab_type": "text",
    "id": "3Pf9vqIvvHqS"
   },
   "source": [
    "## 2. One more example using List Comprehensions"
   ]
  },
  {
   "cell_type": "markdown",
   "metadata": {
    "colab_type": "text",
    "id": "QwIAP2aIvHqU"
   },
   "source": [
    "## { (x,y) | x ∈ ℤ , y ∈ ℤ }"
   ]
  },
  {
   "cell_type": "code",
   "execution_count": 0,
   "metadata": {
    "colab": {},
    "colab_type": "code",
    "id": "lKT2DUDsvHqY"
   },
   "outputs": [],
   "source": [
    "rs = [(x,y) for x in [1,2,3] for y in [2,3,4]]"
   ]
  },
  {
   "cell_type": "code",
   "execution_count": 0,
   "metadata": {
    "colab": {},
    "colab_type": "code",
    "id": "uKRPEbO5vHqh",
    "outputId": "af8ce41d-a76c-4186-8a70-208efa2c5210"
   },
   "outputs": [
    {
     "data": {
      "text/plain": [
       "[(1, 2), (1, 3), (1, 4), (2, 2), (2, 3), (2, 4), (3, 2), (3, 3), (3, 4)]"
      ]
     },
     "execution_count": 9,
     "metadata": {
      "tags": []
     },
     "output_type": "execute_result"
    }
   ],
   "source": [
    "rs"
   ]
  },
  {
   "cell_type": "markdown",
   "metadata": {
    "colab_type": "text",
    "collapsed": true,
    "id": "RImZh-iYvHqp"
   },
   "source": [
    "## 3. Apply Condition x = y\n",
    "{ (x,y) | x ∈ ℤ , y ∈ ℤ  x = y} "
   ]
  },
  {
   "cell_type": "code",
   "execution_count": 0,
   "metadata": {
    "colab": {},
    "colab_type": "code",
    "id": "rfbBF-dYvHqr"
   },
   "outputs": [],
   "source": [
    "rs = [(x,y) for x in [1,2,3] for y in [2,3,4] if x == y]"
   ]
  },
  {
   "cell_type": "code",
   "execution_count": 0,
   "metadata": {
    "colab": {},
    "colab_type": "code",
    "id": "43zos5u_vHqy",
    "outputId": "21cbac32-945e-4a62-ccc4-17ebab3d09e0"
   },
   "outputs": [
    {
     "data": {
      "text/plain": [
       "[(2, 2), (3, 3)]"
      ]
     },
     "execution_count": 11,
     "metadata": {
      "tags": []
     },
     "output_type": "execute_result"
    }
   ],
   "source": [
    "rs"
   ]
  },
  {
   "cell_type": "markdown",
   "metadata": {
    "colab_type": "text",
    "collapsed": true,
    "id": "RjG3zqmCvHq5"
   },
   "source": [
    "#### Home work: [Refer more List Comprehensions](https://docs.python.org/3/tutorial/datastructures.html)"
   ]
  },
  {
   "cell_type": "markdown",
   "metadata": {
    "colab_type": "text",
    "collapsed": true,
    "id": "xCce_wXyvHq7"
   },
   "source": [
    "#### Home work 1: Show the first letter of each word"
   ]
  },
  {
   "cell_type": "code",
   "execution_count": 0,
   "metadata": {
    "colab": {},
    "colab_type": "code",
    "id": "4P_tNxkvvHq9",
    "outputId": "04381c61-a2b4-41c1-a879-becae398cdfc"
   },
   "outputs": [
    {
     "name": "stdout",
     "output_type": "stream",
     "text": [
      "['R', 'J', 'M', 'P']\n"
     ]
    }
   ],
   "source": [
    "listOfWords = [\"Ram\",\"John\",\"Marc\",\"Python\"]\n",
    "\n",
    "items = [ word[0] for word in listOfWords ]\n",
    "\n",
    "print(items)"
   ]
  },
  {
   "cell_type": "markdown",
   "metadata": {
    "colab_type": "text",
    "id": "kySQDsnDvHrG"
   },
   "source": [
    "#### Home work 2: Print numbers only from a given string"
   ]
  },
  {
   "cell_type": "code",
   "execution_count": 0,
   "metadata": {
    "colab": {},
    "colab_type": "code",
    "id": "6KgYgRw_vHrN",
    "outputId": "35b95f41-c024-4118-b006-694e11d3b28a"
   },
   "outputs": [
    {
     "name": "stdout",
     "output_type": "stream",
     "text": [
      "['5', '2']\n"
     ]
    }
   ],
   "source": [
    "string = \"There are 5 apples and 2 oranges\"\n",
    "numbers = [x for x in string if x.isdigit()]\n",
    "print(numbers)"
   ]
  },
  {
   "cell_type": "markdown",
   "metadata": {
    "colab_type": "text",
    "id": "yn303zYAvHrV"
   },
   "source": [
    "#### Home work 3: print except numers"
   ]
  },
  {
   "cell_type": "code",
   "execution_count": 0,
   "metadata": {
    "colab": {},
    "colab_type": "code",
    "id": "f0JCw1QVvHrY",
    "outputId": "3d8f2166-a9bc-4417-f692-2b7aecf74965"
   },
   "outputs": [
    {
     "name": "stdout",
     "output_type": "stream",
     "text": [
      "['T', 'h', 'e', 'r', 'e', 'a', 'r', 'e', 'a', 'p', 'p', 'l', 'e', 's', 'a', 'n', 'd', 'o', 'r', 'a', 'n', 'g', 'e', 's']\n"
     ]
    }
   ],
   "source": [
    "string = \"There are 5 apples and 2 oranges\"\n",
    "numbers = [x for x in string if x.isalpha()]\n",
    "print(numbers)"
   ]
  },
  {
   "cell_type": "markdown",
   "metadata": {
    "colab": {},
    "colab_type": "code",
    "id": "1X2IAfe4vHrf"
   },
   "source": [
    "#### Home Work 4: Which organizations operate in Atlanta?"
   ]
  },
  {
   "cell_type": "code",
   "execution_count": 6,
   "metadata": {},
   "outputs": [
    {
     "name": "stdout",
     "output_type": "stream",
     "text": [
      "['TCS', 'WIPRO']\n"
     ]
    }
   ],
   "source": [
    "locs = [('UHG', 'IN', 'New York'),\n",
    "        ('ANTHEM', 'IN', 'New York'),\n",
    "        ('COGNIZANT', 'IN', 'New York'),\n",
    "        ('TCS', 'IN', 'India'),\n",
    "        ('WIPRO', 'IN', 'India')]\n",
    "query = [e1 for (e1, rel, e2) in locs if e2=='India']\n",
    "print(query)\n"
   ]
  },
  {
   "cell_type": "markdown",
   "metadata": {},
   "source": [
    "#### Home work 5: reading a text and printing the words that end with ing"
   ]
  },
  {
   "cell_type": "markdown",
   "metadata": {},
   "source": [
    "##### Regular Way"
   ]
  },
  {
   "cell_type": "code",
   "execution_count": 10,
   "metadata": {},
   "outputs": [
    {
     "data": {
      "text/plain": [
       "['working', 'learning']"
      ]
     },
     "execution_count": 10,
     "metadata": {},
     "output_type": "execute_result"
    }
   ],
   "source": [
    "import sys\n",
    "a_list_of_lines=[\"I have been working in UHG as AI architect\",\n",
    "             \"I have been learning AI from so many years ,still so many things i do not know\"]\n",
    "rs=[]\n",
    "for line in a_list_of_lines:\n",
    "    for word in line.split():\n",
    "        if word.endswith('ing'):\n",
    "            rs.append(word)\n",
    "rs            "
   ]
  },
  {
   "cell_type": "markdown",
   "metadata": {},
   "source": [
    "##### using list comp"
   ]
  },
  {
   "cell_type": "code",
   "execution_count": null,
   "metadata": {},
   "outputs": [],
   "source": [
    "### ?? try it out"
   ]
  },
  {
   "cell_type": "code",
   "execution_count": null,
   "metadata": {},
   "outputs": [],
   "source": []
  }
 ],
 "metadata": {
  "colab": {
   "name": "DS24_List comprehensions.ipynb",
   "provenance": [],
   "version": "0.3.2"
  },
  "kernelspec": {
   "display_name": "Python 3",
   "language": "python",
   "name": "python3"
  },
  "language_info": {
   "codemirror_mode": {
    "name": "ipython",
    "version": 3
   },
   "file_extension": ".py",
   "mimetype": "text/x-python",
   "name": "python",
   "nbconvert_exporter": "python",
   "pygments_lexer": "ipython3",
   "version": "3.6.9"
  }
 },
 "nbformat": 4,
 "nbformat_minor": 1
}
