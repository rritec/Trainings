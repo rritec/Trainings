{
 "cells": [
  {
   "cell_type": "markdown",
   "metadata": {
    "colab_type": "text",
    "id": "JrqroteqCUQ8"
   },
   "source": [
    "# LEGB\n",
    "----"
   ]
  },
  {
   "cell_type": "markdown",
   "metadata": {
    "colab_type": "text",
    "id": "ePKIN6IkCURA"
   },
   "source": [
    "![image.png](https://raw.githubusercontent.com/rritec/datahexa/master/images/LEGB.png)"
   ]
  },
  {
   "cell_type": "markdown",
   "metadata": {
    "colab_type": "text",
    "id": "2JDkuzicCURF"
   },
   "source": [
    "## 1. Exercise 1: Can not access local variables globally\n",
    "- Local variable is declared `Inside the function`"
   ]
  },
  {
   "cell_type": "code",
   "execution_count": 0,
   "metadata": {
    "colab": {},
    "colab_type": "code",
    "id": "j5FHxjPLCURH"
   },
   "outputs": [],
   "source": [
    "def fun_square(base):\n",
    "    pow1 = 3             # local variable(Inside the function)\n",
    "    return base ** pow1 # pow1 local variable useing inside the function"
   ]
  },
  {
   "cell_type": "code",
   "execution_count": 0,
   "metadata": {
    "colab": {},
    "colab_type": "code",
    "id": "lOXgvu7ECUSC",
    "outputId": "1b9502ef-6eea-4765-bfac-7e44fe245a77"
   },
   "outputs": [
    {
     "data": {
      "text/plain": [
       "8"
      ]
     },
     "execution_count": 2,
     "metadata": {
      "tags": []
     },
     "output_type": "execute_result"
    }
   ],
   "source": [
    "fun_square(2)"
   ]
  },
  {
   "cell_type": "code",
   "execution_count": 0,
   "metadata": {
    "colab": {},
    "colab_type": "code",
    "id": "bTIXJql6CUSy",
    "outputId": "7aeda075-dedd-43fe-afb7-f2a17dea9ac3"
   },
   "outputs": [
    {
     "ename": "NameError",
     "evalue": "name 'pow1' is not defined",
     "output_type": "error",
     "traceback": [
      "\u001b[1;31m---------------------------------------------------------------------------\u001b[0m",
      "\u001b[1;31mNameError\u001b[0m                                 Traceback (most recent call last)",
      "\u001b[1;32m<ipython-input-3-31e751686672>\u001b[0m in \u001b[0;36m<module>\u001b[1;34m\u001b[0m\n\u001b[1;32m----> 1\u001b[1;33m \u001b[0mprint\u001b[0m\u001b[1;33m(\u001b[0m\u001b[0mpow1\u001b[0m\u001b[1;33m)\u001b[0m \u001b[1;31m# pow1 Local variable , we cannot access outside\u001b[0m\u001b[1;33m\u001b[0m\u001b[0m\n\u001b[0m",
      "\u001b[1;31mNameError\u001b[0m: name 'pow1' is not defined"
     ]
    }
   ],
   "source": [
    "print(pow1) # pow1 Local variable , we cannot access outside"
   ]
  },
  {
   "cell_type": "markdown",
   "metadata": {
    "colab_type": "text",
    "id": "u9ggS5nsCUS9"
   },
   "source": [
    "## 2. Exercise 2 : we can use same name for local and global variables"
   ]
  },
  {
   "cell_type": "code",
   "execution_count": 0,
   "metadata": {
    "colab": {},
    "colab_type": "code",
    "id": "pJX-rRCFCUTD"
   },
   "outputs": [],
   "source": [
    "new_value = 10 # global variable# outside the function\n",
    "def fun_power(base):\n",
    "    new_value = 2 # local variable # inside  the function\n",
    "    return base ** new_value          # what value used by return ????"
   ]
  },
  {
   "cell_type": "code",
   "execution_count": 0,
   "metadata": {
    "colab": {},
    "colab_type": "code",
    "id": "oFIbqRtsCUTM",
    "outputId": "55beb909-0ea1-4cea-bc78-28bf4d9a425d"
   },
   "outputs": [
    {
     "data": {
      "text/plain": [
       "4"
      ]
     },
     "execution_count": 7,
     "metadata": {
      "tags": []
     },
     "output_type": "execute_result"
    }
   ],
   "source": [
    "fun_power(2) # what is the answer 1)4 2) 1024"
   ]
  },
  {
   "cell_type": "markdown",
   "metadata": {
    "colab_type": "text",
    "id": "8qRiNa3iCUTX"
   },
   "source": [
    "## 3. Exercise 3: searches for local variable ,if not find then searches for enclosed ,if not find then search for global"
   ]
  },
  {
   "cell_type": "code",
   "execution_count": 0,
   "metadata": {
    "colab": {},
    "colab_type": "code",
    "id": "VapHRFVUCUTZ"
   },
   "outputs": [],
   "source": [
    "new_value = 10 # Global Variable # outside the function\n",
    "def fun_power(base):\n",
    "    new_value1 = 2 # local variable # inside the function\n",
    "    return base ** new_value"
   ]
  },
  {
   "cell_type": "code",
   "execution_count": 0,
   "metadata": {
    "colab": {},
    "colab_type": "code",
    "id": "w9uNJtx0CUTm",
    "outputId": "c089ba7d-34a0-44de-f10b-8d1b4906d45d"
   },
   "outputs": [
    {
     "data": {
      "text/plain": [
       "1024"
      ]
     },
     "execution_count": 9,
     "metadata": {
      "tags": []
     },
     "output_type": "execute_result"
    }
   ],
   "source": [
    "fun_power(2) # what is the answer 1)4 2) 1024"
   ]
  },
  {
   "cell_type": "markdown",
   "metadata": {
    "colab_type": "text",
    "id": "q2OvcpttCUT3"
   },
   "source": [
    "## 4. Exercise 4: override global variables within the function"
   ]
  },
  {
   "cell_type": "code",
   "execution_count": 0,
   "metadata": {
    "colab": {},
    "colab_type": "code",
    "id": "R0hIH4tPCUT4"
   },
   "outputs": [],
   "source": [
    "a = 10 # global variable\n",
    "def fun_override():\n",
    "    global a # this step is useful to override global variables\n",
    "    a = 20 # local variable\n",
    "    return a"
   ]
  },
  {
   "cell_type": "code",
   "execution_count": 0,
   "metadata": {
    "colab": {},
    "colab_type": "code",
    "id": "Te9wh10XCUT9",
    "outputId": "064245b5-2aeb-46db-b846-1a71fa1065a5"
   },
   "outputs": [
    {
     "name": "stdout",
     "output_type": "stream",
     "text": [
      "10\n"
     ]
    }
   ],
   "source": [
    "print(a) # before calling the function,what is the value of global variable"
   ]
  },
  {
   "cell_type": "code",
   "execution_count": 0,
   "metadata": {
    "colab": {},
    "colab_type": "code",
    "id": "cdlCis1bCUUD",
    "outputId": "7be6df43-32a5-4c08-e524-cad80ab47aaf"
   },
   "outputs": [
    {
     "data": {
      "text/plain": [
       "20"
      ]
     },
     "execution_count": 12,
     "metadata": {
      "tags": []
     },
     "output_type": "execute_result"
    }
   ],
   "source": [
    "fun_override()"
   ]
  },
  {
   "cell_type": "code",
   "execution_count": 0,
   "metadata": {
    "colab": {},
    "colab_type": "code",
    "id": "vs7QGf1mCUUI",
    "outputId": "078a00ed-18e6-44d0-bd2e-5a30f42efca1"
   },
   "outputs": [
    {
     "name": "stdout",
     "output_type": "stream",
     "text": [
      "20\n"
     ]
    }
   ],
   "source": [
    "print(a) # after calling the function"
   ]
  },
  {
   "cell_type": "markdown",
   "metadata": {
    "colab_type": "text",
    "id": "8DrpSPQWCUUN"
   },
   "source": [
    "## 5. Exercise 5: Nested functions"
   ]
  },
  {
   "cell_type": "code",
   "execution_count": 0,
   "metadata": {
    "colab": {},
    "colab_type": "code",
    "id": "kFbvQJVmCUUP"
   },
   "outputs": [],
   "source": [
    "b1= 30                           # global variable(p3)\n",
    "def fun_outer(base):\n",
    "    b =20                        # Enclosed variable # nested function(p2)\n",
    "    def fun_inner(x):\n",
    "        b = 10                    #  Local variable # inside the function(p1)\n",
    "        return x + b1\n",
    "    return fun_inner(base)\n"
   ]
  },
  {
   "cell_type": "code",
   "execution_count": 0,
   "metadata": {
    "colab": {},
    "colab_type": "code",
    "id": "CrMnVEzRCUUV",
    "outputId": "2ab88428-c575-43ca-c489-65a2daee3fe6"
   },
   "outputs": [
    {
     "data": {
      "text/plain": [
       "34"
      ]
     },
     "execution_count": 18,
     "metadata": {
      "tags": []
     },
     "output_type": "execute_result"
    }
   ],
   "source": [
    "fun_outer(4)"
   ]
  },
  {
   "cell_type": "code",
   "execution_count": 0,
   "metadata": {
    "colab": {},
    "colab_type": "code",
    "id": "n_PqDyLfCUUe",
    "outputId": "3469a7df-8c9c-4ac2-d13b-3f2a3b59908b"
   },
   "outputs": [
    {
     "ename": "NameError",
     "evalue": "name 'b' is not defined",
     "output_type": "error",
     "traceback": [
      "\u001b[1;31m---------------------------------------------------------------------------\u001b[0m",
      "\u001b[1;31mNameError\u001b[0m                                 Traceback (most recent call last)",
      "\u001b[1;32m<ipython-input-16-89e6c98d9288>\u001b[0m in \u001b[0;36m<module>\u001b[1;34m\u001b[0m\n\u001b[1;32m----> 1\u001b[1;33m \u001b[0mb\u001b[0m\u001b[1;33m\u001b[0m\u001b[0m\n\u001b[0m",
      "\u001b[1;31mNameError\u001b[0m: name 'b' is not defined"
     ]
    }
   ],
   "source": [
    "b"
   ]
  },
  {
   "cell_type": "code",
   "execution_count": 0,
   "metadata": {
    "colab": {},
    "colab_type": "code",
    "id": "KxkN6PmKCUUr"
   },
   "outputs": [],
   "source": [
    "b1= 30                           # global variable\n",
    "def fun_outer(base):\n",
    "    b =20                        # Enclosed variable\n",
    "    def fun_inner(x):\n",
    "        b = 10                    # local variable\n",
    "        return x + b\n",
    "    return fun_inner(base)\n"
   ]
  },
  {
   "cell_type": "code",
   "execution_count": 0,
   "metadata": {
    "colab": {},
    "colab_type": "code",
    "id": "WZvwzh9MCUUy",
    "outputId": "fb535b27-ea91-425a-e160-9e5fea8f8f63"
   },
   "outputs": [
    {
     "data": {
      "text/plain": [
       "14"
      ]
     },
     "execution_count": 20,
     "metadata": {
      "tags": []
     },
     "output_type": "execute_result"
    }
   ],
   "source": [
    "fun_outer(4)"
   ]
  },
  {
   "cell_type": "code",
   "execution_count": 0,
   "metadata": {
    "colab": {},
    "colab_type": "code",
    "id": "HIYkm--mCUU4"
   },
   "outputs": [],
   "source": [
    "be= 30                           # global variable\n",
    "def fun_outer(base):\n",
    "    be =20                        # Enclosed variable\n",
    "    def fun_inner(x):\n",
    "        b = 10                    # local variable\n",
    "        return x + be\n",
    "    return fun_inner(base)\n"
   ]
  },
  {
   "cell_type": "code",
   "execution_count": 0,
   "metadata": {
    "colab": {},
    "colab_type": "code",
    "id": "5iOIGTa0CUU7",
    "outputId": "613dc670-4e2c-48a3-c992-ccdc5aebcc23"
   },
   "outputs": [
    {
     "data": {
      "text/plain": [
       "24"
      ]
     },
     "execution_count": 22,
     "metadata": {
      "tags": []
     },
     "output_type": "execute_result"
    }
   ],
   "source": [
    "fun_outer(4)"
   ]
  },
  {
   "cell_type": "markdown",
   "metadata": {
    "colab_type": "text",
    "id": "1uKks0ttCUVG"
   },
   "source": [
    "## 6. Exercise 6: Understanfing builtin scope"
   ]
  },
  {
   "cell_type": "code",
   "execution_count": 0,
   "metadata": {
    "colab": {},
    "colab_type": "code",
    "id": "vYLSCadQCUVH"
   },
   "outputs": [],
   "source": [
    "a_str = \"python\""
   ]
  },
  {
   "cell_type": "code",
   "execution_count": 0,
   "metadata": {
    "colab": {},
    "colab_type": "code",
    "id": "oFYcoPi5CUVL",
    "outputId": "b7becc16-3ac1-4ea2-e5f2-73302d7e74c7"
   },
   "outputs": [
    {
     "data": {
      "text/plain": [
       "6"
      ]
     },
     "execution_count": 24,
     "metadata": {
      "tags": []
     },
     "output_type": "execute_result"
    }
   ],
   "source": [
    "len(a_str) # len is a system defined function # len built in object"
   ]
  },
  {
   "cell_type": "code",
   "execution_count": 0,
   "metadata": {
    "colab": {},
    "colab_type": "code",
    "id": "LNMg1piUCUVa",
    "outputId": "5c726a18-b1e9-4a9e-8bf0-b761f1833605"
   },
   "outputs": [
    {
     "name": "stdout",
     "output_type": "stream",
     "text": [
      "Input variable is of length 3\n"
     ]
    }
   ],
   "source": [
    "a_var = 'global variable'\n",
    "def a_func(in_var):\n",
    "    len_in_var = len(in_var) # len is a builtin function object\n",
    "    print('Input variable is of length', len_in_var)\n",
    "a_func('ram')\n"
   ]
  },
  {
   "cell_type": "code",
   "execution_count": 0,
   "metadata": {
    "colab": {},
    "colab_type": "code",
    "id": "LxIoyTurCUVp"
   },
   "outputs": [],
   "source": [
    "a_var = 'global variable'\n",
    "def len(in_var):     # local function object\n",
    "    print('called my len() function')\n",
    "    l = 0\n",
    "    for i in in_var: #in_var = \"python\" # iter 1: p # iter 2:y\n",
    "        l += 2 #iter 1: l = 0+2 = 2  #l = 2 +2 = 4 \n",
    "    return l\n",
    "def a_func(in_var):\n",
    "    len_in_var = len(in_var) # builtin function object\n",
    "    print('Input variable is of length', len_in_var)"
   ]
  },
  {
   "cell_type": "code",
   "execution_count": 0,
   "metadata": {
    "colab": {},
    "colab_type": "code",
    "id": "Mw04jcQHCUVw",
    "outputId": "98bfc9a2-afe5-486e-8572-48e408a2cbc8"
   },
   "outputs": [
    {
     "name": "stdout",
     "output_type": "stream",
     "text": [
      "called my len() function\n",
      "Input variable is of length 6\n"
     ]
    }
   ],
   "source": [
    "a_func('ram')"
   ]
  },
  {
   "cell_type": "code",
   "execution_count": 0,
   "metadata": {
    "colab": {},
    "colab_type": "code",
    "id": "aXfd60uTCUV8",
    "outputId": "4396c9f3-71e0-4240-820a-0ccd41ebb29f"
   },
   "outputs": [
    {
     "name": "stdout",
     "output_type": "stream",
     "text": [
      "called my len() function\n"
     ]
    },
    {
     "data": {
      "text/plain": [
       "12"
      ]
     },
     "execution_count": 29,
     "metadata": {
      "tags": []
     },
     "output_type": "execute_result"
    }
   ],
   "source": [
    "len(\"PYTHON\")"
   ]
  },
  {
   "cell_type": "code",
   "execution_count": 0,
   "metadata": {
    "colab": {},
    "colab_type": "code",
    "id": "zAgzcOlKCUWC"
   },
   "outputs": [],
   "source": [
    "def max(x):\n",
    "    print(\"how are you\")\n",
    "    return 0"
   ]
  },
  {
   "cell_type": "code",
   "execution_count": 0,
   "metadata": {
    "colab": {},
    "colab_type": "code",
    "id": "XUHug47CCUWL",
    "outputId": "9d66ed6c-bde3-4cf6-810a-dec498ce4d29"
   },
   "outputs": [
    {
     "name": "stdout",
     "output_type": "stream",
     "text": [
      "how are you\n"
     ]
    },
    {
     "data": {
      "text/plain": [
       "0"
      ]
     },
     "execution_count": 31,
     "metadata": {
      "tags": []
     },
     "output_type": "execute_result"
    }
   ],
   "source": [
    "max([1,10,20,4,6])"
   ]
  },
  {
   "cell_type": "code",
   "execution_count": 0,
   "metadata": {
    "colab": {},
    "colab_type": "code",
    "id": "57L2IS1oCUWT",
    "outputId": "9d838e27-b19a-4901-c099-84505c42ccce"
   },
   "outputs": [
    {
     "data": {
      "text/plain": [
       "2"
      ]
     },
     "execution_count": 32,
     "metadata": {
      "tags": []
     },
     "output_type": "execute_result"
    }
   ],
   "source": [
    "min(10,20,30,2,4)"
   ]
  },
  {
   "cell_type": "code",
   "execution_count": 0,
   "metadata": {
    "colab": {},
    "colab_type": "code",
    "id": "mwDDXqnQCUWa"
   },
   "outputs": [],
   "source": [
    "def min(x):\n",
    "    print(\"hello\")"
   ]
  },
  {
   "cell_type": "code",
   "execution_count": 0,
   "metadata": {
    "colab": {},
    "colab_type": "code",
    "id": "gEaqKPHsCUWe",
    "outputId": "324c30d5-6407-4402-91a1-3f9706d6c818"
   },
   "outputs": [
    {
     "name": "stdout",
     "output_type": "stream",
     "text": [
      "hello\n"
     ]
    }
   ],
   "source": [
    "min([1,3,2,5])"
   ]
  },
  {
   "cell_type": "code",
   "execution_count": 0,
   "metadata": {
    "colab": {},
    "colab_type": "code",
    "id": "BahzquPsCUWl"
   },
   "outputs": [],
   "source": []
  }
 ],
 "metadata": {
  "colab": {
   "name": "DS16_LEGB_scope_of_objects_of_functions.ipynb",
   "provenance": [],
   "version": "0.3.2"
  },
  "kernelspec": {
   "display_name": "Python 3",
   "language": "python",
   "name": "python3"
  },
  "language_info": {
   "codemirror_mode": {
    "name": "ipython",
    "version": 3
   },
   "file_extension": ".py",
   "mimetype": "text/x-python",
   "name": "python",
   "nbconvert_exporter": "python",
   "pygments_lexer": "ipython3",
   "version": "3.6.9"
  }
 },
 "nbformat": 4,
 "nbformat_minor": 1
}
