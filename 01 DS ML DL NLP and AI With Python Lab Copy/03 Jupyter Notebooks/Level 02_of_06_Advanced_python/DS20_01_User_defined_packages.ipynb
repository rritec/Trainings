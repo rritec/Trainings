{
 "cells": [
  {
   "cell_type": "markdown",
   "metadata": {
    "colab_type": "text",
    "id": "WTauKsgy_e0f"
   },
   "source": [
    "# Packages\n",
    "------\n",
    "## User Defined Packages\n",
    "- Directory/folder of Python files(Modules)\n",
    "- Each file = one module = one .py file\n",
    "- A folder contains `__init__.py` file then it is called as package\n",
    "- A package may have n number of sub packages\n",
    "- [For more theory see](https://docs.python.org/3/tutorial/modules.html#packages)"
   ]
  },
  {
   "cell_type": "code",
   "execution_count": 0,
   "metadata": {
    "colab": {},
    "colab_type": "code",
    "id": "DMdJn1eJ_e0l",
    "outputId": "4e5b0119-fb69-4f3d-8dc7-b646293f4402"
   },
   "outputs": [
    {
     "data": {
      "text/plain": [
       "'C:\\\\Users\\\\Hi\\\\Google Drive\\\\01 DS ML DL NLP and AI With Python Lab Copy\\\\03 Jupyter Notebooks\\\\Level 02_of_08_Advancd_python'"
      ]
     },
     "execution_count": 1,
     "metadata": {
      "tags": []
     },
     "output_type": "execute_result"
    }
   ],
   "source": [
    "import os \n",
    "os.getcwd()"
   ]
  },
  {
   "cell_type": "code",
   "execution_count": 0,
   "metadata": {
    "colab": {},
    "colab_type": "code",
    "id": "Uo_8-2P5_e0-",
    "outputId": "0779df86-2ddd-416d-d892-33f364714de7"
   },
   "outputs": [
    {
     "data": {
      "text/plain": [
       "module"
      ]
     },
     "execution_count": 2,
     "metadata": {
      "tags": []
     },
     "output_type": "execute_result"
    }
   ],
   "source": [
    "type(os)"
   ]
  },
  {
   "cell_type": "code",
   "execution_count": 0,
   "metadata": {
    "colab": {},
    "colab_type": "code",
    "id": "MY3y9aaS_e1N"
   },
   "outputs": [],
   "source": [
    "os.chdir(\"C:\\\\Users\\\\Hi\\\\Desktop\\\\rritec\")"
   ]
  },
  {
   "cell_type": "code",
   "execution_count": 0,
   "metadata": {
    "colab": {},
    "colab_type": "code",
    "id": "wfkgZ5Fk_e1Y",
    "outputId": "06e2b316-1cb9-473b-e95c-a24257e480a5"
   },
   "outputs": [
    {
     "data": {
      "text/plain": [
       "'C:\\\\Users\\\\Hi\\\\Desktop\\\\rritec'"
      ]
     },
     "execution_count": 4,
     "metadata": {
      "tags": []
     },
     "output_type": "execute_result"
    }
   ],
   "source": [
    "os.getcwd()"
   ]
  },
  {
   "cell_type": "markdown",
   "metadata": {
    "colab_type": "text",
    "id": "_3GbjGRO_e1m"
   },
   "source": [
    "## 1.create a package similar to below diagram"
   ]
  },
  {
   "cell_type": "markdown",
   "metadata": {
    "colab_type": "text",
    "collapsed": true,
    "id": "JhRzh46U_e1q"
   },
   "source": [
    "- [refer help doc](https://docs.python.org/3/tutorial/modules.html#packages)\n"
   ]
  },
  {
   "cell_type": "markdown",
   "metadata": {
    "colab_type": "text",
    "id": "4CA_jPjl_e1t"
   },
   "source": [
    "go to working folder\n",
    "\n",
    "create as per above flow diagram packages ,sub packages and modules"
   ]
  },
  {
   "cell_type": "markdown",
   "metadata": {
    "colab_type": "text",
    "id": "NDZjVOX9_e1w"
   },
   "source": [
    "## 2. Access object from the module"
   ]
  },
  {
   "cell_type": "code",
   "execution_count": 0,
   "metadata": {
    "colab": {},
    "colab_type": "code",
    "id": "ucLDaOI9_e1z"
   },
   "outputs": [],
   "source": [
    "from sound.effects.a_pak_subpak_module import a_num1,a_float,fun_power"
   ]
  },
  {
   "cell_type": "code",
   "execution_count": 0,
   "metadata": {
    "colab": {},
    "colab_type": "code",
    "id": "6NmiLcez_e1-",
    "outputId": "6e7a132e-c7fd-45d8-d9ae-1a562b98a486"
   },
   "outputs": [
    {
     "data": {
      "text/plain": [
       "100"
      ]
     },
     "execution_count": 10,
     "metadata": {
      "tags": []
     },
     "output_type": "execute_result"
    }
   ],
   "source": [
    "a_num1"
   ]
  },
  {
   "cell_type": "code",
   "execution_count": 0,
   "metadata": {
    "colab": {},
    "colab_type": "code",
    "id": "uwiyRkmn_e2L",
    "outputId": "57a481c3-c9f8-4889-8cc1-cc69485cce9e"
   },
   "outputs": [
    {
     "data": {
      "text/plain": [
       "100.33"
      ]
     },
     "execution_count": 11,
     "metadata": {
      "tags": []
     },
     "output_type": "execute_result"
    }
   ],
   "source": [
    "a_float"
   ]
  },
  {
   "cell_type": "code",
   "execution_count": 0,
   "metadata": {
    "colab": {},
    "colab_type": "code",
    "id": "WBSBvOiM_e2b",
    "outputId": "424437f0-5b8c-4246-ba96-7226068bd4ce"
   },
   "outputs": [
    {
     "data": {
      "text/plain": [
       "16"
      ]
     },
     "execution_count": 12,
     "metadata": {
      "tags": []
     },
     "output_type": "execute_result"
    }
   ],
   "source": [
    "fun_power(2,4)"
   ]
  },
  {
   "cell_type": "code",
   "execution_count": 0,
   "metadata": {
    "colab": {},
    "colab_type": "code",
    "id": "-3p1cYnc_e20"
   },
   "outputs": [],
   "source": [
    "import sound"
   ]
  },
  {
   "cell_type": "code",
   "execution_count": 0,
   "metadata": {
    "colab": {},
    "colab_type": "code",
    "id": "IXUo0Pr0_e29",
    "outputId": "96ff4bc6-ca51-4565-bee8-46a6a92ddada"
   },
   "outputs": [
    {
     "data": {
      "text/plain": [
       "module"
      ]
     },
     "execution_count": 14,
     "metadata": {
      "tags": []
     },
     "output_type": "execute_result"
    }
   ],
   "source": [
    "type(sound)"
   ]
  },
  {
   "cell_type": "code",
   "execution_count": 0,
   "metadata": {
    "colab": {},
    "colab_type": "code",
    "id": "KF_b0dnw_e3K"
   },
   "outputs": [],
   "source": [
    "import sound.effects"
   ]
  },
  {
   "cell_type": "code",
   "execution_count": 0,
   "metadata": {
    "colab": {},
    "colab_type": "code",
    "id": "iaTKyTaY_e3U",
    "outputId": "ca1a670b-d233-4d6b-c36d-d113fa16cc1a"
   },
   "outputs": [
    {
     "data": {
      "text/plain": [
       "module"
      ]
     },
     "execution_count": 16,
     "metadata": {
      "tags": []
     },
     "output_type": "execute_result"
    }
   ],
   "source": [
    "type(sound.effects)"
   ]
  },
  {
   "cell_type": "markdown",
   "metadata": {
    "colab_type": "text",
    "id": "pg5Y0ZwN_e3h"
   },
   "source": [
    "## 3. Let us observe predefined packages"
   ]
  },
  {
   "cell_type": "markdown",
   "metadata": {
    "colab_type": "text",
    "id": "D5c-9_Si_e3n"
   },
   "source": [
    "> ML  - sklearn"
   ]
  },
  {
   "cell_type": "code",
   "execution_count": 0,
   "metadata": {
    "colab": {},
    "colab_type": "code",
    "id": "q_tCZqha_e3q"
   },
   "outputs": [],
   "source": [
    "from sklearn.linear_model import LinearRegression"
   ]
  },
  {
   "cell_type": "code",
   "execution_count": 0,
   "metadata": {
    "colab": {},
    "colab_type": "code",
    "id": "xfJUIDrw--ZK"
   },
   "outputs": [],
   "source": [
    "LinearRegression??"
   ]
  },
  {
   "cell_type": "markdown",
   "metadata": {
    "colab_type": "text",
    "id": "Ddun2lHO_e35"
   },
   "source": [
    "- sklearn  >>> package\n",
    "- linear_model >>>  sub package\n",
    "- LinearRegression >>>> class object"
   ]
  },
  {
   "cell_type": "code",
   "execution_count": 0,
   "metadata": {
    "colab": {},
    "colab_type": "code",
    "id": "-CW9Hsrl_e38"
   },
   "outputs": [],
   "source": [
    "from sklearn.feature_extraction.text import TfidfVectorizer"
   ]
  },
  {
   "cell_type": "markdown",
   "metadata": {
    "colab_type": "text",
    "id": "igAgqzCG_e4G"
   },
   "source": [
    "- sklearn >>> Package\n",
    "- feature_extraction >>> Subpackage\n",
    "- text >>> Module\n",
    "- TfidfVectorizer >>> Function"
   ]
  },
  {
   "cell_type": "markdown",
   "metadata": {
    "colab_type": "text",
    "id": "vrNAq7FY_e4K"
   },
   "source": [
    "> DL - Keras"
   ]
  },
  {
   "cell_type": "code",
   "execution_count": 0,
   "metadata": {
    "colab": {},
    "colab_type": "code",
    "id": "fhoVqZqX_e4Q",
    "outputId": "d6fa55d0-28b2-4059-8c0d-6bda5967e5c7"
   },
   "outputs": [
    {
     "name": "stderr",
     "output_type": "stream",
     "text": [
      "C:\\Anaconda3\\lib\\site-packages\\h5py\\__init__.py:34: FutureWarning: Conversion of the second argument of issubdtype from `float` to `np.floating` is deprecated. In future, it will be treated as `np.float64 == np.dtype(float).type`.\n",
      "  from ._conv import register_converters as _register_converters\n",
      "Using TensorFlow backend.\n"
     ]
    }
   ],
   "source": [
    "from keras.models import Sequential"
   ]
  },
  {
   "cell_type": "markdown",
   "metadata": {
    "colab_type": "text",
    "id": "c6d7V0fi_e4c"
   },
   "source": [
    "- keras >>> package\n",
    "- models >>> module\n",
    "- Sequential >>> function object"
   ]
  },
  {
   "cell_type": "code",
   "execution_count": 0,
   "metadata": {
    "colab": {},
    "colab_type": "code",
    "id": "K7yI5eax_e4g"
   },
   "outputs": [],
   "source": [
    "import sklearn"
   ]
  },
  {
   "cell_type": "code",
   "execution_count": 0,
   "metadata": {
    "colab": {},
    "colab_type": "code",
    "id": "73PyGNzD_e4o",
    "outputId": "86f6d8f6-9f71-407a-eb16-f4eac321e16b"
   },
   "outputs": [
    {
     "data": {
      "text/plain": [
       "module"
      ]
     },
     "execution_count": 6,
     "metadata": {
      "tags": []
     },
     "output_type": "execute_result"
    }
   ],
   "source": [
    "type(sklearn)"
   ]
  },
  {
   "cell_type": "code",
   "execution_count": 0,
   "metadata": {
    "colab": {},
    "colab_type": "code",
    "id": "DvXBVGA0_e4z"
   },
   "outputs": [],
   "source": []
  }
 ],
 "metadata": {
  "colab": {
   "name": "DS20_01_User_defined_packages.ipynb",
   "provenance": []
  },
  "kernelspec": {
   "display_name": "Python 3",
   "language": "python",
   "name": "python3"
  },
  "language_info": {
   "codemirror_mode": {
    "name": "ipython",
    "version": 3
   },
   "file_extension": ".py",
   "mimetype": "text/x-python",
   "name": "python",
   "nbconvert_exporter": "python",
   "pygments_lexer": "ipython3",
   "version": "3.6.9"
  }
 },
 "nbformat": 4,
 "nbformat_minor": 1
}
