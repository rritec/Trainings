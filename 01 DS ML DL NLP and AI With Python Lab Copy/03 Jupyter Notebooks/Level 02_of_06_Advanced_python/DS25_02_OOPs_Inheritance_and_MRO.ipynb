{
 "cells": [
  {
   "cell_type": "markdown",
   "metadata": {},
   "source": [
    "# OOPs Part 2 : Inheritance\n",
    "--------"
   ]
  },
  {
   "cell_type": "markdown",
   "metadata": {},
   "source": [
    "1. Inheritance is a way of creating **new class** using details of **existing class** without modifying master class. \n",
    "2. The **newly formed class** is a derived class (or **child class**). \n",
    "3. Similarly, the **existing class** is a `base` class (or **parent class**)."
   ]
  },
  {
   "cell_type": "markdown",
   "metadata": {},
   "source": [
    "## 1. Create Parent Class"
   ]
  },
  {
   "cell_type": "code",
   "execution_count": 2,
   "metadata": {},
   "outputs": [],
   "source": [
    "# create parent/base/master class\n",
    "class bird():\n",
    "    \n",
    "    \n",
    "    # constructor\n",
    "    def __init__(self):\n",
    "        print(\"the bird is ready\")\n",
    "        \n",
    "        \n",
    "    # method1 \n",
    "    \n",
    "    def whoisthis(self):\n",
    "        print(\"it is bird\")\n",
    "        \n",
    "    # method 2\n",
    "    \n",
    "    def swim(self):\n",
    "        print(\"swim faster\")        "
   ]
  },
  {
   "cell_type": "markdown",
   "metadata": {},
   "source": [
    "## 2. Create Child Class"
   ]
  },
  {
   "cell_type": "markdown",
   "metadata": {},
   "source": [
    "- `Override` the method in child class(example: whoisthis)\n",
    "- `Access methods` from parent class(example: swim)\n",
    "- `New Methods` Creating(Example: run)"
   ]
  },
  {
   "cell_type": "code",
   "execution_count": 3,
   "metadata": {},
   "outputs": [],
   "source": [
    "# create child class\n",
    "class parrot(bird):\n",
    "    def __init__(self):\n",
    "        super().__init__()\n",
    "        print(\"the parrot is ready\")\n",
    "    def whoisthis(self):\n",
    "        print(\"iam parrot\")\n",
    "    def run(self):\n",
    "        print(\"run fast\")"
   ]
  },
  {
   "cell_type": "markdown",
   "metadata": {},
   "source": [
    "## 3. Create a Child Class Object"
   ]
  },
  {
   "cell_type": "code",
   "execution_count": 4,
   "metadata": {},
   "outputs": [
    {
     "name": "stdout",
     "output_type": "stream",
     "text": [
      "the bird is ready\n",
      "the parrot is ready\n"
     ]
    }
   ],
   "source": [
    "# create object on child class\n",
    "blu = parrot()"
   ]
  },
  {
   "cell_type": "markdown",
   "metadata": {},
   "source": [
    "## 4. Observe the result"
   ]
  },
  {
   "cell_type": "code",
   "execution_count": 5,
   "metadata": {},
   "outputs": [
    {
     "name": "stdout",
     "output_type": "stream",
     "text": [
      "iam parrot\n"
     ]
    }
   ],
   "source": [
    "blu.whoisthis()"
   ]
  },
  {
   "cell_type": "code",
   "execution_count": 6,
   "metadata": {},
   "outputs": [
    {
     "name": "stdout",
     "output_type": "stream",
     "text": [
      "swim faster\n"
     ]
    }
   ],
   "source": [
    "blu.swim()"
   ]
  },
  {
   "cell_type": "code",
   "execution_count": 7,
   "metadata": {},
   "outputs": [
    {
     "name": "stdout",
     "output_type": "stream",
     "text": [
      "run fast\n"
     ]
    }
   ],
   "source": [
    "blu.run()"
   ]
  },
  {
   "cell_type": "markdown",
   "metadata": {},
   "source": [
    "## 5. Notes"
   ]
  },
  {
   "cell_type": "markdown",
   "metadata": {},
   "source": [
    "1. In the above program, we created two classes i.e. bird (parent class) and parrot (child class).\n",
    "2. The child class inherits the functions of parent class. We can see this from swim() method. Again, the child class modified the behavior of parent class. We can see this from whoisThis() method. Furthermore, we extend the functions of parent class, by creating a new run() method.\n",
    "3. Additionally, we use <code>super()</code> function inside \\__init__() method. This is because we want to pull the content of \\__init__() method from the parent class into the child class."
   ]
  },
  {
   "cell_type": "markdown",
   "metadata": {},
   "source": [
    "`Questions`\n",
    "1. What is MRO? \n",
    "2. Did you able to justify below results?"
   ]
  },
  {
   "cell_type": "code",
   "execution_count": 57,
   "metadata": {},
   "outputs": [],
   "source": [
    "# base class\n",
    "class A:  \n",
    "    def __init__(self):\n",
    "        print(\"iam class A\")\n",
    "          \n",
    "    def getName(self):  \n",
    "        return \"a1\""
   ]
  },
  {
   "cell_type": "code",
   "execution_count": 58,
   "metadata": {},
   "outputs": [],
   "source": [
    "# base class\n",
    "class B:  \n",
    "    def __init__(self):\n",
    "        print(\"iam class B\")\n",
    "          \n",
    "    def getName(self):  \n",
    "        return \"b1\""
   ]
  },
  {
   "cell_type": "code",
   "execution_count": 59,
   "metadata": {},
   "outputs": [],
   "source": [
    "# subclass of A and B\n",
    "class C(A, B):  \n",
    "    def __init__(self):  \n",
    "        A.__init__(self)        \n",
    "        B.__init__(self) \n",
    "        \n",
    "  \n",
    "    def getName(self):  \n",
    "        return \"c1\"\n"
   ]
  },
  {
   "cell_type": "code",
   "execution_count": 60,
   "metadata": {},
   "outputs": [
    {
     "name": "stdout",
     "output_type": "stream",
     "text": [
      "iam class A\n",
      "iam class B\n",
      "c1\n"
     ]
    }
   ],
   "source": [
    "C1 = C()  \n",
    "print(C1.getName()) "
   ]
  },
  {
   "cell_type": "code",
   "execution_count": 61,
   "metadata": {},
   "outputs": [
    {
     "data": {
      "text/plain": [
       "(__main__.C, __main__.A, __main__.B, object)"
      ]
     },
     "execution_count": 61,
     "metadata": {},
     "output_type": "execute_result"
    }
   ],
   "source": [
    "C.__mro__"
   ]
  },
  {
   "cell_type": "code",
   "execution_count": 62,
   "metadata": {},
   "outputs": [],
   "source": [
    "class C(B, A):  \n",
    "    def __init__(self):  \n",
    "        A.__init__(self)        \n",
    "        B.__init__(self) \n",
    "        \n",
    "  \n",
    "    def getName(self):  \n",
    "        return \"c1\"\n"
   ]
  },
  {
   "cell_type": "code",
   "execution_count": 63,
   "metadata": {},
   "outputs": [
    {
     "name": "stdout",
     "output_type": "stream",
     "text": [
      "iam class A\n",
      "iam class B\n",
      "c1\n"
     ]
    }
   ],
   "source": [
    "C1 = C()  \n",
    "print(C1.getName()) "
   ]
  },
  {
   "cell_type": "markdown",
   "metadata": {},
   "source": [
    "`Note:`The hierarchy becomes completely depended on the order of __init__() calls inside the subclass."
   ]
  },
  {
   "cell_type": "code",
   "execution_count": 65,
   "metadata": {},
   "outputs": [
    {
     "data": {
      "text/plain": [
       "(__main__.C, __main__.B, __main__.A, object)"
      ]
     },
     "execution_count": 65,
     "metadata": {},
     "output_type": "execute_result"
    }
   ],
   "source": [
    "C.__mro__"
   ]
  },
  {
   "cell_type": "code",
   "execution_count": 11,
   "metadata": {},
   "outputs": [],
   "source": [
    "class A:  \n",
    "    def __init__(self):  \n",
    "        super().__init__()  \n",
    "        self.name = 'John'  \n",
    "        self.age = 23  \n",
    "  \n",
    "    def getName(self):  \n",
    "        return self.name "
   ]
  },
  {
   "cell_type": "code",
   "execution_count": 12,
   "metadata": {},
   "outputs": [],
   "source": [
    "class B:  \n",
    "    def __init__(self):  \n",
    "        super().__init__()  \n",
    "        self.name = 'Richard'  \n",
    "        self.id = '32'  \n",
    "  \n",
    "    def getName(self):  \n",
    "        return self.name  "
   ]
  },
  {
   "cell_type": "code",
   "execution_count": 13,
   "metadata": {},
   "outputs": [],
   "source": [
    "class C(A, B):  \n",
    "    def __init__(self): \n",
    "        super().__init__()\n",
    "        self.name = \"ram\"\n",
    "  \n",
    "    def getName(self):  \n",
    "        return self.name  \n",
    " \n"
   ]
  },
  {
   "cell_type": "code",
   "execution_count": 14,
   "metadata": {},
   "outputs": [
    {
     "name": "stdout",
     "output_type": "stream",
     "text": [
      "ram\n"
     ]
    }
   ],
   "source": [
    "C1 = C()  \n",
    "print(C1.getName()) "
   ]
  },
  {
   "cell_type": "code",
   "execution_count": 15,
   "metadata": {},
   "outputs": [
    {
     "data": {
      "text/plain": [
       "(__main__.C, __main__.A, __main__.B, object)"
      ]
     },
     "execution_count": 15,
     "metadata": {},
     "output_type": "execute_result"
    }
   ],
   "source": [
    "C.__mro__"
   ]
  },
  {
   "cell_type": "code",
   "execution_count": 16,
   "metadata": {},
   "outputs": [
    {
     "name": "stdout",
     "output_type": "stream",
     "text": [
      "Richard\n"
     ]
    }
   ],
   "source": [
    "class C(B,A):  \n",
    "    def __init__(self):  \n",
    "        super().__init__()  \n",
    "  \n",
    "    def getName(self):  \n",
    "        return self.name  \n",
    "  \n",
    "C1 = C()  \n",
    "print(C1.getName())  \n"
   ]
  },
  {
   "cell_type": "code",
   "execution_count": 17,
   "metadata": {},
   "outputs": [
    {
     "data": {
      "text/plain": [
       "(__main__.C, __main__.B, __main__.A, object)"
      ]
     },
     "execution_count": 17,
     "metadata": {},
     "output_type": "execute_result"
    }
   ],
   "source": [
    "C.__mro__"
   ]
  },
  {
   "cell_type": "markdown",
   "metadata": {},
   "source": [
    "`Note :`Once the constructor of `A` is called and attribute ‘name’ is accessed, it doesn’t access the attribute ‘name’ in `B`."
   ]
  }
 ],
 "metadata": {
  "kernelspec": {
   "display_name": "Python 3",
   "language": "python",
   "name": "python3"
  },
  "language_info": {
   "codemirror_mode": {
    "name": "ipython",
    "version": 3
   },
   "file_extension": ".py",
   "mimetype": "text/x-python",
   "name": "python",
   "nbconvert_exporter": "python",
   "pygments_lexer": "ipython3",
   "version": "3.6.9"
  }
 },
 "nbformat": 4,
 "nbformat_minor": 2
}
