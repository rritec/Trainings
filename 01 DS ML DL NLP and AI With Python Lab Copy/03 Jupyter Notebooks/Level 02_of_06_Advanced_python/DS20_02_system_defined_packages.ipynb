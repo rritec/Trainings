{
 "cells": [
  {
   "cell_type": "markdown",
   "metadata": {
    "colab_type": "text",
    "id": "90SX46WbzeER"
   },
   "source": [
    "# Packages\n",
    "------\n",
    "## System Defined Packages\n",
    "- We have **Two repositories**\n",
    "    - conda(1400+ packages)\n",
    "    - pypi(207,354 + packages)\n",
    "- Some of them are \n",
    "    \n",
    "    - **NumPy:** NumPy is the fundamental package for scientific computing with Python(example array)\n",
    "    - **Scipy:** Scientific Python distributions\n",
    "    - **Sympy:** Python library for symbolic mathematics\n",
    "    - **Matplotlib:**Python plotting package\n",
    "    - **Scikit-learn:**  machine learning \n",
    "    - **Math:** Mathematical function (example pi, sin, cos ...etc)\n",
    "    - **xlrd:** to work with excels\n",
    "    - **keras:** Deep Learning /neural networks\n",
    "    - **nltk:** natural language tool kit (NLP,NLU)\n",
    "    - **rasa_nlu,rasa_core: ** NLP,NLU\n",
    "    - **TensorFlow:** programming environment\n",
    "    - ..etc\n",
    "    - ![sample image](https://github.com/rritec/datahexa/blob/master/images/system_defined_pak.png?raw=true)\n"
   ]
  },
  {
   "cell_type": "markdown",
   "metadata": {
    "colab_type": "text",
    "id": "VPYNIVdgzeEU"
   },
   "source": [
    "## 1. How to know the given package installed ?\n",
    "- As we know anaconda software = python software + basic packages required for data science\n",
    "- To see list of packages already installed in anaconda  Go to start  All Programs  Anaconda Folder  right click on Anaconda Prompt   run as administrator\n",
    "- ![anaconda](https://github.com/rritec/datahexa/blob/master/images/anaconda_prompt_start.png?raw=true)\n",
    "- Type <code> conda list</code> : to see all installed packages\n",
    "- Too see particular package type <code>conda list matplotlib</code>\n",
    "- ![conda list package](https://github.com/rritec/datahexa/blob/master/images/conda_list_pg_name.png?raw=true)\n"
   ]
  },
  {
   "cell_type": "markdown",
   "metadata": {
    "colab_type": "text",
    "id": "_MUNCFtxzeEX"
   },
   "source": [
    "## 2. How to install new package from conda repository\n",
    "\n",
    "- Right click on anaconda prompt  run as administrator\n",
    "- Cond install <package name> or get command from google\n",
    "- Few examples\n",
    "\n",
    "<code>conda install -c anaconda pyhive </code>\n",
    "\n",
    "`conda install -c anaconda flask`\n",
    "\n",
    "`conda install -c anaconda pymongo`\n",
    "\n",
    "`conda install -c conda-forge spacy `\n",
    "\n",
    "`conda install -c auto pyhbase`\n",
    "\n",
    "`conda install -c plotly plotly`\n"
   ]
  },
  {
   "cell_type": "markdown",
   "metadata": {
    "colab_type": "text",
    "id": "z38BEjOnzeEZ"
   },
   "source": [
    "## 3. How to install new package from pip repository\n",
    "\n",
    "- Right click on anaconda prompt  run as administrator\n",
    "- pip install <package name> or get command from google\n",
    "- Example rasa-nlu/rasa-core/rasax not available in conda repository so install from pip repository\n",
    "- one example\n",
    "\n",
    "<code> pip install rasa</code>\n",
    "\n",
    "\n"
   ]
  },
  {
   "cell_type": "markdown",
   "metadata": {},
   "source": [
    "`Danger Zone`\n",
    "- if you need to uninstall any package use \n",
    "`conda remove -n <env name> <package Name>`"
   ]
  },
  {
   "cell_type": "markdown",
   "metadata": {
    "colab_type": "text",
    "id": "cyvmi7DPzeEc"
   },
   "source": [
    "## 4. How to see functions of module"
   ]
  },
  {
   "cell_type": "code",
   "execution_count": 0,
   "metadata": {
    "colab": {},
    "colab_type": "code",
    "id": "9XCD-w0dzeEe"
   },
   "outputs": [],
   "source": [
    "import math"
   ]
  },
  {
   "cell_type": "code",
   "execution_count": 0,
   "metadata": {
    "colab": {},
    "colab_type": "code",
    "id": "VQC19LAUzeEp",
    "outputId": "11a00925-29ca-41a9-d719-f83bc0e4b75b"
   },
   "outputs": [
    {
     "data": {
      "text/plain": [
       "['__doc__',\n",
       " '__loader__',\n",
       " '__name__',\n",
       " '__package__',\n",
       " '__spec__',\n",
       " 'acos',\n",
       " 'acosh',\n",
       " 'asin',\n",
       " 'asinh',\n",
       " 'atan',\n",
       " 'atan2',\n",
       " 'atanh',\n",
       " 'ceil',\n",
       " 'copysign',\n",
       " 'cos',\n",
       " 'cosh',\n",
       " 'degrees',\n",
       " 'e',\n",
       " 'erf',\n",
       " 'erfc',\n",
       " 'exp',\n",
       " 'expm1',\n",
       " 'fabs',\n",
       " 'factorial',\n",
       " 'floor',\n",
       " 'fmod',\n",
       " 'frexp',\n",
       " 'fsum',\n",
       " 'gamma',\n",
       " 'gcd',\n",
       " 'hypot',\n",
       " 'inf',\n",
       " 'isclose',\n",
       " 'isfinite',\n",
       " 'isinf',\n",
       " 'isnan',\n",
       " 'ldexp',\n",
       " 'lgamma',\n",
       " 'log',\n",
       " 'log10',\n",
       " 'log1p',\n",
       " 'log2',\n",
       " 'modf',\n",
       " 'nan',\n",
       " 'pi',\n",
       " 'pow',\n",
       " 'radians',\n",
       " 'sin',\n",
       " 'sinh',\n",
       " 'sqrt',\n",
       " 'tan',\n",
       " 'tanh',\n",
       " 'tau',\n",
       " 'trunc']"
      ]
     },
     "execution_count": 2,
     "metadata": {
      "tags": []
     },
     "output_type": "execute_result"
    }
   ],
   "source": [
    "dir(math)"
   ]
  },
  {
   "cell_type": "markdown",
   "metadata": {
    "colab_type": "text",
    "id": "0DfOSXYAzeE6"
   },
   "source": [
    "## 5. Exercise 1: Import Package and calculate circumference and area of the circle\n",
    "![area and perimiter](https://github.com/rritec/datahexa/blob/master/images/area_perimeter.png?raw=true)"
   ]
  },
  {
   "cell_type": "code",
   "execution_count": 0,
   "metadata": {
    "colab": {},
    "colab_type": "code",
    "id": "0bkawcGVzeE9"
   },
   "outputs": [],
   "source": [
    "r = 7"
   ]
  },
  {
   "cell_type": "code",
   "execution_count": 0,
   "metadata": {
    "colab": {},
    "colab_type": "code",
    "id": "glGXs2i6zeFG"
   },
   "outputs": [],
   "source": [
    "import math"
   ]
  },
  {
   "cell_type": "code",
   "execution_count": 0,
   "metadata": {
    "colab": {},
    "colab_type": "code",
    "id": "B2lwb-afzeFN"
   },
   "outputs": [],
   "source": [
    "c = 2 * math.pi * r"
   ]
  },
  {
   "cell_type": "code",
   "execution_count": 0,
   "metadata": {
    "colab": {},
    "colab_type": "code",
    "id": "OLsatp7jzeFU",
    "outputId": "941ead43-0c4b-47b9-b29c-2a480b180033"
   },
   "outputs": [
    {
     "data": {
      "text/plain": [
       "43.982297150257104"
      ]
     },
     "execution_count": 6,
     "metadata": {
      "tags": []
     },
     "output_type": "execute_result"
    }
   ],
   "source": [
    "c"
   ]
  },
  {
   "cell_type": "code",
   "execution_count": 0,
   "metadata": {
    "colab": {},
    "colab_type": "code",
    "id": "k39Z0q0AzeFb"
   },
   "outputs": [],
   "source": [
    "a = math.pi * r ** 2"
   ]
  },
  {
   "cell_type": "code",
   "execution_count": 0,
   "metadata": {
    "colab": {},
    "colab_type": "code",
    "id": "zRkAygjxzeFg",
    "outputId": "ce5a3a21-9c51-41ad-8e73-1ce6ab318a53"
   },
   "outputs": [
    {
     "data": {
      "text/plain": [
       "153.93804002589985"
      ]
     },
     "execution_count": 8,
     "metadata": {
      "tags": []
     },
     "output_type": "execute_result"
    }
   ],
   "source": [
    "a"
   ]
  },
  {
   "cell_type": "markdown",
   "metadata": {
    "colab_type": "text",
    "id": "diPXiq7LzeFk"
   },
   "source": [
    "## 6. Exercise 2: Import one function from Package and calculate circumference and area of the circle"
   ]
  },
  {
   "cell_type": "code",
   "execution_count": 0,
   "metadata": {
    "colab": {},
    "colab_type": "code",
    "id": "2CSwu923zeFl"
   },
   "outputs": [],
   "source": [
    "from math import pi"
   ]
  },
  {
   "cell_type": "code",
   "execution_count": 0,
   "metadata": {
    "colab": {},
    "colab_type": "code",
    "id": "ioUnmqGbzeFp",
    "outputId": "75d74b4a-bc32-4a83-c065-0b5e33c3d562"
   },
   "outputs": [
    {
     "data": {
      "text/plain": [
       "3.141592653589793"
      ]
     },
     "execution_count": 10,
     "metadata": {
      "tags": []
     },
     "output_type": "execute_result"
    }
   ],
   "source": [
    "pi"
   ]
  },
  {
   "cell_type": "code",
   "execution_count": 0,
   "metadata": {
    "colab": {},
    "colab_type": "code",
    "id": "aUdaaa3HzeFt"
   },
   "outputs": [],
   "source": [
    "c = 2 * pi * r"
   ]
  },
  {
   "cell_type": "code",
   "execution_count": 0,
   "metadata": {
    "colab": {},
    "colab_type": "code",
    "id": "bfSRhaGUzeFw",
    "outputId": "24159dcc-2ec6-4eb8-b8ee-1404a0f36f96"
   },
   "outputs": [
    {
     "data": {
      "text/plain": [
       "43.982297150257104"
      ]
     },
     "execution_count": 12,
     "metadata": {
      "tags": []
     },
     "output_type": "execute_result"
    }
   ],
   "source": [
    "c"
   ]
  },
  {
   "cell_type": "code",
   "execution_count": 0,
   "metadata": {
    "colab": {},
    "colab_type": "code",
    "id": "nGkut_v3zeF0"
   },
   "outputs": [],
   "source": [
    "a = pi * r **2"
   ]
  },
  {
   "cell_type": "code",
   "execution_count": 0,
   "metadata": {
    "colab": {},
    "colab_type": "code",
    "id": "iIu-zSt0zeF3",
    "outputId": "7b303a24-2c4e-4b79-a79b-a4b430353fe5"
   },
   "outputs": [
    {
     "data": {
      "text/plain": [
       "153.93804002589985"
      ]
     },
     "execution_count": 14,
     "metadata": {
      "tags": []
     },
     "output_type": "execute_result"
    }
   ],
   "source": [
    "a"
   ]
  },
  {
   "cell_type": "markdown",
   "metadata": {
    "colab_type": "text",
    "id": "Q0brOovhzeF7"
   },
   "source": [
    "## 7. Exercise 3: Import Package function using alias name and calculate circumference and area of the circle"
   ]
  },
  {
   "cell_type": "code",
   "execution_count": 0,
   "metadata": {
    "colab": {},
    "colab_type": "code",
    "id": "_bkFYX6nzeF9"
   },
   "outputs": [],
   "source": [
    "from math import pi as my_pi"
   ]
  },
  {
   "cell_type": "code",
   "execution_count": 0,
   "metadata": {
    "colab": {},
    "colab_type": "code",
    "id": "3n8a9F8MzeGC"
   },
   "outputs": [],
   "source": [
    "c = 2 * my_pi * r"
   ]
  },
  {
   "cell_type": "code",
   "execution_count": 0,
   "metadata": {
    "colab": {},
    "colab_type": "code",
    "id": "0idP9v2MzeGI",
    "outputId": "d7e68158-d2e3-44c1-8d37-cf7ce777ed81"
   },
   "outputs": [
    {
     "data": {
      "text/plain": [
       "43.982297150257104"
      ]
     },
     "execution_count": 17,
     "metadata": {
      "tags": []
     },
     "output_type": "execute_result"
    }
   ],
   "source": [
    "c"
   ]
  },
  {
   "cell_type": "code",
   "execution_count": 0,
   "metadata": {
    "colab": {},
    "colab_type": "code",
    "id": "8I3s1gdSzeGQ"
   },
   "outputs": [],
   "source": [
    "a = my_pi * r ** 2"
   ]
  },
  {
   "cell_type": "code",
   "execution_count": 0,
   "metadata": {
    "colab": {},
    "colab_type": "code",
    "id": "-cRV8Y6UzeGU",
    "outputId": "2f61d214-ce32-4b3a-dcd6-773172cb7f9f"
   },
   "outputs": [
    {
     "data": {
      "text/plain": [
       "153.93804002589985"
      ]
     },
     "execution_count": 19,
     "metadata": {
      "tags": []
     },
     "output_type": "execute_result"
    }
   ],
   "source": [
    "a"
   ]
  },
  {
   "cell_type": "markdown",
   "metadata": {
    "colab_type": "text",
    "id": "I-wahNl5zeGX"
   },
   "source": [
    "## 8. Exercise 4: how to import multiple objects from the module\n",
    "- Find sin 90,tan 45 ..etc"
   ]
  },
  {
   "cell_type": "code",
   "execution_count": 0,
   "metadata": {
    "colab": {},
    "colab_type": "code",
    "id": "EoNc7ZnvzeGY"
   },
   "outputs": [],
   "source": [
    "from math import pi,sin,cos,tan,exp"
   ]
  },
  {
   "cell_type": "code",
   "execution_count": 0,
   "metadata": {
    "colab": {},
    "colab_type": "code",
    "id": "jx-VkHdezeGb"
   },
   "outputs": [],
   "source": [
    "tan?"
   ]
  },
  {
   "cell_type": "code",
   "execution_count": 0,
   "metadata": {
    "colab": {},
    "colab_type": "code",
    "id": "uqaNN3xQzeGf"
   },
   "outputs": [],
   "source": [
    "exp?"
   ]
  },
  {
   "cell_type": "code",
   "execution_count": 0,
   "metadata": {
    "colab": {},
    "colab_type": "code",
    "id": "vVDUiA_IzeGh",
    "outputId": "cf778846-5376-45e5-c082-f7b5dbcb0da5"
   },
   "outputs": [
    {
     "data": {
      "text/plain": [
       "1.0"
      ]
     },
     "execution_count": 23,
     "metadata": {
      "tags": []
     },
     "output_type": "execute_result"
    }
   ],
   "source": [
    "sin(pi/2)"
   ]
  },
  {
   "cell_type": "code",
   "execution_count": 0,
   "metadata": {
    "colab": {},
    "colab_type": "code",
    "id": "gzRVhMq0zeGk",
    "outputId": "484b5694-3237-4f4b-9bad-a8bf62852588"
   },
   "outputs": [
    {
     "data": {
      "text/plain": [
       "0.9999999999999999"
      ]
     },
     "execution_count": 24,
     "metadata": {
      "tags": []
     },
     "output_type": "execute_result"
    }
   ],
   "source": [
    "tan(pi/4)"
   ]
  },
  {
   "cell_type": "code",
   "execution_count": 0,
   "metadata": {
    "colab": {},
    "colab_type": "code",
    "id": "YfiNgI_RzeGp"
   },
   "outputs": [],
   "source": []
  },
  {
   "cell_type": "code",
   "execution_count": 0,
   "metadata": {
    "colab": {},
    "colab_type": "code",
    "id": "Si9OhwfOzeGr"
   },
   "outputs": [],
   "source": []
  },
  {
   "cell_type": "code",
   "execution_count": 0,
   "metadata": {
    "colab": {},
    "colab_type": "code",
    "id": "LnkuDFWGzeGv"
   },
   "outputs": [],
   "source": []
  }
 ],
 "metadata": {
  "colab": {
   "name": "DS20_02_system_defined_packages.ipynb",
   "provenance": [],
   "version": "0.3.2"
  },
  "kernelspec": {
   "display_name": "Python 3",
   "language": "python",
   "name": "python3"
  },
  "language_info": {
   "codemirror_mode": {
    "name": "ipython",
    "version": 3
   },
   "file_extension": ".py",
   "mimetype": "text/x-python",
   "name": "python",
   "nbconvert_exporter": "python",
   "pygments_lexer": "ipython3",
   "version": "3.6.9"
  },
  "toc": {
   "base_numbering": 1,
   "nav_menu": {},
   "number_sections": true,
   "sideBar": true,
   "skip_h1_title": false,
   "title_cell": "Table of Contents",
   "title_sidebar": "Contents",
   "toc_cell": false,
   "toc_position": {},
   "toc_section_display": true,
   "toc_window_display": false
  }
 },
 "nbformat": 4,
 "nbformat_minor": 1
}
