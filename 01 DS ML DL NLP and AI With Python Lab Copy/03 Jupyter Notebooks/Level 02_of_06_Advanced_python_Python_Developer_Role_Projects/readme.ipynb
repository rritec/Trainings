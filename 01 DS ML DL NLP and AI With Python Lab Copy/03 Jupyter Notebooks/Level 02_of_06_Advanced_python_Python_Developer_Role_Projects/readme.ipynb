{
 "cells": [
  {
   "cell_type": "markdown",
   "metadata": {},
   "source": [
    "# expectation is to complete 4 projects end of the level 2\n",
    "1. Files Loading into mongo DB automatically\n",
    "2. Create a web page to collect student info using flask\n",
    "    - http://flask.pocoo.org/docs/1.0/tutorial/\n",
    "2. Create a web page to collect student info using django\n",
    "\n",
    "4. Create reseful api with flask\n",
    "    \n",
    "    - https://medium.com/python-pandemonium/build-simple-restful-api-with-python-and-flask-part-2-724ebf04d12\n",
    "    - https://medium.com/python-pandemonium/build-simple-restful-api-with-python-and-flask-part-1-fae9ff66a706\n",
    "    - https://realpython.com/flask-connexion-rest-api/\n"
   ]
  },
  {
   "cell_type": "code",
   "execution_count": null,
   "metadata": {},
   "outputs": [],
   "source": []
  }
 ],
 "metadata": {
  "kernelspec": {
   "display_name": "Python 3",
   "language": "python",
   "name": "python3"
  },
  "language_info": {
   "codemirror_mode": {
    "name": "ipython",
    "version": 3
   },
   "file_extension": ".py",
   "mimetype": "text/x-python",
   "name": "python",
   "nbconvert_exporter": "python",
   "pygments_lexer": "ipython3",
   "version": "3.6.8"
  }
 },
 "nbformat": 4,
 "nbformat_minor": 2
}
