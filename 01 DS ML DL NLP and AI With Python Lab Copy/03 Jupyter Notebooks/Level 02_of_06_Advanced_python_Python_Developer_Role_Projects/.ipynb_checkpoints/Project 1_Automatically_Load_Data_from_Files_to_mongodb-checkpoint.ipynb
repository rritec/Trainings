{
 "cells": [
  {
   "cell_type": "markdown",
   "metadata": {},
   "source": [
    "# Business Problem Statement: \n",
    "- Everday (EOD) one file we will receive \n",
    "- My business works monday to friday\n",
    "- Saturday we need to load data into mongo database\n",
    "- Once loading is completed take the backup\n",
    "- Send mails to all stack hoders"
   ]
  },
  {
   "cell_type": "markdown",
   "metadata": {},
   "source": [
    "## Step 1. Importing Required Modules"
   ]
  },
  {
   "cell_type": "code",
   "execution_count": 7,
   "metadata": {},
   "outputs": [],
   "source": [
    "import os\n",
    "import glob\n",
    "import pandas as pd\n",
    "\n",
    "# mail related modules\n",
    "import smtplib\n",
    "from email.mime.multipart import MIMEMultipart\n",
    "from email.mime.text import MIMEText\n",
    "\n",
    "# mongo module\n",
    "from pymongo import MongoClient\n",
    "\n",
    "path=\"C:\\\\Users\\\\ramreddymyla\\\\Google Drive\\\\01 DS ML DL NLP and AI With Python Lab Copy\\\\02 Lab Data\\\\Python\\\\files_automation\"\n",
    "os.chdir(path)\n",
    "import shutil\n",
    "\n",
    "# To work with dates\n",
    "from datetime import datetime\n",
    "from time import sleep\n",
    "\n",
    "# it is useful to get version info...etc\n",
    "import sys\n",
    "\n",
    "# import logging module\n",
    "import logging\n",
    "logging.basicConfig(filename=\"logfile.log\", level=logging.INFO)"
   ]
  },
  {
   "cell_type": "markdown",
   "metadata": {},
   "source": [
    "## 2. Searching for Files"
   ]
  },
  {
   "cell_type": "code",
   "execution_count": 8,
   "metadata": {},
   "outputs": [],
   "source": [
    "while True:    \n",
    "    file_count=len(glob.glob(\"transaction*.csv\"))\n",
    "    logging.info(file_count)    \n",
    "    logging.info(f'searching for files {file_count} started at {datetime.now().ctime()}')\n",
    "    if file_count == 5:\n",
    "        logging.info(f'Recived all {file_count} Files')\n",
    "        files_cv  = glob.glob(\"transaction*.csv\") \n",
    "        logging.info(f'File Names are {files_cv} ')        \n",
    "        break        \n",
    "    else:\n",
    "        logging.info(f'Files not found waiting for files {datetime.now().ctime()}')\n",
    "        sleep(20)"
   ]
  },
  {
   "cell_type": "markdown",
   "metadata": {},
   "source": [
    "## 3. Connect to Mongo Database"
   ]
  },
  {
   "cell_type": "code",
   "execution_count": 9,
   "metadata": {},
   "outputs": [],
   "source": [
    "try: \n",
    "    conn = MongoClient() \n",
    "    db = conn.rritec12oct2019\n",
    "    # connecting to table\n",
    "    collection = db.customers\n",
    "    logging.info(f'Mongo Database Connected successfully and connection details are {collection}')\n",
    "except:   \n",
    "    #print(\"Could not connect to MongoDB\")\n",
    "    logging.info('Error while coonecting to Mongo Database')\n",
    "    "
   ]
  },
  {
   "cell_type": "markdown",
   "metadata": {},
   "source": [
    "## 4. Load All Files to Mongo Database"
   ]
  },
  {
   "cell_type": "code",
   "execution_count": 10,
   "metadata": {},
   "outputs": [],
   "source": [
    "for csv in files_cv:\n",
    "    \n",
    "    # reading the csv file        \n",
    "    df = pd.read_csv(csv) \n",
    "    \n",
    "    # updating recent data\n",
    "    collection.insert_many(df.to_dict('records'))        \n",
    "logging.info(f'Inserted All {file_count} files')        "
   ]
  },
  {
   "cell_type": "markdown",
   "metadata": {},
   "source": [
    "## 5. Backup All Files"
   ]
  },
  {
   "cell_type": "code",
   "execution_count": 17,
   "metadata": {},
   "outputs": [],
   "source": [
    "name=\"files_\"+datetime.today().strftime('%Y%m%d')\n",
    "path = os.getcwd()\n",
    "shutil.make_archive(name,'zip',path)\n",
    "logging.info('creating backup for files')"
   ]
  },
  {
   "cell_type": "markdown",
   "metadata": {},
   "source": [
    "## 6. Send Mail To Business/Customers/Down Stream App owners"
   ]
  },
  {
   "cell_type": "code",
   "execution_count": 19,
   "metadata": {},
   "outputs": [],
   "source": [
    "mail_list = [\"dwramreddy@gmail.com\",\"rritec@gmail.com\"]\n",
    "msg=MIMEMultipart()\n",
    "message_body=f\"Mongo Data Refresh Completed {datetime.now().ctime()}\"\n",
    "msg.attach(MIMEText(message_body,'plain'))\n",
    "#msg.attach(MIMEText(open(\"logfile.log\").read()))\n"
   ]
  },
  {
   "cell_type": "code",
   "execution_count": 18,
   "metadata": {},
   "outputs": [],
   "source": [
    "#Note: get app password by following and place in below txt file\n",
    "    \n",
    "#https://support.teamgate.com/hc/en-us/articles/115002064229-How-to-create-a-password-to-connect-email-while-using-2-step-verification-in-Gmail-"
   ]
  },
  {
   "cell_type": "code",
   "execution_count": 20,
   "metadata": {},
   "outputs": [],
   "source": [
    "for i in range(len(mail_list)):\n",
    "    s = smtplib.SMTP('smtp.gmail.com',587)\n",
    "    s.starttls()\n",
    "    s.login(\"dwramreddy@gmail.com\", open(\"E:\\password.txt\").read())\n",
    "    msg['Subject']= f\"Files updated successfully {datetime.now().ctime()}\"\n",
    "    s.sendmail(\"dwramreddy@gmail.com\", mail_list[i], msg.as_string())\n",
    "    s.quit()"
   ]
  },
  {
   "cell_type": "code",
   "execution_count": null,
   "metadata": {},
   "outputs": [],
   "source": []
  }
 ],
 "metadata": {
  "kernelspec": {
   "display_name": "Python 3",
   "language": "python",
   "name": "python3"
  },
  "language_info": {
   "codemirror_mode": {
    "name": "ipython",
    "version": 3
   },
   "file_extension": ".py",
   "mimetype": "text/x-python",
   "name": "python",
   "nbconvert_exporter": "python",
   "pygments_lexer": "ipython3",
   "version": "3.6.9"
  }
 },
 "nbformat": 4,
 "nbformat_minor": 2
}
