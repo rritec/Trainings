{
 "cells": [
  {
   "cell_type": "markdown",
   "metadata": {},
   "source": [
    "# Restful API With `Python Flask and Mongo DB`"
   ]
  },
  {
   "cell_type": "markdown",
   "metadata": {},
   "source": [
    "## Task 1: Creat simple flask app to get `hello rritec`"
   ]
  },
  {
   "cell_type": "markdown",
   "metadata": {},
   "source": [
    "1. Check flask is installed in `base` env\n",
    "    * Open anaconda prompt\n",
    "    * Type `conda list flask`\n",
    "    * If it wrriten nothing then flask package is not installed\n",
    "2. If flask module not installed then install using `anaconda prompt` \n",
    "\n",
    "`pip install flask`\n",
    "\n",
    "2. Create a project using `spyder IDE` or `VS Code`\n",
    "    - Open `spyder IDE`\n",
    "    - Go to `Projects Menu`\n",
    "    - Create one `New Project` in any folder\n",
    "3. Create a `module` with the name as `app.py`\n",
    "4. Copy and paste below code into the `app.py` file "
   ]
  },
  {
   "cell_type": "code",
   "execution_count": 6,
   "metadata": {},
   "outputs": [
    {
     "data": {
      "text/plain": [
       "'from flask import Flask\\n\\napp = Flask(__name__)\\n\\n@app.route(\"/\")\\ndef hello():\\n    return \"Hello RRITEC!\"\\n\\n\\nif __name__ == \\'__main__\\':\\n    app.run(debug=True)'"
      ]
     },
     "execution_count": 6,
     "metadata": {},
     "output_type": "execute_result"
    }
   ],
   "source": [
    "\"\"\"from flask import Flask\n",
    "\n",
    "app = Flask(__name__)\n",
    "\n",
    "@app.route(\"/\")\n",
    "def hello():\n",
    "    return \"Hello RRITEC!\"\n",
    "\n",
    "\n",
    "if __name__ == '__main__':\n",
    "    app.run(debug=True)\"\"\""
   ]
  },
  {
   "cell_type": "markdown",
   "metadata": {},
   "source": [
    "5. save it\n",
    "6. open `Anaconda Prompt`\n",
    "8. type `python` drag and drop `app.py` file\n",
    "9. Notice that server by defualt running on `5000` port\n",
    "10. Go to browser type http://localhost:5000/\n",
    "11. Observe the msg `Hello RRITEC!`"
   ]
  },
  {
   "cell_type": "markdown",
   "metadata": {},
   "source": [
    "## Task 2: Create a `mongo` database"
   ]
  },
  {
   "cell_type": "markdown",
   "metadata": {},
   "source": [
    "1. If not installed mongo db ,please install \n",
    "https://www.mongodb.com/download-center/community\n",
    "2. Open `MongoDB Compass`\n",
    "2. Click on `Connect`\n",
    "3. Click on `Create Database`\n",
    "4. Provide `Database Name` as `rritecMongoDb` and `Collection Name` as `framework`\n",
    "5. Click on `Create Database` \n"
   ]
  },
  {
   "cell_type": "markdown",
   "metadata": {},
   "source": [
    "## Task 3: Create API with GET and POST"
   ]
  },
  {
   "cell_type": "markdown",
   "metadata": {},
   "source": [
    "1. Install pymongo module `conda install -c anaconda pymongo`\n",
    "1. Open `Spyder`\n",
    "2. Create one more module with the name of `mongoapi.py`\n",
    "3. Copy paste below code"
   ]
  },
  {
   "cell_type": "code",
   "execution_count": null,
   "metadata": {},
   "outputs": [],
   "source": [
    "# -*- coding: utf-8 -*-\n",
    "\"\"\"\n",
    "Created on Fri Aug  2 11:30:51 2019\n",
    "\n",
    "@author: Ram Reddy Myla\n",
    "\"\"\"\n",
    "from flask import Flask, jsonify,request\n",
    "import pymongo\n",
    "\n",
    "app = Flask(__name__)\n",
    "\n",
    "myclient = pymongo.MongoClient(u\"mongodb://localhost:27017\")        \n",
    "mydb = myclient[\"rritecMongoDb\"] \n",
    "coll_name='framework'    \n",
    "mycol = mydb[coll_name]\n",
    "\n",
    "# Get all documents from mongo collection\n",
    "\n",
    "@app.route(\"/\")\n",
    "def hello():\n",
    "    return \"Hello RRITEC!\"\n",
    "\n",
    "@app.route('/framework', methods=['GET'])\n",
    "def get_all_frameworks():\n",
    "    output = []\n",
    "\n",
    "    for q in mycol.find():\n",
    "        output.append({'name' : q['name'], 'language' : q['language']})\n",
    "\n",
    "    return jsonify({'result' : output})\n",
    "\n",
    "# Get one documents from mongo collection by filtering on name\n",
    "    \n",
    "@app.route('/framework/<name>', methods=['GET'])\n",
    "def get_one_frameworks(name):\n",
    "    output = []\n",
    "\n",
    "    q = mycol.find_one({'name' : name})\n",
    "    print(q)\n",
    "\n",
    "    if q:\n",
    "        output = {'name' : q['name'], 'language' : q['language']}\n",
    "    else:\n",
    "        output = 'No results found'\n",
    "\n",
    "    return jsonify({'result' : output})\n",
    "\n",
    "# Insert one document into mongo collection\n",
    "\n",
    "@app.route('/framework', methods=['POST'])\n",
    "def add_framework():\n",
    "    #framework = mongo.db.framework \n",
    "\n",
    "    name = request.json['name']\n",
    "    language = request.json['language']\n",
    "\n",
    "    framework_id = mycol.insert({'name' : name, \n",
    "                                     'language' : language})\n",
    "    new_framework = mycol.find_one({'_id' : framework_id})\n",
    "\n",
    "    output = {'name' : new_framework['name'], 'language' : new_framework['language']}\n",
    "\n",
    "    return jsonify({'result' : output})\n",
    "\n",
    "\n",
    "if __name__ == '__main__':\n",
    "    app.run(debug=True)"
   ]
  },
  {
   "cell_type": "markdown",
   "metadata": {},
   "source": [
    "- save it"
   ]
  },
  {
   "cell_type": "markdown",
   "metadata": {},
   "source": [
    "# Task 4: Test it"
   ]
  },
  {
   "cell_type": "markdown",
   "metadata": {},
   "source": [
    "1. If `postman` not installed ,please install it https://www.getpostman.com/downloads/\n",
    "2. Open `postman`\n",
    "3. Select `POST` \n",
    "4. Type the url http://127.0.0.1:5000/framework\n",
    "5. Click on `Body`\n",
    "6. Select `raw`\n",
    "7. Select `JSON(application/json\n",
    "8. Type below dict record\n",
    "\n",
    "`{ \"name\":\"django\",\n",
    "\"language\":\"python\"\n",
    "}`\n",
    "\n",
    "9. click on `Send`\n",
    "\n",
    "10 . open database collection and observe document.\n"
   ]
  },
  {
   "cell_type": "code",
   "execution_count": null,
   "metadata": {},
   "outputs": [],
   "source": []
  }
 ],
 "metadata": {
  "kernelspec": {
   "display_name": "Python 3",
   "language": "python",
   "name": "python3"
  },
  "language_info": {
   "codemirror_mode": {
    "name": "ipython",
    "version": 3
   },
   "file_extension": ".py",
   "mimetype": "text/x-python",
   "name": "python",
   "nbconvert_exporter": "python",
   "pygments_lexer": "ipython3",
   "version": "3.6.9"
  }
 },
 "nbformat": 4,
 "nbformat_minor": 2
}
