{
 "cells": [
  {
   "cell_type": "markdown",
   "metadata": {},
   "source": [
    "# Tableau and Power BI end to end understanding"
   ]
  },
  {
   "cell_type": "markdown",
   "metadata": {},
   "source": [
    "## Download Required Softwares"
   ]
  },
  {
   "cell_type": "markdown",
   "metadata": {},
   "source": [
    "- https://www.tableau.com/products/desktop/download\n",
    "- https://powerbi.microsoft.com/en-us/desktop/\n",
    "    "
   ]
  },
  {
   "cell_type": "markdown",
   "metadata": {},
   "source": [
    "### Develop areport in tableau and publish to tableau online"
   ]
  },
  {
   "cell_type": "markdown",
   "metadata": {},
   "source": [
    "#### data modeling"
   ]
  },
  {
   "cell_type": "markdown",
   "metadata": {},
   "source": [
    "- open tableau Desktop\n",
    "- Click on Excel\n",
    "- Get sample-superstore.xls file from our labdata folder\n",
    "- drag and drop orders .people and returns \n",
    "- observe all joins\n",
    "- Good job we completed data modeling :)\n"
   ]
  },
  {
   "cell_type": "markdown",
   "metadata": {},
   "source": [
    "#### Develop reports\n",
    "- get top 10 sales wise good products\n",
    "    - Click on sheet1\n",
    "    - Drag and drop `product name` onto `Rows`\n",
    "    - Drag and drop `sales` onto `text' of the marks cards\n",
    "    - Drag and drop `Product Name ` onto Filters pane\n",
    "    - Click on `Top` tab \n",
    "    - Click on `By Field` \n",
    "    - click on `ok`\n",
    "- get top 10 sales wise good customers\n",
    "    - In above process replace `Product name with Cusromer name`"
   ]
  },
  {
   "cell_type": "markdown",
   "metadata": {},
   "source": [
    "#### Develop a dashboard\n",
    "- From the Footer click on `New Dashboard`\n",
    "- rename `New Dashboard` to `Top 10 analysis Dashboard`\n",
    "- Drag and drop `Top 10 product sales wise` into dashboard work area\n",
    "- Drag and drop `Top 10 customer sales wise` right side of the dashboard work area"
   ]
  },
  {
   "cell_type": "markdown",
   "metadata": {},
   "source": [
    "#### Develop a story"
   ]
  },
  {
   "cell_type": "markdown",
   "metadata": {},
   "source": [
    "- From The Footer click on `New Story`\n",
    "- Drag and drop above `dashboard`"
   ]
  },
  {
   "cell_type": "markdown",
   "metadata": {},
   "source": [
    "#### save"
   ]
  },
  {
   "cell_type": "markdown",
   "metadata": {},
   "source": [
    "- Go to `File` Menu \n",
    "- `save`\n",
    "- provide name `simple_story_yyyymmdd.twb`"
   ]
  },
  {
   "cell_type": "markdown",
   "metadata": {},
   "source": [
    "#### Publish to online so that users will enjoy it"
   ]
  },
  {
   "cell_type": "markdown",
   "metadata": {},
   "source": [
    "- Go to `Server` menu\n",
    "- Click on `Publish Workbook`\n",
    "- Clik on `Tableau Online`\n",
    "- signin/signup\n",
    "- Publish it\n",
    "- In the browser observe reports/dashboards/stories"
   ]
  },
  {
   "cell_type": "markdown",
   "metadata": {},
   "source": [
    "> `Home Work:` If really you need more ,please listen all videos https://www.tableau.com/learn/training"
   ]
  },
  {
   "cell_type": "markdown",
   "metadata": {},
   "source": [
    "### Develop a report in powerBI and publish to PowerBI Service"
   ]
  },
  {
   "cell_type": "markdown",
   "metadata": {},
   "source": [
    "#### Develop a report in power bi\n",
    "- Open `Power BI Desktop`\n",
    "- close the `welcome Window`\n",
    "- Click on `Get Data`\n",
    "- Select Excel\n",
    "- Browse and select `scottdata.xls` from `labdata` folder\n",
    "- select `emp` and `dept`\n",
    "- click on `Load`\n",
    "- Click on the work area(white empty space)\n",
    "- select check box of `dname` and `sal` in the `Fields` pane\n",
    "- similarly click another space and develo loc wise sal \n",
    "- clcik on `save`\n",
    "- select the folder and name it as `simple_report_yyyymmdd.pbix`\n"
   ]
  },
  {
   "cell_type": "markdown",
   "metadata": {},
   "source": [
    "#### publish to powerbi service"
   ]
  },
  {
   "cell_type": "markdown",
   "metadata": {},
   "source": [
    "- click on `publish`\n",
    "- sign/signup\n",
    "- Observe report in web browser\n",
    "- Share this url to business"
   ]
  },
  {
   "cell_type": "code",
   "execution_count": null,
   "metadata": {},
   "outputs": [],
   "source": []
  }
 ],
 "metadata": {
  "kernelspec": {
   "display_name": "Python 3",
   "language": "python",
   "name": "python3"
  },
  "language_info": {
   "codemirror_mode": {
    "name": "ipython",
    "version": 3
   },
   "file_extension": ".py",
   "mimetype": "text/x-python",
   "name": "python",
   "nbconvert_exporter": "python",
   "pygments_lexer": "ipython3",
   "version": "3.6.9"
  }
 },
 "nbformat": 4,
 "nbformat_minor": 2
}
