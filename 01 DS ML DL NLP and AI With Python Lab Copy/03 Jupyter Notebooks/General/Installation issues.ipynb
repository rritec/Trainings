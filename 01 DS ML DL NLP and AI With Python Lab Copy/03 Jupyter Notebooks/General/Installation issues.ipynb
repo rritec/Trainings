{
 "cells": [
  {
   "cell_type": "markdown",
   "metadata": {},
   "source": [
    "# 1. mongo hanging"
   ]
  },
  {
   "cell_type": "markdown",
   "metadata": {},
   "source": [
    "Open `cmd` type `powershell` as shown below\n",
    "\n",
    "`C:\\Users\\ramreddymyla>powershell`\n"
   ]
  },
  {
   "cell_type": "markdown",
   "metadata": {},
   "source": [
    "- upgrade powershell follow below link\n",
    "\n",
    "https://stackoverflow.com/questions/1825585/determine-installed-powershell-version"
   ]
  },
  {
   "cell_type": "markdown",
   "metadata": {
    "collapsed": true
   },
   "source": [
    "# 2. Downgrad python "
   ]
  },
  {
   "cell_type": "markdown",
   "metadata": {},
   "source": [
    "- <code> conda install python=3.6</code>\n",
    "- <code> pip install rasa_core</code>\n",
    "- <code> conda install -c derickl sklearn-crfsuite </code>\n",
    "- <code> python -m spacy download en </code>\n",
    "- <code> python -m spacy download en_core_web_sm </code>"
   ]
  },
  {
   "cell_type": "markdown",
   "metadata": {},
   "source": [
    "# 3.make is not working\n",
    "\n",
    "## error msg: \n",
    "- 'make' is not recognized as an internal or external command,\n",
    "operable program or batch file.\n",
    "\n",
    "## sol\n",
    "- download and install gnuwin32 software  complete package http://gnuwin32.sourceforge.net/packages/make.htm\n",
    "- At the end of  **user path** variable put semicolon and add as for your system(example C:\\Program Files (x86)\\GnuWin32\\bin)\n",
    "    "
   ]
  },
  {
   "cell_type": "markdown",
   "metadata": {},
   "source": [
    "# 4. Create Virtualenv for deeplearning with python 3.6"
   ]
  },
  {
   "cell_type": "markdown",
   "metadata": {},
   "source": [
    "- Create Virtual Env\n",
    "    * open anaconda Navigator\n",
    "    * click on Enviornments\n",
    "    * click on create and name it as dl\n",
    "    * select 3.6 of python\n",
    "    * click on create\n",
    "    * once completed enable jupyter\n",
    "        * Select dl env\n",
    "        * select not installed\n",
    "        * select jupyter\n",
    "        * click on apply\n",
    "- open anaconda prompt\n",
    "- `conda activate dl`\n",
    "- `pip install tensorflow`\n",
    "- `pip install keras`"
   ]
  },
  {
   "cell_type": "code",
   "execution_count": null,
   "metadata": {},
   "outputs": [],
   "source": []
  }
 ],
 "metadata": {
  "kernelspec": {
   "display_name": "Python 3",
   "language": "python",
   "name": "python3"
  },
  "language_info": {
   "codemirror_mode": {
    "name": "ipython",
    "version": 3
   },
   "file_extension": ".py",
   "mimetype": "text/x-python",
   "name": "python",
   "nbconvert_exporter": "python",
   "pygments_lexer": "ipython3",
   "version": "3.6.9"
  }
 },
 "nbformat": 4,
 "nbformat_minor": 2
}
