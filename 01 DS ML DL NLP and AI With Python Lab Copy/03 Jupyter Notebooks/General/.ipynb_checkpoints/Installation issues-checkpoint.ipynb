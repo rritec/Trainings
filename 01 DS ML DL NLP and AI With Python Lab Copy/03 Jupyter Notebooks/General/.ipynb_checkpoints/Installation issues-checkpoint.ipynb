{
 "cells": [
  {
   "cell_type": "markdown",
   "metadata": {},
   "source": [
    "# 1. mongo hanging"
   ]
  },
  {
   "cell_type": "markdown",
   "metadata": {},
   "source": [
    "- upgrade powershell follow below link\n",
    "\n",
    "https://stackoverflow.com/questions/1825585/determine-installed-powershell-version"
   ]
  },
  {
   "cell_type": "markdown",
   "metadata": {
    "collapsed": true
   },
   "source": [
    "# 2. Downgrad python "
   ]
  },
  {
   "cell_type": "markdown",
   "metadata": {},
   "source": [
    "- <code> conda install python=3.6</code>\n",
    "- <code> pip install rasa_core</code>\n",
    "- <code> conda install -c derickl sklearn-crfsuite </code>\n",
    "- <code> python -m spacy download en </code>\n",
    "- <code> python -m spacy download en_core_web_sm </code>"
   ]
  },
  {
   "cell_type": "code",
   "execution_count": null,
   "metadata": {},
   "outputs": [],
   "source": []
  }
 ],
 "metadata": {
  "kernelspec": {
   "display_name": "Python 3",
   "language": "python",
   "name": "python3"
  },
  "language_info": {
   "codemirror_mode": {
    "name": "ipython",
    "version": 3
   },
   "file_extension": ".py",
   "mimetype": "text/x-python",
   "name": "python",
   "nbconvert_exporter": "python",
   "pygments_lexer": "ipython3",
   "version": "3.6.8"
  }
 },
 "nbformat": 4,
 "nbformat_minor": 2
}
