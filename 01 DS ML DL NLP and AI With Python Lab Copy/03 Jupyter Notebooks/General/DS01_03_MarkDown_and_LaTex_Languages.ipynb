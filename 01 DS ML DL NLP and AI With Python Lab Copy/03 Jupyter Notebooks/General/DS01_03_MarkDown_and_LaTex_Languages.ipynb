{
 "cells": [
  {
   "cell_type": "markdown",
   "metadata": {
    "colab_type": "text",
    "id": "KQdh0WTEbI__"
   },
   "source": [
    "# Markdown\n",
    "-------------------------\n",
    "- it is subset of HTML language\n",
    "- it is used in github\n",
    "- it is used in NLP(training examples ,stories ..etc)\n",
    "\n",
    "* [Refer Main Website](https://daringfireball.net/projects/markdown/)\n",
    "* [Cheatsheet](https://github.com/adam-p/markdown-here/wiki/Markdown-Here-Cheatsheet)"
   ]
  },
  {
   "cell_type": "markdown",
   "metadata": {
    "colab_type": "text",
    "id": "vtcduQBtbJAO"
   },
   "source": [
    "# 1. Headings\n",
    "-------------------------------------------------------"
   ]
  },
  {
   "cell_type": "markdown",
   "metadata": {
    "colab_type": "text",
    "id": "62RRljhXbJAe"
   },
   "source": [
    "# Heading 1\n",
    "## Heading 2\n",
    "### Heading 3\n",
    "#### Heading 4\n",
    "##### Heading 5\n",
    "###### Heading 6\n",
    "# Heading 1 and underline\n",
    "-------------------------------------\n",
    "## Heading 2 and underline\n",
    "-------------------------------------\n",
    "### Heading 3 and underline\n",
    "-------------------------------------\n",
    "#### Heading 4 and underline\n",
    "-------------------------------------\n",
    "##### Heading 5 and underline\n",
    "-------------------------------------\n",
    "###### Heading 6 and underline\n",
    "-------------------------------------"
   ]
  },
  {
   "cell_type": "markdown",
   "metadata": {
    "colab_type": "text",
    "id": "sQzT9RXMbJAt"
   },
   "source": [
    "# 2. Emphasis\n",
    "---------------------------------\n",
    "Emphasis, aka italics, with *asterisks* or _underscores_.\n",
    "\n",
    "Strong emphasis, aka bold, with **asterisks** or __underscores__.\n",
    "\n",
    "Combined emphasis with **asterisks and _underscores_**.\n",
    "\n",
    "Strikethrough uses two tildes. ~~Scratch This~~"
   ]
  },
  {
   "cell_type": "markdown",
   "metadata": {
    "colab_type": "text",
    "id": "p3uu76nobJA9"
   },
   "source": [
    "# 3. List\n",
    "-----------------------\n",
    "## 3.1 Ordered list\n",
    "1. First ordered list item\n",
    "2. Another item\n",
    "  * Unordered sub-list. \n",
    "40. Another item\n",
    "  1. Ordered sub-list\n",
    "4. And another item.  "
   ]
  },
  {
   "cell_type": "markdown",
   "metadata": {
    "colab_type": "text",
    "id": "iCZjs5bAbJBN"
   },
   "source": [
    "## 3.2 Unordered list\n",
    "\n",
    "* Unordered list can use asterisks\n",
    "- Or minuses\n",
    "+ Or pluses"
   ]
  },
  {
   "cell_type": "markdown",
   "metadata": {
    "colab_type": "text",
    "id": "V9Q3GJzSbJBN"
   },
   "source": [
    "# 4. Links\n",
    "---------------------\n",
    "[I'm an inline-style link](https://www.google.com)\n",
    "\n",
    "[I'm a reference-style link][Arbitrary case-insensitive reference text]\n",
    "\n",
    "[You can use numbers for reference-style link definitions][1]\n",
    "\n",
    "Or leave it empty and use the [link text itself]\n",
    "\n",
    "URLs and URLs in angle brackets will automatically get turned into links. \n",
    "http://www.example.com or <http://www.example.com> \n",
    "\n",
    "Some text to show that the reference links can follow later.\n",
    "\n",
    "[arbitrary case-insensitive reference text]: https://www.mozilla.org\n",
    "[1]: http://slashdot.org\n",
    "[link text itself]: http://www.reddit.com"
   ]
  },
  {
   "cell_type": "markdown",
   "metadata": {
    "colab_type": "text",
    "id": "O4w1tPGKbJBN"
   },
   "source": [
    "# 5. Images\n",
    "-------------------\n",
    "\n",
    "Here's our logo (hover to see the title text):\n",
    "\n",
    "Inline-style: \n",
    "![Image of RamReddy](https://raw.githubusercontent.com/rritec/datahexa/master/images/RamReddy.jpg \"RamReddy Data Science Mentor\")\n",
    "\n",
    "Reference-style: \n",
    "![alt text][logo]\n",
    "\n",
    "[logo]: https://raw.githubusercontent.com/rritec/datahexa/master/images/datahexa%20logo.jpg \"DataHexa logo\""
   ]
  },
  {
   "cell_type": "markdown",
   "metadata": {
    "colab_type": "text",
    "id": "H2gY17yWbJBN"
   },
   "source": [
    "# 6. Code and Syntax Highlighting\n",
    "------------------------------------------------\n",
    "```python\n",
    "s = \"Python syntax highlighting\"\n",
    "print(s)\n",
    "```\n",
    "\n",
    "```javascript\n",
    "var s = \"JavaScript syntax highlighting\";\n",
    "alert(s);\n",
    "```\n"
   ]
  },
  {
   "cell_type": "markdown",
   "metadata": {
    "colab_type": "text",
    "id": "aJ1HQ1BBbJBN"
   },
   "source": [
    "# 7. Tables\n",
    "------------------\n",
    "Colons can be used to align columns.\n",
    "\n",
    "| Tables        | Are           | Cool  |\n",
    "|:-------------|:-------------|-----:|\n",
    "|Col1 is left aligned|It is middle aligned|it is right aligned|\n",
    "| DS |Number|1|\n",
    "\n",
    "The outer pipes (|) are optional, and you don't need to make the raw Markdown line up prettily. You can also use inline Markdown.\n",
    "\n",
    "Markdown | Less | Pretty\n",
    "--- | --- | ---\n",
    "*Still* | `renders` | **nicely**\n",
    "1 | 2 | 3"
   ]
  },
  {
   "cell_type": "markdown",
   "metadata": {
    "colab_type": "text",
    "id": "9eswtgBibJBN"
   },
   "source": [
    "# 8.Blockquotes\n",
    "-----------------------\n",
    "> Blockquotes are very handy in email to emulate reply text.\n",
    "> This line is part of the same quote.\n",
    "\n",
    "    Quote break.\n",
    "\n",
    "> This is a very long line that will still be quoted properly when it wraps. Oh boy let's keep writing to make sure this is long enough to actually wrap for everyone. Oh, you can *put* **Markdown** into a blockquote. \n",
    "\n",
    "    Quote break.\n",
    "\n",
    ">The quick brown fox jumped over the lazy\n",
    "dog's back."
   ]
  },
  {
   "cell_type": "markdown",
   "metadata": {
    "colab_type": "text",
    "collapsed": true,
    "id": "bBE52oHCbJBc"
   },
   "source": [
    "# 9.Video embeding"
   ]
  },
  {
   "cell_type": "markdown",
   "metadata": {
    "colab_type": "text",
    "id": "vaUnnu5lbJBc"
   },
   "source": [
    "Listen Smal video\n",
    "[![IMAGE ALT TEXT HERE](http://img.youtube.com/vi/yT58gTXdQb8/0.jpg)](http://www.youtube.com/watch?v=yT58gTXdQb8)"
   ]
  },
  {
   "cell_type": "markdown",
   "metadata": {
    "colab": {},
    "colab_type": "code",
    "id": "4ffOMsKYbJBs"
   },
   "source": [
    "# 10. latex"
   ]
  },
  {
   "cell_type": "markdown",
   "metadata": {},
   "source": [
    "$(a+b)^2 = a^2 + b^2 + 2 * a * b$"
   ]
  },
  {
   "cell_type": "markdown",
   "metadata": {},
   "source": [
    "$\\left(\\frac{1}{\\sqrt{x}}\\right)$"
   ]
  },
  {
   "cell_type": "markdown",
   "metadata": {},
   "source": [
    "$\\left[\\begin{matrix}\n",
    "1 & 2 \\\\\n",
    "3 & 4\n",
    "\\end{matrix}\\right]$"
   ]
  },
  {
   "cell_type": "markdown",
   "metadata": {},
   "source": [
    "$f(x) = x^2$"
   ]
  },
  {
   "cell_type": "markdown",
   "metadata": {},
   "source": [
    "$F(x) = \\int^a_b \\frac{1}{3}x^3$"
   ]
  },
  {
   "cell_type": "markdown",
   "metadata": {},
   "source": [
    "$g(x) = \\frac{1}{x}$"
   ]
  },
  {
   "cell_type": "markdown",
   "metadata": {},
   "source": [
    "- Stadard deviation\n",
    "\n",
    "$\\sigma = \\sqrt{ \\frac{1}{N}\\sum^N_{i=1}(x_{i}-\\mu)^2} $"
   ]
  },
  {
   "cell_type": "code",
   "execution_count": null,
   "metadata": {},
   "outputs": [],
   "source": []
  }
 ],
 "metadata": {
  "colab": {
   "name": "DS01_03_MarkDown_language.ipynb",
   "provenance": [],
   "version": "0.3.2"
  },
  "kernelspec": {
   "display_name": "Python 3",
   "language": "python",
   "name": "python3"
  },
  "language_info": {
   "codemirror_mode": {
    "name": "ipython",
    "version": 3
   },
   "file_extension": ".py",
   "mimetype": "text/x-python",
   "name": "python",
   "nbconvert_exporter": "python",
   "pygments_lexer": "ipython3",
   "version": "3.6.9"
  }
 },
 "nbformat": 4,
 "nbformat_minor": 1
}
