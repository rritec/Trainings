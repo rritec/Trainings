{
 "cells": [
  {
   "cell_type": "markdown",
   "metadata": {},
   "source": [
    "# Robust NLU/NLP with Rasa with Tensor Flow \n",
    "------------"
   ]
  },
  {
   "cell_type": "markdown",
   "metadata": {},
   "source": [
    "#### Step 1: Import necessary modules"
   ]
  },
  {
   "cell_type": "code",
   "execution_count": 27,
   "metadata": {},
   "outputs": [],
   "source": [
    "from rasa.nlu.training_data import load_data\n",
    "from rasa.nlu.config import RasaNLUModelConfig\n",
    "from rasa.nlu.model import Trainer"
   ]
  },
  {
   "cell_type": "markdown",
   "metadata": {},
   "source": [
    "#### Step 2: Create Trainer"
   ]
  },
  {
   "cell_type": "code",
   "execution_count": 28,
   "metadata": {},
   "outputs": [],
   "source": [
    "Trainer?"
   ]
  },
  {
   "cell_type": "code",
   "execution_count": 29,
   "metadata": {},
   "outputs": [],
   "source": [
    "# Create args dictionary\n",
    "args = {\"pipeline\": \"tensorflow_embedding\"} # only this line is different from prev exercise\n",
    "# Create a configuration and trainer\n",
    "config = RasaNLUModelConfig(configuration_values=args)\n",
    "trainer = Trainer(config)"
   ]
  },
  {
   "cell_type": "markdown",
   "metadata": {},
   "source": [
    "#### Step 3: Prepare Intents, Training Examples and Entities\n",
    "- [Open RASA NLU Trainer](https://rasahq.github.io/rasa-nlu-trainer/)\n",
    "- Did you understand how to add Intents / training examples / Entities?\n",
    "- Did you understand sample data? How many Intents are there in sample data?\n",
    "\n",
    "    - <input type=\"radio\" disabled> One\n",
    "    - <input type=\"radio\" disabled> Two\n",
    "    - <input type=\"radio\" disabled> Three\n",
    "    - <input type=\"radio\" disabled checked> Four "
   ]
  },
  {
   "cell_type": "markdown",
   "metadata": {},
   "source": [
    "#### Step 4: Load Training Data\n",
    "- Download Training data from [RASA NLU Trainier](https://rasahq.github.io/rasa-nlu-trainer/)"
   ]
  },
  {
   "cell_type": "code",
   "execution_count": 30,
   "metadata": {},
   "outputs": [],
   "source": [
    "# Load the training data\n",
    "training_data = load_data(\"C:\\\\Users\\\\ramreddymyla\\\\Google Drive\\\\01 DS ML DL NLP and AI With Python Lab Copy\\\\02 Lab Data\\\\Python\\\\testData.json\")"
   ]
  },
  {
   "cell_type": "markdown",
   "metadata": {},
   "source": [
    "#### Step 5: Create Interpreter"
   ]
  },
  {
   "cell_type": "code",
   "execution_count": 31,
   "metadata": {},
   "outputs": [
    {
     "name": "stderr",
     "output_type": "stream",
     "text": [
      "Epochs: 100%|████████████████████████████████████████████████| 300/300 [00:02<00:00, 138.66it/s, loss=0.079, acc=1.000]\n"
     ]
    }
   ],
   "source": [
    "# Create an interpreter by training the model\n",
    "interpreter = trainer.train(training_data)"
   ]
  },
  {
   "cell_type": "markdown",
   "metadata": {},
   "source": [
    "#### Step 6: Test it"
   ]
  },
  {
   "cell_type": "code",
   "execution_count": 32,
   "metadata": {},
   "outputs": [
    {
     "name": "stdout",
     "output_type": "stream",
     "text": [
      "{\n",
      "  \"intent\": {\n",
      "    \"name\": \"restaurant_search\",\n",
      "    \"confidence\": 0.961423397064209\n",
      "  },\n",
      "  \"entities\": [\n",
      "    {\n",
      "      \"start\": 18,\n",
      "      \"end\": 25,\n",
      "      \"value\": \"Mexican\",\n",
      "      \"entity\": \"cuisine\",\n",
      "      \"confidence\": 0.5408505163259362,\n",
      "      \"extractor\": \"CRFEntityExtractor\"\n",
      "    }\n",
      "  ],\n",
      "  \"intent_ranking\": [\n",
      "    {\n",
      "      \"name\": \"restaurant_search\",\n",
      "      \"confidence\": 0.961423397064209\n",
      "    },\n",
      "    {\n",
      "      \"name\": \"affirm\",\n",
      "      \"confidence\": 0.113399438560009\n",
      "    },\n",
      "    {\n",
      "      \"name\": \"goodbye\",\n",
      "      \"confidence\": 0.0\n",
      "    },\n",
      "    {\n",
      "      \"name\": \"greet\",\n",
      "      \"confidence\": 0.0\n",
      "    }\n",
      "  ],\n",
      "  \"text\": \"I'm looking for a Mexican restaurant in the North of town\"\n",
      "}\n"
     ]
    }
   ],
   "source": [
    "# Try it out\n",
    "import json\n",
    "print(json.dumps(interpreter.parse(\"I'm looking for a Mexican restaurant in the North of town\"), indent=2))\n"
   ]
  },
  {
   "cell_type": "code",
   "execution_count": 33,
   "metadata": {},
   "outputs": [
    {
     "name": "stdout",
     "output_type": "stream",
     "text": [
      "{\n",
      "  \"intent\": {\n",
      "    \"name\": \"greet\",\n",
      "    \"confidence\": 0.9605741500854492\n",
      "  },\n",
      "  \"entities\": [],\n",
      "  \"intent_ranking\": [\n",
      "    {\n",
      "      \"name\": \"greet\",\n",
      "      \"confidence\": 0.9605741500854492\n",
      "    },\n",
      "    {\n",
      "      \"name\": \"goodbye\",\n",
      "      \"confidence\": 0.009650344960391521\n",
      "    },\n",
      "    {\n",
      "      \"name\": \"restaurant_search\",\n",
      "      \"confidence\": 0.0\n",
      "    },\n",
      "    {\n",
      "      \"name\": \"affirm\",\n",
      "      \"confidence\": 0.0\n",
      "    }\n",
      "  ],\n",
      "  \"text\": \"hi\"\n",
      "}\n"
     ]
    }
   ],
   "source": [
    "# Try it out\n",
    "print(json.dumps(interpreter.parse(\"hi\"), indent=2))"
   ]
  },
  {
   "cell_type": "code",
   "execution_count": 34,
   "metadata": {},
   "outputs": [
    {
     "name": "stdout",
     "output_type": "stream",
     "text": [
      "{\n",
      "  \"intent\": {\n",
      "    \"name\": \"affirm\",\n",
      "    \"confidence\": 0.9511617422103882\n",
      "  },\n",
      "  \"entities\": [],\n",
      "  \"intent_ranking\": [\n",
      "    {\n",
      "      \"name\": \"affirm\",\n",
      "      \"confidence\": 0.9511617422103882\n",
      "    },\n",
      "    {\n",
      "      \"name\": \"restaurant_search\",\n",
      "      \"confidence\": 0.009466998279094696\n",
      "    },\n",
      "    {\n",
      "      \"name\": \"goodbye\",\n",
      "      \"confidence\": 0.0\n",
      "    },\n",
      "    {\n",
      "      \"name\": \"greet\",\n",
      "      \"confidence\": 0.0\n",
      "    }\n",
      "  ],\n",
      "  \"text\": \"yes\"\n",
      "}\n"
     ]
    }
   ],
   "source": [
    "# Try it out\n",
    "print(json.dumps(interpreter.parse(\"yes\"), indent=2))"
   ]
  },
  {
   "cell_type": "code",
   "execution_count": 35,
   "metadata": {},
   "outputs": [
    {
     "name": "stdout",
     "output_type": "stream",
     "text": [
      "{\n",
      "  \"intent\": {\n",
      "    \"name\": \"goodbye\",\n",
      "    \"confidence\": 0.9607076644897461\n",
      "  },\n",
      "  \"entities\": [],\n",
      "  \"intent_ranking\": [\n",
      "    {\n",
      "      \"name\": \"goodbye\",\n",
      "      \"confidence\": 0.9607076644897461\n",
      "    },\n",
      "    {\n",
      "      \"name\": \"affirm\",\n",
      "      \"confidence\": 0.0\n",
      "    },\n",
      "    {\n",
      "      \"name\": \"restaurant_search\",\n",
      "      \"confidence\": 0.0\n",
      "    },\n",
      "    {\n",
      "      \"name\": \"greet\",\n",
      "      \"confidence\": 0.0\n",
      "    }\n",
      "  ],\n",
      "  \"text\": \"bye\"\n",
      "}\n"
     ]
    }
   ],
   "source": [
    "# Try it out\n",
    "print(json.dumps(interpreter.parse(\"bye\"), indent=2))"
   ]
  },
  {
   "cell_type": "code",
   "execution_count": null,
   "metadata": {},
   "outputs": [],
   "source": []
  },
  {
   "cell_type": "code",
   "execution_count": null,
   "metadata": {},
   "outputs": [],
   "source": []
  }
 ],
 "metadata": {
  "kernelspec": {
   "display_name": "Python 3",
   "language": "python",
   "name": "python3"
  },
  "language_info": {
   "codemirror_mode": {
    "name": "ipython",
    "version": 3
   },
   "file_extension": ".py",
   "mimetype": "text/x-python",
   "name": "python",
   "nbconvert_exporter": "python",
   "pygments_lexer": "ipython3",
   "version": "3.6.9"
  }
 },
 "nbformat": 4,
 "nbformat_minor": 2
}
