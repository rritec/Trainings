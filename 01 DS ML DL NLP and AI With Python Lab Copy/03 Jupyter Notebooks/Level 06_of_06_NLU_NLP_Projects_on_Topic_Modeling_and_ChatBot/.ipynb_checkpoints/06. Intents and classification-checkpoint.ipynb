{
 "cells": [
  {
   "cell_type": "markdown",
   "metadata": {},
   "source": [
    "# Intents and classification"
   ]
  },
  {
   "cell_type": "markdown",
   "metadata": {},
   "source": [
    "1.\tSupervised Learning\n",
    "    - A classifier predicts the intent label for a given sentence\n",
    "    - 'Fit' classifier by tuning it on training data\n",
    "    - Evaluate performance on test data\n",
    "    - Accuracy: the fraction of labels we predict correctly\n",
    "2.\tNeed to write algorithms using sklearn svm …etc . we will do later"
   ]
  },
  {
   "cell_type": "code",
   "execution_count": null,
   "metadata": {},
   "outputs": [],
   "source": []
  }
 ],
 "metadata": {
  "kernelspec": {
   "display_name": "Python 3",
   "language": "python",
   "name": "python3"
  },
  "language_info": {
   "codemirror_mode": {
    "name": "ipython",
    "version": 3
   },
   "file_extension": ".py",
   "mimetype": "text/x-python",
   "name": "python",
   "nbconvert_exporter": "python",
   "pygments_lexer": "ipython3",
   "version": "3.6.8"
  }
 },
 "nbformat": 4,
 "nbformat_minor": 2
}
