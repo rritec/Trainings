{
 "cells": [
  {
   "cell_type": "markdown",
   "metadata": {},
   "source": [
    "# Machine Learning Introduction"
   ]
  },
  {
   "cell_type": "markdown",
   "metadata": {},
   "source": [
    "## What is Algorithm/Estimator?\n",
    "* A `process` or `set of rules` to be followed in calculations especially by a computer.\n",
    "* Example: `Add two numbers`\n",
    "    * Accept two numbers from user\n",
    "    * Add the two numbers\n",
    "    * Return result\n",
    "    "
   ]
  },
  {
   "cell_type": "markdown",
   "metadata": {},
   "source": [
    "## What is machine learning ?\n",
    "1. Two definitions of Machine Learning are offered by \n",
    "    1. Arthur Samuel \n",
    "    2. Tom Mitchell "
   ]
  },
  {
   "cell_type": "markdown",
   "metadata": {},
   "source": [
    "### Arthur Samuel \n",
    "   * The field of study that gives computers the ability to learn without being `explicitly programmed`\n",
    "   * This is an older and informal definition. \n",
    "    ![image.png](https://github.com/rritec/datahexa/blob/master/images/ml/ds000002.png?raw=true)\n",
    "   * Read more about him ,very interesting https://en.wikipedia.org/wiki/Arthur_Samuel\n",
    "\n",
    "    "
   ]
  },
  {
   "cell_type": "markdown",
   "metadata": {},
   "source": [
    "### Tom Mitchell \n",
    "* Provides a more modern definition known as ETP\n",
    "* A computer program is said to learn from `experience` E with respect to some class of `task` T and `performance/accuracy` measure P\n",
    "* Example: playing checkers.\n",
    "![image.png](https://github.com/rritec/datahexa/blob/master/images/ml/ds000003.png?raw=true)\n",
    "    \n",
    "        \n",
    "        * E = the experience of playing many games of checkers\n",
    "        * T = the task of playing checkers.\n",
    "        * P = the probability that the program will win the game."
   ]
  },
  {
   "cell_type": "markdown",
   "metadata": {},
   "source": [
    "### Applications of ML:\n",
    "1. In the past decade, machine learning has given us \n",
    "    * Self Driving Cars\n",
    "    ![image.png](https://github.com/rritec/datahexa/blob/master/images/ml/driverless_car1.jpg?raw=true)\n",
    "    * Practical Speech Recognition\n",
    "    ![image.png](https://github.com/rritec/datahexa/blob/master/images/ml/googlehome.jpg?raw=true)\n",
    "    * Effective Web Search\n",
    "    * Vastly improved understanding of the human genome\n",
    "    * ..etc"
   ]
  },
  {
   "cell_type": "markdown",
   "metadata": {},
   "source": [
    "* `ML is the best way to make progress towards human-level Artificial intelligence(AI)`"
   ]
  },
  {
   "cell_type": "markdown",
   "metadata": {},
   "source": [
    "### MLtypes\n",
    "1. Supervised learning(`if we know y`)\n",
    "    * Classification (the values of y are limited/categorical)\n",
    "    * Regression (the values of y are continious)\n",
    "2. Unsupervised learning(`if you do not y`)\n",
    "    * Clustering\n"
   ]
  },
  {
   "cell_type": "markdown",
   "metadata": {},
   "source": [
    "- In a `regression problem`, we are trying to predict results within a continuous output, meaning that we are trying to map input variables to some `continuous` function. (y=a+b*x)\n",
    "![image.png](https://github.com/rritec/datahexa/blob/master/images/ml/ds000004.png?raw=true)\n",
    "\n",
    "-\tIn a `classification problem`, we are instead trying to predict results in a `discrete` output. In other words, we are trying to map input variables into discrete categories.(yes / NO or Male /Female or bad,good,very good and excellent ,1/0 …etc)\n",
    "- `unsupervised learning`, in which the training data consists of a set of input vectors x without any corresponding target values\n",
    "    - Suppose, you are the head of a rental store and wish to understand preferences of your costumers to scale up your business. Is it possible for you to look at details of each costumer and derive a unique business strategy for each one of them? Definitely not. But, what you can do is to cluster all of your costumers into say 10 groups based on their purchasing habits and use a separate strategy for costumers in each of these 10 groups. And this is what we call clustering\n"
   ]
  },
  {
   "cell_type": "markdown",
   "metadata": {
    "collapsed": true
   },
   "source": [
    "`Refer more information:` https://scikit-learn.org/stable/tutorial/basic/tutorial.html"
   ]
  },
  {
   "cell_type": "markdown",
   "metadata": {},
   "source": [
    "`Test Your Understanding`"
   ]
  },
  {
   "cell_type": "markdown",
   "metadata": {},
   "source": [
    "a.\tGiven data about the size of houses on the real estate market, to predict their price. What type of ML needed?\n",
    "\n",
    "<input type=\"radio\" disabled> Supervised Classification\n",
    "<input type=\"radio\" disabled checked> Supervised Regression\n",
    "<input type=\"radio\" disabled> UNSupervised"
   ]
  },
  {
   "cell_type": "markdown",
   "metadata": {},
   "source": [
    "b.\tHouse \"sells for more or less than the asking price\". What type of ML needed?\n",
    "\n",
    "<input type=\"radio\" disabled checked> Supervised Classification\n",
    "<input type=\"radio\" disabled> Supervised Regression\n",
    "<input type=\"radio\" disabled> UNSupervised"
   ]
  },
  {
   "cell_type": "markdown",
   "metadata": {},
   "source": [
    "c.\tGiven a patient with a tumor, we have to predict whether the tumor is malignant or benign. What type of ML needed?\n",
    "\n",
    "<input type=\"radio\" disabled checked> Supervised Classification\n",
    "<input type=\"radio\" disabled> Supervised Regression\n",
    "<input type=\"radio\" disabled> UNSupervised"
   ]
  },
  {
   "cell_type": "markdown",
   "metadata": {},
   "source": [
    "d.\tGiven a picture of a person, we have to predict their age on the basis of the given picture. What type of ML needed?\n",
    "\n",
    "<input type=\"radio\" disabled> Supervised Classification\n",
    "<input type=\"radio\" disabled checked> Supervised Regression\n",
    "<input type=\"radio\" disabled> UNSupervised"
   ]
  },
  {
   "cell_type": "markdown",
   "metadata": {},
   "source": [
    "e.\tFinding homogenous subgroups within larger group based on the fact People have features such as income, education attainment and gender?\n",
    "\n",
    "<input type=\"radio\" disabled> Supervised Classification\n",
    "<input type=\"radio\" disabled> Supervised Regression\n",
    "<input type=\"radio\" disabled checked> UnSupervised"
   ]
  },
  {
   "cell_type": "code",
   "execution_count": null,
   "metadata": {
    "collapsed": true
   },
   "outputs": [],
   "source": []
  }
 ],
 "metadata": {
  "kernelspec": {
   "display_name": "Python 3",
   "language": "python",
   "name": "python3"
  },
  "language_info": {
   "codemirror_mode": {
    "name": "ipython",
    "version": 3
   },
   "file_extension": ".py",
   "mimetype": "text/x-python",
   "name": "python",
   "nbconvert_exporter": "python",
   "pygments_lexer": "ipython3",
   "version": "3.6.9"
  }
 },
 "nbformat": 4,
 "nbformat_minor": 2
}
