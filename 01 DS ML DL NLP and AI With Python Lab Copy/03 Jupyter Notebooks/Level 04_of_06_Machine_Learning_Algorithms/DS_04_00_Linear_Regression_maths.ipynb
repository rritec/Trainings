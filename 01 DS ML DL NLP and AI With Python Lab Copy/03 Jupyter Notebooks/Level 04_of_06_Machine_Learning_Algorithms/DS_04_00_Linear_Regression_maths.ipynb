{
 "cells": [
  {
   "cell_type": "markdown",
   "metadata": {
    "colab_type": "text",
    "id": "G4JWRD5FEtSu"
   },
   "source": [
    "# Linear Regression Maths\n",
    "----\n"
   ]
  },
  {
   "cell_type": "markdown",
   "metadata": {
    "colab_type": "text",
    "id": "grzbzQfSszdY"
   },
   "source": [
    "1. What is linear equation\n",
    "    - A linear equation is an equation for a straight line\n",
    "![image](https://github.com/rritec/datahexa/blob/dev/images/ml/ds1.png?raw=true)\n",
    "2. Try to draw a graph of below linear equations\n",
    "\n",
    "    i.\t5x = 6 + 3y\n",
    "    \n",
    "    ii.\ty/2 = 3 – x\n",
    "    \n",
    "3.\tDifferent forms of linear equations\n",
    "    - Slope-Intercept Form\n",
    "![image](https://github.com/rritec/datahexa/blob/dev/images/ml/ds2.png?raw=true)\n",
    "4. Point-Slope Form\n",
    "![image](https://github.com/rritec/datahexa/blob/dev/images/ml/ds3.png?raw=true)\n",
    "5. general form \n",
    "![image](https://github.com/rritec/datahexa/blob/dev/images/ml/ds4.png?raw=true)\n",
    "6. As a function\n",
    "![image](https://github.com/rritec/datahexa/blob/dev/images/ml/ds5.png?raw=true)\n",
    "7. The identity function\n",
    "    - i.\tThere is a special linear function called the \"Identity Function\"  : f(x) = x\n",
    "![image](https://github.com/rritec/datahexa/blob/dev/images/ml/ds6.png?raw=true)\n",
    "    - ii.\tIt is called \"Identity\" because what comes out is identical to what goes in\n",
    "![image](https://github.com/rritec/datahexa/blob/dev/images/ml/ds7.png?raw=true)    \n",
    "8. Constant Functions\n",
    "    - Another special type of linear function is the Constant Function ... it is a horizontal line: f(x) = C (or) y = C\n",
    "    - Example y = 3\n",
    "    - No matter what value of \"x\", f(x) is always equal to some constant value\n",
    "![image](https://github.com/rritec/datahexa/blob/dev/images/ml/ds8.png?raw=true) \n",
    "9. Can you identify linear equation ?\n",
    "    - y2 − 2 = 0\n",
    "    - 3√x − y = 6\n",
    "    - x3/2 = 16\n",
    "    - y =3x-6\n",
    "10. Can you calculate equation of a line from given two points?\n",
    "![image](https://github.com/rritec/datahexa/blob/dev/images/ml/ds9.png?raw=true)\n",
    "\n",
    "    - Answer : y =  x/4  +  5/2\n",
    "    \n",
    "[For more  refer](https://www.mathsisfun.com/algebra/line-equation-2points.html)\n",
    "\n",
    "\n",
    "\n",
    "\n",
    "\n"
   ]
  },
  {
   "cell_type": "markdown",
   "metadata": {
    "colab_type": "text",
    "id": "YRlMjwHxszdg"
   },
   "source": [
    "1. What is regression?\n",
    "    - Regression: Predict a numerical outcome (\"dependent variable(y)\") from a set of inputs (\"independent variables(x1, x2 ….xn\").\n",
    "2. Examples: Sample questions\n",
    "    - How many units will we sell? (Regression) (0 to inf)\n",
    "    - What price will the customer pay for our product? (Regression) (0 to Inf)\n",
    "3.\tLinear Regression\n",
    "    - y = β + β1 x1 + β2 x2 + ...\n",
    "    - y is linearly related to each x\n",
    "    - Each x contributes additively to y\n",
    "4.\t[Refer Linear Regression by hand in excel](http://www.learnbymarketing.com/tutorials/linear-regression-by-hand-in-excel/)\n",
    "5.\tLinear regression assumptions. For More information [Refer](http://www.statisticssolutions.com/assumptions-of-linear-regression/)\n",
    "    - Linear relationship\n",
    "    - Multivariate normality\n",
    "    - No or little multicollinearity\n",
    "    - No auto-correlation\n",
    "    - Homoscedasticity\n"
   ]
  },
  {
   "cell_type": "code",
   "execution_count": 0,
   "metadata": {
    "colab": {},
    "colab_type": "code",
    "id": "KB5GnQ-Dszdm"
   },
   "outputs": [],
   "source": []
  }
 ],
 "metadata": {
  "colab": {
   "name": "DS_04_00_Linear_Regression_maths.ipynb",
   "provenance": [],
   "version": "0.3.2"
  },
  "kernelspec": {
   "display_name": "Python 3",
   "language": "python",
   "name": "python3"
  },
  "language_info": {
   "codemirror_mode": {
    "name": "ipython",
    "version": 3
   },
   "file_extension": ".py",
   "mimetype": "text/x-python",
   "name": "python",
   "nbconvert_exporter": "python",
   "pygments_lexer": "ipython3",
   "version": "3.6.9"
  }
 },
 "nbformat": 4,
 "nbformat_minor": 1
}
