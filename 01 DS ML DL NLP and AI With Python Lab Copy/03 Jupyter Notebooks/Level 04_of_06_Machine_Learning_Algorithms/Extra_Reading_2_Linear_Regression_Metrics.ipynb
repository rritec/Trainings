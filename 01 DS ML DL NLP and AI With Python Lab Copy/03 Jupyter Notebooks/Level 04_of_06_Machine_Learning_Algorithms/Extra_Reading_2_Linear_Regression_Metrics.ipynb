{
 "cells": [
  {
   "cell_type": "code",
   "execution_count": 1,
   "metadata": {},
   "outputs": [],
   "source": [
    "%matplotlib inline\n",
    "import matplotlib\n",
    "import matplotlib.pyplot as plt\n",
    "import numpy as np\n",
    "import sklearn, sys\n",
    "import statsmodels.api as sm"
   ]
  },
  {
   "cell_type": "markdown",
   "metadata": {},
   "source": [
    "## Versions"
   ]
  },
  {
   "cell_type": "code",
   "execution_count": 2,
   "metadata": {},
   "outputs": [
    {
     "name": "stdout",
     "output_type": "stream",
     "text": [
      "Python version: 3.6.9 |Anaconda, Inc.| (default, Jul 30 2019, 14:00:49) [MSC v.1915 64 bit (AMD64)] \n",
      "\n",
      "Matplotlib version: 3.1.0\n",
      "Numpy version: 1.16.4\n",
      "Sklearn version: 0.21.2\n"
     ]
    }
   ],
   "source": [
    "libraries = (('Matplotlib', matplotlib), ('Numpy', np), ('Sklearn', sklearn))\n",
    "\n",
    "print(\"Python version:\", sys.version, '\\n')\n",
    "for lib in libraries:\n",
    "    print('{0} version: {1}'.format(lib[0], lib[1].__version__))"
   ]
  },
  {
   "cell_type": "markdown",
   "metadata": {},
   "source": [
    "## Introduction"
   ]
  },
  {
   "cell_type": "markdown",
   "metadata": {},
   "source": [
    "We left off last time discussing the basics of Linear Regression. Specifically, we learned key terminology and how to find parameters for both univariate and multivariate Linear Regression. Now we'll turn our focus to metrics about our model. \n",
    "\n",
    "We'll look at the following key metrics:\n",
    "1. Sum of Squared Errors (SSE)\n",
    "2. Total Sum of Squares (SST)\n",
    "3. $R^{2}$\n",
    "4. adj $R^{2}$\n",
    "\n",
    "To keep things simple, we'll use the univariate baby weight data from the previous notebook and leverage sklearn to find the model parameters."
   ]
  },
  {
   "cell_type": "markdown",
   "metadata": {},
   "source": [
    "#### Simulate Data"
   ]
  },
  {
   "cell_type": "code",
   "execution_count": 3,
   "metadata": {},
   "outputs": [],
   "source": [
    "# reproducibility\n",
    "np.random.seed(10)\n",
    "\n",
    "# generate data\n",
    "babies = range(10)\n",
    "months = np.arange(13)\n",
    "data = [(month, np.dot(month, 24.7) + 96 + np.random.normal(loc=0, scale=20))\n",
    "        for month in months\n",
    "        for baby in babies]\n",
    "month_data = [element[0] for element in data]\n",
    "weight_data = [element[1] for element in data]"
   ]
  },
  {
   "cell_type": "markdown",
   "metadata": {},
   "source": [
    "#### Fit Data"
   ]
  },
  {
   "cell_type": "code",
   "execution_count": 4,
   "metadata": {},
   "outputs": [
    {
     "data": {
      "text/plain": [
       "LinearRegression(copy_X=True, fit_intercept=True, n_jobs=None, normalize=False)"
      ]
     },
     "execution_count": 4,
     "metadata": {},
     "output_type": "execute_result"
    }
   ],
   "source": [
    "from sklearn.linear_model import LinearRegression\n",
    "\n",
    "X = np.array(month_data).reshape(-1,1)\n",
    "y = weight_data\n",
    "\n",
    "lr = LinearRegression(fit_intercept=True)\n",
    "lr.fit(X, y)"
   ]
  },
  {
   "cell_type": "markdown",
   "metadata": {},
   "source": [
    "Technical note: X contains .reshape(-1,1) which creates a fake 2D object for fitting. This trick pops up quite frequently so you should remember it."
   ]
  },
  {
   "cell_type": "markdown",
   "metadata": {},
   "source": [
    "#### Plot Data"
   ]
  },
  {
   "cell_type": "code",
   "execution_count": 5,
   "metadata": {},
   "outputs": [
    {
     "data": {
      "image/png": "[encoded data removed]",
      "text/plain": [
       "<Figure size 576x576 with 1 Axes>"
      ]
     },
     "metadata": {
      "needs_background": "light"
     },
     "output_type": "display_data"
    }
   ],
   "source": [
    "model = lr.predict(months.reshape(-1,1))\n",
    "\n",
    "plt.figure(figsize=(8,8))\n",
    "plt.plot(month_data, weight_data, 'rx', label='baby weight')\n",
    "plt.plot(months, model, 'b', label='linear regression')\n",
    "plt.title('Baby Weights')\n",
    "plt.xlabel('month')\n",
    "plt.ylabel('ounces')\n",
    "plt.xticks(months)\n",
    "plt.legend()\n",
    "plt.grid();"
   ]
  },
  {
   "cell_type": "markdown",
   "metadata": {},
   "source": [
    "## Metrics to Assess Model"
   ]
  },
  {
   "cell_type": "markdown",
   "metadata": {},
   "source": [
    "We will investigate four key metrics:\n",
    "\n",
    "1. Sum of Squared Errors (SSE)\n",
    "2. Total Sum of Squares (SST)\n",
    "3. $R^{2}$ \n",
    "4. adj $R^{2}\n",
    "\n",
    "First, the formulas. Keep in mind that $y$ is the `observed value` whereas $\\hat{y}$ is the `predicted value`. Here, *m* represents the `total number of observations`. For example, if there are 25 baby weigths, then m equals 25. Lastly, $df_{t}$ is the degrees of freedom of the estimate of the population variance of the dependent variable and $df_{e}$ is the degrees of freedom of the estimate of the underlying population error variance. \n",
    "\n",
    "$SSE = \\sum_{i=1}^{m} {(y_{i} - \\hat{y_{i}})^{2}}$ \n",
    "\n",
    "$SST = \\sum_{i=1}^{m} (y - \\bar{y})^{2}$\n",
    "\n",
    "$R^{2} = 1 - \\frac{SSE}{SST}$\n",
    "\n",
    "adj $R^{2} = 1 - \\frac{SSE*df_{t}}{SST*df_{e}}$\n",
    "\n",
    "---\n",
    "\n",
    "I'm going to assume you familiar with basic OOP. If not, you should still get the main idea, though some nuances may be lost. \n",
    "\n",
    "Without further ado, let's create a class to capture the four key statistics about our data. "
   ]
  },
  {
   "cell_type": "code",
   "execution_count": 9,
   "metadata": {},
   "outputs": [
    {
     "data": {
      "text/plain": [
       "129"
      ]
     },
     "execution_count": 9,
     "metadata": {},
     "output_type": "execute_result"
    }
   ],
   "source": [
    "X.shape[0] - 1 "
   ]
  },
  {
   "cell_type": "code",
   "execution_count": 13,
   "metadata": {},
   "outputs": [
    {
     "data": {
      "text/plain": [
       "128"
      ]
     },
     "execution_count": 13,
     "metadata": {},
     "output_type": "execute_result"
    }
   ],
   "source": [
    "X.shape[0] - X.shape[1] - 1 "
   ]
  },
  {
   "cell_type": "code",
   "execution_count": 14,
   "metadata": {},
   "outputs": [],
   "source": [
    "class Stats:\n",
    "    \n",
    "    def __init__(self, X, y, model):\n",
    "        self.data = X\n",
    "        self.target = y\n",
    "        self.model = model\n",
    "        ## degrees of freedom population dep. variable variance\n",
    "        self._dft = X.shape[0] - 1   \n",
    "        ## degrees of freedom population error variance\n",
    "        self._dfe = X.shape[0] - X.shape[1] - 1  \n",
    "    \n",
    "    def sse(self):\n",
    "        '''returns sum of squared errors (model vs actual)'''\n",
    "        squared_errors = (self.target - self.model.predict(self.data)) ** 2\n",
    "        return np.sum(squared_errors)\n",
    "        \n",
    "    def sst(self):\n",
    "        '''returns total sum of squared errors (actual vs avg(actual))'''\n",
    "        avg_y = np.mean(self.target)\n",
    "        squared_errors = (self.target - avg_y) ** 2\n",
    "        return np.sum(squared_errors)\n",
    "    \n",
    "    def r_squared(self):\n",
    "        '''returns calculated value of adjusted r^2'''\n",
    "        return 1 - self.sse()/self.sst()\n",
    "    \n",
    "    def adj_r_squared(self):\n",
    "        '''returns calculated value of adjusted r^2'''\n",
    "        return 1 - (self.sse()/self._dfe) / (self.sst()/self._dft)"
   ]
  },
  {
   "cell_type": "markdown",
   "metadata": {},
   "source": [
    "While we're at it, let's create a pretty print function to generate a nice looking report."
   ]
  },
  {
   "cell_type": "code",
   "execution_count": 15,
   "metadata": {},
   "outputs": [],
   "source": [
    "def pretty_print_stats(stats_obj):\n",
    "    '''returns report of statistics for a given model object'''\n",
    "    items = ( ('sse:', stats_obj.sse()), ('sst:', stats_obj.sst()), \n",
    "             ('r^2:', stats_obj.r_squared()), ('adj_r^2:', stats_obj.adj_r_squared()) )\n",
    "    for item in items:\n",
    "        print('{0:8} {1:.4f}'.format(item[0], item[1]))"
   ]
  },
  {
   "cell_type": "markdown",
   "metadata": {},
   "source": [
    "#### Report on Model"
   ]
  },
  {
   "cell_type": "code",
   "execution_count": 16,
   "metadata": {},
   "outputs": [
    {
     "name": "stdout",
     "output_type": "stream",
     "text": [
      "sse:     50253.0180\n",
      "sst:     1158834.2148\n",
      "r^2:     0.9566\n",
      "adj_r^2: 0.9563\n"
     ]
    }
   ],
   "source": [
    "stats = Stats(X, y, lr)\n",
    "pretty_print_stats(stats)"
   ]
  },
  {
   "cell_type": "markdown",
   "metadata": {},
   "source": [
    "#### Interpretation"
   ]
  },
  {
   "cell_type": "markdown",
   "metadata": {},
   "source": [
    "**SSE** is measure of how far off our model's predictions are from the observed values. A value of 0 indicates perfect predictions. A non-zero value indicates errors. We expect a non-zero value. Why? Because there is almost always irreducible error that we just can't get around unless we're dealing with some trivial problem. \n",
    "\n",
    "**Keep in mind the errors are squared**\n",
    "\n",
    "*Why is that?*\n",
    "\n",
    "Answer: squaring the values makes them all positive. If we didn't square them, then we'd have some positive and some negative values. No matter how you slice it, you end up with error that looks smaller than it is in reality. \n",
    "\n",
    "*But why not use absolute error instead of squared error?*\n",
    "\n",
    "If you think about what squaring does to large numbers you'll realize that we're really penalizing large errors. A single point that deviates from the general trend can cause large squared errors. These anomalous points are called outliers. Much more on this in the next notebook.\n",
    "\n",
    "---"
   ]
  },
  {
   "cell_type": "markdown",
   "metadata": {},
   "source": [
    "**SST** is a measure of the variance in the target variable. It is measured simply as the sum of each observation from the target mean.\n",
    "\n",
    "---"
   ]
  },
  {
   "cell_type": "markdown",
   "metadata": {},
   "source": [
    "**$R^{2}$** measures how much variance is captured by the model. The range for Ordinary Least Squares is [0,1]. It is possible to get negative values for $R^{2}$ but that would require a fitting procedure other than OLS or non-linear data. \n",
    "\n",
    "---"
   ]
  },
  {
   "cell_type": "markdown",
   "metadata": {},
   "source": [
    "**Adjusted $R^{2}$** is the same as standard $R^{2}$ except that it penalizes models when additional features are added. This naturally leads to the next section about why $R^{2}$ is a poor metric to use."
   ]
  },
  {
   "cell_type": "markdown",
   "metadata": {},
   "source": [
    "## Why $R^{2}$ is a Poor Metric"
   ]
  },
  {
   "cell_type": "markdown",
   "metadata": {},
   "source": [
    "$R^{2}$ will only go up as additional features are added, even if they provide the model no new predictive power. See the example below."
   ]
  },
  {
   "cell_type": "markdown",
   "metadata": {},
   "source": [
    "#### Generate Dummy Data"
   ]
  },
  {
   "cell_type": "code",
   "execution_count": 9,
   "metadata": {},
   "outputs": [],
   "source": [
    "def generate_random_data(num_rows, num_features, random_state=None):\n",
    "    '''returns 2D numpy based on user-defined inputs with random features.'''\n",
    "    if random_state:\n",
    "        np.random.seed(random_state)\n",
    "    for feature in range(num_features):\n",
    "        if feature == 0:\n",
    "            data = np.random.uniform(size=num_rows)\n",
    "        elif feature == 1:\n",
    "            data = np.hstack((data.reshape(-1,1),\n",
    "                              np.random.uniform(size=num_rows).reshape(-1,1)))\n",
    "        else:\n",
    "            data = np.hstack((data, np.random.uniform(size=num_rows).reshape(-1,1)))\n",
    "    return data"
   ]
  },
  {
   "cell_type": "code",
   "execution_count": 10,
   "metadata": {},
   "outputs": [],
   "source": [
    "min_features = 1\n",
    "max_features = 100\n",
    "\n",
    "r_squared = []\n",
    "adj_r_squared = []\n",
    "\n",
    "y = generate_random_data(num_rows=200, num_features=1, random_state=99)\n",
    "\n",
    "for features in range(min_features, max_features+1):\n",
    "    X = generate_random_data(num_rows=200, num_features=features, random_state=101)\n",
    "    results = sm.OLS(y, X).fit()\n",
    "    r_squared.append(results.rsquared)\n",
    "    adj_r_squared.append(results.rsquared_adj)"
   ]
  },
  {
   "cell_type": "markdown",
   "metadata": {},
   "source": [
    "#### Plot Varying Number of Features"
   ]
  },
  {
   "cell_type": "code",
   "execution_count": 11,
   "metadata": {},
   "outputs": [
    {
     "data": {
      "image/png": "[encoded data removed]",
      "text/plain": [
       "<matplotlib.figure.Figure at 0x111739ac8>"
      ]
     },
     "metadata": {},
     "output_type": "display_data"
    }
   ],
   "source": [
    "plt.plot(np.arange(1,101), r_squared, color='blue', label='$R^2$')\n",
    "plt.plot(np.arange(1,101), adj_r_squared, color='red', label='$R^2$ adj')\n",
    "plt.title('$R^2$ / $R^2$ adjusted ~ # features')\n",
    "plt.xlabel('# features')\n",
    "plt.ylabel('score')\n",
    "plt.xlim(1,100)\n",
    "plt.ylim(0.55, 1)\n",
    "plt.legend()\n",
    "plt.grid();"
   ]
  },
  {
   "cell_type": "markdown",
   "metadata": {},
   "source": [
    "Ouch! That's bad news. We generated random data. There's absolutely no reason why including more features should lead to a better model. Yet, it's clear from the plot above that $R^{2}$ only increases under these conditions. However, **Adjusted $R^{2}$** levels out because of the penalty involved. \n",
    "\n",
    "The big takeaway here is that you cannot compare two Linear Regression models with differing numbers of features using $R^{2}$ alone. It just cannot be done. Adjusted $R^{2}$ works, though."
   ]
  },
  {
   "cell_type": "markdown",
   "metadata": {},
   "source": [
    "## Wrap Up\n",
    "\n",
    "As we'll see later on, there are better ways to assess machine learning models, namely in-sample vs out-of-sample metrics and cross-validation. More on those in a future post about train/test split and cross-validation.\n",
    "\n",
    "Next time we'll dive into Linear Regression assumptions, pitfalls, and ways to address problems."
   ]
  }
 ],
 "metadata": {
  "kernelspec": {
   "display_name": "Python 3",
   "language": "python",
   "name": "python3"
  },
  "language_info": {
   "codemirror_mode": {
    "name": "ipython",
    "version": 3
   },
   "file_extension": ".py",
   "mimetype": "text/x-python",
   "name": "python",
   "nbconvert_exporter": "python",
   "pygments_lexer": "ipython3",
   "version": "3.6.9"
  }
 },
 "nbformat": 4,
 "nbformat_minor": 2
}
