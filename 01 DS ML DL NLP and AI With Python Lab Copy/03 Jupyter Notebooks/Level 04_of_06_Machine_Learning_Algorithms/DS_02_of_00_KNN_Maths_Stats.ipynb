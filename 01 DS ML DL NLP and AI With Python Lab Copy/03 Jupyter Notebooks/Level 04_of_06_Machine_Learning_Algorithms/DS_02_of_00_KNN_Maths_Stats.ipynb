{
 "cells": [
  {
   "cell_type": "markdown",
   "metadata": {},
   "source": [
    "# Stats/Maths"
   ]
  },
  {
   "cell_type": "markdown",
   "metadata": {},
   "source": [
    "## Minkowski distance\n",
    "- The **Minkowski distance** is a metric in a normed vector space which can be considered as a generalization of both the **Euclidean distance(p==2)** and the **Manhattan distance(p==1)**."
   ]
  },
  {
   "cell_type": "markdown",
   "metadata": {},
   "source": [
    "![min](https://github.com/rritec/datahexa/blob/dev/images/ml/min1.jpg?raw=true)"
   ]
  },
  {
   "cell_type": "markdown",
   "metadata": {},
   "source": [
    "- $D(X,Y) = (\\sum_{i=1}^n |x_{i}-y_{i}|^p)^{1/p}$"
   ]
  },
  {
   "cell_type": "markdown",
   "metadata": {},
   "source": [
    "- Minkowski distance is typically used with p being 1 or 2, which correspond to the `Manhattan distance` and the `Euclidean distance` respectively"
   ]
  },
  {
   "cell_type": "markdown",
   "metadata": {},
   "source": [
    "| X1  | X2 | y |\n",
    "| ------------- | ------------- |------|\n",
    "| 7 | 7  | Bad |\n",
    "| 7 | 4  | Bad |\n",
    "| 3 | 4  | Good |\n",
    "| 1 | 4  | Good |\n",
    "| 3 | 7  | ** ? ** |  "
   ]
  },
  {
   "cell_type": "markdown",
   "metadata": {},
   "source": [
    "- For above example calculate **Euclidean distance**  and if  **K = 3** then find the label of unknown point ?\n",
    "\n",
    "    <input type=\"radio\" disabled> Bad\n",
    "    \n",
    "    <input type=\"radio\" disabled checked> Good\n"
   ]
  },
  {
   "cell_type": "markdown",
   "metadata": {},
   "source": [
    "# Importance of K/n_neighbors\n",
    "![min](https://github.com/rritec/datahexa/blob/dev/images/ml/440px-KnnClassification.svg.png?raw=true)"
   ]
  },
  {
   "cell_type": "markdown",
   "metadata": {},
   "source": [
    "## Hamming distance\n",
    "- In information theory, the Hamming distance between two strings of equal length is the number of positions at which the corresponding symbols are different\n",
    "- [Refer more from wiki](https://en.wikipedia.org/wiki/Hamming_distance)\n",
    "- Example:\n",
    "    \n",
    "![hamming.png](https://github.com/rritec/datahexa/blob/dev/images/ml/ham.png?raw=true)"
   ]
  },
  {
   "cell_type": "markdown",
   "metadata": {},
   "source": [
    "> **Home Work:** Reading Exercise \n",
    "[Refer more from sklearn doc](https://scikit-learn.org/stable/modules/neighbors.html)\n",
    "\n",
    "> once you complete above reading answer below Questions?\n",
    "\n",
    "1. In KNN argument **algorithm**, will not accept below value?\n",
    "\n",
    "    <input type=\"radio\" disabled> brute\n",
    "    \n",
    "    <input type=\"radio\" disabled> KDtree\n",
    "    \n",
    "    <input type=\"radio\" disabled> balltree\n",
    "    \n",
    "    <input type=\"radio\" disabled checked> random tree\n",
    "    \n",
    "2. KNN is ?\n",
    "\n",
    "    <input type=\"radio\" disabled checked> non-parametric method\n",
    "    \n",
    "    <input type=\"radio\" disabled> parametric method\n",
    "    \n",
    "    [Refer about Nonparametric statistics](https://en.wikipedia.org/wiki/Nonparametric_statistics#Applications_and_purpose)\n",
    "    \n",
    "    [Refer about Parametric statistics](https://en.wikipedia.org/wiki/Parametric_statistics)\n"
   ]
  },
  {
   "cell_type": "code",
   "execution_count": null,
   "metadata": {
    "collapsed": true,
    "jupyter": {
     "outputs_hidden": true
    }
   },
   "outputs": [],
   "source": []
  }
 ],
 "metadata": {
  "kernelspec": {
   "display_name": "Python 3",
   "language": "python",
   "name": "python3"
  },
  "language_info": {
   "codemirror_mode": {
    "name": "ipython",
    "version": 3
   },
   "file_extension": ".py",
   "mimetype": "text/x-python",
   "name": "python",
   "nbconvert_exporter": "python",
   "pygments_lexer": "ipython3",
   "version": "3.6.9"
  }
 },
 "nbformat": 4,
 "nbformat_minor": 4
}
