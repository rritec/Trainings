{
 "cells": [
  {
   "cell_type": "markdown",
   "metadata": {},
   "source": [
    "# Unsupervised Learning\n",
    "---------------\n",
    "1. Unsupervised learning: Uses unlabelled data (`no y`)\n",
    "2. Unsupervised learning allows us to approach problems with little or no idea what our results should look like. We can derive structure from data where we don't necessarily know the effect of the variables.\n",
    "3. We can derive this structure by clustering the data based on relationships among the variables in the data.\n",
    "4. Simple words : Unsupervised learning means that there is no outcome to be predicted, and the algorithm just tries to `find patterns in the data`\n"
   ]
  },
  {
   "cell_type": "markdown",
   "metadata": {},
   "source": [
    "## Clustering Examples:\n",
    "----------------\n",
    "1. Example 1: Take a collection of 1,000,000 different genes, and find a way to automatically group these genes into groups that are somehow similar or related by different variables, such as lifespan, location, roles, and so on.\n",
    "\n",
    "2. Example 2: Finding homogenous subgroups within larger group based on the fact People have features such as income, education attainment and gender.\n",
    "![us1](https://github.com/rritec/datahexa/blob/dev/images/ml/us1.png?raw=true)\n",
    " \n",
    "3. Example 3: Market Segmentation \n",
    "\n",
    "![us2](https://github.com/rritec/datahexa/blob/dev/images/ml/us2.png?raw=true)\n",
    " \n",
    "4. Example 4: Movies Segmentation \n",
    "\n",
    "![us3](https://github.com/rritec/datahexa/blob/dev/images/ml/us3.png?raw=true)\n",
    " \n",
    "\n",
    "## Non-clustering Example\n",
    "\n",
    "- The \"Cocktail Party Algorithm\", allows you to find structure in a chaotic/disorder environment. (i.e. identifying individual voices and music from a mesh of sounds at a cocktail party).\n"
   ]
  },
  {
   "cell_type": "code",
   "execution_count": 1,
   "metadata": {},
   "outputs": [],
   "source": [
    "# https://scikit-learn.org/stable/tutorial/statistical_inference/unsupervised_learning.html"
   ]
  },
  {
   "cell_type": "code",
   "execution_count": null,
   "metadata": {},
   "outputs": [],
   "source": []
  }
 ],
 "metadata": {
  "kernelspec": {
   "display_name": "Python 3",
   "language": "python",
   "name": "python3"
  },
  "language_info": {
   "codemirror_mode": {
    "name": "ipython",
    "version": 3
   },
   "file_extension": ".py",
   "mimetype": "text/x-python",
   "name": "python",
   "nbconvert_exporter": "python",
   "pygments_lexer": "ipython3",
   "version": "3.6.9"
  }
 },
 "nbformat": 4,
 "nbformat_minor": 2
}
