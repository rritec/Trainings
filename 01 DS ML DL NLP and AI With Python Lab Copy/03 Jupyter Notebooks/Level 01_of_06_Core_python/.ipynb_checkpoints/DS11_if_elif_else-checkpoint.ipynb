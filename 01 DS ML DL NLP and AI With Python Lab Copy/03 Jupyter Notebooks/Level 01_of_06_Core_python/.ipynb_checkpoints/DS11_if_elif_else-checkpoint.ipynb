{
 "cells": [
  {
   "cell_type": "markdown",
   "metadata": {},
   "source": [
    "# Control Flows\n",
    "-----------------------\n",
    "1. If elif elif .. else\n",
    "2. while\n",
    "3. break\n",
    "4. cotinue\n",
    "5. for "
   ]
  },
  {
   "cell_type": "markdown",
   "metadata": {},
   "source": [
    "## 1. If elif elif ..else"
   ]
  },
  {
   "cell_type": "markdown",
   "metadata": {},
   "source": [
    "### 1.1 What is input function"
   ]
  },
  {
   "cell_type": "code",
   "execution_count": 1,
   "metadata": {},
   "outputs": [
    {
     "name": "stdout",
     "output_type": "stream",
     "text": [
      "10\n"
     ]
    }
   ],
   "source": [
    "a = input()"
   ]
  },
  {
   "cell_type": "code",
   "execution_count": 2,
   "metadata": {},
   "outputs": [
    {
     "data": {
      "text/plain": [
       "'10'"
      ]
     },
     "execution_count": 2,
     "metadata": {},
     "output_type": "execute_result"
    }
   ],
   "source": [
    "a"
   ]
  },
  {
   "cell_type": "code",
   "execution_count": 5,
   "metadata": {},
   "outputs": [
    {
     "name": "stdout",
     "output_type": "stream",
     "text": [
      "10\n"
     ]
    }
   ],
   "source": [
    "a = int(input())"
   ]
  },
  {
   "cell_type": "code",
   "execution_count": 4,
   "metadata": {},
   "outputs": [
    {
     "data": {
      "text/plain": [
       "10"
      ]
     },
     "execution_count": 4,
     "metadata": {},
     "output_type": "execute_result"
    }
   ],
   "source": [
    "a"
   ]
  },
  {
   "cell_type": "code",
   "execution_count": 6,
   "metadata": {},
   "outputs": [
    {
     "name": "stdout",
     "output_type": "stream",
     "text": [
      "please enter some number: 10\n"
     ]
    }
   ],
   "source": [
    "a = int(input(\"please enter some number: \"))"
   ]
  },
  {
   "cell_type": "code",
   "execution_count": 7,
   "metadata": {},
   "outputs": [
    {
     "data": {
      "text/plain": [
       "10"
      ]
     },
     "execution_count": 7,
     "metadata": {},
     "output_type": "execute_result"
    }
   ],
   "source": [
    "a"
   ]
  },
  {
   "cell_type": "code",
   "execution_count": 8,
   "metadata": {
    "collapsed": true
   },
   "outputs": [],
   "source": [
    "input?"
   ]
  },
  {
   "cell_type": "markdown",
   "metadata": {},
   "source": [
    "### 1.2 Print given number is +ve or -ve or zero"
   ]
  },
  {
   "cell_type": "code",
   "execution_count": 7,
   "metadata": {},
   "outputs": [
    {
     "name": "stdout",
     "output_type": "stream",
     "text": [
      "Please enter some int number:10\n",
      "it is a body part of the if\n",
      "10   is a positive number\n"
     ]
    }
   ],
   "source": [
    "x = int(input(\"Please enter some int number:\")) # accepts a int input from the user\n",
    "if x > 0:\n",
    "    print('it is a body part of the if') # indent = 4 spaces\n",
    "    print(str(x) + '   is a positive number')\n",
    "elif x==0:\n",
    "    print(str(x) + '   is a zero')\n",
    "else:\n",
    "    print(str(x) + '   is a negative number')"
   ]
  },
  {
   "cell_type": "code",
   "execution_count": 8,
   "metadata": {},
   "outputs": [
    {
     "name": "stdout",
     "output_type": "stream",
     "text": [
      "Please enter some int number:-10\n",
      "-10   is a negative number\n"
     ]
    }
   ],
   "source": [
    "x = int(input(\"Please enter some int number:\")) # accepts a int input from the user\n",
    "if x > 0:\n",
    "    print('it is a body part of the if') # indent = 4 spaces\n",
    "    print(str(x) + '   is a positive number')\n",
    "elif x==0:\n",
    "    print(str(x) + '   is a zero')\n",
    "else:\n",
    "    print(str(x) + '   is a negative number')"
   ]
  },
  {
   "cell_type": "code",
   "execution_count": 9,
   "metadata": {},
   "outputs": [
    {
     "name": "stdout",
     "output_type": "stream",
     "text": [
      "Please enter some int number:0\n",
      "0   is a zero\n"
     ]
    }
   ],
   "source": [
    "x = int(input(\"Please enter some int number:\")) # accepts a int input from the user\n",
    "if x > 0:\n",
    "    print('it is a body part of the if') # indent = 4 spaces\n",
    "    print(str(x) + '   is a positive number')\n",
    "elif x==0:\n",
    "    print(str(x) + '   is a zero')\n",
    "else:\n",
    "    print(str(x) + '   is a negative number')"
   ]
  },
  {
   "cell_type": "markdown",
   "metadata": {},
   "source": [
    "### 1.3. The given number is a even or not"
   ]
  },
  {
   "cell_type": "code",
   "execution_count": 10,
   "metadata": {},
   "outputs": [
    {
     "name": "stdout",
     "output_type": "stream",
     "text": [
      "Please enter some int number:20\n",
      "20 is an even number\n"
     ]
    }
   ],
   "source": [
    "x = int(input(\"Please enter some int number:\")) # accepts a int input from the user\n",
    "if x%2==0:\n",
    "    print(x , \"is an even number\")\n",
    "else:\n",
    "    print(x , \"is an odd number\")"
   ]
  },
  {
   "cell_type": "code",
   "execution_count": 11,
   "metadata": {},
   "outputs": [
    {
     "name": "stdout",
     "output_type": "stream",
     "text": [
      "Please enter some int number:21\n",
      "21 is an odd number\n"
     ]
    }
   ],
   "source": [
    "x = int(input(\"Please enter some int number:\")) # accepts a int input from the user\n",
    "if x%2==0:\n",
    "    print(x , \"is an even number\")\n",
    "else:\n",
    "    print(x , \"is an odd number\")"
   ]
  },
  {
   "cell_type": "markdown",
   "metadata": {},
   "source": [
    "### 1.4 Applications what we are seeing in daily life\n",
    "- create a cofee machine choices\n",
    "- ATM different options"
   ]
  },
  {
   "cell_type": "code",
   "execution_count": null,
   "metadata": {
    "collapsed": true
   },
   "outputs": [],
   "source": []
  }
 ],
 "metadata": {
  "kernelspec": {
   "display_name": "Python 3",
   "language": "python",
   "name": "python3"
  },
  "language_info": {
   "codemirror_mode": {
    "name": "ipython",
    "version": 3
   },
   "file_extension": ".py",
   "mimetype": "text/x-python",
   "name": "python",
   "nbconvert_exporter": "python",
   "pygments_lexer": "ipython3",
   "version": "3.6.3"
  }
 },
 "nbformat": 4,
 "nbformat_minor": 2
}
