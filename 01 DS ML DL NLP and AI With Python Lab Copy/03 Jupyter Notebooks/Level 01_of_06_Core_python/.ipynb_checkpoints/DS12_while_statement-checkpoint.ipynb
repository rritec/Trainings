{
 "cells": [
  {
   "cell_type": "markdown",
   "metadata": {},
   "source": [
    "# While\n",
    "------------\n",
    "- The while loop is like a repeated if statement. The code is executed over and over again, as long as the condition is true"
   ]
  },
  {
   "cell_type": "markdown",
   "metadata": {},
   "source": [
    "## 1. Scenerio: Creating the Fibonacci series\n",
    "* Each number in the sequence is the sum of the two numbers that precede it. So, the sequence goes: 1, 1, 2, 3, 5, 8, 13, 21, 34, and so on. \n",
    "* The mathematical equation describing it is Xn+2= Xn+1 + Xn\n",
    "![fibonacci series](https://raw.githubusercontent.com/rritec/datahexa/master/images/fibonacci-series-cpp.jpg)"
   ]
  },
  {
   "cell_type": "code",
   "execution_count": 10,
   "metadata": {},
   "outputs": [
    {
     "name": "stdout",
     "output_type": "stream",
     "text": [
      "up to what number you need fibonacci series?  :  20\n"
     ]
    }
   ],
   "source": [
    "a,b = 0,1\n",
    "n = int(input(\"up to what number you need fibonacci series?  :  \")) #20\n",
    "fibo = [] # empty list\n",
    "while b<n:                  #iter 1: 1<20 # Iter2: 1<20 #iter3:2<20    \n",
    "    fibo.append(b)     # iter1 : 1, #iter 2: 1, 1,  # iter 3: 1,1,2,\n",
    "    a,b = b,a+b             #iter1: a=1, b = 1 #iter 2: a=1,b=2,#iter3:a =2,b=3"
   ]
  },
  {
   "cell_type": "code",
   "execution_count": 11,
   "metadata": {},
   "outputs": [
    {
     "data": {
      "text/plain": [
       "[1, 1, 2, 3, 5, 8, 13]"
      ]
     },
     "execution_count": 11,
     "metadata": {},
     "output_type": "execute_result"
    }
   ],
   "source": [
    "fibo"
   ]
  },
  {
   "cell_type": "markdown",
   "metadata": {
    "collapsed": true
   },
   "source": [
    "## 2. Scenerio: Upto given number print even numbers"
   ]
  },
  {
   "cell_type": "code",
   "execution_count": 18,
   "metadata": {},
   "outputs": [
    {
     "name": "stdout",
     "output_type": "stream",
     "text": [
      "up to what number you need even numbers?  :  30\n"
     ]
    }
   ],
   "source": [
    "n = int(input(\"up to what number you need even numbers?  :  \"))\n",
    "even = 0\n",
    "even_num=[]\n",
    "while even<n:\n",
    "    even = even+2\n",
    "    even_num.append(even)       "
   ]
  },
  {
   "cell_type": "code",
   "execution_count": 19,
   "metadata": {},
   "outputs": [
    {
     "data": {
      "text/plain": [
       "[2, 4, 6, 8, 10, 12, 14, 16, 18, 20, 22, 24, 26, 28, 30]"
      ]
     },
     "execution_count": 19,
     "metadata": {},
     "output_type": "execute_result"
    }
   ],
   "source": [
    "even_num"
   ]
  },
  {
   "cell_type": "markdown",
   "metadata": {},
   "source": [
    "## 3. Scenerio: break above loop when even == 10"
   ]
  },
  {
   "cell_type": "code",
   "execution_count": 20,
   "metadata": {},
   "outputs": [
    {
     "name": "stdout",
     "output_type": "stream",
     "text": [
      "up to what number you need even numbers?  :  30\n"
     ]
    }
   ],
   "source": [
    "n = int(input(\"up to what number you need even numbers?  :  \"))\n",
    "even = 0\n",
    "even_num=[]\n",
    "while even<n:\n",
    "    even = even+2\n",
    "    even_num.append(even)  \n",
    "    if even == 10:\n",
    "        break"
   ]
  },
  {
   "cell_type": "code",
   "execution_count": 21,
   "metadata": {},
   "outputs": [
    {
     "data": {
      "text/plain": [
       "[2, 4, 6, 8, 10]"
      ]
     },
     "execution_count": 21,
     "metadata": {},
     "output_type": "execute_result"
    }
   ],
   "source": [
    "even_num"
   ]
  },
  {
   "cell_type": "markdown",
   "metadata": {},
   "source": [
    "## 4. Scenerio:  skip the iter when even == 10"
   ]
  },
  {
   "cell_type": "code",
   "execution_count": 22,
   "metadata": {},
   "outputs": [
    {
     "name": "stdout",
     "output_type": "stream",
     "text": [
      "up to what number you need even numbers?  :  30\n"
     ]
    }
   ],
   "source": [
    "n = int(input(\"up to what number you need even numbers?  :  \"))\n",
    "even = 0\n",
    "even_num=[]\n",
    "while even<n:\n",
    "    even = even+2\n",
    "    if even == 10:\n",
    "        continue \n",
    "    even_num.append(even)  \n",
    "    "
   ]
  },
  {
   "cell_type": "code",
   "execution_count": 23,
   "metadata": {},
   "outputs": [
    {
     "data": {
      "text/plain": [
       "[2, 4, 6, 8, 12, 14, 16, 18, 20, 22, 24, 26, 28, 30]"
      ]
     },
     "execution_count": 23,
     "metadata": {},
     "output_type": "execute_result"
    }
   ],
   "source": [
    "even_num"
   ]
  },
  {
   "cell_type": "code",
   "execution_count": null,
   "metadata": {
    "collapsed": true
   },
   "outputs": [],
   "source": []
  }
 ],
 "metadata": {
  "kernelspec": {
   "display_name": "Python 3",
   "language": "python",
   "name": "python3"
  },
  "language_info": {
   "codemirror_mode": {
    "name": "ipython",
    "version": 3
   },
   "file_extension": ".py",
   "mimetype": "text/x-python",
   "name": "python",
   "nbconvert_exporter": "python",
   "pygments_lexer": "ipython3",
   "version": "3.6.3"
  }
 },
 "nbformat": 4,
 "nbformat_minor": 2
}
