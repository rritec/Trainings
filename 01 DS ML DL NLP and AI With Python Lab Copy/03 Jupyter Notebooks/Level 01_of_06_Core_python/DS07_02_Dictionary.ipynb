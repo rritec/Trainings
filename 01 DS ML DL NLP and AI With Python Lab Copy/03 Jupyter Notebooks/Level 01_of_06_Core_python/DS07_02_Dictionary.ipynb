{
 "cells": [
  {
   "cell_type": "markdown",
   "metadata": {
    "colab_type": "text",
    "id": "zaPtdPEA-4QR"
   },
   "source": [
    "# Dictionary\n",
    "-----\n",
    "## 1. What is dict?\n",
    "- `key and value pair` is called as dict\n",
    "- Each key is separated from its value by a colon (:)\n",
    "- each key and value pair is separated with comma,\n",
    "- dict is enclosed in curly braces {}.\n",
    "- An empty dictionary without any items is written with just two curly braces, like this: {}.\n",
    "- Keys are unique within a dictionary while values may not be.\n",
    "- keys are unique(immutable)\n",
    "- values may be duplicated(mutable)\n",
    "- need to read data using keys(in case of string and list we read using index numbers)\n",
    "- [refer python help doc](https://docs.python.org/3/tutorial/datastructures.html)"
   ]
  },
  {
   "cell_type": "code",
   "execution_count": 0,
   "metadata": {
    "colab": {},
    "colab_type": "code",
    "id": "2vi1FFsu-4QT"
   },
   "outputs": [],
   "source": [
    "my_dict = {\n",
    " \"key1\":\"value1\",\n",
    " \"key2\":\"value2\"\n",
    "}"
   ]
  },
  {
   "cell_type": "code",
   "execution_count": 2,
   "metadata": {
    "colab": {
     "base_uri": "https://localhost:8080/",
     "height": 35
    },
    "colab_type": "code",
    "executionInfo": {
     "elapsed": 980,
     "status": "ok",
     "timestamp": 1555734203321,
     "user": {
      "displayName": "Ram Reddy",
      "photoUrl": "https://lh4.googleusercontent.com/-iZxtGAVtOC4/AAAAAAAAAAI/AAAAAAAABRI/a8zVoiQN9is/s64/photo.jpg",
      "userId": "14166999692284653328"
     },
     "user_tz": -330
    },
    "id": "bk-1vgDx-4QZ",
    "outputId": "546bc93d-4a72-42f6-aa89-557d013a7bb0"
   },
   "outputs": [
    {
     "data": {
      "text/plain": [
       "dict"
      ]
     },
     "execution_count": 2,
     "metadata": {
      "tags": []
     },
     "output_type": "execute_result"
    }
   ],
   "source": [
    "type(my_dict)"
   ]
  },
  {
   "cell_type": "code",
   "execution_count": 4,
   "metadata": {
    "colab": {
     "base_uri": "https://localhost:8080/",
     "height": 35
    },
    "colab_type": "code",
    "executionInfo": {
     "elapsed": 903,
     "status": "ok",
     "timestamp": 1555734230563,
     "user": {
      "displayName": "Ram Reddy",
      "photoUrl": "https://lh4.googleusercontent.com/-iZxtGAVtOC4/AAAAAAAAAAI/AAAAAAAABRI/a8zVoiQN9is/s64/photo.jpg",
      "userId": "14166999692284653328"
     },
     "user_tz": -330
    },
    "id": "fSBFeGEM_Ccv",
    "outputId": "d0658318-ecbe-4b8a-bfd0-2a932cfcea94"
   },
   "outputs": [
    {
     "data": {
      "text/plain": [
       "{'key1': 'value1', 'key2': 'value2'}"
      ]
     },
     "execution_count": 4,
     "metadata": {
      "tags": []
     },
     "output_type": "execute_result"
    }
   ],
   "source": [
    "my_dict"
   ]
  },
  {
   "cell_type": "markdown",
   "metadata": {
    "colab_type": "text",
    "id": "lPE2KwLR-4Qi"
   },
   "source": [
    "## 2. Why we need dict?\n",
    "### 2.1 Exercise: Get India population using list? Is it convenient?"
   ]
  },
  {
   "cell_type": "code",
   "execution_count": 0,
   "metadata": {
    "colab": {},
    "colab_type": "code",
    "id": "6r3azuVb-4Qj",
    "outputId": "30bfc065-0e69-43c2-e557-3866bd58671a"
   },
   "outputs": [
    {
     "data": {
      "text/plain": [
       "list"
      ]
     },
     "execution_count": 3,
     "metadata": {
      "tags": []
     },
     "output_type": "execute_result"
    }
   ],
   "source": [
    "a_names = [\"India\",\"USA\",\"AUS\"]\n",
    "type(a_names)"
   ]
  },
  {
   "cell_type": "code",
   "execution_count": 0,
   "metadata": {
    "colab": {},
    "colab_type": "code",
    "id": "E1Yl69Rz-4Qq",
    "outputId": "f58a8aaf-4479-4eb1-cb03-debe6052332c"
   },
   "outputs": [
    {
     "data": {
      "text/plain": [
       "list"
      ]
     },
     "execution_count": 4,
     "metadata": {
      "tags": []
     },
     "output_type": "execute_result"
    }
   ],
   "source": [
    "pop = [133.92,32.57,2.46]\n",
    "type(pop)"
   ]
  },
  {
   "cell_type": "markdown",
   "metadata": {
    "colab_type": "text",
    "id": "rB7WFlZE-4RC"
   },
   "source": [
    "#### Get USA population"
   ]
  },
  {
   "cell_type": "code",
   "execution_count": 0,
   "metadata": {
    "colab": {},
    "colab_type": "code",
    "id": "eQvCmCE1-4RJ",
    "outputId": "8426a41e-7f64-4779-bb5b-cba9f05586bb"
   },
   "outputs": [
    {
     "data": {
      "text/plain": [
       "1"
      ]
     },
     "execution_count": 6,
     "metadata": {
      "tags": []
     },
     "output_type": "execute_result"
    }
   ],
   "source": [
    "#step 1: get usa index\n",
    "a_usa_index = a_names.index(\"USA\")\n",
    "a_usa_index"
   ]
  },
  {
   "cell_type": "code",
   "execution_count": 0,
   "metadata": {
    "colab": {},
    "colab_type": "code",
    "id": "sQMyVfAi-4RS",
    "outputId": "9ada15c9-1be6-427d-e971-714b2c773356"
   },
   "outputs": [
    {
     "data": {
      "text/plain": [
       "32.57"
      ]
     },
     "execution_count": 7,
     "metadata": {
      "tags": []
     },
     "output_type": "execute_result"
    }
   ],
   "source": [
    "# Step 2 get index relavent population\n",
    "pop[a_usa_index]"
   ]
  },
  {
   "cell_type": "markdown",
   "metadata": {
    "colab_type": "text",
    "id": "78TE0SwE-4RY"
   },
   "source": [
    "**it is not convinent right.**let us learn dict"
   ]
  },
  {
   "cell_type": "markdown",
   "metadata": {
    "colab_type": "text",
    "id": "Lty85jBP-4RZ"
   },
   "source": [
    "## 3. Create a simple dict"
   ]
  },
  {
   "cell_type": "code",
   "execution_count": 0,
   "metadata": {
    "colab": {},
    "colab_type": "code",
    "id": "4ct0XSWn-4Rf"
   },
   "outputs": [],
   "source": [
    "a_dict = {\"India\":133.92,\"USA\":32.57,\"AUS\":2.46}"
   ]
  },
  {
   "cell_type": "code",
   "execution_count": 0,
   "metadata": {
    "colab": {},
    "colab_type": "code",
    "id": "RCb3cM6Z-4Rk",
    "outputId": "ce23f1ee-bda1-4446-cea6-75c6a5a4bb35"
   },
   "outputs": [
    {
     "data": {
      "text/plain": [
       "dict"
      ]
     },
     "execution_count": 9,
     "metadata": {
      "tags": []
     },
     "output_type": "execute_result"
    }
   ],
   "source": [
    "type(a_dict)"
   ]
  },
  {
   "cell_type": "markdown",
   "metadata": {
    "colab_type": "text",
    "id": "I01cmVFL-4Rp"
   },
   "source": [
    "> **or**"
   ]
  },
  {
   "cell_type": "code",
   "execution_count": 0,
   "metadata": {
    "colab": {},
    "colab_type": "code",
    "id": "detsA6Hj-4Rq"
   },
   "outputs": [],
   "source": [
    "a_dict1 = dict(India=133.92,USA=32.57,AUS=2.46)"
   ]
  },
  {
   "cell_type": "code",
   "execution_count": 0,
   "metadata": {
    "colab": {},
    "colab_type": "code",
    "id": "nrQV8WhT-4Rt",
    "outputId": "b2b99e9f-2123-4c01-85c9-f6e0e89458f8"
   },
   "outputs": [
    {
     "data": {
      "text/plain": [
       "dict"
      ]
     },
     "execution_count": 11,
     "metadata": {
      "tags": []
     },
     "output_type": "execute_result"
    }
   ],
   "source": [
    "type(a_dict1)"
   ]
  },
  {
   "cell_type": "markdown",
   "metadata": {
    "colab_type": "text",
    "id": "rz9uTJvP-4Rx"
   },
   "source": [
    "> **or**"
   ]
  },
  {
   "cell_type": "code",
   "execution_count": 0,
   "metadata": {
    "colab": {},
    "colab_type": "code",
    "id": "JJMqhwuj-4Ry"
   },
   "outputs": [],
   "source": [
    "a_dict2 = dict([(\"India\",133.92),(\"USA\",32.57),(\"AUS\",2.46),(\"UK\",2.6)])"
   ]
  },
  {
   "cell_type": "code",
   "execution_count": 0,
   "metadata": {
    "colab": {},
    "colab_type": "code",
    "id": "szJsSvFv-4R1",
    "outputId": "52c36554-f1d9-4115-a3c6-258d5e085521"
   },
   "outputs": [
    {
     "data": {
      "text/plain": [
       "dict"
      ]
     },
     "execution_count": 13,
     "metadata": {
      "tags": []
     },
     "output_type": "execute_result"
    }
   ],
   "source": [
    "type(a_dict2)"
   ]
  },
  {
   "cell_type": "code",
   "execution_count": 0,
   "metadata": {
    "colab": {},
    "colab_type": "code",
    "id": "nTHgeJ9l-4R4",
    "outputId": "e9c52465-392e-4e20-a773-eebf9448f41d"
   },
   "outputs": [
    {
     "data": {
      "text/plain": [
       "{'India': 133.92, 'USA': 32.57, 'AUS': 2.46, 'UK': 2.6}"
      ]
     },
     "execution_count": 14,
     "metadata": {
      "tags": []
     },
     "output_type": "execute_result"
    }
   ],
   "source": [
    "a_dict2"
   ]
  },
  {
   "cell_type": "markdown",
   "metadata": {},
   "source": [
    "## create empty dict"
   ]
  },
  {
   "cell_type": "code",
   "execution_count": 1,
   "metadata": {},
   "outputs": [],
   "source": [
    "a_dict3= {}"
   ]
  },
  {
   "cell_type": "code",
   "execution_count": 2,
   "metadata": {},
   "outputs": [
    {
     "data": {
      "text/plain": [
       "dict"
      ]
     },
     "execution_count": 2,
     "metadata": {},
     "output_type": "execute_result"
    }
   ],
   "source": [
    "type(a_dict3)"
   ]
  },
  {
   "cell_type": "markdown",
   "metadata": {},
   "source": [
    "`or`"
   ]
  },
  {
   "cell_type": "code",
   "execution_count": 3,
   "metadata": {},
   "outputs": [],
   "source": [
    "a_dict4=dict()"
   ]
  },
  {
   "cell_type": "code",
   "execution_count": 4,
   "metadata": {},
   "outputs": [
    {
     "data": {
      "text/plain": [
       "dict"
      ]
     },
     "execution_count": 4,
     "metadata": {},
     "output_type": "execute_result"
    }
   ],
   "source": [
    "type(a_dict4)"
   ]
  },
  {
   "cell_type": "markdown",
   "metadata": {
    "colab_type": "text",
    "id": "nj1h7ryU-4R9"
   },
   "source": [
    "### 3.1 Get keys of dict"
   ]
  },
  {
   "cell_type": "code",
   "execution_count": 0,
   "metadata": {
    "colab": {},
    "colab_type": "code",
    "id": "J8L_Ui9_-4R-",
    "outputId": "9908b899-1c83-4138-b2e6-3a8e67ce2b09"
   },
   "outputs": [
    {
     "data": {
      "text/plain": [
       "dict_keys(['India', 'USA', 'AUS'])"
      ]
     },
     "execution_count": 15,
     "metadata": {
      "tags": []
     },
     "output_type": "execute_result"
    }
   ],
   "source": [
    "a_dict.keys()                      # keys() is a method on dict"
   ]
  },
  {
   "cell_type": "markdown",
   "metadata": {
    "colab_type": "text",
    "id": "mMNhh2pE-4SE"
   },
   "source": [
    "### 3.2 Get values of dict"
   ]
  },
  {
   "cell_type": "code",
   "execution_count": 0,
   "metadata": {
    "colab": {},
    "colab_type": "code",
    "id": "PmLbsUC7-4SF",
    "outputId": "cc3b7ef7-de28-448a-e248-6e1a47e11eb9"
   },
   "outputs": [
    {
     "data": {
      "text/plain": [
       "dict_values([133.92, 32.57, 2.46])"
      ]
     },
     "execution_count": 16,
     "metadata": {
      "tags": []
     },
     "output_type": "execute_result"
    }
   ],
   "source": [
    "a_dict.values()                    # values() is a method on dict"
   ]
  },
  {
   "cell_type": "markdown",
   "metadata": {
    "colab_type": "text",
    "id": "wFe-Zqcs-4SJ"
   },
   "source": [
    "## 4. Read dict values using keys"
   ]
  },
  {
   "cell_type": "code",
   "execution_count": 0,
   "metadata": {
    "colab": {},
    "colab_type": "code",
    "id": "zG2ktILo-4SL",
    "outputId": "6cdbcd2d-e540-48c3-fdab-46613ce84907"
   },
   "outputs": [
    {
     "data": {
      "text/plain": [
       "133.92"
      ]
     },
     "execution_count": 18,
     "metadata": {
      "tags": []
     },
     "output_type": "execute_result"
    }
   ],
   "source": [
    "a_dict[\"India\"] # above two steps we are able to manage with one step"
   ]
  },
  {
   "cell_type": "code",
   "execution_count": 0,
   "metadata": {
    "colab": {},
    "colab_type": "code",
    "id": "LrywBLO0-4SW",
    "outputId": "ad090cf6-83b3-4733-b8f2-3c7688031c90"
   },
   "outputs": [
    {
     "ename": "TypeError",
     "evalue": "unhashable type: 'slice'",
     "output_type": "error",
     "traceback": [
      "\u001b[1;31m---------------------------------------------------------------------------\u001b[0m",
      "\u001b[1;31mTypeError\u001b[0m                                 Traceback (most recent call last)",
      "\u001b[1;32m<ipython-input-19-b7f68116c711>\u001b[0m in \u001b[0;36m<module>\u001b[1;34m\u001b[0m\n\u001b[1;32m----> 1\u001b[1;33m \u001b[0ma_dict\u001b[0m\u001b[1;33m[\u001b[0m\u001b[1;34m\"India\"\u001b[0m\u001b[1;33m:\u001b[0m\u001b[1;34m\"AUS\"\u001b[0m\u001b[1;33m]\u001b[0m\u001b[1;33m\u001b[0m\u001b[0m\n\u001b[0m",
      "\u001b[1;31mTypeError\u001b[0m: unhashable type: 'slice'"
     ]
    }
   ],
   "source": [
    "a_dict[\"India\":\"AUS\"]"
   ]
  },
  {
   "cell_type": "markdown",
   "metadata": {
    "colab_type": "text",
    "id": "FwqAUb89-4Sc"
   },
   "source": [
    "### 4.1 Insert"
   ]
  },
  {
   "cell_type": "code",
   "execution_count": 0,
   "metadata": {
    "colab": {},
    "colab_type": "code",
    "id": "cslYx3-p-4Sd"
   },
   "outputs": [],
   "source": [
    "a_dict[\"China\"]= 138.64"
   ]
  },
  {
   "cell_type": "code",
   "execution_count": 0,
   "metadata": {
    "colab": {},
    "colab_type": "code",
    "id": "lErTPEyc-4So",
    "outputId": "2380f630-7cc1-495b-af74-bdb8720dd05b"
   },
   "outputs": [
    {
     "data": {
      "text/plain": [
       "{'India': 133.92, 'USA': 32.57, 'AUS': 2.46, 'China': 138.64}"
      ]
     },
     "execution_count": 21,
     "metadata": {
      "tags": []
     },
     "output_type": "execute_result"
    }
   ],
   "source": [
    "a_dict"
   ]
  },
  {
   "cell_type": "markdown",
   "metadata": {
    "colab_type": "text",
    "id": "xXaXJl3F-4S9"
   },
   "source": [
    "### 4.2 update values"
   ]
  },
  {
   "cell_type": "code",
   "execution_count": 0,
   "metadata": {
    "colab": {},
    "colab_type": "code",
    "id": "gxndgQSz-4S-"
   },
   "outputs": [],
   "source": [
    "a_dict[\"India\"]= 140"
   ]
  },
  {
   "cell_type": "code",
   "execution_count": 0,
   "metadata": {
    "colab": {},
    "colab_type": "code",
    "id": "Pl8sYYL5-4TC",
    "outputId": "a0b1cda2-f07d-414e-feee-7c8501488656"
   },
   "outputs": [
    {
     "data": {
      "text/plain": [
       "{'India': 140, 'USA': 32.57, 'AUS': 2.46, 'China': 138.64}"
      ]
     },
     "execution_count": 23,
     "metadata": {
      "tags": []
     },
     "output_type": "execute_result"
    }
   ],
   "source": [
    "a_dict"
   ]
  },
  {
   "cell_type": "markdown",
   "metadata": {
    "colab_type": "text",
    "id": "SZzlqv8L-4TJ"
   },
   "source": [
    "### 4.3 Del"
   ]
  },
  {
   "cell_type": "code",
   "execution_count": 0,
   "metadata": {
    "colab": {},
    "colab_type": "code",
    "id": "ENcCWncr-4TL"
   },
   "outputs": [],
   "source": [
    "del(a_dict[\"India\"])"
   ]
  },
  {
   "cell_type": "code",
   "execution_count": 0,
   "metadata": {
    "colab": {},
    "colab_type": "code",
    "id": "dJruXgqI-4TR",
    "outputId": "c1fa377e-7faa-4c88-8110-a9c277723df1"
   },
   "outputs": [
    {
     "data": {
      "text/plain": [
       "{'USA': 32.57, 'AUS': 2.46, 'China': 138.64}"
      ]
     },
     "execution_count": 25,
     "metadata": {
      "tags": []
     },
     "output_type": "execute_result"
    }
   ],
   "source": [
    "a_dict"
   ]
  },
  {
   "cell_type": "markdown",
   "metadata": {
    "colab_type": "text",
    "id": "pakJZ8eB-4TY"
   },
   "source": [
    "## 5. Nested dict"
   ]
  },
  {
   "cell_type": "code",
   "execution_count": 0,
   "metadata": {
    "colab": {},
    "colab_type": "code",
    "id": "zDbWRuOt-4TZ"
   },
   "outputs": [],
   "source": [
    "a_dict = {\"India\":{\"telangana\":3.92,\"andhra pradesh\":4.57},\n",
    "          \"USA\":{\"california\":3.95},\n",
    "          \"AUS\":2.46}"
   ]
  },
  {
   "cell_type": "code",
   "execution_count": 0,
   "metadata": {
    "colab": {},
    "colab_type": "code",
    "id": "rxZDNfZl-4Td",
    "outputId": "a8e451e7-d80c-49b2-aa6c-baddb37ad67b"
   },
   "outputs": [
    {
     "data": {
      "text/plain": [
       "{'India': {'telangana': 3.92, 'andhra pradesh': 4.57},\n",
       " 'USA': {'california': 3.95},\n",
       " 'AUS': 2.46}"
      ]
     },
     "execution_count": 27,
     "metadata": {
      "tags": []
     },
     "output_type": "execute_result"
    }
   ],
   "source": [
    "a_dict"
   ]
  },
  {
   "cell_type": "code",
   "execution_count": 0,
   "metadata": {
    "colab": {},
    "colab_type": "code",
    "id": "uDvDaara-4Tj",
    "outputId": "bc27021d-fcae-453e-ba02-55e96f7b09cd"
   },
   "outputs": [
    {
     "data": {
      "text/plain": [
       "3.92"
      ]
     },
     "execution_count": 28,
     "metadata": {
      "tags": []
     },
     "output_type": "execute_result"
    }
   ],
   "source": [
    "a_dict[\"India\"][\"telangana\"]"
   ]
  },
  {
   "cell_type": "markdown",
   "metadata": {
    "colab_type": "text",
    "id": "Iqlo-NHO-4Tt"
   },
   "source": [
    "## 6. Exercise: Create <code>DataFrame</code> using dictionaries"
   ]
  },
  {
   "cell_type": "markdown",
   "metadata": {
    "colab_type": "text",
    "id": "xVpNjUey-4Tv"
   },
   "source": [
    "### 6.1 create dict with emp data"
   ]
  },
  {
   "cell_type": "code",
   "execution_count": 0,
   "metadata": {
    "colab": {},
    "colab_type": "code",
    "id": "bewCG1d8-4Tx"
   },
   "outputs": [],
   "source": [
    "a_dict = {\"empno\":[101,102,103,104,105],\n",
    "         \"ename\":[\"ram\",\"john\",\"renny\",\"Jerry\",\"Adrinne\"],\n",
    "         \"sal\":[1000,3000,3500,4000,4500]}"
   ]
  },
  {
   "cell_type": "code",
   "execution_count": 0,
   "metadata": {
    "colab": {},
    "colab_type": "code",
    "id": "Vfl0Sj7U-4T6",
    "outputId": "2626b6fb-4903-4e7e-84fb-50ab80250a38"
   },
   "outputs": [
    {
     "data": {
      "text/plain": [
       "dict"
      ]
     },
     "execution_count": 30,
     "metadata": {
      "tags": []
     },
     "output_type": "execute_result"
    }
   ],
   "source": [
    "type(a_dict)"
   ]
  },
  {
   "cell_type": "markdown",
   "metadata": {
    "colab_type": "text",
    "id": "b1cPakBI-4UC"
   },
   "source": [
    "- Here\n",
    "    - **dict keys** are column names\n",
    "    - **dict values** are lists"
   ]
  },
  {
   "cell_type": "markdown",
   "metadata": {
    "colab_type": "text",
    "id": "M5T_sv6_-4UD"
   },
   "source": [
    "### 6.2 create dataframe using dict"
   ]
  },
  {
   "cell_type": "code",
   "execution_count": 0,
   "metadata": {
    "colab": {},
    "colab_type": "code",
    "id": "WIohKBPD-4UE"
   },
   "outputs": [],
   "source": [
    "import pandas as pd\n",
    "df = pd.DataFrame(a_dict)"
   ]
  },
  {
   "cell_type": "code",
   "execution_count": 0,
   "metadata": {
    "colab": {},
    "colab_type": "code",
    "id": "wZJqhlAj-4UJ",
    "outputId": "d798c20b-1dd1-401a-f07a-dace6678e2aa"
   },
   "outputs": [
    {
     "data": {
      "text/html": [
       "<div>\n",
       "<style>\n",
       "    .dataframe thead tr:only-child th {\n",
       "        text-align: right;\n",
       "    }\n",
       "\n",
       "    .dataframe thead th {\n",
       "        text-align: left;\n",
       "    }\n",
       "\n",
       "    .dataframe tbody tr th {\n",
       "        vertical-align: top;\n",
       "    }\n",
       "</style>\n",
       "<table border=\"1\" class=\"dataframe\">\n",
       "  <thead>\n",
       "    <tr style=\"text-align: right;\">\n",
       "      <th></th>\n",
       "      <th>empno</th>\n",
       "      <th>ename</th>\n",
       "      <th>sal</th>\n",
       "    </tr>\n",
       "  </thead>\n",
       "  <tbody>\n",
       "    <tr>\n",
       "      <th>0</th>\n",
       "      <td>101</td>\n",
       "      <td>ram</td>\n",
       "      <td>1000</td>\n",
       "    </tr>\n",
       "    <tr>\n",
       "      <th>1</th>\n",
       "      <td>102</td>\n",
       "      <td>john</td>\n",
       "      <td>3000</td>\n",
       "    </tr>\n",
       "    <tr>\n",
       "      <th>2</th>\n",
       "      <td>103</td>\n",
       "      <td>renny</td>\n",
       "      <td>3500</td>\n",
       "    </tr>\n",
       "    <tr>\n",
       "      <th>3</th>\n",
       "      <td>104</td>\n",
       "      <td>Jerry</td>\n",
       "      <td>4000</td>\n",
       "    </tr>\n",
       "    <tr>\n",
       "      <th>4</th>\n",
       "      <td>105</td>\n",
       "      <td>Adrinne</td>\n",
       "      <td>4500</td>\n",
       "    </tr>\n",
       "  </tbody>\n",
       "</table>\n",
       "</div>"
      ],
      "text/plain": [
       "   empno    ename   sal\n",
       "0    101      ram  1000\n",
       "1    102     john  3000\n",
       "2    103    renny  3500\n",
       "3    104    Jerry  4000\n",
       "4    105  Adrinne  4500"
      ]
     },
     "execution_count": 32,
     "metadata": {
      "tags": []
     },
     "output_type": "execute_result"
    }
   ],
   "source": [
    "df"
   ]
  },
  {
   "cell_type": "code",
   "execution_count": 0,
   "metadata": {
    "colab": {},
    "colab_type": "code",
    "id": "aiuHZLO6-4UN",
    "outputId": "715a9fce-3786-49fe-d0fb-325240b02365"
   },
   "outputs": [
    {
     "data": {
      "text/plain": [
       "pandas.core.frame.DataFrame"
      ]
     },
     "execution_count": 33,
     "metadata": {
      "tags": []
     },
     "output_type": "execute_result"
    }
   ],
   "source": [
    "type(df)"
   ]
  },
  {
   "cell_type": "markdown",
   "metadata": {
    "colab_type": "text",
    "id": "li8Oa0B6-4UT"
   },
   "source": [
    "## 7.dict use cases\n",
    "- API export / Import using json(N number of dict)\n",
    "    - https://api.qualtrics.com/docs/getting-survey-responses-via-the-new-export-apis\n",
    "- JSON files using internally dict\n",
    "- no sql databases are using json files(ex mongo db)"
   ]
  },
  {
   "cell_type": "markdown",
   "metadata": {
    "colab_type": "text",
    "collapsed": true,
    "id": "42DmtYEV-4UU"
   },
   "source": [
    "> Home Work: Install Mongo Db\n",
    "\n",
    "- [Download software Community Version](https://www.mongodb.com/download-center/community)\n",
    "- install with default options\n",
    "- if window is hanging then it might be power shell issue --> upgrade power shell  \n",
    "- [follow tutorial ](https://www.guru99.com/mongodb-tutorials.html)\n",
    "- convert sql query into mongo nosql query , [refer](http://www.querymongo.com/)"
   ]
  },
  {
   "cell_type": "code",
   "execution_count": 0,
   "metadata": {
    "colab": {},
    "colab_type": "code",
    "id": "xF-U530g-4UW"
   },
   "outputs": [],
   "source": []
  }
 ],
 "metadata": {
  "colab": {
   "name": "DS21_Dictionary.ipynb",
   "provenance": [],
   "version": "0.3.2"
  },
  "kernelspec": {
   "display_name": "Python 3",
   "language": "python",
   "name": "python3"
  },
  "language_info": {
   "codemirror_mode": {
    "name": "ipython",
    "version": 3
   },
   "file_extension": ".py",
   "mimetype": "text/x-python",
   "name": "python",
   "nbconvert_exporter": "python",
   "pygments_lexer": "ipython3",
   "version": "3.6.9"
  }
 },
 "nbformat": 4,
 "nbformat_minor": 1
}
