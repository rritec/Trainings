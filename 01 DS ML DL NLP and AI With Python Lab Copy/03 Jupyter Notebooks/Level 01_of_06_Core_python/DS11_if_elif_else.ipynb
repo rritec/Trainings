{
 "cells": [
  {
   "cell_type": "markdown",
   "metadata": {
    "colab_type": "text",
    "id": "XgPMLMHZwk1g"
   },
   "source": [
    "# Control Flows\n",
    "-----------------------\n",
    "1. If elif elif .. else\n",
    "2. while\n",
    "3. break\n",
    "4. continue\n",
    "5. for "
   ]
  },
  {
   "cell_type": "markdown",
   "metadata": {
    "colab_type": "text",
    "id": "-PumgP3dwk1k"
   },
   "source": [
    "## 1. If elif elif ..else"
   ]
  },
  {
   "cell_type": "markdown",
   "metadata": {
    "colab_type": "text",
    "id": "ZHfpqdPBwk1n"
   },
   "source": [
    "### 1.1 What is input function"
   ]
  },
  {
   "cell_type": "code",
   "execution_count": 0,
   "metadata": {
    "colab": {},
    "colab_type": "code",
    "id": "8kiCHz3Swk1v",
    "outputId": "63d7a558-02fe-411e-9a69-62b28e050708"
   },
   "outputs": [
    {
     "name": "stdout",
     "output_type": "stream",
     "text": [
      "7\n"
     ]
    }
   ],
   "source": [
    "a = input()"
   ]
  },
  {
   "cell_type": "code",
   "execution_count": 0,
   "metadata": {
    "colab": {},
    "colab_type": "code",
    "id": "BTN8r8O0wk2J",
    "outputId": "ae84736f-0fe0-4414-9c64-213e811c54c8"
   },
   "outputs": [
    {
     "data": {
      "text/plain": [
       "'7'"
      ]
     },
     "execution_count": 2,
     "metadata": {
      "tags": []
     },
     "output_type": "execute_result"
    }
   ],
   "source": [
    "a"
   ]
  },
  {
   "cell_type": "code",
   "execution_count": 0,
   "metadata": {
    "colab": {},
    "colab_type": "code",
    "id": "h210RyV0wk2c",
    "outputId": "f34d8f8a-3445-4e19-9583-2086ec1479dc"
   },
   "outputs": [
    {
     "name": "stdout",
     "output_type": "stream",
     "text": [
      "9\n"
     ]
    }
   ],
   "source": [
    "a = int(input())"
   ]
  },
  {
   "cell_type": "code",
   "execution_count": 0,
   "metadata": {
    "colab": {},
    "colab_type": "code",
    "id": "dkfwgXy2wk2v",
    "outputId": "1d0f3280-0551-4cf3-8d1a-97780655e696"
   },
   "outputs": [
    {
     "data": {
      "text/plain": [
       "9"
      ]
     },
     "execution_count": 6,
     "metadata": {
      "tags": []
     },
     "output_type": "execute_result"
    }
   ],
   "source": [
    "a\n"
   ]
  },
  {
   "cell_type": "code",
   "execution_count": 0,
   "metadata": {
    "colab": {},
    "colab_type": "code",
    "id": "UTU1drTwwk22",
    "outputId": "82889325-0582-44c7-b5c7-79be0f444b3a"
   },
   "outputs": [
    {
     "name": "stdout",
     "output_type": "stream",
     "text": [
      "please enter some number: 3\n"
     ]
    }
   ],
   "source": [
    "a = int(input(\"please enter some number: \"))\n"
   ]
  },
  {
   "cell_type": "code",
   "execution_count": 0,
   "metadata": {
    "colab": {},
    "colab_type": "code",
    "id": "_2PDc-vzwk3M",
    "outputId": "7398ef76-0bdf-46c0-c26f-81423cd595a8"
   },
   "outputs": [
    {
     "data": {
      "text/plain": [
       "3"
      ]
     },
     "execution_count": 8,
     "metadata": {
      "tags": []
     },
     "output_type": "execute_result"
    }
   ],
   "source": [
    "a"
   ]
  },
  {
   "cell_type": "code",
   "execution_count": 0,
   "metadata": {
    "colab": {},
    "colab_type": "code",
    "id": "tfzgy5KSwk3q"
   },
   "outputs": [],
   "source": [
    "input?"
   ]
  },
  {
   "cell_type": "markdown",
   "metadata": {
    "colab_type": "text",
    "id": "sfUaGmZFwk32"
   },
   "source": [
    "### 1.2 Print given number is +ve or -ve or zero"
   ]
  },
  {
   "cell_type": "code",
   "execution_count": 0,
   "metadata": {
    "colab": {},
    "colab_type": "code",
    "id": "sIhBc7NPwk4B",
    "outputId": "b8c7943b-1a5b-48d4-c4aa-94fbc992cef8"
   },
   "outputs": [
    {
     "name": "stdout",
     "output_type": "stream",
     "text": [
      "Please enter some int number:10\n",
      "it is a body part of the if\n",
      "10   is a positive number\n"
     ]
    }
   ],
   "source": [
    "x = int(input(\"Please enter some int number:\")) # accepts a int input from the user\n",
    "if x > 0:\n",
    "    print('it is a body part of the if') # indent = 4 spaces\n",
    "    print(str(x) + '   is a positive number')\n",
    "elif x==0:\n",
    "    print(str(x) + '   is a zero')\n",
    "else:\n",
    "    print(str(x) + '   is a negative number')"
   ]
  },
  {
   "cell_type": "code",
   "execution_count": 0,
   "metadata": {
    "colab": {},
    "colab_type": "code",
    "id": "egQZguHrwk4Q",
    "outputId": "72e274e1-beb8-460f-fc5d-c8ca72f97370"
   },
   "outputs": [
    {
     "name": "stdout",
     "output_type": "stream",
     "text": [
      "Please enter some int number:-10\n",
      "-10   is a negative number\n"
     ]
    }
   ],
   "source": [
    "x = int(input(\"Please enter some int number:\")) # accepts a int input from the user\n",
    "if x > 0:\n",
    "    print('it is a body part of the if') # indent = 4 spaces\n",
    "    print(str(x) + '   is a positive number')\n",
    "elif x==0:\n",
    "    print(str(x) + '   is a zero')\n",
    "else:\n",
    "    print(str(x) + '   is a negative number')"
   ]
  },
  {
   "cell_type": "code",
   "execution_count": 0,
   "metadata": {
    "colab": {},
    "colab_type": "code",
    "id": "L51ppx9jwk4l",
    "outputId": "91240ca5-83ec-4590-bcf8-183d05bb8cd6"
   },
   "outputs": [
    {
     "name": "stdout",
     "output_type": "stream",
     "text": [
      "Please enter some int number:0\n",
      "0   is a zero\n"
     ]
    }
   ],
   "source": [
    "x = int(input(\"Please enter some int number:\")) # accepts a int input from the user\n",
    "if x > 0:\n",
    "    print('it is a body part of the if') # indent = 4 spaces\n",
    "    print(str(x) + '   is a positive number')\n",
    "elif x==0:\n",
    "    print(str(x) + '   is a zero')\n",
    "else:\n",
    "    print(str(x) + '   is a negative number')"
   ]
  },
  {
   "cell_type": "markdown",
   "metadata": {
    "colab_type": "text",
    "id": "O2Ir2Q1Ywk4r"
   },
   "source": [
    "### 1.3. The given number is a even or not"
   ]
  },
  {
   "cell_type": "code",
   "execution_count": 0,
   "metadata": {
    "colab": {},
    "colab_type": "code",
    "id": "ZVLVXftZwk4s",
    "outputId": "65e24275-b1e7-4eac-a096-c5a33ee6bf0e"
   },
   "outputs": [
    {
     "name": "stdout",
     "output_type": "stream",
     "text": [
      "Please enter some int number:20\n",
      "20 is an even number\n"
     ]
    }
   ],
   "source": [
    "x = int(input(\"Please enter some int number:\")) # accepts a int input from the user\n",
    "if x%2==0:\n",
    "    print(x , \"is an even number\")\n",
    "else:\n",
    "    print(x , \"is an odd number\")"
   ]
  },
  {
   "cell_type": "code",
   "execution_count": 0,
   "metadata": {
    "colab": {},
    "colab_type": "code",
    "id": "HrrpPr1Awk4x",
    "outputId": "05577cce-5216-47cc-e5d3-dadb320e77a7"
   },
   "outputs": [
    {
     "name": "stdout",
     "output_type": "stream",
     "text": [
      "Please enter some int number:21\n",
      "21 is an odd number\n"
     ]
    }
   ],
   "source": [
    "x = int(input(\"Please enter some int number:\")) # accepts a int input from the user\n",
    "if x%2==0:\n",
    "    print(x , \"is an even number\")\n",
    "else:\n",
    "    print(x , \"is an odd number\")"
   ]
  },
  {
   "cell_type": "markdown",
   "metadata": {
    "colab_type": "text",
    "id": "qaUGReSpwk49"
   },
   "source": [
    "### 1.4 Applications what we are seeing in daily life\n",
    "- create a cofee machine choices\n",
    "- ATM different options"
   ]
  },
  {
   "cell_type": "markdown",
   "metadata": {
    "colab": {},
    "colab_type": "code",
    "id": "tSAi7Taswk5B"
   },
   "source": [
    "`Home Work`: \n",
    "1. Check given number is 2 and 3 divisible or not\n",
    "2. Print type of credit card based on the credit card number (example Visa , Mastero..etc)"
   ]
  },
  {
   "cell_type": "code",
   "execution_count": 1,
   "metadata": {},
   "outputs": [],
   "source": [
    "# installation\n",
    "# IDE\n",
    "# basic Datatypes\n",
    "# type casting\n",
    "# data Structures\n",
    "# operators\n",
    "# control flows"
   ]
  },
  {
   "cell_type": "code",
   "execution_count": 2,
   "metadata": {},
   "outputs": [
    {
     "data": {
      "text/plain": [
       "10"
      ]
     },
     "execution_count": 2,
     "metadata": {},
     "output_type": "execute_result"
    }
   ],
   "source": [
    "min([10,20,30,40])"
   ]
  },
  {
   "cell_type": "code",
   "execution_count": 4,
   "metadata": {},
   "outputs": [
    {
     "name": "stdout",
     "output_type": "stream",
     "text": [
      "-5\n"
     ]
    }
   ],
   "source": [
    "minimum=0\n",
    "for i in [-5,10,20,30,40]:\n",
    "    if i<minimum:\n",
    "        minimum=i\n",
    "    \n",
    "print(minimum)\n",
    "        "
   ]
  },
  {
   "cell_type": "code",
   "execution_count": null,
   "metadata": {},
   "outputs": [],
   "source": []
  }
 ],
 "metadata": {
  "colab": {
   "name": "DS11_if_elif_else.ipynb",
   "provenance": [],
   "version": "0.3.2"
  },
  "kernelspec": {
   "display_name": "Python 3",
   "language": "python",
   "name": "python3"
  },
  "language_info": {
   "codemirror_mode": {
    "name": "ipython",
    "version": 3
   },
   "file_extension": ".py",
   "mimetype": "text/x-python",
   "name": "python",
   "nbconvert_exporter": "python",
   "pygments_lexer": "ipython3",
   "version": "3.6.9"
  }
 },
 "nbformat": 4,
 "nbformat_minor": 1
}
