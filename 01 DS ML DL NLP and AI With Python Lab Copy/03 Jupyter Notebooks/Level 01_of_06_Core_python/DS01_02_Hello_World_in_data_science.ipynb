{
 "cells": [
  {
   "cell_type": "markdown",
   "metadata": {
    "colab_type": "text",
    "collapsed": true,
    "id": "T8pUsYWakEQ0"
   },
   "source": [
    "# 1. *Hello World program* in Data Science using Python"
   ]
  },
  {
   "cell_type": "markdown",
   "metadata": {
    "colab_type": "text",
    "id": "YIlQqGKUkERD"
   },
   "source": [
    "## 1.1. Method 1: Write program in `Notepad` and run it\n",
    "- We `never write` in live using this method,because\n",
    "    - We need to write each and every function name fully\n",
    "    - Syntax need to rememmber and write... end to end. \n",
    "    - No help we will get\n",
    "    - No Auto Filling\n",
    "    - ..etc\n",
    "- Process\n",
    "    - Open notepad\n",
    "    - Type below code\n",
    "        ```python\n",
    "        print(\"Hello World\")\n",
    "        print(1+2)\n",
    "        print(\"Ram \" + \"Reddy\")\n",
    "        ```\n",
    "    - save with the extension as `.py` file on to the desktop\n",
    "    - open **anaconda command prompt**\n",
    "    - type python\n",
    "    - drag and drop this file \n",
    "    - enter\n",
    "    ![image](https://github.com/rritec/datahexa/blob/dev/images/ds%20000010.png?raw=true)\n",
    "    "
   ]
  },
  {
   "cell_type": "markdown",
   "metadata": {
    "colab_type": "text",
    "id": "e7oNK4sIkERJ"
   },
   "source": [
    "## 1.2. Method 2: Using `Spyder`\n",
    "![image](https://github.com/rritec/datahexa/blob/dev/images/ds%20spyder.jpg?raw=true)\n",
    "\n",
    "- [Visit Website](https://www.spyder-ide.org/)\n",
    "- Refer the tour\n",
    "    - Open spyder from all programs\n",
    "    - help\n",
    "    - Interactive Tours\n",
    "    - Introduction Tour    \n",
    "    - main **windows/panes** in spyder\n",
    "        - Editor \n",
    "            - write the code\n",
    "        - IPython Console\n",
    "            - run code\n",
    "        - Variable Explorer\n",
    "            - we can see already created variables\n",
    "        - help \n",
    "            - to know more info about given function\n",
    "        - File Explorer\n",
    "            - access your hard disk\n",
    "        - history\n",
    "            - to see previous ran commands\n",
    "- Advantage\n",
    "    - automating filling function names\n",
    "    - automating suggestions about function parameters\n",
    "    - shows warnings and errors\n",
    "    - etc    \n",
    "- Disadvantage\n",
    "    - no support of markdown language\n",
    "    - it is a windows based\n",
    "    - it wont suppport LaTex language\n",
    "    - no support for other languages (R,scala ..etc)\n",
    "- write hello world program\n",
    "    - in editor type <code>print(\"Hello World\")</code>\n",
    "    - run it\n",
    "- Some of the other windows based IDEs are\n",
    "    - pycharm\n",
    "    - eclipse\n",
    "    - intelij\n",
    "    - etc"
   ]
  },
  {
   "cell_type": "markdown",
   "metadata": {
    "colab_type": "text",
    "id": "jPaHi6VskERq"
   },
   "source": [
    "## 1.3 Method 3: Using Web Based IDE `Jupyter`\n",
    "- The Jupyter Notebook is an interactive computing environment that enables users to author notebook documents that include: - Live code - Interactive widgets - Plots - Narrative text - Equations - Images - Video\n",
    "![image](https://github.com/rritec/datahexa/blob/dev/images/ds%20000011.png?raw=true)\n",
    "- write hello world program\n",
    "    - open jupyter notebook from all programs\n",
    "    - Click on Desktop\n",
    "    - click on new\n",
    "    - click on folder\n",
    "    - select untitled folder and rename as rritec\n",
    "    - open the folder rritec\n",
    "    - click on new \n",
    "    - click on python\n",
    "    - type <code>print(\"Hello World\")</code>\n",
    "    - click on run\n",
    "- Observe jupyter tour\n",
    "    - click on help menu bar\n",
    "    - click on user interface tour\n",
    "    "
   ]
  },
  {
   "cell_type": "markdown",
   "metadata": {},
   "source": [
    "## 1.4 Method 4: Using `VS Code` IDE\n",
    "* Open `Anaconda Navigator (Anaconda3)`\n",
    "* Select `Home`\n",
    "* Click on `VS Code` `Install`\n",
    "* once installation is completed clik on `Launch`\n",
    "* Create `New Folder` on `Desktop` with todays date (example byyyymmdd)\n",
    "* In `VS Code` --> Go to `File` Menu --> Click on `Open Folder` --> point to above folder byyyymmdd\n",
    "* Click on `New File`\n",
    "* Name it as `test.py`\n",
    "* Write any code `print(\"Hello World\")`\n",
    "* Right click --> click on `Run Python File In Terminal`"
   ]
  },
  {
   "cell_type": "markdown",
   "metadata": {
    "colab": {},
    "colab_type": "code",
    "id": "mmcsgzqUkESE"
   },
   "source": [
    "> `Home Work :`\n",
    "\n",
    "> Observe Spyder tour and Jupyter tour\n",
    "\n",
    "> What is the shortcut to run code in jupyter\n",
    "\n",
    "> How many modes are available in jupyter notebook ?\n",
    "\n",
    "> how to switch to markdown language ? let me know keyboard shortcut ?\n"
   ]
  },
  {
   "cell_type": "code",
   "execution_count": null,
   "metadata": {},
   "outputs": [],
   "source": []
  }
 ],
 "metadata": {
  "colab": {
   "name": "DS01_02_Hello_World_in_data_science.ipynb",
   "provenance": [],
   "version": "0.3.2"
  },
  "kernelspec": {
   "display_name": "Python 3",
   "language": "python",
   "name": "python3"
  },
  "language_info": {
   "codemirror_mode": {
    "name": "ipython",
    "version": 3
   },
   "file_extension": ".py",
   "mimetype": "text/x-python",
   "name": "python",
   "nbconvert_exporter": "python",
   "pygments_lexer": "ipython3",
   "version": "3.6.9"
  }
 },
 "nbformat": 4,
 "nbformat_minor": 1
}
