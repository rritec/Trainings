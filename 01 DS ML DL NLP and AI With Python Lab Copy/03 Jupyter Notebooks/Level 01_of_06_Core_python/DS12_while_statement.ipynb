{
 "cells": [
  {
   "cell_type": "markdown",
   "metadata": {
    "colab_type": "text",
    "id": "d3HjjB8GKW0i"
   },
   "source": [
    "# While Loop\n",
    "------------\n",
    "- The while loop is like a repeated if statement. The code is executed over and over again, as long as the condition is true"
   ]
  },
  {
   "cell_type": "markdown",
   "metadata": {
    "colab_type": "text",
    "id": "dfK223FIKW0k"
   },
   "source": [
    "## 1. Scenerio: Creating the Fibonacci series\n",
    "* Each number in the sequence is the sum of the two numbers that `precede `it. So, the sequence goes: 1, 1, 2, 3, 5, 8, 13, 21, 34, and so on. \n",
    "* The mathematical equation describing it is Xn+2= Xn+1 + Xn\n",
    "![fibonacci series](https://raw.githubusercontent.com/rritec/datahexa/master/images/fibonacci-series-cpp.jpg)"
   ]
  },
  {
   "cell_type": "code",
   "execution_count": 0,
   "metadata": {
    "colab": {},
    "colab_type": "code",
    "id": "lXYAuuR3KW0l",
    "outputId": "1f143cbc-7943-4806-b4bf-db9a54a3a371"
   },
   "outputs": [
    {
     "name": "stdout",
     "output_type": "stream",
     "text": [
      "up to what number you need fibonacci series?  :  20\n"
     ]
    }
   ],
   "source": [
    "a,b = 0,1\n",
    "n = int(input(\"up to what number you need fibonacci series?  :  \")) #20\n",
    "fibo = [] # empty list\n",
    "while b<n:                  #iter 1: 1<20 >> True # Iter2: 1<20 >> True #iter3:2<20 >> True    \n",
    "    fibo.append(b)     # iter1 : 1, #iter 2: 1, 1,  # iter 3: 1,1,2,\n",
    "    a,b = b,a+b             #iter1: a=1, b = 1 #iter 2: a=1,b=2,#iter3:a =2,b=3"
   ]
  },
  {
   "cell_type": "code",
   "execution_count": 0,
   "metadata": {
    "colab": {},
    "colab_type": "code",
    "id": "bcQYuqq3KW0s",
    "outputId": "1e91be5d-a937-46aa-bd79-70974089e304"
   },
   "outputs": [
    {
     "data": {
      "text/plain": [
       "[1, 1, 2, 3, 5, 8, 13]"
      ]
     },
     "execution_count": 4,
     "metadata": {
      "tags": []
     },
     "output_type": "execute_result"
    }
   ],
   "source": [
    "fibo"
   ]
  },
  {
   "cell_type": "markdown",
   "metadata": {
    "colab_type": "text",
    "collapsed": true,
    "id": "0WudvWalKW0w"
   },
   "source": [
    "## 2. Scenerio: Upto given number print even numbers"
   ]
  },
  {
   "cell_type": "code",
   "execution_count": 0,
   "metadata": {
    "colab": {},
    "colab_type": "code",
    "id": "5oDR8IudKW0x",
    "outputId": "05061a46-de13-4828-85a3-65e35d66a1b8"
   },
   "outputs": [
    {
     "name": "stdout",
     "output_type": "stream",
     "text": [
      "up to what number you need even numbers?  :  40\n"
     ]
    }
   ],
   "source": [
    "n = int(input(\"up to what number you need even numbers?  :  \"))\n",
    "even = 0\n",
    "even_num=[] # empty list\n",
    "while even<n:\n",
    "    if even % 2 ==0:\n",
    "        even_num.append(even) \n",
    "        even =even +2"
   ]
  },
  {
   "cell_type": "code",
   "execution_count": 0,
   "metadata": {
    "colab": {},
    "colab_type": "code",
    "id": "YTUN6bc-KW01",
    "outputId": "914e5f86-ba45-466d-df00-5a54472b7b43"
   },
   "outputs": [
    {
     "data": {
      "text/plain": [
       "[0, 2, 4, 6, 8, 10, 12, 14, 16, 18, 20, 22, 24, 26, 28, 30, 32, 34, 36, 38]"
      ]
     },
     "execution_count": 2,
     "metadata": {
      "tags": []
     },
     "output_type": "execute_result"
    }
   ],
   "source": [
    "even_num"
   ]
  },
  {
   "cell_type": "markdown",
   "metadata": {
    "colab_type": "text",
    "id": "zW_I2fnOKW05"
   },
   "source": [
    "## 3. Scenerio: break above loop when even == 10"
   ]
  },
  {
   "cell_type": "code",
   "execution_count": 0,
   "metadata": {
    "colab": {},
    "colab_type": "code",
    "id": "god4TaOFKW06",
    "outputId": "37ad7a39-6192-4d2c-bf7f-024c4e5b89c4"
   },
   "outputs": [
    {
     "name": "stdout",
     "output_type": "stream",
     "text": [
      "up to what number you need even numbers?  :  40\n"
     ]
    }
   ],
   "source": [
    "n = int(input(\"up to what number you need even numbers?  :  \"))\n",
    "even = 0\n",
    "even_num=[]\n",
    "while even<n:\n",
    "    even = even+2\n",
    "    even_num.append(even)  \n",
    "    if even == 10:\n",
    "        break"
   ]
  },
  {
   "cell_type": "code",
   "execution_count": 0,
   "metadata": {
    "colab": {},
    "colab_type": "code",
    "id": "DyvrjK1QKW09",
    "outputId": "28901746-fafc-4cab-a6f8-ad4d463f7524"
   },
   "outputs": [
    {
     "data": {
      "text/plain": [
       "[2, 4, 6, 8, 10]"
      ]
     },
     "execution_count": 3,
     "metadata": {
      "tags": []
     },
     "output_type": "execute_result"
    }
   ],
   "source": [
    "even_num"
   ]
  },
  {
   "cell_type": "markdown",
   "metadata": {
    "colab_type": "text",
    "id": "DMW5JFFtKW1A"
   },
   "source": [
    "## 4. Scenerio:  skip the iter when even == 10"
   ]
  },
  {
   "cell_type": "code",
   "execution_count": 0,
   "metadata": {
    "colab": {},
    "colab_type": "code",
    "id": "tNcTlii1KW1B",
    "outputId": "8fbdeccc-4677-45cc-9125-3659afd179fc"
   },
   "outputs": [
    {
     "name": "stdout",
     "output_type": "stream",
     "text": [
      "up to what number you need even numbers?  :  30\n"
     ]
    }
   ],
   "source": [
    "n = int(input(\"up to what number you need even numbers?  :  \"))\n",
    "even = 0\n",
    "even_num=[]\n",
    "while even<n:\n",
    "    even = even+2\n",
    "    if even == 10:\n",
    "        continue \n",
    "    even_num.append(even)  \n",
    "    "
   ]
  },
  {
   "cell_type": "code",
   "execution_count": 0,
   "metadata": {
    "colab": {},
    "colab_type": "code",
    "id": "UaFtu9luKW1L",
    "outputId": "b87102c3-da42-425b-ffcc-c540dce85c22"
   },
   "outputs": [
    {
     "data": {
      "text/plain": [
       "[2, 4, 6, 8, 12, 14, 16, 18, 20, 22, 24, 26, 28, 30]"
      ]
     },
     "execution_count": 23,
     "metadata": {
      "tags": []
     },
     "output_type": "execute_result"
    }
   ],
   "source": [
    "even_num"
   ]
  },
  {
   "cell_type": "markdown",
   "metadata": {
    "colab": {},
    "colab_type": "code",
    "id": "ht2U4s20KW1V"
   },
   "source": [
    "`Home Work:`\n",
    "1. print upto given number odd numbers\n",
    "2. print upto given number 2 and 3 multiples\n",
    "3. print upto given number prime numbers\n",
    "4. print upto given number squares (example : 1,4,9,16,...etc)\n",
    "5. find max of the given list ,write your own code.it should work similar to max([1,2,3,4]) --> 4\n",
    "6. Similarrly write min and len codes"
   ]
  },
  {
   "cell_type": "code",
   "execution_count": 0,
   "metadata": {
    "colab": {},
    "colab_type": "code",
    "id": "fO7cBjzH3YV4"
   },
   "outputs": [],
   "source": []
  }
 ],
 "metadata": {
  "colab": {
   "name": "DS12_while_statement.ipynb",
   "provenance": [],
   "version": "0.3.2"
  },
  "kernelspec": {
   "display_name": "Python 3",
   "language": "python",
   "name": "python3"
  },
  "language_info": {
   "codemirror_mode": {
    "name": "ipython",
    "version": 3
   },
   "file_extension": ".py",
   "mimetype": "text/x-python",
   "name": "python",
   "nbconvert_exporter": "python",
   "pygments_lexer": "ipython3",
   "version": "3.6.9"
  }
 },
 "nbformat": 4,
 "nbformat_minor": 1
}
