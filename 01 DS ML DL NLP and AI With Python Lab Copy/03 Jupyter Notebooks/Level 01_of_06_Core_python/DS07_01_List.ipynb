{
 "cells": [
  {
   "cell_type": "markdown",
   "metadata": {
    "colab_type": "text",
    "id": "hUTyQmJTxqMz"
   },
   "source": [
    "# List [       ]\n",
    "------------\n",
    "- Python List [a, b, c]\n",
    "- List is flexible, which can be written as a list of comma-separated values (items) between square brackets.\n",
    "- Lists might contain items of `different data types`, but usually the items all have the same type."
   ]
  },
  {
   "cell_type": "markdown",
   "metadata": {
    "colab_type": "text",
    "id": "PpcmmuxjxqM1"
   },
   "source": [
    "## 1. Define a list with same datatypes [    ]"
   ]
  },
  {
   "cell_type": "code",
   "execution_count": 1,
   "metadata": {
    "colab": {},
    "colab_type": "code",
    "id": "AYb2tfXoxqM_"
   },
   "outputs": [],
   "source": [
    "sal = [1000.30,2000.20, 300.50]"
   ]
  },
  {
   "cell_type": "code",
   "execution_count": 2,
   "metadata": {
    "colab": {
     "base_uri": "https://localhost:8080/",
     "height": 35
    },
    "colab_type": "code",
    "executionInfo": {
     "elapsed": 3708,
     "status": "ok",
     "timestamp": 1561789581274,
     "user": {
      "displayName": "Ram Reddy",
      "photoUrl": "https://lh4.googleusercontent.com/-iZxtGAVtOC4/AAAAAAAAAAI/AAAAAAAABRI/a8zVoiQN9is/s64/photo.jpg",
      "userId": "14166999692284653328"
     },
     "user_tz": -330
    },
    "id": "fZ3zLSz6xqNG",
    "outputId": "f09b2ed0-c701-4abe-f4d0-180907204e10"
   },
   "outputs": [
    {
     "data": {
      "text/plain": [
       "[1000.3, 2000.2, 300.5]"
      ]
     },
     "execution_count": 2,
     "metadata": {},
     "output_type": "execute_result"
    }
   ],
   "source": [
    "sal"
   ]
  },
  {
   "cell_type": "code",
   "execution_count": 4,
   "metadata": {
    "colab": {},
    "colab_type": "code",
    "id": "M4yjuM3uxqNM",
    "outputId": "8d096222-d5c1-4beb-ae0a-2cc11aa1197b"
   },
   "outputs": [
    {
     "data": {
      "text/plain": [
       "list"
      ]
     },
     "execution_count": 4,
     "metadata": {},
     "output_type": "execute_result"
    }
   ],
   "source": [
    "type(sal)"
   ]
  },
  {
   "cell_type": "markdown",
   "metadata": {
    "colab_type": "text",
    "id": "14CSTKylxqNQ"
   },
   "source": [
    "> Define using another syntax: Using **list** function"
   ]
  },
  {
   "cell_type": "code",
   "execution_count": null,
   "metadata": {
    "colab": {},
    "colab_type": "code",
    "id": "PGtHMiQfxqNR"
   },
   "outputs": [],
   "source": [
    "sal2 = list([100.20,200.30,300.50])"
   ]
  },
  {
   "cell_type": "code",
   "execution_count": null,
   "metadata": {
    "colab": {},
    "colab_type": "code",
    "id": "ziyXMSKZxqNU",
    "outputId": "74aea6c2-d33d-4f7c-9336-8d5a55d7e2c3"
   },
   "outputs": [
    {
     "data": {
      "text/plain": [
       "list"
      ]
     },
     "execution_count": 5,
     "metadata": {
      "tags": []
     },
     "output_type": "execute_result"
    }
   ],
   "source": [
    "type(sal2)"
   ]
  },
  {
   "cell_type": "markdown",
   "metadata": {
    "colab_type": "text",
    "id": "nbsszNmvxqNZ"
   },
   "source": [
    "> create empty list aka with no items"
   ]
  },
  {
   "cell_type": "code",
   "execution_count": null,
   "metadata": {
    "colab": {},
    "colab_type": "code",
    "id": "XxAKZcbjxqNb"
   },
   "outputs": [],
   "source": [
    "sal1 = list() # empty list # no items # []"
   ]
  },
  {
   "cell_type": "code",
   "execution_count": null,
   "metadata": {
    "colab": {},
    "colab_type": "code",
    "id": "9TC6Z5vDxqNe",
    "outputId": "f33fb386-08cf-4082-a325-170f074b9484"
   },
   "outputs": [
    {
     "data": {
      "text/plain": [
       "list"
      ]
     },
     "execution_count": 7,
     "metadata": {
      "tags": []
     },
     "output_type": "execute_result"
    }
   ],
   "source": [
    "type(sal1)"
   ]
  },
  {
   "cell_type": "code",
   "execution_count": null,
   "metadata": {
    "colab": {},
    "colab_type": "code",
    "id": "wpN54kzNxqNi",
    "outputId": "c6e6c0c4-d589-48f3-9785-7191306f644b"
   },
   "outputs": [
    {
     "data": {
      "text/plain": [
       "[]"
      ]
     },
     "execution_count": 8,
     "metadata": {
      "tags": []
     },
     "output_type": "execute_result"
    }
   ],
   "source": [
    "sal1"
   ]
  },
  {
   "cell_type": "markdown",
   "metadata": {
    "colab_type": "text",
    "id": "g82oOZyvxqNn"
   },
   "source": [
    "# 2. Define list with different datatypes"
   ]
  },
  {
   "cell_type": "code",
   "execution_count": null,
   "metadata": {
    "colab": {},
    "colab_type": "code",
    "id": "9_RhEfAjxqNp"
   },
   "outputs": [],
   "source": [
    "misc = [10,10.33, 1+2j, 'python', True,[10,20,30]]"
   ]
  },
  {
   "cell_type": "code",
   "execution_count": null,
   "metadata": {
    "colab": {},
    "colab_type": "code",
    "id": "9_RhEfAjxqNp"
   },
   "outputs": [],
   "source": [
    "misc = [10,10.33, 1+2j, 'python', True,[10,20,30]]"
   ]
  },
  {
   "cell_type": "code",
   "execution_count": null,
   "metadata": {
    "colab": {},
    "colab_type": "code",
    "id": "b-kz-_hIxqNr",
    "outputId": "c0436a8f-954b-48cb-8ea4-873bbede681a"
   },
   "outputs": [
    {
     "data": {
      "text/plain": [
       "[10, 10.33, (1+2j), 'python', True, [10, 20, 30]]"
      ]
     },
     "execution_count": 10,
     "metadata": {
      "tags": []
     },
     "output_type": "execute_result"
    }
   ],
   "source": [
    "misc"
   ]
  },
  {
   "cell_type": "code",
   "execution_count": null,
   "metadata": {
    "colab": {},
    "colab_type": "code",
    "id": "9oGa5dWXxqNz",
    "outputId": "27054904-ebc7-4be5-964c-292987511956"
   },
   "outputs": [
    {
     "data": {
      "text/plain": [
       "list"
      ]
     },
     "execution_count": 11,
     "metadata": {
      "tags": []
     },
     "output_type": "execute_result"
    }
   ],
   "source": [
    "type(misc)"
   ]
  },
  {
   "cell_type": "markdown",
   "metadata": {
    "colab_type": "text",
    "id": "-AgaG0G0xqN6"
   },
   "source": [
    "# 3. Nested List"
   ]
  },
  {
   "cell_type": "code",
   "execution_count": null,
   "metadata": {
    "colab": {},
    "colab_type": "code",
    "id": "b2T3T0aRxqN7"
   },
   "outputs": [],
   "source": [
    "a_nested_list = [[\"ram\",1000.50],[\"renny\",1100.23]]"
   ]
  },
  {
   "cell_type": "code",
   "execution_count": null,
   "metadata": {
    "colab": {},
    "colab_type": "code",
    "id": "4c4CmllnxqOE",
    "outputId": "e8226e7c-67bd-4a3c-d5ee-f15dd08a35a7"
   },
   "outputs": [
    {
     "data": {
      "text/plain": [
       "['ram', 1000.5]"
      ]
     },
     "execution_count": 8,
     "metadata": {
      "tags": []
     },
     "output_type": "execute_result"
    }
   ],
   "source": [
    "a_nested_list[0]"
   ]
  },
  {
   "cell_type": "code",
   "execution_count": null,
   "metadata": {
    "colab": {},
    "colab_type": "code",
    "id": "UO9Pv5ngxqOR",
    "outputId": "66fb4626-6955-4514-a7fd-66bebd3557d6"
   },
   "outputs": [
    {
     "data": {
      "text/plain": [
       "1000.5"
      ]
     },
     "execution_count": 9,
     "metadata": {
      "tags": []
     },
     "output_type": "execute_result"
    }
   ],
   "source": [
    "a_nested_list[0][1]"
   ]
  },
  {
   "cell_type": "code",
   "execution_count": null,
   "metadata": {
    "colab": {},
    "colab_type": "code",
    "id": "-nICnMmQxqOa",
    "outputId": "44ac1104-4459-40aa-cbab-3b874fa50cdb"
   },
   "outputs": [
    {
     "data": {
      "text/plain": [
       "list"
      ]
     },
     "execution_count": 11,
     "metadata": {
      "tags": []
     },
     "output_type": "execute_result"
    }
   ],
   "source": [
    "type(a_nested_list)"
   ]
  },
  {
   "cell_type": "code",
   "execution_count": null,
   "metadata": {
    "colab": {},
    "colab_type": "code",
    "id": "PB84N9cxxqOg",
    "outputId": "91a06e7b-611f-40a9-cfea-6a6222983f5d"
   },
   "outputs": [
    {
     "data": {
      "text/plain": [
       "1100.23"
      ]
     },
     "execution_count": 10,
     "metadata": {
      "tags": []
     },
     "output_type": "execute_result"
    }
   ],
   "source": [
    "a_nested_list[1][1]"
   ]
  },
  {
   "cell_type": "markdown",
   "metadata": {
    "colab_type": "text",
    "id": "NXsLUPdGxqOj"
   },
   "source": [
    "# 4. Manipulating the list\n",
    "    * add items at end position\n",
    "    * add items in required position\n",
    "    * modify item values\n",
    "    * remvoe items from the list"
   ]
  },
  {
   "cell_type": "markdown",
   "metadata": {
    "colab_type": "text",
    "id": "1AkAN1vdxqOk"
   },
   "source": [
    "## 4.1. Add items to the list"
   ]
  },
  {
   "cell_type": "code",
   "execution_count": null,
   "metadata": {
    "colab": {},
    "colab_type": "code",
    "id": "qSxHz6KTxqOl",
    "outputId": "b32fcf4b-c1f9-4d29-9240-6a20d0adc59a"
   },
   "outputs": [
    {
     "data": {
      "text/plain": [
       "[1000.5, 2000.2, 3000.3]"
      ]
     },
     "execution_count": 11,
     "metadata": {
      "tags": []
     },
     "output_type": "execute_result"
    }
   ],
   "source": [
    "sal"
   ]
  },
  {
   "cell_type": "code",
   "execution_count": null,
   "metadata": {
    "colab": {},
    "colab_type": "code",
    "id": "O0ighkv3xqOo"
   },
   "outputs": [],
   "source": [
    "sal.append(4000.40) # here append is a method of list object # add at last position"
   ]
  },
  {
   "cell_type": "code",
   "execution_count": null,
   "metadata": {
    "colab": {},
    "colab_type": "code",
    "id": "XtdkKW6OxqOr",
    "outputId": "dffb2fb7-cea5-44b5-9e7b-5712bfb94116"
   },
   "outputs": [
    {
     "data": {
      "text/plain": [
       "[1000.5, 2000.2, 3000.3, 4000.4]"
      ]
     },
     "execution_count": 25,
     "metadata": {
      "tags": []
     },
     "output_type": "execute_result"
    }
   ],
   "source": [
    "sal"
   ]
  },
  {
   "cell_type": "code",
   "execution_count": null,
   "metadata": {
    "colab": {},
    "colab_type": "code",
    "id": "tBxypK7jxqOu"
   },
   "outputs": [],
   "source": [
    "sal.insert?"
   ]
  },
  {
   "cell_type": "code",
   "execution_count": null,
   "metadata": {
    "colab": {},
    "colab_type": "code",
    "id": "TEmWUEMxxqOw"
   },
   "outputs": [],
   "source": [
    "sal.insert(1,1500.15) # here insert is a method of list object # to add at particular index position"
   ]
  },
  {
   "cell_type": "code",
   "execution_count": null,
   "metadata": {
    "colab": {},
    "colab_type": "code",
    "id": "27oD5PQ8xqOz",
    "outputId": "0238839e-0c51-448f-b41b-e1d0da83b7c2"
   },
   "outputs": [
    {
     "data": {
      "text/plain": [
       "[1000.5, 1500.15, 2000.2, 3000.3, 4000.4]"
      ]
     },
     "execution_count": 27,
     "metadata": {
      "tags": []
     },
     "output_type": "execute_result"
    }
   ],
   "source": [
    "sal"
   ]
  },
  {
   "cell_type": "markdown",
   "metadata": {
    "colab_type": "text",
    "id": "IFyAOA6VxqO2"
   },
   "source": [
    "## 4.2. Remove item from the list"
   ]
  },
  {
   "cell_type": "code",
   "execution_count": null,
   "metadata": {
    "colab": {},
    "colab_type": "code",
    "id": "krbOBEqGxqO3"
   },
   "outputs": [],
   "source": [
    "del(sal[1])"
   ]
  },
  {
   "cell_type": "code",
   "execution_count": null,
   "metadata": {
    "colab": {},
    "colab_type": "code",
    "id": "egB6t6jMxqO6",
    "outputId": "fa44a38f-58cc-41ca-c972-469ddb379c48"
   },
   "outputs": [
    {
     "data": {
      "text/plain": [
       "[1000.5, 2000.2, 3000.3, 4000.4]"
      ]
     },
     "execution_count": 29,
     "metadata": {
      "tags": []
     },
     "output_type": "execute_result"
    }
   ],
   "source": [
    "sal"
   ]
  },
  {
   "cell_type": "markdown",
   "metadata": {
    "colab_type": "text",
    "id": "UkzXsXUyxqO-"
   },
   "source": [
    "## 4.3. Update items of the list"
   ]
  },
  {
   "cell_type": "code",
   "execution_count": null,
   "metadata": {
    "colab": {},
    "colab_type": "code",
    "id": "NPxsBLuExqO_"
   },
   "outputs": [],
   "source": [
    "sal[0] = 1200.25"
   ]
  },
  {
   "cell_type": "code",
   "execution_count": null,
   "metadata": {
    "colab": {},
    "colab_type": "code",
    "id": "kN0ctAa9xqPH",
    "outputId": "c964d61d-1c32-47e9-ad36-bd4139b510dc"
   },
   "outputs": [
    {
     "data": {
      "text/plain": [
       "[1200.25, 2000.2, 3000.3, 4000.4]"
      ]
     },
     "execution_count": 31,
     "metadata": {
      "tags": []
     },
     "output_type": "execute_result"
    }
   ],
   "source": [
    "sal"
   ]
  },
  {
   "cell_type": "markdown",
   "metadata": {
    "colab_type": "text",
    "id": "fgJ3KGuCxqPP"
   },
   "source": [
    "> List is supporting item assignment ,so list is **mutable**"
   ]
  },
  {
   "cell_type": "markdown",
   "metadata": {
    "colab_type": "text",
    "id": "WuwR8t3bL9Oa"
   },
   "source": [
    "> **Home Work:** Explore all methods of list\n",
    "\n",
    "> [Refer 1 of 2](https://docs.python.org/3/tutorial/introduction.html#lists)\n",
    "\n",
    "> [refer 2 of 2](https://docs.python.org/3/tutorial/datastructures.html)\n"
   ]
  },
  {
   "cell_type": "markdown",
   "metadata": {
    "colab_type": "text",
    "id": "7qvYHLeGxqPR"
   },
   "source": [
    "# 5. Memory Allocation"
   ]
  },
  {
   "cell_type": "code",
   "execution_count": 5,
   "metadata": {
    "colab": {},
    "colab_type": "code",
    "id": "M_efl-rfxqPT"
   },
   "outputs": [],
   "source": [
    "a_list = [10,20,30]"
   ]
  },
  {
   "cell_type": "code",
   "execution_count": 6,
   "metadata": {},
   "outputs": [
    {
     "data": {
      "text/plain": [
       "2896523416328"
      ]
     },
     "execution_count": 6,
     "metadata": {},
     "output_type": "execute_result"
    }
   ],
   "source": [
    "id(a_list)"
   ]
  },
  {
   "cell_type": "code",
   "execution_count": 7,
   "metadata": {
    "colab": {},
    "colab_type": "code",
    "id": "iVcf_u6qxqPY"
   },
   "outputs": [],
   "source": [
    "b_list = a_list # b_list will use a_list memory location # b_list will act as a shortcut to a_list"
   ]
  },
  {
   "cell_type": "code",
   "execution_count": 8,
   "metadata": {},
   "outputs": [
    {
     "data": {
      "text/plain": [
       "2896523416328"
      ]
     },
     "execution_count": 8,
     "metadata": {},
     "output_type": "execute_result"
    }
   ],
   "source": [
    "id(b_list)"
   ]
  },
  {
   "cell_type": "code",
   "execution_count": null,
   "metadata": {
    "colab": {},
    "colab_type": "code",
    "id": "8t37HoKZxqPb",
    "outputId": "c99e7bd2-e675-4901-9ccd-93c8a27daa9d"
   },
   "outputs": [
    {
     "data": {
      "text/plain": [
       "[10, 20, 30]"
      ]
     },
     "execution_count": 34,
     "metadata": {
      "tags": []
     },
     "output_type": "execute_result"
    }
   ],
   "source": [
    "a_list"
   ]
  },
  {
   "cell_type": "code",
   "execution_count": null,
   "metadata": {
    "colab": {},
    "colab_type": "code",
    "id": "tRxlnmf2xqPp",
    "outputId": "3242c176-4fb0-44f2-ef61-09bef7dafa35"
   },
   "outputs": [
    {
     "data": {
      "text/plain": [
       "[10, 20, 30]"
      ]
     },
     "execution_count": 35,
     "metadata": {
      "tags": []
     },
     "output_type": "execute_result"
    }
   ],
   "source": [
    "b_list"
   ]
  },
  {
   "cell_type": "code",
   "execution_count": null,
   "metadata": {
    "colab": {},
    "colab_type": "code",
    "id": "cNAPF8hixqPt"
   },
   "outputs": [],
   "source": [
    "a_list[0]=40"
   ]
  },
  {
   "cell_type": "code",
   "execution_count": null,
   "metadata": {
    "colab": {},
    "colab_type": "code",
    "id": "2DiLx_GExqPv",
    "outputId": "b9f7cdd7-611a-41aa-ad5f-bfb50ffc3b33"
   },
   "outputs": [
    {
     "data": {
      "text/plain": [
       "[40, 20, 30]"
      ]
     },
     "execution_count": 37,
     "metadata": {
      "tags": []
     },
     "output_type": "execute_result"
    }
   ],
   "source": [
    "a_list"
   ]
  },
  {
   "cell_type": "markdown",
   "metadata": {
    "colab_type": "text",
    "id": "dJU-9i97xqP0"
   },
   "source": [
    "> what are the items available in b_list"
   ]
  },
  {
   "cell_type": "code",
   "execution_count": null,
   "metadata": {
    "colab": {},
    "colab_type": "code",
    "id": "LGB3BTg2xqP7",
    "outputId": "a853eaad-f56f-4ce6-c04f-fca9fdc3c24b"
   },
   "outputs": [
    {
     "data": {
      "text/plain": [
       "[40, 20, 30]"
      ]
     },
     "execution_count": 38,
     "metadata": {
      "tags": []
     },
     "output_type": "execute_result"
    }
   ],
   "source": [
    "b_list"
   ]
  },
  {
   "cell_type": "code",
   "execution_count": null,
   "metadata": {
    "colab": {},
    "colab_type": "code",
    "id": "Dmd7AVblxqQA"
   },
   "outputs": [],
   "source": [
    "a_list = [10,20,30]"
   ]
  },
  {
   "cell_type": "code",
   "execution_count": null,
   "metadata": {
    "colab": {},
    "colab_type": "code",
    "id": "t3crU0i5xqQE"
   },
   "outputs": [],
   "source": [
    "b_list =list(a_list)"
   ]
  },
  {
   "cell_type": "code",
   "execution_count": null,
   "metadata": {
    "colab": {},
    "colab_type": "code",
    "id": "R_Dq1yNOxqQH",
    "outputId": "28d67bdc-a980-4959-81c8-c953560464c2"
   },
   "outputs": [
    {
     "data": {
      "text/plain": [
       "[10, 20, 30]"
      ]
     },
     "execution_count": 41,
     "metadata": {
      "tags": []
     },
     "output_type": "execute_result"
    }
   ],
   "source": [
    "a_list"
   ]
  },
  {
   "cell_type": "code",
   "execution_count": null,
   "metadata": {
    "colab": {},
    "colab_type": "code",
    "id": "rF9X2z45xqQL",
    "outputId": "8da44a58-5656-478a-e6a8-cf51b20b71c3"
   },
   "outputs": [
    {
     "data": {
      "text/plain": [
       "[10, 20, 30]"
      ]
     },
     "execution_count": 42,
     "metadata": {
      "tags": []
     },
     "output_type": "execute_result"
    }
   ],
   "source": [
    "b_list"
   ]
  },
  {
   "cell_type": "code",
   "execution_count": null,
   "metadata": {
    "colab": {},
    "colab_type": "code",
    "id": "OY0msbFGxqQO"
   },
   "outputs": [],
   "source": [
    "a_list[2]=50"
   ]
  },
  {
   "cell_type": "code",
   "execution_count": null,
   "metadata": {
    "colab": {},
    "colab_type": "code",
    "id": "JPhMiE8DxqQQ",
    "outputId": "d3aaf6a6-47d9-45d5-a3f7-f82f52f3975f"
   },
   "outputs": [
    {
     "data": {
      "text/plain": [
       "[10, 20, 50]"
      ]
     },
     "execution_count": 44,
     "metadata": {
      "tags": []
     },
     "output_type": "execute_result"
    }
   ],
   "source": [
    "a_list"
   ]
  },
  {
   "cell_type": "markdown",
   "metadata": {
    "colab_type": "text",
    "id": "0aIfL9mexqQh"
   },
   "source": [
    "> what are the items of b_list ??"
   ]
  },
  {
   "cell_type": "code",
   "execution_count": null,
   "metadata": {
    "colab": {},
    "colab_type": "code",
    "id": "4w3dP5-gxqQi",
    "outputId": "da3c749f-7d0e-43f9-9f96-91d60d55b315"
   },
   "outputs": [
    {
     "data": {
      "text/plain": [
       "[10, 20, 30]"
      ]
     },
     "execution_count": 45,
     "metadata": {
      "tags": []
     },
     "output_type": "execute_result"
    }
   ],
   "source": [
    "b_list"
   ]
  },
  {
   "cell_type": "code",
   "execution_count": null,
   "metadata": {
    "colab": {},
    "colab_type": "code",
    "id": "hPDGPUckxqQs"
   },
   "outputs": [],
   "source": [
    "> Reading Home Work : `Shallow Vs Deep Copy`"
   ]
  },
  {
   "cell_type": "code",
   "execution_count": null,
   "metadata": {
    "colab": {},
    "colab_type": "code",
    "id": "lgk84E6BbZ3K"
   },
   "outputs": [],
   "source": []
  }
 ],
 "metadata": {
  "colab": {
   "name": "DS07_list.ipynb",
   "provenance": [],
   "toc_visible": true,
   "version": "0.3.2"
  },
  "kernelspec": {
   "display_name": "Python 3",
   "language": "python",
   "name": "python3"
  },
  "language_info": {
   "codemirror_mode": {
    "name": "ipython",
    "version": 3
   },
   "file_extension": ".py",
   "mimetype": "text/x-python",
   "name": "python",
   "nbconvert_exporter": "python",
   "pygments_lexer": "ipython3",
   "version": "3.6.9"
  }
 },
 "nbformat": 4,
 "nbformat_minor": 4
}
