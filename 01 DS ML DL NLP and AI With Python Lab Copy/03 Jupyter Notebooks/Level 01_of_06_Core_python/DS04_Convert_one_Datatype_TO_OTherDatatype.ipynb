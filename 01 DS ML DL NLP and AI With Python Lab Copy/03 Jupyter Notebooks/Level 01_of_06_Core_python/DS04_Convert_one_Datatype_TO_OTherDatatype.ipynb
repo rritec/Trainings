{
 "cells": [
  {
   "cell_type": "markdown",
   "metadata": {
    "colab_type": "text",
    "id": "Jklx6NC1kRU_"
   },
   "source": [
    "# Type Casting \n",
    "## Convert one DataType to Other DataType\n",
    "-----\n",
    "- Convert one data type into other using functions\n",
    "    - int()    \n",
    "    - float()\n",
    "    - complex()\n",
    "    - str()\n",
    "    - bool()"
   ]
  },
  {
   "cell_type": "markdown",
   "metadata": {
    "colab_type": "text",
    "id": "xCfYiwiQhkSb"
   },
   "source": [
    "|Serial Number | Conversion | Possible or **error** |\n",
    "| :----: | :---------- | :----------------- |\n",
    "|1| int to float | Possible |\n",
    "|2| int to complex | Possible |\n",
    "|3| int to str | Possible |\n",
    "|4| int to bool | Possible |\n",
    "|5| float to int | Possible |\n",
    "|6| float to complex | Possible |\n",
    "|7| float to str | Possible |\n",
    "|8| float to bool | Possible |\n",
    "|9| complex to int | **error** |\n",
    "|10| complex to float | **error** |\n",
    "|11| complex to str | Possible |\n",
    "|12| complex to bool | Possible |\n",
    "|13| str to int* | **error** |\n",
    "|14| str to float | **error** |\n",
    "|15| str to complex | **error** |\n",
    "|16| str to bool | Possible |\n",
    "|17| bool to int | Possible |\n",
    "|18| bool to float | Possible |\n",
    "|19| bool to complex | Possible |\n",
    "|20| bool to bool | Possible |\n"
   ]
  },
  {
   "cell_type": "markdown",
   "metadata": {
    "colab_type": "text",
    "id": "XxYPOy8pkRVC"
   },
   "source": [
    "## 1. Converting int to float ?"
   ]
  },
  {
   "cell_type": "code",
   "execution_count": 0,
   "metadata": {
    "colab": {},
    "colab_type": "code",
    "id": "ao_CWPGZkRVD"
   },
   "outputs": [],
   "source": [
    "a_int = 11"
   ]
  },
  {
   "cell_type": "code",
   "execution_count": 0,
   "metadata": {
    "colab": {
     "base_uri": "https://localhost:8080/",
     "height": 35
    },
    "colab_type": "code",
    "executionInfo": {
     "elapsed": 946,
     "status": "ok",
     "timestamp": 1551318909930,
     "user": {
      "displayName": "Ram Reddy",
      "photoUrl": "https://lh4.googleusercontent.com/-iZxtGAVtOC4/AAAAAAAAAAI/AAAAAAAABRI/a8zVoiQN9is/s64/photo.jpg",
      "userId": "14166999692284653328"
     },
     "user_tz": -330
    },
    "id": "5q0-IHdJkRVH",
    "outputId": "c87d3124-c5fa-4b91-8b51-99058adeb07b"
   },
   "outputs": [
    {
     "data": {
      "text/plain": [
       "11"
      ]
     },
     "execution_count": 2,
     "metadata": {
      "tags": []
     },
     "output_type": "execute_result"
    }
   ],
   "source": [
    "a_int"
   ]
  },
  {
   "cell_type": "code",
   "execution_count": 0,
   "metadata": {
    "colab": {},
    "colab_type": "code",
    "id": "0EsH0n-dkRVM",
    "outputId": "36e093b7-4078-4e66-9d91-2658ace9b962"
   },
   "outputs": [
    {
     "data": {
      "text/plain": [
       "int"
      ]
     },
     "execution_count": 3,
     "metadata": {
      "tags": []
     },
     "output_type": "execute_result"
    }
   ],
   "source": [
    "type(a_int)"
   ]
  },
  {
   "cell_type": "code",
   "execution_count": 0,
   "metadata": {
    "colab": {},
    "colab_type": "code",
    "id": "yWZ0PbhekRVP"
   },
   "outputs": [],
   "source": [
    "a_int_to_float = float(a_int)"
   ]
  },
  {
   "cell_type": "code",
   "execution_count": 0,
   "metadata": {
    "colab": {},
    "colab_type": "code",
    "id": "0l7l1RkgkRVR",
    "outputId": "0844614c-ffcc-4378-d989-b7f1e91d5b64"
   },
   "outputs": [
    {
     "data": {
      "text/plain": [
       "11.0"
      ]
     },
     "execution_count": 5,
     "metadata": {
      "tags": []
     },
     "output_type": "execute_result"
    }
   ],
   "source": [
    "a_int_to_float"
   ]
  },
  {
   "cell_type": "code",
   "execution_count": 0,
   "metadata": {
    "colab": {},
    "colab_type": "code",
    "id": "_ikdnTFfkRVV",
    "outputId": "67316189-3f8c-4ccd-a713-56a1dfca9805"
   },
   "outputs": [
    {
     "data": {
      "text/plain": [
       "float"
      ]
     },
     "execution_count": 6,
     "metadata": {
      "tags": []
     },
     "output_type": "execute_result"
    }
   ],
   "source": [
    "type(a_int_to_float)"
   ]
  },
  {
   "cell_type": "markdown",
   "metadata": {
    "colab_type": "text",
    "id": "i-LdjKwPkRVj"
   },
   "source": [
    "## 2. Converting int to complex ?"
   ]
  },
  {
   "cell_type": "code",
   "execution_count": 0,
   "metadata": {
    "colab": {},
    "colab_type": "code",
    "id": "yxeJNEzakRVk"
   },
   "outputs": [],
   "source": [
    "a_int_to_complex = complex(a_int)"
   ]
  },
  {
   "cell_type": "code",
   "execution_count": 0,
   "metadata": {
    "colab": {},
    "colab_type": "code",
    "id": "zylOy08VkRVn",
    "outputId": "ffaf6055-a19b-4a81-8814-e0a00a2b7a08"
   },
   "outputs": [
    {
     "data": {
      "text/plain": [
       "(11+0j)"
      ]
     },
     "execution_count": 8,
     "metadata": {
      "tags": []
     },
     "output_type": "execute_result"
    }
   ],
   "source": [
    "a_int_to_complex"
   ]
  },
  {
   "cell_type": "code",
   "execution_count": 0,
   "metadata": {
    "colab": {},
    "colab_type": "code",
    "id": "JFHgSK7TkRVx",
    "outputId": "18eb8009-3ec0-438a-8981-c14361d2c9c9"
   },
   "outputs": [
    {
     "data": {
      "text/plain": [
       "complex"
      ]
     },
     "execution_count": 9,
     "metadata": {
      "tags": []
     },
     "output_type": "execute_result"
    }
   ],
   "source": [
    "type(a_int_to_complex)"
   ]
  },
  {
   "cell_type": "markdown",
   "metadata": {
    "colab_type": "text",
    "id": "SNKAfQBQkRVY"
   },
   "source": [
    "## 3. Converting int to str ?"
   ]
  },
  {
   "cell_type": "code",
   "execution_count": 0,
   "metadata": {
    "colab": {},
    "colab_type": "code",
    "id": "OQ0rxZ9mkRVY"
   },
   "outputs": [],
   "source": [
    "a_int_to_str = str(a_int)"
   ]
  },
  {
   "cell_type": "code",
   "execution_count": 0,
   "metadata": {
    "colab": {},
    "colab_type": "code",
    "id": "-cXm0Y_nkRVc",
    "outputId": "858b7152-b083-46de-845a-8f8c89fe894d"
   },
   "outputs": [
    {
     "data": {
      "text/plain": [
       "'11'"
      ]
     },
     "execution_count": 11,
     "metadata": {
      "tags": []
     },
     "output_type": "execute_result"
    }
   ],
   "source": [
    "a_int_to_str"
   ]
  },
  {
   "cell_type": "code",
   "execution_count": 0,
   "metadata": {
    "colab": {},
    "colab_type": "code",
    "id": "bAc6oukdkRVg",
    "outputId": "8d30605b-4989-430f-c327-5e904f263015"
   },
   "outputs": [
    {
     "data": {
      "text/plain": [
       "str"
      ]
     },
     "execution_count": 12,
     "metadata": {
      "tags": []
     },
     "output_type": "execute_result"
    }
   ],
   "source": [
    "type(a_int_to_str)"
   ]
  },
  {
   "cell_type": "markdown",
   "metadata": {
    "colab_type": "text",
    "id": "Ss0ntK7kkRV0"
   },
   "source": [
    "## 4. Converting int to bool ?\n",
    "> int 0 is equal to bool False\n",
    "\n",
    "\n",
    "> int any other number is equal to bool True"
   ]
  },
  {
   "cell_type": "code",
   "execution_count": 0,
   "metadata": {
    "colab": {},
    "colab_type": "code",
    "id": "5JlG7jU-kRV2"
   },
   "outputs": [],
   "source": [
    "a_int_to_bool = bool(a_int)"
   ]
  },
  {
   "cell_type": "code",
   "execution_count": 0,
   "metadata": {
    "colab": {},
    "colab_type": "code",
    "id": "9g7PzUrbkRV9",
    "outputId": "3f53e9dd-926a-43ea-9b79-63e3eaa37625"
   },
   "outputs": [
    {
     "data": {
      "text/plain": [
       "True"
      ]
     },
     "execution_count": 14,
     "metadata": {
      "tags": []
     },
     "output_type": "execute_result"
    }
   ],
   "source": [
    "a_int_to_bool"
   ]
  },
  {
   "cell_type": "code",
   "execution_count": 0,
   "metadata": {
    "colab": {},
    "colab_type": "code",
    "id": "afy1C45DkRWB",
    "outputId": "97ed97a9-8b0e-4336-83b0-e8c0c3d1208f"
   },
   "outputs": [
    {
     "data": {
      "text/plain": [
       "bool"
      ]
     },
     "execution_count": 15,
     "metadata": {
      "tags": []
     },
     "output_type": "execute_result"
    }
   ],
   "source": [
    "type(a_int_to_bool)"
   ]
  },
  {
   "cell_type": "markdown",
   "metadata": {
    "colab_type": "text",
    "id": "EZ7VRC9FhkUg"
   },
   "source": [
    "### Example 2:"
   ]
  },
  {
   "cell_type": "code",
   "execution_count": 0,
   "metadata": {
    "colab": {},
    "colab_type": "code",
    "id": "3daZMafAkRWI"
   },
   "outputs": [],
   "source": [
    "x = 0"
   ]
  },
  {
   "cell_type": "code",
   "execution_count": 0,
   "metadata": {
    "colab": {},
    "colab_type": "code",
    "id": "3ux_gs_3kRWK",
    "outputId": "7ee4f5a4-e104-4ade-b741-c1ecc1b74806"
   },
   "outputs": [
    {
     "data": {
      "text/plain": [
       "int"
      ]
     },
     "execution_count": 17,
     "metadata": {
      "tags": []
     },
     "output_type": "execute_result"
    }
   ],
   "source": [
    "type(x)"
   ]
  },
  {
   "cell_type": "code",
   "execution_count": 0,
   "metadata": {
    "colab": {},
    "colab_type": "code",
    "id": "HzzPK9QZkRWO"
   },
   "outputs": [],
   "source": [
    "x_bool = bool(x)"
   ]
  },
  {
   "cell_type": "code",
   "execution_count": 0,
   "metadata": {
    "colab": {},
    "colab_type": "code",
    "id": "K3PQ5F-9kRWQ",
    "outputId": "5c3f8d86-9f00-44ec-bffb-2f07f694a512"
   },
   "outputs": [
    {
     "data": {
      "text/plain": [
       "False"
      ]
     },
     "execution_count": 19,
     "metadata": {
      "tags": []
     },
     "output_type": "execute_result"
    }
   ],
   "source": [
    "x_bool"
   ]
  },
  {
   "cell_type": "code",
   "execution_count": 0,
   "metadata": {
    "colab": {},
    "colab_type": "code",
    "id": "-GHIjMMBkRWT",
    "outputId": "4efb69bd-c903-475a-9ca0-9016ac988d5d"
   },
   "outputs": [
    {
     "data": {
      "text/plain": [
       "bool"
      ]
     },
     "execution_count": 20,
     "metadata": {
      "tags": []
     },
     "output_type": "execute_result"
    }
   ],
   "source": [
    "type(x_bool)"
   ]
  },
  {
   "cell_type": "markdown",
   "metadata": {
    "colab_type": "text",
    "id": "n-Yx2arNkRWV"
   },
   "source": [
    "## 5. converting str to int ?"
   ]
  },
  {
   "cell_type": "code",
   "execution_count": 0,
   "metadata": {
    "colab": {},
    "colab_type": "code",
    "id": "IH0yUXT0kRWW"
   },
   "outputs": [],
   "source": [
    "a_str = \"ram\""
   ]
  },
  {
   "cell_type": "code",
   "execution_count": 0,
   "metadata": {
    "colab": {},
    "colab_type": "code",
    "id": "JFxGbZ9MkRWZ",
    "outputId": "f9c9cb0e-d155-4db3-ec72-460bf43a77c3"
   },
   "outputs": [
    {
     "data": {
      "text/plain": [
       "'ram'"
      ]
     },
     "execution_count": 24,
     "metadata": {
      "tags": []
     },
     "output_type": "execute_result"
    }
   ],
   "source": [
    "a_str"
   ]
  },
  {
   "cell_type": "code",
   "execution_count": 0,
   "metadata": {
    "colab": {},
    "colab_type": "code",
    "id": "pAhlumndkRWb",
    "outputId": "3ba29cc7-56c5-499b-a56d-f18e8447bb83"
   },
   "outputs": [
    {
     "data": {
      "text/plain": [
       "str"
      ]
     },
     "execution_count": 23,
     "metadata": {
      "tags": []
     },
     "output_type": "execute_result"
    }
   ],
   "source": [
    "type(a_str)"
   ]
  },
  {
   "cell_type": "code",
   "execution_count": 0,
   "metadata": {
    "colab": {},
    "colab_type": "code",
    "id": "mer4YDvEkRWe",
    "outputId": "a995a249-c1bc-4d40-a2cd-d87a906378c3"
   },
   "outputs": [
    {
     "ename": "ValueError",
     "evalue": "invalid literal for int() with base 10: 'ram'",
     "output_type": "error",
     "traceback": [
      "\u001b[1;31m---------------------------------------------------------------------------\u001b[0m",
      "\u001b[1;31mValueError\u001b[0m                                Traceback (most recent call last)",
      "\u001b[1;32m<ipython-input-25-ab3d6f654528>\u001b[0m in \u001b[0;36m<module>\u001b[1;34m()\u001b[0m\n\u001b[1;32m----> 1\u001b[1;33m \u001b[0ma_str_to_int\u001b[0m \u001b[1;33m=\u001b[0m \u001b[0mint\u001b[0m\u001b[1;33m(\u001b[0m\u001b[0ma_str\u001b[0m\u001b[1;33m)\u001b[0m\u001b[1;33m\u001b[0m\u001b[0m\n\u001b[0m",
      "\u001b[1;31mValueError\u001b[0m: invalid literal for int() with base 10: 'ram'"
     ]
    }
   ],
   "source": [
    "a_str_to_int = int(a_str)"
   ]
  },
  {
   "cell_type": "markdown",
   "metadata": {
    "colab_type": "text",
    "collapsed": true,
    "id": "0S6qjUnLkRWg"
   },
   "source": [
    "> **Home Work**: \n",
    "* Check with all  other possible coversions\n",
    "* define binary,octa,hexa numbers in python\n",
    "    * https://medium.com/coderscorner/number-systems-decimal-binary-octal-and-hexadecimal-5e567e55ab28\n",
    "    * https://www.includehelp.com/python/binary-numbers-representation.aspx"
   ]
  },
  {
   "cell_type": "code",
   "execution_count": null,
   "metadata": {},
   "outputs": [],
   "source": []
  }
 ],
 "metadata": {
  "colab": {
   "name": "DS04_Convert_one_Datatype_TO_OTherDatatype.ipynb",
   "provenance": [],
   "version": "0.3.2"
  },
  "kernelspec": {
   "display_name": "Python 3",
   "language": "python",
   "name": "python3"
  },
  "language_info": {
   "codemirror_mode": {
    "name": "ipython",
    "version": 3
   },
   "file_extension": ".py",
   "mimetype": "text/x-python",
   "name": "python",
   "nbconvert_exporter": "python",
   "pygments_lexer": "ipython3",
   "version": "3.6.9"
  }
 },
 "nbformat": 4,
 "nbformat_minor": 1
}
