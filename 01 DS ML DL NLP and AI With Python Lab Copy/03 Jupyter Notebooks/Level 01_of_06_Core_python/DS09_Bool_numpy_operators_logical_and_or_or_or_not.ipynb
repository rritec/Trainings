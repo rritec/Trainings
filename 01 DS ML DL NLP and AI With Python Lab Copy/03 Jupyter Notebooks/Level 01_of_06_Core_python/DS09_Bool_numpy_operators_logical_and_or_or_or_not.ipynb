{
 "cells": [
  {
   "cell_type": "markdown",
   "metadata": {
    "colab_type": "text",
    "id": "aWtxlDRm2oSS"
   },
   "source": [
    "# Numpy Boolean Operators\n",
    "-----\n",
    "1. logical_and()\n",
    "2. logical_or()\n",
    "3. logical_not()"
   ]
  },
  {
   "cell_type": "markdown",
   "metadata": {
    "colab_type": "text",
    "id": "Y8GOg0cO2oSX"
   },
   "source": [
    "## 1.  Can we use and / or / not on Numpy array ?"
   ]
  },
  {
   "cell_type": "code",
   "execution_count": 0,
   "metadata": {
    "colab": {},
    "colab_type": "code",
    "id": "Nk3gskj-2oSk"
   },
   "outputs": [],
   "source": [
    "import numpy as np"
   ]
  },
  {
   "cell_type": "code",
   "execution_count": 0,
   "metadata": {
    "colab": {},
    "colab_type": "code",
    "id": "_BTjD7JE2oTW"
   },
   "outputs": [],
   "source": [
    "np_1d_array = np.array([10,20,30,40])"
   ]
  },
  {
   "cell_type": "code",
   "execution_count": 0,
   "metadata": {
    "colab": {},
    "colab_type": "code",
    "id": "qjxEcZLe2oUq",
    "outputId": "dad810cb-aa3a-4631-c0e8-0aa177e44c4e"
   },
   "outputs": [
    {
     "ename": "ValueError",
     "evalue": "The truth value of an array with more than one element is ambiguous. Use a.any() or a.all()",
     "output_type": "error",
     "traceback": [
      "\u001b[1;31m---------------------------------------------------------------------------\u001b[0m",
      "\u001b[1;31mValueError\u001b[0m                                Traceback (most recent call last)",
      "\u001b[1;32m<ipython-input-3-15fb092b87ad>\u001b[0m in \u001b[0;36m<module>\u001b[1;34m\u001b[0m\n\u001b[1;32m----> 1\u001b[1;33m \u001b[0mnp_1d_array\u001b[0m\u001b[1;33m>\u001b[0m\u001b[1;36m15\u001b[0m \u001b[1;32mand\u001b[0m \u001b[0mnp_1d_array\u001b[0m\u001b[1;33m<\u001b[0m\u001b[1;36m35\u001b[0m\u001b[1;33m\u001b[0m\u001b[0m\n\u001b[0m",
      "\u001b[1;31mValueError\u001b[0m: The truth value of an array with more than one element is ambiguous. Use a.any() or a.all()"
     ]
    }
   ],
   "source": [
    "np_1d_array>15 and np_1d_array<35"
   ]
  },
  {
   "cell_type": "markdown",
   "metadata": {
    "colab_type": "text",
    "id": "-BEUMs8p2oVw"
   },
   "source": [
    "> **not possible**?  then Solution is use logical_and,logical_or,logical_not"
   ]
  },
  {
   "cell_type": "markdown",
   "metadata": {
    "colab_type": "text",
    "id": "x-PVlVzJ2oWB"
   },
   "source": [
    "## 2. logical_and"
   ]
  },
  {
   "cell_type": "code",
   "execution_count": 0,
   "metadata": {
    "colab": {},
    "colab_type": "code",
    "id": "zUS2LxYx2oWM",
    "outputId": "0b394a80-4c5b-4c72-9f17-368a9426a3d4"
   },
   "outputs": [
    {
     "data": {
      "text/plain": [
       "array([False,  True,  True, False])"
      ]
     },
     "execution_count": 4,
     "metadata": {
      "tags": []
     },
     "output_type": "execute_result"
    }
   ],
   "source": [
    "np.logical_and(np_1d_array>15 ,np_1d_array<35) # condition"
   ]
  },
  {
   "cell_type": "code",
   "execution_count": 0,
   "metadata": {
    "colab": {},
    "colab_type": "code",
    "id": "u1e38lAU2oW4",
    "outputId": "38572d61-b0ed-4fc6-ce71-466161589be8"
   },
   "outputs": [
    {
     "data": {
      "text/plain": [
       "array([20, 30])"
      ]
     },
     "execution_count": 5,
     "metadata": {
      "tags": []
     },
     "output_type": "execute_result"
    }
   ],
   "source": [
    "np_1d_array[np.logical_and(np_1d_array>15 ,np_1d_array<35)]"
   ]
  },
  {
   "cell_type": "markdown",
   "metadata": {
    "colab_type": "text",
    "id": "zgJXbBj52oXm"
   },
   "source": [
    "## 3. logical_or"
   ]
  },
  {
   "cell_type": "code",
   "execution_count": 0,
   "metadata": {
    "colab": {},
    "colab_type": "code",
    "id": "p7uOJwX-2oXx",
    "outputId": "4b10d55b-9dbd-457f-8472-639496c3d060"
   },
   "outputs": [
    {
     "data": {
      "text/plain": [
       "array([False, False,  True,  True])"
      ]
     },
     "execution_count": 6,
     "metadata": {
      "tags": []
     },
     "output_type": "execute_result"
    }
   ],
   "source": [
    "np.logical_or(np_1d_array>21 ,np_1d_array>35)"
   ]
  },
  {
   "cell_type": "code",
   "execution_count": 0,
   "metadata": {
    "colab": {},
    "colab_type": "code",
    "id": "ngZJ9TMp2oYX",
    "outputId": "a860fef5-8169-44fe-8222-cc7dea5e71dd"
   },
   "outputs": [
    {
     "data": {
      "text/plain": [
       "array([30, 40])"
      ]
     },
     "execution_count": 7,
     "metadata": {
      "tags": []
     },
     "output_type": "execute_result"
    }
   ],
   "source": [
    "np_1d_array[np.logical_or(np_1d_array>21 ,np_1d_array>35)]"
   ]
  },
  {
   "cell_type": "markdown",
   "metadata": {
    "colab_type": "text",
    "id": "thx6OT6-2oZh"
   },
   "source": [
    "## 4. logical_not"
   ]
  },
  {
   "cell_type": "code",
   "execution_count": 0,
   "metadata": {
    "colab": {},
    "colab_type": "code",
    "id": "YZdcqysf2oZp",
    "outputId": "4c8bbd75-1e20-4052-8af1-160758928091"
   },
   "outputs": [
    {
     "data": {
      "text/plain": [
       "array([ True,  True, False, False])"
      ]
     },
     "execution_count": 8,
     "metadata": {
      "tags": []
     },
     "output_type": "execute_result"
    }
   ],
   "source": [
    "np.logical_not(np_1d_array>21)"
   ]
  },
  {
   "cell_type": "code",
   "execution_count": 0,
   "metadata": {
    "colab": {},
    "colab_type": "code",
    "id": "LMxL7Cz62oaj",
    "outputId": "17190159-99f9-4f58-95c5-9976493b3738"
   },
   "outputs": [
    {
     "data": {
      "text/plain": [
       "array([10, 20])"
      ]
     },
     "execution_count": 9,
     "metadata": {
      "tags": []
     },
     "output_type": "execute_result"
    }
   ],
   "source": [
    "np_1d_array[np.logical_not(np_1d_array>21)]"
   ]
  },
  {
   "cell_type": "code",
   "execution_count": 0,
   "metadata": {
    "colab": {},
    "colab_type": "code",
    "id": "WuuXzB_u2oa6"
   },
   "outputs": [],
   "source": []
  }
 ],
 "metadata": {
  "colab": {
   "name": "DS09_Bool_numpy_operators_logical_and_or_or_or_not.ipynb",
   "provenance": [],
   "version": "0.3.2"
  },
  "kernelspec": {
   "display_name": "Python 3",
   "language": "python",
   "name": "python3"
  },
  "language_info": {
   "codemirror_mode": {
    "name": "ipython",
    "version": 3
   },
   "file_extension": ".py",
   "mimetype": "text/x-python",
   "name": "python",
   "nbconvert_exporter": "python",
   "pygments_lexer": "ipython3",
   "version": "3.6.9"
  }
 },
 "nbformat": 4,
 "nbformat_minor": 1
}
