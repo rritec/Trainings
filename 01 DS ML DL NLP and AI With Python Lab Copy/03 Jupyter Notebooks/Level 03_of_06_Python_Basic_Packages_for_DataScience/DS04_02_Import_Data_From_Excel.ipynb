{
 "cells": [
  {
   "cell_type": "markdown",
   "metadata": {},
   "source": [
    "# Importing data from Excel\n",
    "1.\tUse pandas package to import Excel spreadsheets\n",
    "2.\tImport any given sheet of your loaded work book file as a DataFrame, by specifying either the **sheet's name** or its **index**.\n",
    "3.\tIt allows to skip rows, rename columns and select only particular columns.\n"
   ]
  },
  {
   "cell_type": "markdown",
   "metadata": {},
   "source": [
    "# Exercise 1: About current working Directory using script"
   ]
  },
  {
   "cell_type": "code",
   "execution_count": 1,
   "metadata": {
    "collapsed": true
   },
   "outputs": [],
   "source": [
    "import os"
   ]
  },
  {
   "cell_type": "code",
   "execution_count": 2,
   "metadata": {},
   "outputs": [
    {
     "data": {
      "text/plain": [
       "'C:\\\\Users\\\\Hi\\\\Google Drive\\\\01 DS ML DL NLP and AI With Python Lab Copy\\\\03 Jupyter Notebooks\\\\Level 03_of_08_Python_Basic_Packages_for_DataScience'"
      ]
     },
     "execution_count": 2,
     "metadata": {},
     "output_type": "execute_result"
    }
   ],
   "source": [
    "os.getcwd()"
   ]
  },
  {
   "cell_type": "code",
   "execution_count": 3,
   "metadata": {
    "collapsed": true
   },
   "outputs": [],
   "source": [
    "os.chdir(\"C:\\\\Users\\\\Hi\\\\Google Drive\\\\01 DS ML DL NLP and AI With Python Lab Copy\\\\02 Lab Data\\\\Python\")"
   ]
  },
  {
   "cell_type": "code",
   "execution_count": 4,
   "metadata": {},
   "outputs": [
    {
     "data": {
      "text/plain": [
       "'C:\\\\Users\\\\Hi\\\\Google Drive\\\\01 DS ML DL NLP and AI With Python Lab Copy\\\\02 Lab Data\\\\Python'"
      ]
     },
     "execution_count": 4,
     "metadata": {},
     "output_type": "execute_result"
    }
   ],
   "source": [
    "os.getcwd()"
   ]
  },
  {
   "cell_type": "markdown",
   "metadata": {},
   "source": [
    "# Exercise 2: Read Excel work sheet as dataframe"
   ]
  },
  {
   "cell_type": "code",
   "execution_count": 30,
   "metadata": {
    "collapsed": true
   },
   "outputs": [],
   "source": [
    "pd.ExcelFile?"
   ]
  },
  {
   "cell_type": "code",
   "execution_count": 5,
   "metadata": {
    "collapsed": true
   },
   "outputs": [],
   "source": [
    "import pandas as pd\n",
    "xl = pd.ExcelFile(\"ScottData.xlsx\")  # Load spreadsheet as: xl"
   ]
  },
  {
   "cell_type": "code",
   "execution_count": 7,
   "metadata": {},
   "outputs": [
    {
     "data": {
      "text/plain": [
       "pandas.io.excel.ExcelFile"
      ]
     },
     "execution_count": 7,
     "metadata": {},
     "output_type": "execute_result"
    }
   ],
   "source": [
    "type(xl)"
   ]
  },
  {
   "cell_type": "code",
   "execution_count": 8,
   "metadata": {},
   "outputs": [
    {
     "data": {
      "text/plain": [
       "<pandas.io.excel.ExcelFile at 0x586feb8>"
      ]
     },
     "execution_count": 8,
     "metadata": {},
     "output_type": "execute_result"
    }
   ],
   "source": [
    "xl"
   ]
  },
  {
   "cell_type": "code",
   "execution_count": 9,
   "metadata": {},
   "outputs": [
    {
     "name": "stdout",
     "output_type": "stream",
     "text": [
      "   DEPTNO       DNAME       LOC\n",
      "0      10  ACCOUNTING  NEW YORK\n",
      "1      20    RESEARCH    DALLAS\n",
      "2      30       SALES   CHICAGO\n",
      "3      40  OPERATIONS    BOSTON\n"
     ]
    }
   ],
   "source": [
    "df2 = xl.parse(1) # Load a sheet into a DataFrame by index: DEPT\n",
    "print(df2.head()) # Print the head of the DataFrame df2\n"
   ]
  },
  {
   "cell_type": "code",
   "execution_count": 27,
   "metadata": {
    "collapsed": true
   },
   "outputs": [],
   "source": [
    "xl.parse?"
   ]
  },
  {
   "cell_type": "code",
   "execution_count": 28,
   "metadata": {},
   "outputs": [
    {
     "name": "stdout",
     "output_type": "stream",
     "text": [
      "    Employee Number Employee Name        Job  Manager Number   Hiredate   Sal  \\\n",
      "0              7369         SMITH      CLERK          7902.0 1980-12-17   800   \n",
      "1              7900         JAMES      CLERK          7698.0 1981-12-03   950   \n",
      "2              7876         ADAMS      CLERK          7788.0 1987-05-23  1100   \n",
      "3              7521          WARD   SALESMAN          7698.0 1981-02-22  1250   \n",
      "4              7654        MARTIN   SALESMAN          7698.0 1981-09-28  1250   \n",
      "5              7934        MILLER      CLERK          7782.0 1982-01-23  1300   \n",
      "6              7844        TURNER   SALESMAN          7698.0 1981-09-08  1500   \n",
      "7              7499         ALLEN   SALESMAN          7698.0 1981-02-20  1600   \n",
      "8              7782         CLARK    MANAGER          7839.0 1981-06-09  2450   \n",
      "9              7698         BLAKE    MANAGER          7839.0 1981-05-01  2850   \n",
      "10             7566         JONES    MANAGER          7839.0 1981-04-02  2975   \n",
      "11             7788         SCOTT    ANALYST          7566.0 1987-04-19  3000   \n",
      "12             7902          FORD    ANALYST          7566.0 1981-12-03  3000   \n",
      "13             7839          KING  PRESIDENT             NaN 1981-11-17  5000   \n",
      "\n",
      "      comm  Deptno  \n",
      "0      NaN      20  \n",
      "1      NaN      30  \n",
      "2      NaN      20  \n",
      "3    500.0      30  \n",
      "4   1400.0      30  \n",
      "5      NaN      10  \n",
      "6      0.0      30  \n",
      "7    300.0      30  \n",
      "8      NaN      10  \n",
      "9      NaN      30  \n",
      "10     NaN      20  \n",
      "11     NaN      20  \n",
      "12     NaN      20  \n",
      "13     NaN      10  \n"
     ]
    }
   ],
   "source": [
    "# Parse the first sheet and rename the columns: df3\n",
    "df3 = xl.parse(0, names=['Employee Number', 'Employee Name',\n",
    "                         'Job','Manager Number','Hiredate','Sal','comm','Deptno'])\n",
    "print(df3.head(14)) # Print the head of the DataFrame df3\n"
   ]
  },
  {
   "cell_type": "code",
   "execution_count": 29,
   "metadata": {},
   "outputs": [
    {
     "name": "stdout",
     "output_type": "stream",
     "text": [
      "   Dept Number\n",
      "0           10\n",
      "1           20\n",
      "2           30\n",
      "3           40\n"
     ]
    }
   ],
   "source": [
    "# Parse the first column of the second sheet and rename the column: df4\n",
    "df4 = xl.parse(1, \n",
    "               parse_cols=[0], \n",
    "               names=['Dept Number'])\n",
    "print(df4.head()) # Print the head of the DataFrame df4\n"
   ]
  },
  {
   "cell_type": "markdown",
   "metadata": {},
   "source": [
    "# Other way to create dataframe using pandas"
   ]
  },
  {
   "cell_type": "code",
   "execution_count": 31,
   "metadata": {
    "collapsed": true
   },
   "outputs": [],
   "source": [
    "pd.read_excel?"
   ]
  },
  {
   "cell_type": "code",
   "execution_count": 18,
   "metadata": {
    "collapsed": true
   },
   "outputs": [],
   "source": [
    "df = pd.read_excel(io=xl,sheetname=\"DEPT\")"
   ]
  },
  {
   "cell_type": "code",
   "execution_count": 19,
   "metadata": {},
   "outputs": [
    {
     "data": {
      "text/html": [
       "<div>\n",
       "<style>\n",
       "    .dataframe thead tr:only-child th {\n",
       "        text-align: right;\n",
       "    }\n",
       "\n",
       "    .dataframe thead th {\n",
       "        text-align: left;\n",
       "    }\n",
       "\n",
       "    .dataframe tbody tr th {\n",
       "        vertical-align: top;\n",
       "    }\n",
       "</style>\n",
       "<table border=\"1\" class=\"dataframe\">\n",
       "  <thead>\n",
       "    <tr style=\"text-align: right;\">\n",
       "      <th></th>\n",
       "      <th>DEPTNO</th>\n",
       "      <th>DNAME</th>\n",
       "      <th>LOC</th>\n",
       "    </tr>\n",
       "  </thead>\n",
       "  <tbody>\n",
       "    <tr>\n",
       "      <th>0</th>\n",
       "      <td>10</td>\n",
       "      <td>ACCOUNTING</td>\n",
       "      <td>NEW YORK</td>\n",
       "    </tr>\n",
       "    <tr>\n",
       "      <th>1</th>\n",
       "      <td>20</td>\n",
       "      <td>RESEARCH</td>\n",
       "      <td>DALLAS</td>\n",
       "    </tr>\n",
       "    <tr>\n",
       "      <th>2</th>\n",
       "      <td>30</td>\n",
       "      <td>SALES</td>\n",
       "      <td>CHICAGO</td>\n",
       "    </tr>\n",
       "    <tr>\n",
       "      <th>3</th>\n",
       "      <td>40</td>\n",
       "      <td>OPERATIONS</td>\n",
       "      <td>BOSTON</td>\n",
       "    </tr>\n",
       "  </tbody>\n",
       "</table>\n",
       "</div>"
      ],
      "text/plain": [
       "   DEPTNO       DNAME       LOC\n",
       "0      10  ACCOUNTING  NEW YORK\n",
       "1      20    RESEARCH    DALLAS\n",
       "2      30       SALES   CHICAGO\n",
       "3      40  OPERATIONS    BOSTON"
      ]
     },
     "execution_count": 19,
     "metadata": {},
     "output_type": "execute_result"
    }
   ],
   "source": [
    "df"
   ]
  },
  {
   "cell_type": "markdown",
   "metadata": {},
   "source": [
    "# Exercise 2: Write data from dataframe to excel"
   ]
  },
  {
   "cell_type": "code",
   "execution_count": 39,
   "metadata": {
    "collapsed": true
   },
   "outputs": [],
   "source": [
    "pd.DataFrame?"
   ]
  },
  {
   "cell_type": "code",
   "execution_count": 32,
   "metadata": {},
   "outputs": [
    {
     "data": {
      "text/html": [
       "<div>\n",
       "<style>\n",
       "    .dataframe thead tr:only-child th {\n",
       "        text-align: right;\n",
       "    }\n",
       "\n",
       "    .dataframe thead th {\n",
       "        text-align: left;\n",
       "    }\n",
       "\n",
       "    .dataframe tbody tr th {\n",
       "        vertical-align: top;\n",
       "    }\n",
       "</style>\n",
       "<table border=\"1\" class=\"dataframe\">\n",
       "  <thead>\n",
       "    <tr style=\"text-align: right;\">\n",
       "      <th></th>\n",
       "      <th>Data</th>\n",
       "    </tr>\n",
       "  </thead>\n",
       "  <tbody>\n",
       "    <tr>\n",
       "      <th>0</th>\n",
       "      <td>10</td>\n",
       "    </tr>\n",
       "    <tr>\n",
       "      <th>1</th>\n",
       "      <td>20</td>\n",
       "    </tr>\n",
       "    <tr>\n",
       "      <th>2</th>\n",
       "      <td>30</td>\n",
       "    </tr>\n",
       "    <tr>\n",
       "      <th>3</th>\n",
       "      <td>20</td>\n",
       "    </tr>\n",
       "    <tr>\n",
       "      <th>4</th>\n",
       "      <td>15</td>\n",
       "    </tr>\n",
       "    <tr>\n",
       "      <th>5</th>\n",
       "      <td>30</td>\n",
       "    </tr>\n",
       "    <tr>\n",
       "      <th>6</th>\n",
       "      <td>45</td>\n",
       "    </tr>\n",
       "  </tbody>\n",
       "</table>\n",
       "</div>"
      ],
      "text/plain": [
       "   Data\n",
       "0    10\n",
       "1    20\n",
       "2    30\n",
       "3    20\n",
       "4    15\n",
       "5    30\n",
       "6    45"
      ]
     },
     "execution_count": 32,
     "metadata": {},
     "output_type": "execute_result"
    }
   ],
   "source": [
    "import pandas as pd\n",
    "# Create a Pandas dataframe from the data.\n",
    "df = pd.DataFrame({'Data': [10, 20, 30, 20, 15, 30, 45]})\n",
    "df # verfiy data frame data\n"
   ]
  },
  {
   "cell_type": "code",
   "execution_count": 33,
   "metadata": {
    "collapsed": true
   },
   "outputs": [],
   "source": [
    "pd.ExcelWriter?"
   ]
  },
  {
   "cell_type": "code",
   "execution_count": 35,
   "metadata": {
    "collapsed": true
   },
   "outputs": [],
   "source": [
    "# Create a Pandas Excel writer using XlsxWriter as the engine.\n",
    "writer = pd.ExcelWriter('pandas_simple_13feb2019.xlsx',\n",
    "                        engine='xlsxwriter')\n"
   ]
  },
  {
   "cell_type": "code",
   "execution_count": 36,
   "metadata": {},
   "outputs": [
    {
     "data": {
      "text/plain": [
       "pandas.io.excel._XlsxWriter"
      ]
     },
     "execution_count": 36,
     "metadata": {},
     "output_type": "execute_result"
    }
   ],
   "source": [
    "type(writer)"
   ]
  },
  {
   "cell_type": "code",
   "execution_count": 40,
   "metadata": {
    "collapsed": true
   },
   "outputs": [],
   "source": [
    "df.to_excel?"
   ]
  },
  {
   "cell_type": "code",
   "execution_count": 37,
   "metadata": {
    "collapsed": true
   },
   "outputs": [],
   "source": [
    "# Convert the dataframe to an XlsxWriter Excel object.\n",
    "df.to_excel(writer, sheet_name='Sheet1')\n",
    "writer.save() # Close the Pandas Excel writer and output the Excel file.\n"
   ]
  },
  {
   "cell_type": "markdown",
   "metadata": {
    "collapsed": true
   },
   "source": [
    "[Refer more about Excel reading and writeing](http://xlsxwriter.readthedocs.io/working_with_pandas.html)"
   ]
  },
  {
   "cell_type": "markdown",
   "metadata": {},
   "source": [
    "# one example of conditional formating"
   ]
  },
  {
   "cell_type": "code",
   "execution_count": 38,
   "metadata": {
    "collapsed": true
   },
   "outputs": [],
   "source": [
    "import xlsxwriter\n",
    "\n",
    "workbook = xlsxwriter.Workbook('conditional_format.xlsx')\n",
    "worksheet1 = workbook.add_worksheet()\n",
    "worksheet2 = workbook.add_worksheet()\n",
    "worksheet3 = workbook.add_worksheet()\n",
    "worksheet4 = workbook.add_worksheet()\n",
    "worksheet5 = workbook.add_worksheet()\n",
    "worksheet6 = workbook.add_worksheet()\n",
    "worksheet7 = workbook.add_worksheet()\n",
    "worksheet8 = workbook.add_worksheet()\n",
    "worksheet9 = workbook.add_worksheet()\n",
    "\n",
    "# Add a format. Light red fill with dark red text.\n",
    "format1 = workbook.add_format({'bg_color': '#FFC7CE',\n",
    "                               'font_color': '#9C0006'})\n",
    "\n",
    "# Add a format. Green fill with dark green text.\n",
    "format2 = workbook.add_format({'bg_color': '#C6EFCE',\n",
    "                               'font_color': '#006100'})\n",
    "\n",
    "# Some sample data to run the conditional formatting against.\n",
    "data = [\n",
    "    [34, 72, 38, 30, 75, 48, 75, 66, 84, 86],\n",
    "    [6, 24, 1, 84, 54, 62, 60, 3, 26, 59],\n",
    "    [28, 79, 97, 13, 85, 93, 93, 22, 5, 14],\n",
    "    [27, 71, 40, 17, 18, 79, 90, 93, 29, 47],\n",
    "    [88, 25, 33, 23, 67, 1, 59, 79, 47, 36],\n",
    "    [24, 100, 20, 88, 29, 33, 38, 54, 54, 88],\n",
    "    [6, 57, 88, 28, 10, 26, 37, 7, 41, 48],\n",
    "    [52, 78, 1, 96, 26, 45, 47, 33, 96, 36],\n",
    "    [60, 54, 81, 66, 81, 90, 80, 93, 12, 55],\n",
    "    [70, 5, 46, 14, 71, 19, 66, 36, 41, 21],\n",
    "]\n",
    "\n",
    "\n",
    "###############################################################################\n",
    "#\n",
    "# Example 1.\n",
    "#\n",
    "caption = ('Cells with values >= 50 are in light red. '\n",
    "           'Values < 50 are in light green.')\n",
    "\n",
    "# Write the data.\n",
    "worksheet1.write('A1', caption)\n",
    "\n",
    "for row, row_data in enumerate(data):\n",
    "    worksheet1.write_row(row + 2, 1, row_data)\n",
    "\n",
    "# Write a conditional format over a range.\n",
    "worksheet1.conditional_format('B3:K12', {'type': 'cell',\n",
    "                                         'criteria': '>=',\n",
    "                                         'value': 50,\n",
    "                                         'format': format1})\n",
    "\n",
    "# Write another conditional format over the same range.\n",
    "worksheet1.conditional_format('B3:K12', {'type': 'cell',\n",
    "                                         'criteria': '<',\n",
    "                                         'value': 50,\n",
    "                                         'format': format2})\n",
    "\n",
    "workbook.close()"
   ]
  },
  {
   "cell_type": "code",
   "execution_count": null,
   "metadata": {
    "collapsed": true
   },
   "outputs": [],
   "source": []
  }
 ],
 "metadata": {
  "kernelspec": {
   "display_name": "Python 3",
   "language": "python",
   "name": "python3"
  },
  "language_info": {
   "codemirror_mode": {
    "name": "ipython",
    "version": 3
   },
   "file_extension": ".py",
   "mimetype": "text/x-python",
   "name": "python",
   "nbconvert_exporter": "python",
   "pygments_lexer": "ipython3",
   "version": "3.6.9"
  }
 },
 "nbformat": 4,
 "nbformat_minor": 2
}
