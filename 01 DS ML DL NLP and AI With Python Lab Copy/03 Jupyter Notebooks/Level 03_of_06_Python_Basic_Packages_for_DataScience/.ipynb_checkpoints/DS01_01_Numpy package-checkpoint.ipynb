{
 "cells": [
  {
   "cell_type": "markdown",
   "metadata": {
    "colab_type": "text",
    "id": "StTsCgKpgZ7D"
   },
   "source": [
    "# Data Analyst Role\n",
    "------------------\n",
    "- Level 3 we will learn the skill set required for **<font color=\"red\">Data Analyst Role</font>**\n",
    "    - `Read` from any where (Big data,rdbms,nosql databases,files,api calls ..etc\n",
    "    - Data `transformations/manipulations`\n",
    "    - Present data in `graphical` format"
   ]
  },
  {
   "cell_type": "markdown",
   "metadata": {
    "colab_type": "text",
    "id": "x3JynJmpgZ7J"
   },
   "source": [
    "# Numpy\n",
    "-----\n",
    "- https://www.numpy.org/\n",
    "- Numerical Python, or \"Numpy\" for short, is a `foundational package` on which many of the most common `data science packages are built`.\n",
    "- Numpy provides us with `high performance multi-dimensional arrays` which we can use as vectors or matrices.\n",
    "\n",
    "### Additional Recommended Resources:\n",
    "------------\n",
    "<a href=\"https://docs.scipy.org/doc/numpy/reference/\">Numpy Documentation</a><br>"
   ]
  },
  {
   "cell_type": "markdown",
   "metadata": {
    "colab_type": "text",
    "id": "B_6__HXhgZ7b"
   },
   "source": [
    " ## 1. Why we need to learn `Numpy list` ? though we have `python list` ?\n",
    " - Let us observe below `BMI` calculation\n"
   ]
  },
  {
   "cell_type": "markdown",
   "metadata": {
    "colab_type": "text",
    "id": "q180lXlSgZ7v"
   },
   "source": [
    "$BMI = \\frac {weight\\ in\\ kgs}{height\\ in\\ meters^2} $\n",
    "- It's one way to see if you're at a healthy weight.\n",
    "- `Underweight`: Your BMI is **less than 18.5**. \n",
    "- `Healthy weight`: Your BMI is **18.5 to 24.9**.\n",
    "- `Overweight`: Your BMI is **25 to 29.9**. \n",
    "- `Obese`: Your BMI is **30 or higher**"
   ]
  },
  {
   "cell_type": "markdown",
   "metadata": {
    "colab_type": "text",
    "id": "GEqCPEnOgZ8C"
   },
   "source": [
    "### 1.1 Using normal list to calculate BMI of 4 members? is it possible ?\n",
    "- Normal list we learned in level 1: core python"
   ]
  },
  {
   "cell_type": "code",
   "execution_count": null,
   "metadata": {
    "colab": {},
    "colab_type": "code",
    "id": "HHv8-V3pgZ8M"
   },
   "outputs": [],
   "source": [
    "weight = [60,65,70,75] # in kgs"
   ]
  },
  {
   "cell_type": "code",
   "execution_count": null,
   "metadata": {
    "colab": {},
    "colab_type": "code",
    "id": "XIH7GeabgZ84",
    "outputId": "4414e484-8330-4689-9d19-723108327990"
   },
   "outputs": [
    {
     "data": {
      "text/plain": [
       "list"
      ]
     },
     "execution_count": 2,
     "metadata": {
      "tags": []
     },
     "output_type": "execute_result"
    }
   ],
   "source": [
    "type(weight)"
   ]
  },
  {
   "cell_type": "code",
   "execution_count": null,
   "metadata": {
    "colab": {},
    "colab_type": "code",
    "id": "24iSBxKwgZ90"
   },
   "outputs": [],
   "source": [
    "height =[1.60,1.65,1.70,1.75] # in meters"
   ]
  },
  {
   "cell_type": "code",
   "execution_count": null,
   "metadata": {
    "colab": {},
    "colab_type": "code",
    "id": "CeS4gU7IgZ-Z",
    "outputId": "2e49d749-d53b-4dad-bd4d-5814d3e845b2"
   },
   "outputs": [
    {
     "data": {
      "text/plain": [
       "list"
      ]
     },
     "execution_count": 4,
     "metadata": {
      "tags": []
     },
     "output_type": "execute_result"
    }
   ],
   "source": [
    "type(height)"
   ]
  },
  {
   "cell_type": "code",
   "execution_count": null,
   "metadata": {
    "colab": {},
    "colab_type": "code",
    "id": "Fe4ls7IZgZ-u",
    "outputId": "ee5572bd-4ace-4419-9904-f02d1bbcb827"
   },
   "outputs": [
    {
     "ename": "TypeError",
     "evalue": "unsupported operand type(s) for ** or pow(): 'list' and 'int'",
     "output_type": "error",
     "traceback": [
      "\u001b[1;31m---------------------------------------------------------------------------\u001b[0m",
      "\u001b[1;31mTypeError\u001b[0m                                 Traceback (most recent call last)",
      "\u001b[1;32m<ipython-input-7-dbd925cc794d>\u001b[0m in \u001b[0;36m<module>\u001b[1;34m\u001b[0m\n\u001b[1;32m----> 1\u001b[1;33m \u001b[0mBMI\u001b[0m \u001b[1;33m=\u001b[0m \u001b[0mweight\u001b[0m\u001b[1;33m/\u001b[0m\u001b[0mheight\u001b[0m \u001b[1;33m**\u001b[0m \u001b[1;36m2\u001b[0m\u001b[1;33m\u001b[0m\u001b[0m\n\u001b[0m",
      "\u001b[1;31mTypeError\u001b[0m: unsupported operand type(s) for ** or pow(): 'list' and 'int'"
     ]
    }
   ],
   "source": [
    "BMI = weight/height ** 2"
   ]
  },
  {
   "cell_type": "markdown",
   "metadata": {
    "colab_type": "text",
    "id": "1dHKZ0dQgZ_d"
   },
   "source": [
    "### 1.2 Let us do above problem with numpy"
   ]
  },
  {
   "cell_type": "code",
   "execution_count": 3,
   "metadata": {
    "colab": {},
    "colab_type": "code",
    "id": "OvZxDuEugZ_g"
   },
   "outputs": [],
   "source": [
    "import numpy as np"
   ]
  },
  {
   "cell_type": "markdown",
   "metadata": {
    "colab_type": "text",
    "id": "-lm6CzvhgaAI"
   },
   "source": [
    "#### 1.2.1 1D array ( 1 column data) (Rank =1)"
   ]
  },
  {
   "cell_type": "code",
   "execution_count": null,
   "metadata": {
    "colab": {},
    "colab_type": "code",
    "id": "yrN4bwdVgaAQ"
   },
   "outputs": [],
   "source": [
    "np.array?"
   ]
  },
  {
   "cell_type": "code",
   "execution_count": null,
   "metadata": {
    "colab": {},
    "colab_type": "code",
    "id": "TSqC0xnhgaA0"
   },
   "outputs": [],
   "source": [
    "np_height = np.array([1.60,1.65,1.70,1.75])"
   ]
  },
  {
   "cell_type": "code",
   "execution_count": null,
   "metadata": {
    "colab": {},
    "colab_type": "code",
    "id": "_u10AhDPgaBK",
    "outputId": "7673c339-4be1-48c4-fefb-ed28e20cc9d0"
   },
   "outputs": [
    {
     "data": {
      "text/plain": [
       "numpy.ndarray"
      ]
     },
     "execution_count": 11,
     "metadata": {
      "tags": []
     },
     "output_type": "execute_result"
    }
   ],
   "source": [
    "type(np_height)"
   ]
  },
  {
   "cell_type": "code",
   "execution_count": null,
   "metadata": {
    "colab": {},
    "colab_type": "code",
    "id": "MGebHP72gaBm",
    "outputId": "6be1b108-21b6-4f75-cf9c-602cc5c32a0d"
   },
   "outputs": [
    {
     "data": {
      "text/plain": [
       "dtype('float64')"
      ]
     },
     "execution_count": 12,
     "metadata": {
      "tags": []
     },
     "output_type": "execute_result"
    }
   ],
   "source": [
    "np_height.dtype"
   ]
  },
  {
   "cell_type": "code",
   "execution_count": null,
   "metadata": {
    "colab": {},
    "colab_type": "code",
    "id": "Zy3EsN80gaB0",
    "outputId": "faf4615d-685e-4a57-a105-4d331160ca8e"
   },
   "outputs": [
    {
     "data": {
      "text/plain": [
       "1"
      ]
     },
     "execution_count": 13,
     "metadata": {
      "tags": []
     },
     "output_type": "execute_result"
    }
   ],
   "source": [
    "np_height.ndim"
   ]
  },
  {
   "cell_type": "code",
   "execution_count": null,
   "metadata": {
    "colab": {},
    "colab_type": "code",
    "id": "3tgyWyGVgaB-",
    "outputId": "bf00a206-c619-4c1a-c8ed-33daa2c0e6cf"
   },
   "outputs": [
    {
     "data": {
      "text/plain": [
       "(4,)"
      ]
     },
     "execution_count": 14,
     "metadata": {
      "tags": []
     },
     "output_type": "execute_result"
    }
   ],
   "source": [
    "np_height.shape"
   ]
  },
  {
   "cell_type": "code",
   "execution_count": null,
   "metadata": {
    "colab": {},
    "colab_type": "code",
    "id": "bCLpNAObgaCG",
    "outputId": "177ef2d2-59e6-403f-8edf-d85d0be9dcf1"
   },
   "outputs": [
    {
     "data": {
      "text/plain": [
       "1.6"
      ]
     },
     "execution_count": 15,
     "metadata": {
      "tags": []
     },
     "output_type": "execute_result"
    }
   ],
   "source": [
    "np_height[0]"
   ]
  },
  {
   "cell_type": "code",
   "execution_count": null,
   "metadata": {
    "colab": {},
    "colab_type": "code",
    "id": "pQqvKISJgaCV"
   },
   "outputs": [],
   "source": [
    "np_weight = np.array([60,65,70,75])"
   ]
  },
  {
   "cell_type": "code",
   "execution_count": null,
   "metadata": {
    "colab": {},
    "colab_type": "code",
    "id": "v0hVk1QbgaCb",
    "outputId": "bf3a62ad-3757-43bc-b485-0ad8308ea473"
   },
   "outputs": [
    {
     "data": {
      "text/plain": [
       "numpy.ndarray"
      ]
     },
     "execution_count": 17,
     "metadata": {
      "tags": []
     },
     "output_type": "execute_result"
    }
   ],
   "source": [
    "type(np_weight)"
   ]
  },
  {
   "cell_type": "code",
   "execution_count": null,
   "metadata": {
    "colab": {},
    "colab_type": "code",
    "id": "tQaEzfQNgaCo",
    "outputId": "1fc7e65e-33c3-4d85-bb50-5369b45cb1b5"
   },
   "outputs": [
    {
     "data": {
      "text/plain": [
       "1"
      ]
     },
     "execution_count": 18,
     "metadata": {
      "tags": []
     },
     "output_type": "execute_result"
    }
   ],
   "source": [
    "np_weight.ndim"
   ]
  },
  {
   "cell_type": "code",
   "execution_count": null,
   "metadata": {
    "colab": {},
    "colab_type": "code",
    "id": "MB-rh2ofgaCy",
    "outputId": "f64c8c90-bb63-4546-c66a-46aeaf02b9da"
   },
   "outputs": [
    {
     "data": {
      "text/plain": [
       "(4,)"
      ]
     },
     "execution_count": 19,
     "metadata": {
      "tags": []
     },
     "output_type": "execute_result"
    }
   ],
   "source": [
    "np_weight.shape"
   ]
  },
  {
   "cell_type": "code",
   "execution_count": null,
   "metadata": {
    "colab": {},
    "colab_type": "code",
    "id": "GdHmKHmjgaDM"
   },
   "outputs": [],
   "source": [
    "BMI = (np_weight/np_height ** 2)"
   ]
  },
  {
   "cell_type": "code",
   "execution_count": null,
   "metadata": {
    "colab": {},
    "colab_type": "code",
    "id": "uTJ1iZaPgaDV",
    "outputId": "fc87a779-ee0b-4900-9b62-6cea6659e286"
   },
   "outputs": [
    {
     "data": {
      "text/plain": [
       "array([23.4375    , 23.87511478, 24.22145329, 24.48979592])"
      ]
     },
     "execution_count": 21,
     "metadata": {
      "tags": []
     },
     "output_type": "execute_result"
    }
   ],
   "source": [
    "BMI"
   ]
  },
  {
   "cell_type": "markdown",
   "metadata": {
    "colab_type": "text",
    "id": "25akuriygaDg"
   },
   "source": [
    "below 18.5 – you're in the underweight range. \n",
    "\n",
    "between 18.5 and 24.9 – you're in the healthy weight range. \n",
    "\n",
    "between 25 and 29.9 – you're in the overweight range."
   ]
  },
  {
   "cell_type": "markdown",
   "metadata": {
    "colab_type": "text",
    "id": "6EOumiyogaDi"
   },
   "source": [
    "## 2. NumPy list is a homogeneous multidimensional array\n",
    "- It is a table of elements (usually numbers), all of the same type, indexed by a tuple of positive integers"
   ]
  },
  {
   "cell_type": "code",
   "execution_count": null,
   "metadata": {
    "colab": {},
    "colab_type": "code",
    "id": "jIL9blYqgaDk"
   },
   "outputs": [],
   "source": [
    "a_list = [10,10.33,\"python\",1+2J,True,[10,30]] # normal list is a hetrogeneous"
   ]
  },
  {
   "cell_type": "code",
   "execution_count": null,
   "metadata": {
    "colab": {},
    "colab_type": "code",
    "id": "is7Zm7jOgaDt",
    "outputId": "6bd508e7-814f-4c69-eb74-53d65d3b2a46"
   },
   "outputs": [
    {
     "data": {
      "text/plain": [
       "[10, 10.33, 'python', (1+2j), True, [10, 30]]"
      ]
     },
     "execution_count": 23,
     "metadata": {
      "tags": []
     },
     "output_type": "execute_result"
    }
   ],
   "source": [
    "a_list"
   ]
  },
  {
   "cell_type": "code",
   "execution_count": null,
   "metadata": {
    "colab": {},
    "colab_type": "code",
    "id": "T3rnlRsOgaD4"
   },
   "outputs": [],
   "source": [
    "a_np_list = np.array([10,10.33]) # i given input 10 it is int 10.33 it is float"
   ]
  },
  {
   "cell_type": "code",
   "execution_count": null,
   "metadata": {
    "colab": {},
    "colab_type": "code",
    "id": "x7TXGLzdgaEK",
    "outputId": "c65774bd-e7a0-4d4e-ccab-59ae245a1f76"
   },
   "outputs": [
    {
     "data": {
      "text/plain": [
       "array([10.  , 10.33])"
      ]
     },
     "execution_count": 25,
     "metadata": {
      "tags": []
     },
     "output_type": "execute_result"
    }
   ],
   "source": [
    "a_np_list # it converted integer into float # it is a homogeneous"
   ]
  },
  {
   "cell_type": "markdown",
   "metadata": {
    "colab_type": "text",
    "id": "fum3pVmQgaEn"
   },
   "source": [
    "## 3. NumPy stands for Numerical Python\n",
    "- Generally we will use numpy to store numbers.\n",
    "- However it can be used to store any collection of `single datatype` values\n",
    "- NumPy is a powerful **N-dimensional array object**"
   ]
  },
  {
   "cell_type": "markdown",
   "metadata": {
    "colab_type": "text",
    "id": "mdvPKg6igaEp"
   },
   "source": [
    "#### 3.1 How to identify given array is 1 d ??\n",
    "- 1d array is nothing but One Column/ Vector\n",
    "- In core python range function is equal to numpy arange function\n",
    "- Using range ,we will get list as a output\n",
    "- Using np.arange, we will get array as a output"
   ]
  },
  {
   "cell_type": "code",
   "execution_count": null,
   "metadata": {
    "colab": {},
    "colab_type": "code",
    "id": "GeZtzfEZgaEq",
    "outputId": "3bb1d327-24ff-43a7-b23f-7c946a9fed6d"
   },
   "outputs": [
    {
     "name": "stdout",
     "output_type": "stream",
     "text": [
      "Object `np.arange` not found.\n"
     ]
    }
   ],
   "source": [
    "a_1d_array = np.arange?"
   ]
  },
  {
   "cell_type": "code",
   "execution_count": null,
   "metadata": {
    "colab": {},
    "colab_type": "code",
    "id": "tlVmv60igaEy"
   },
   "outputs": [],
   "source": [
    "a_1d_array = np.arange"
   ]
  },
  {
   "cell_type": "code",
   "execution_count": null,
   "metadata": {
    "colab": {},
    "colab_type": "code",
    "id": "LV7LMfzrgaE2"
   },
   "outputs": [],
   "source": [
    "range?"
   ]
  },
  {
   "cell_type": "code",
   "execution_count": 4,
   "metadata": {
    "colab": {},
    "colab_type": "code",
    "id": "LQeuKwlQgaE5"
   },
   "outputs": [],
   "source": [
    "a_1d_array = np.arange(0,12,2)"
   ]
  },
  {
   "cell_type": "code",
   "execution_count": 5,
   "metadata": {
    "colab": {},
    "colab_type": "code",
    "id": "CpUmn1FrgaE9",
    "outputId": "8b6d9617-c16a-4c36-929a-bc744875805e"
   },
   "outputs": [
    {
     "data": {
      "text/plain": [
       "array([ 0,  2,  4,  6,  8, 10])"
      ]
     },
     "execution_count": 5,
     "metadata": {},
     "output_type": "execute_result"
    }
   ],
   "source": [
    "a_1d_array"
   ]
  },
  {
   "cell_type": "code",
   "execution_count": 6,
   "metadata": {
    "colab": {},
    "colab_type": "code",
    "id": "J251zwoMgaFG",
    "outputId": "ca508fb6-297a-4941-8b93-58604601f40d",
    "scrolled": true
   },
   "outputs": [
    {
     "data": {
      "text/plain": [
       "1"
      ]
     },
     "execution_count": 6,
     "metadata": {},
     "output_type": "execute_result"
    }
   ],
   "source": [
    "a_1d_array.ndim"
   ]
  },
  {
   "cell_type": "code",
   "execution_count": 7,
   "metadata": {
    "colab": {},
    "colab_type": "code",
    "id": "ERhNkXZqgaFQ",
    "outputId": "597665c9-9e94-414a-877e-62cb32e86641"
   },
   "outputs": [
    {
     "data": {
      "text/plain": [
       "(6,)"
      ]
     },
     "execution_count": 7,
     "metadata": {},
     "output_type": "execute_result"
    }
   ],
   "source": [
    "a_1d_array.shape # in 1d array how many items available ?"
   ]
  },
  {
   "cell_type": "markdown",
   "metadata": {
    "colab_type": "text",
    "id": "O1Pwur9KgaFU"
   },
   "source": [
    "#### 3.1.1 reading numpy 1d array items"
   ]
  },
  {
   "cell_type": "code",
   "execution_count": 8,
   "metadata": {
    "colab": {},
    "colab_type": "code",
    "id": "97NlYyqmgaFW",
    "outputId": "1009c7f6-c52e-44e8-bfb7-e1cbebd4e5c3"
   },
   "outputs": [
    {
     "data": {
      "text/plain": [
       "0"
      ]
     },
     "execution_count": 8,
     "metadata": {},
     "output_type": "execute_result"
    }
   ],
   "source": [
    "a_1d_array[0] # index method"
   ]
  },
  {
   "cell_type": "code",
   "execution_count": 9,
   "metadata": {
    "colab": {},
    "colab_type": "code",
    "id": "olAyBK4NgaFl",
    "outputId": "bba74bad-96c6-4375-8cb4-3433f3fb53cd"
   },
   "outputs": [
    {
     "data": {
      "text/plain": [
       "array([0, 2, 4])"
      ]
     },
     "execution_count": 9,
     "metadata": {},
     "output_type": "execute_result"
    }
   ],
   "source": [
    "a_1d_array[0:3] # Slice Method"
   ]
  },
  {
   "cell_type": "code",
   "execution_count": 10,
   "metadata": {
    "colab": {},
    "colab_type": "code",
    "id": "I3qsqs52gaF3",
    "outputId": "dccd4941-5cd9-4cba-d11a-20b566f24266"
   },
   "outputs": [
    {
     "data": {
      "text/plain": [
       "array([0, 6])"
      ]
     },
     "execution_count": 10,
     "metadata": {},
     "output_type": "execute_result"
    }
   ],
   "source": [
    "a_1d_array[[0,3]] # fancy Method"
   ]
  },
  {
   "cell_type": "markdown",
   "metadata": {
    "colab_type": "text",
    "id": "5Lk_rE__gaF9"
   },
   "source": [
    "#### 3.1.2 numpy array is mutable"
   ]
  },
  {
   "cell_type": "code",
   "execution_count": 11,
   "metadata": {
    "colab": {},
    "colab_type": "code",
    "collapsed": true,
    "id": "fX-ZRalPgaGC"
   },
   "outputs": [],
   "source": [
    "a_1d_array[1]=200 # update number 2 with 200"
   ]
  },
  {
   "cell_type": "code",
   "execution_count": 12,
   "metadata": {
    "colab": {},
    "colab_type": "code",
    "id": "rjuG6PhPgaGG",
    "outputId": "3661919a-5795-41ba-f787-0a5c40c83a95"
   },
   "outputs": [
    {
     "data": {
      "text/plain": [
       "array([  0, 200,   4,   6,   8,  10])"
      ]
     },
     "execution_count": 12,
     "metadata": {},
     "output_type": "execute_result"
    }
   ],
   "source": [
    "a_1d_array"
   ]
  },
  {
   "cell_type": "markdown",
   "metadata": {
    "colab_type": "text",
    "id": "279jiqi6gaGV"
   },
   "source": [
    "#### 3.2 How to identify given array is 2 d ??\n",
    "- Table,Matrix,Black and white image"
   ]
  },
  {
   "cell_type": "code",
   "execution_count": 13,
   "metadata": {
    "colab": {},
    "colab_type": "code",
    "collapsed": true,
    "id": "99hsQcB6gaGW"
   },
   "outputs": [],
   "source": [
    "a_np_2d_array = np.arange(0,24,2).reshape(3,4)"
   ]
  },
  {
   "cell_type": "markdown",
   "metadata": {
    "colab_type": "text",
    "id": "RNczXfMAgaHd"
   },
   "source": [
    "- Here 4: No of items in 1 d array\n",
    "-    3: No of 1D arrays in 2D array"
   ]
  },
  {
   "cell_type": "code",
   "execution_count": 14,
   "metadata": {
    "colab": {},
    "colab_type": "code",
    "id": "r3jl0hZcgaHk",
    "outputId": "c85b48c8-aede-4bef-9463-261d0c4f0e77"
   },
   "outputs": [
    {
     "data": {
      "text/plain": [
       "array([[ 0,  2,  4,  6],\n",
       "       [ 8, 10, 12, 14],\n",
       "       [16, 18, 20, 22]])"
      ]
     },
     "execution_count": 14,
     "metadata": {},
     "output_type": "execute_result"
    }
   ],
   "source": [
    "a_np_2d_array"
   ]
  },
  {
   "cell_type": "code",
   "execution_count": 15,
   "metadata": {
    "colab": {},
    "colab_type": "code",
    "id": "g2WfEPlBgaHw",
    "outputId": "1c54d408-bbed-433c-9f58-ab1d99d71516"
   },
   "outputs": [
    {
     "data": {
      "text/plain": [
       "(3, 4)"
      ]
     },
     "execution_count": 15,
     "metadata": {},
     "output_type": "execute_result"
    }
   ],
   "source": [
    "a_np_2d_array.shape"
   ]
  },
  {
   "cell_type": "code",
   "execution_count": 16,
   "metadata": {
    "colab": {},
    "colab_type": "code",
    "id": "4B2aZI2IgaH4",
    "outputId": "8c496652-c84f-4e55-8029-f77df5e0823e"
   },
   "outputs": [
    {
     "data": {
      "text/plain": [
       "2"
      ]
     },
     "execution_count": 16,
     "metadata": {},
     "output_type": "execute_result"
    }
   ],
   "source": [
    "a_np_2d_array.ndim"
   ]
  },
  {
   "cell_type": "code",
   "execution_count": 17,
   "metadata": {
    "colab": {},
    "colab_type": "code",
    "id": "MQGp0yYYgaIB",
    "outputId": "7c25f14b-f6e1-4398-92a9-73497ef018b3"
   },
   "outputs": [
    {
     "ename": "ValueError",
     "evalue": "cannot reshape array of size 13 into shape (3,4)",
     "output_type": "error",
     "traceback": [
      "\u001b[1;31m---------------------------------------------------------------------------\u001b[0m",
      "\u001b[1;31mValueError\u001b[0m                                Traceback (most recent call last)",
      "\u001b[1;32m<ipython-input-17-6d4a9d9804f4>\u001b[0m in \u001b[0;36m<module>\u001b[1;34m\u001b[0m\n\u001b[1;32m----> 1\u001b[1;33m \u001b[0ma_np_2d_array\u001b[0m \u001b[1;33m=\u001b[0m \u001b[0mnp\u001b[0m\u001b[1;33m.\u001b[0m\u001b[0marange\u001b[0m\u001b[1;33m(\u001b[0m\u001b[1;36m13\u001b[0m\u001b[1;33m)\u001b[0m\u001b[1;33m.\u001b[0m\u001b[0mreshape\u001b[0m\u001b[1;33m(\u001b[0m\u001b[1;36m3\u001b[0m\u001b[1;33m,\u001b[0m\u001b[1;36m4\u001b[0m\u001b[1;33m)\u001b[0m\u001b[1;33m\u001b[0m\u001b[1;33m\u001b[0m\u001b[0m\n\u001b[0m",
      "\u001b[1;31mValueError\u001b[0m: cannot reshape array of size 13 into shape (3,4)"
     ]
    }
   ],
   "source": [
    "a_np_2d_array = np.arange(13).reshape(3,4)"
   ]
  },
  {
   "cell_type": "code",
   "execution_count": 18,
   "metadata": {
    "colab": {},
    "colab_type": "code",
    "id": "9T-R-JgFgaIN",
    "outputId": "f39e5430-0b63-47b4-b483-fa0083c07c97"
   },
   "outputs": [
    {
     "ename": "ValueError",
     "evalue": "cannot reshape array of size 11 into shape (3,4)",
     "output_type": "error",
     "traceback": [
      "\u001b[1;31m---------------------------------------------------------------------------\u001b[0m",
      "\u001b[1;31mValueError\u001b[0m                                Traceback (most recent call last)",
      "\u001b[1;32m<ipython-input-18-6417df2a93bf>\u001b[0m in \u001b[0;36m<module>\u001b[1;34m\u001b[0m\n\u001b[1;32m----> 1\u001b[1;33m \u001b[0ma_np_2d_array\u001b[0m \u001b[1;33m=\u001b[0m \u001b[0mnp\u001b[0m\u001b[1;33m.\u001b[0m\u001b[0marange\u001b[0m\u001b[1;33m(\u001b[0m\u001b[1;36m11\u001b[0m\u001b[1;33m)\u001b[0m\u001b[1;33m.\u001b[0m\u001b[0mreshape\u001b[0m\u001b[1;33m(\u001b[0m\u001b[1;36m3\u001b[0m\u001b[1;33m,\u001b[0m\u001b[1;36m4\u001b[0m\u001b[1;33m)\u001b[0m\u001b[1;33m\u001b[0m\u001b[1;33m\u001b[0m\u001b[0m\n\u001b[0m",
      "\u001b[1;31mValueError\u001b[0m: cannot reshape array of size 11 into shape (3,4)"
     ]
    }
   ],
   "source": [
    "a_np_2d_array = np.arange(11).reshape(3,4)"
   ]
  },
  {
   "cell_type": "markdown",
   "metadata": {
    "colab_type": "text",
    "id": "snxsnnorgaIV"
   },
   "source": [
    "#### 3.2.1 Reading 2D np array"
   ]
  },
  {
   "cell_type": "code",
   "execution_count": null,
   "metadata": {
    "colab": {},
    "colab_type": "code",
    "id": "kof4qhr6gaIW",
    "outputId": "c829508a-d717-431f-88c7-de589acea4f8"
   },
   "outputs": [
    {
     "data": {
      "text/plain": [
       "array([0, 2, 4, 6])"
      ]
     },
     "execution_count": 44,
     "metadata": {
      "tags": []
     },
     "output_type": "execute_result"
    }
   ],
   "source": [
    "a_np_2d_array[0] # 1st row"
   ]
  },
  {
   "cell_type": "code",
   "execution_count": null,
   "metadata": {
    "colab": {},
    "colab_type": "code",
    "id": "0Ab_pRXagaIa",
    "outputId": "25de5715-123a-401b-8fa9-6471e1335bc5"
   },
   "outputs": [
    {
     "data": {
      "text/plain": [
       "0"
      ]
     },
     "execution_count": 45,
     "metadata": {
      "tags": []
     },
     "output_type": "execute_result"
    }
   ],
   "source": [
    "a_np_2d_array[0,0] # 1st row #1st column"
   ]
  },
  {
   "cell_type": "code",
   "execution_count": null,
   "metadata": {
    "colab": {},
    "colab_type": "code",
    "id": "Ue_AZ2E7gaIe",
    "outputId": "3976702c-6dea-4994-ca26-3ab318cac513"
   },
   "outputs": [
    {
     "data": {
      "text/plain": [
       "4"
      ]
     },
     "execution_count": 46,
     "metadata": {
      "tags": []
     },
     "output_type": "execute_result"
    }
   ],
   "source": [
    "a_np_2d_array[0][2] # 1st row # 3rd column value"
   ]
  },
  {
   "cell_type": "code",
   "execution_count": null,
   "metadata": {
    "colab": {},
    "colab_type": "code",
    "id": "HCc2rMoMgaIl",
    "outputId": "0bd09dc6-5eea-4ebb-8153-a94cc0606176"
   },
   "outputs": [
    {
     "data": {
      "text/plain": [
       "array([[ 0,  2],\n",
       "       [ 8, 10],\n",
       "       [16, 18]])"
      ]
     },
     "execution_count": 47,
     "metadata": {
      "tags": []
     },
     "output_type": "execute_result"
    }
   ],
   "source": [
    "a_np_2d_array[:,0:2] # all rows #first and secon columns"
   ]
  },
  {
   "cell_type": "code",
   "execution_count": null,
   "metadata": {
    "colab": {},
    "colab_type": "code",
    "id": "jmwSe-z1gaIp",
    "outputId": "c0a66c3f-93e2-4b88-90e6-98f947275b7c"
   },
   "outputs": [
    {
     "data": {
      "text/plain": [
       "array([ 8, 10, 12, 14])"
      ]
     },
     "execution_count": 48,
     "metadata": {
      "tags": []
     },
     "output_type": "execute_result"
    }
   ],
   "source": [
    "a_np_2d_array[1,:] # all columns # second row"
   ]
  },
  {
   "cell_type": "markdown",
   "metadata": {
    "colab_type": "text",
    "id": "AfScrgAfgaIu"
   },
   "source": [
    "> In Machine learning we will use \n",
    "    - input(X) --> 2D np array\n",
    "    - output(y) --> 1D np array"
   ]
  },
  {
   "cell_type": "markdown",
   "metadata": {
    "colab_type": "text",
    "id": "dLdHyvQYgaIv"
   },
   "source": [
    "#### 3.3 How to identify given array is 3 d ??\n",
    "- Color image"
   ]
  },
  {
   "cell_type": "code",
   "execution_count": null,
   "metadata": {
    "colab": {},
    "colab_type": "code",
    "collapsed": true,
    "id": "3KWuoKk8gaIw"
   },
   "outputs": [],
   "source": [
    "a_np_3d_array = np.arange(24).reshape(2,3,4)"
   ]
  },
  {
   "cell_type": "markdown",
   "metadata": {
    "colab_type": "text",
    "id": "WgXWjh5YgaIz"
   },
   "source": [
    "- Here : \n",
    "    - 4: No of items in 1 d array\n",
    "\n",
    "    - 3: No of 1D arrays in 2D array\n",
    "    \n",
    "    - 2: No of 2D arrays in 3D array"
   ]
  },
  {
   "cell_type": "code",
   "execution_count": null,
   "metadata": {
    "colab": {},
    "colab_type": "code",
    "collapsed": true,
    "id": "XvU6kWFjgaI0"
   },
   "outputs": [],
   "source": [
    "a_np_3d_array"
   ]
  },
  {
   "cell_type": "code",
   "execution_count": null,
   "metadata": {
    "colab": {},
    "colab_type": "code",
    "collapsed": true,
    "id": "vdIHGwPkgaI8"
   },
   "outputs": [],
   "source": [
    "a_np_3d_array.ndim"
   ]
  },
  {
   "cell_type": "code",
   "execution_count": null,
   "metadata": {
    "colab": {},
    "colab_type": "code",
    "collapsed": true,
    "id": "wyja5jgBgaI_"
   },
   "outputs": [],
   "source": [
    "a_np_3d_array.shape"
   ]
  },
  {
   "cell_type": "markdown",
   "metadata": {
    "colab_type": "text",
    "id": "O1IOOJyFgaJJ"
   },
   "source": [
    "#### 3.4 How to identify given array is 4 d ??"
   ]
  },
  {
   "cell_type": "code",
   "execution_count": null,
   "metadata": {
    "colab": {},
    "colab_type": "code",
    "collapsed": true,
    "id": "vlceXpikgaJL"
   },
   "outputs": [],
   "source": [
    "a_np_4d_array = np.arange(48).reshape(2,2,3,4)"
   ]
  },
  {
   "cell_type": "markdown",
   "metadata": {
    "colab_type": "text",
    "id": "hml9gtIHgaJT"
   },
   "source": [
    "Here \n",
    "- 4: No of items in 1 d array\n",
    "- 3: No of 1D arrays in 2D array    \n",
    "- 2: No of 2D arrays in 3D array\n",
    "- 2: No of 3D arrays in 4D array"
   ]
  },
  {
   "cell_type": "code",
   "execution_count": null,
   "metadata": {
    "colab": {},
    "colab_type": "code",
    "collapsed": true,
    "id": "QKYZCWxrgaJb"
   },
   "outputs": [],
   "source": [
    "a_np_4d_array"
   ]
  },
  {
   "cell_type": "markdown",
   "metadata": {
    "colab_type": "text",
    "id": "fMWy1TG-gaJi"
   },
   "source": [
    "### 4. NumPy array occupies less memory"
   ]
  },
  {
   "cell_type": "code",
   "execution_count": null,
   "metadata": {
    "colab": {},
    "colab_type": "code",
    "id": "9EOn8F63gaJn"
   },
   "outputs": [],
   "source": [
    "py_list = list(range(200)) # python list"
   ]
  },
  {
   "cell_type": "code",
   "execution_count": null,
   "metadata": {
    "colab": {},
    "colab_type": "code",
    "id": "epRN3wVigaJx",
    "outputId": "adddfee9-220f-4f31-8fe6-4e8a42ca4156"
   },
   "outputs": [
    {
     "data": {
      "text/plain": [
       "(0, 199, 200)"
      ]
     },
     "execution_count": 2,
     "metadata": {
      "tags": []
     },
     "output_type": "execute_result"
    }
   ],
   "source": [
    "min(py_list),max(py_list),len(py_list)"
   ]
  },
  {
   "cell_type": "code",
   "execution_count": null,
   "metadata": {
    "colab": {},
    "colab_type": "code",
    "id": "AkiNJKLTgaJ3"
   },
   "outputs": [],
   "source": [
    "import numpy as np\n",
    "np_list = np.array(list(range(200))) # numpy list"
   ]
  },
  {
   "cell_type": "code",
   "execution_count": null,
   "metadata": {
    "colab": {},
    "colab_type": "code",
    "id": "jVyj9F-BgaJ6",
    "outputId": "fff3b890-473b-4171-fea5-1a7fdbabc7d6"
   },
   "outputs": [
    {
     "data": {
      "text/plain": [
       "(0, 199, 200)"
      ]
     },
     "execution_count": 4,
     "metadata": {
      "tags": []
     },
     "output_type": "execute_result"
    }
   ],
   "source": [
    "min(np_list),max(np_list),len(np_list)"
   ]
  },
  {
   "cell_type": "code",
   "execution_count": null,
   "metadata": {
    "colab": {},
    "colab_type": "code",
    "id": "3KxOcQXVgaKI",
    "outputId": "d6fa8a43-45f1-4960-9b63-bb93a500ab34"
   },
   "outputs": [
    {
     "name": "stdout",
     "output_type": "stream",
     "text": [
      "1912\n",
      "896\n"
     ]
    }
   ],
   "source": [
    "import sys\n",
    "print(sys.getsizeof(py_list))\n",
    "print(sys.getsizeof(np_list))"
   ]
  }
 ],
 "metadata": {
  "colab": {
   "name": "DS01_01_Numpy package.ipynb",
   "provenance": [],
   "version": "0.3.2"
  },
  "kernelspec": {
   "display_name": "Python 3",
   "language": "python",
   "name": "python3"
  },
  "language_info": {
   "codemirror_mode": {
    "name": "ipython",
    "version": 3
   },
   "file_extension": ".py",
   "mimetype": "text/x-python",
   "name": "python",
   "nbconvert_exporter": "python",
   "pygments_lexer": "ipython3",
   "version": "3.6.8"
  }
 },
 "nbformat": 4,
 "nbformat_minor": 2
}
