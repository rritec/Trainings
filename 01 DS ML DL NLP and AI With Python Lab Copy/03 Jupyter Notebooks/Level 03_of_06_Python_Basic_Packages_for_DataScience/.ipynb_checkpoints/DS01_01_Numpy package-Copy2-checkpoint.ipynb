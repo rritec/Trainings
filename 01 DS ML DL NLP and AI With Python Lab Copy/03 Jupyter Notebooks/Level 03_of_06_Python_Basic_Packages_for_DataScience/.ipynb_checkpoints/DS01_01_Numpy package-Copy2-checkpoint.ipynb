{
 "cells": [
  {
   "cell_type": "markdown",
   "metadata": {
    "colab_type": "text",
    "id": "StTsCgKpgZ7D"
   },
   "source": [
    "# Data Analyst Role\n",
    "------------------\n",
    "- Level 3 we will learn the skill set required for **<font color=\"red\">Data Analyst Role</font>**\n",
    "    - `Read` from any where(Big data,rdbms,nosql databases,files,api calls ..etc\n",
    "    - Data `transformations/manipulations`\n",
    "    - Present data in `graphical` format"
   ]
  },
  {
   "cell_type": "markdown",
   "metadata": {
    "colab_type": "text",
    "collapsed": true,
    "id": "x3JynJmpgZ7J"
   },
   "source": [
    "# Numpy\n",
    "-----\n",
    "- https://www.numpy.org/\n",
    "- Numerical Python, or \"Numpy\" for short, is a `foundational package` on which many of the most common `data science packages are built`.\n",
    "- Numpy provides us with `high performance multi-dimensional arrays` which we can use as vectors or matrices.\n",
    "\n",
    "<b>Additional Recommended Resources:</b><br>\n",
    "<a href=\"https://docs.scipy.org/doc/numpy/reference/\">Numpy Documentation</a><br>\n",
    "<i>Python for Data Analysis</i> by Wes McKinney<br>\n",
    "<i>Python Data science Handbook</i> by Jake VanderPlas"
   ]
  },
  {
   "cell_type": "markdown",
   "metadata": {
    "colab_type": "text",
    "id": "B_6__HXhgZ7b"
   },
   "source": [
    " ## 1. Why we need to learn `Numpy list` ? though we have `python list` ?\n",
    " - Let us observe below `BMI` calculation\n"
   ]
  },
  {
   "cell_type": "markdown",
   "metadata": {
    "colab_type": "text",
    "id": "q180lXlSgZ7v"
   },
   "source": [
    "$BMI = \\frac {weight\\ in\\ kgs}{height\\ in\\ meters^2} $\n",
    "- It's one way to see if you're at a healthy weight.\n",
    "- `Underweight`: Your BMI is **less than 18.5**. \n",
    "- `Healthy weight`: Your BMI is **18.5 to 24.9**.\n",
    "- `Overweight`: Your BMI is **25 to 29.9**. \n",
    "- `Obese`: Your BMI is **30 or higher**"
   ]
  },
  {
   "cell_type": "markdown",
   "metadata": {
    "colab_type": "text",
    "id": "GEqCPEnOgZ8C"
   },
   "source": [
    "### 1.1 Using normal list to calculate BMI of 4 members? is it possible ?\n",
    "- Normal list we learned in level 1: core python"
   ]
  },
  {
   "cell_type": "code",
   "execution_count": 0,
   "metadata": {
    "colab": {},
    "colab_type": "code",
    "id": "HHv8-V3pgZ8M"
   },
   "outputs": [],
   "source": [
    "weight = [60,65,70,75] # in kgs"
   ]
  },
  {
   "cell_type": "code",
   "execution_count": 0,
   "metadata": {
    "colab": {},
    "colab_type": "code",
    "id": "XIH7GeabgZ84",
    "outputId": "4414e484-8330-4689-9d19-723108327990"
   },
   "outputs": [
    {
     "data": {
      "text/plain": [
       "list"
      ]
     },
     "execution_count": 2,
     "metadata": {
      "tags": []
     },
     "output_type": "execute_result"
    }
   ],
   "source": [
    "type(weight)"
   ]
  },
  {
   "cell_type": "code",
   "execution_count": 0,
   "metadata": {
    "colab": {},
    "colab_type": "code",
    "id": "24iSBxKwgZ90"
   },
   "outputs": [],
   "source": [
    "height =[1.60,1.65,1.70,1.75] # in meters"
   ]
  },
  {
   "cell_type": "code",
   "execution_count": 0,
   "metadata": {
    "colab": {},
    "colab_type": "code",
    "id": "CeS4gU7IgZ-Z",
    "outputId": "2e49d749-d53b-4dad-bd4d-5814d3e845b2"
   },
   "outputs": [
    {
     "data": {
      "text/plain": [
       "list"
      ]
     },
     "execution_count": 4,
     "metadata": {
      "tags": []
     },
     "output_type": "execute_result"
    }
   ],
   "source": [
    "type(height)"
   ]
  },
  {
   "cell_type": "code",
   "execution_count": 0,
   "metadata": {
    "colab": {},
    "colab_type": "code",
    "id": "Fe4ls7IZgZ-u",
    "outputId": "ee5572bd-4ace-4419-9904-f02d1bbcb827"
   },
   "outputs": [
    {
     "ename": "TypeError",
     "evalue": "unsupported operand type(s) for ** or pow(): 'list' and 'int'",
     "output_type": "error",
     "traceback": [
      "\u001b[1;31m---------------------------------------------------------------------------\u001b[0m",
      "\u001b[1;31mTypeError\u001b[0m                                 Traceback (most recent call last)",
      "\u001b[1;32m<ipython-input-7-dbd925cc794d>\u001b[0m in \u001b[0;36m<module>\u001b[1;34m\u001b[0m\n\u001b[1;32m----> 1\u001b[1;33m \u001b[0mBMI\u001b[0m \u001b[1;33m=\u001b[0m \u001b[0mweight\u001b[0m\u001b[1;33m/\u001b[0m\u001b[0mheight\u001b[0m \u001b[1;33m**\u001b[0m \u001b[1;36m2\u001b[0m\u001b[1;33m\u001b[0m\u001b[0m\n\u001b[0m",
      "\u001b[1;31mTypeError\u001b[0m: unsupported operand type(s) for ** or pow(): 'list' and 'int'"
     ]
    }
   ],
   "source": [
    "BMI = weight/height ** 2"
   ]
  },
  {
   "cell_type": "markdown",
   "metadata": {
    "colab_type": "text",
    "id": "1dHKZ0dQgZ_d"
   },
   "source": [
    "### 1.2 Let us do above problem with numpy"
   ]
  },
  {
   "cell_type": "code",
   "execution_count": 0,
   "metadata": {
    "colab": {},
    "colab_type": "code",
    "id": "OvZxDuEugZ_g"
   },
   "outputs": [],
   "source": [
    "import numpy as np"
   ]
  },
  {
   "cell_type": "markdown",
   "metadata": {
    "colab_type": "text",
    "id": "-lm6CzvhgaAI"
   },
   "source": [
    "#### 1.2.1 1D array ( 1 column data) (Rank =1)"
   ]
  },
  {
   "cell_type": "code",
   "execution_count": 0,
   "metadata": {
    "colab": {},
    "colab_type": "code",
    "id": "yrN4bwdVgaAQ"
   },
   "outputs": [],
   "source": [
    "np.array?"
   ]
  },
  {
   "cell_type": "code",
   "execution_count": 0,
   "metadata": {
    "colab": {},
    "colab_type": "code",
    "id": "TSqC0xnhgaA0"
   },
   "outputs": [],
   "source": [
    "np_height = np.array([1.60,1.65,1.70,1.75])"
   ]
  },
  {
   "cell_type": "code",
   "execution_count": 0,
   "metadata": {
    "colab": {},
    "colab_type": "code",
    "id": "_u10AhDPgaBK",
    "outputId": "7673c339-4be1-48c4-fefb-ed28e20cc9d0"
   },
   "outputs": [
    {
     "data": {
      "text/plain": [
       "numpy.ndarray"
      ]
     },
     "execution_count": 11,
     "metadata": {
      "tags": []
     },
     "output_type": "execute_result"
    }
   ],
   "source": [
    "type(np_height)"
   ]
  },
  {
   "cell_type": "code",
   "execution_count": 0,
   "metadata": {
    "colab": {},
    "colab_type": "code",
    "id": "MGebHP72gaBm",
    "outputId": "6be1b108-21b6-4f75-cf9c-602cc5c32a0d"
   },
   "outputs": [
    {
     "data": {
      "text/plain": [
       "dtype('float64')"
      ]
     },
     "execution_count": 12,
     "metadata": {
      "tags": []
     },
     "output_type": "execute_result"
    }
   ],
   "source": [
    "np_height.dtype"
   ]
  },
  {
   "cell_type": "code",
   "execution_count": 0,
   "metadata": {
    "colab": {},
    "colab_type": "code",
    "id": "Zy3EsN80gaB0",
    "outputId": "faf4615d-685e-4a57-a105-4d331160ca8e"
   },
   "outputs": [
    {
     "data": {
      "text/plain": [
       "1"
      ]
     },
     "execution_count": 13,
     "metadata": {
      "tags": []
     },
     "output_type": "execute_result"
    }
   ],
   "source": [
    "np_height.ndim"
   ]
  },
  {
   "cell_type": "code",
   "execution_count": 0,
   "metadata": {
    "colab": {},
    "colab_type": "code",
    "id": "3tgyWyGVgaB-",
    "outputId": "bf00a206-c619-4c1a-c8ed-33daa2c0e6cf"
   },
   "outputs": [
    {
     "data": {
      "text/plain": [
       "(4,)"
      ]
     },
     "execution_count": 14,
     "metadata": {
      "tags": []
     },
     "output_type": "execute_result"
    }
   ],
   "source": [
    "np_height.shape"
   ]
  },
  {
   "cell_type": "code",
   "execution_count": 0,
   "metadata": {
    "colab": {},
    "colab_type": "code",
    "id": "bCLpNAObgaCG",
    "outputId": "177ef2d2-59e6-403f-8edf-d85d0be9dcf1"
   },
   "outputs": [
    {
     "data": {
      "text/plain": [
       "1.6"
      ]
     },
     "execution_count": 15,
     "metadata": {
      "tags": []
     },
     "output_type": "execute_result"
    }
   ],
   "source": [
    "np_height[0]"
   ]
  },
  {
   "cell_type": "code",
   "execution_count": 0,
   "metadata": {
    "colab": {},
    "colab_type": "code",
    "id": "pQqvKISJgaCV"
   },
   "outputs": [],
   "source": [
    "np_weight = np.array([60,65,70,75])"
   ]
  },
  {
   "cell_type": "code",
   "execution_count": 0,
   "metadata": {
    "colab": {},
    "colab_type": "code",
    "id": "v0hVk1QbgaCb",
    "outputId": "bf3a62ad-3757-43bc-b485-0ad8308ea473"
   },
   "outputs": [
    {
     "data": {
      "text/plain": [
       "numpy.ndarray"
      ]
     },
     "execution_count": 17,
     "metadata": {
      "tags": []
     },
     "output_type": "execute_result"
    }
   ],
   "source": [
    "type(np_weight)"
   ]
  },
  {
   "cell_type": "code",
   "execution_count": 0,
   "metadata": {
    "colab": {},
    "colab_type": "code",
    "id": "tQaEzfQNgaCo",
    "outputId": "1fc7e65e-33c3-4d85-bb50-5369b45cb1b5"
   },
   "outputs": [
    {
     "data": {
      "text/plain": [
       "1"
      ]
     },
     "execution_count": 18,
     "metadata": {
      "tags": []
     },
     "output_type": "execute_result"
    }
   ],
   "source": [
    "np_weight.ndim"
   ]
  },
  {
   "cell_type": "code",
   "execution_count": 0,
   "metadata": {
    "colab": {},
    "colab_type": "code",
    "id": "MB-rh2ofgaCy",
    "outputId": "f64c8c90-bb63-4546-c66a-46aeaf02b9da"
   },
   "outputs": [
    {
     "data": {
      "text/plain": [
       "(4,)"
      ]
     },
     "execution_count": 19,
     "metadata": {
      "tags": []
     },
     "output_type": "execute_result"
    }
   ],
   "source": [
    "np_weight.shape"
   ]
  },
  {
   "cell_type": "code",
   "execution_count": 0,
   "metadata": {
    "colab": {},
    "colab_type": "code",
    "id": "GdHmKHmjgaDM"
   },
   "outputs": [],
   "source": [
    "BMI = (np_weight/np_height ** 2)"
   ]
  },
  {
   "cell_type": "code",
   "execution_count": 0,
   "metadata": {
    "colab": {},
    "colab_type": "code",
    "id": "uTJ1iZaPgaDV",
    "outputId": "fc87a779-ee0b-4900-9b62-6cea6659e286"
   },
   "outputs": [
    {
     "data": {
      "text/plain": [
       "array([23.4375    , 23.87511478, 24.22145329, 24.48979592])"
      ]
     },
     "execution_count": 21,
     "metadata": {
      "tags": []
     },
     "output_type": "execute_result"
    }
   ],
   "source": [
    "BMI"
   ]
  },
  {
   "cell_type": "markdown",
   "metadata": {
    "colab_type": "text",
    "id": "25akuriygaDg"
   },
   "source": [
    "below 18.5 – you're in the underweight range. \n",
    "\n",
    "between 18.5 and 24.9 – you're in the healthy weight range. \n",
    "\n",
    "between 25 and 29.9 – you're in the overweight range."
   ]
  },
  {
   "cell_type": "markdown",
   "metadata": {
    "colab_type": "text",
    "id": "6EOumiyogaDi"
   },
   "source": [
    "## 2. NumPy list is a homogeneous multidimensional array\n",
    "- It is a table of elements (usually numbers), all of the same type, indexed by a tuple of positive integers"
   ]
  },
  {
   "cell_type": "code",
   "execution_count": 0,
   "metadata": {
    "colab": {},
    "colab_type": "code",
    "id": "jIL9blYqgaDk"
   },
   "outputs": [],
   "source": [
    "a_list = [10,10.33,\"python\",1+2J,True,[10,30]] # normal list is a hetrogeneous"
   ]
  },
  {
   "cell_type": "code",
   "execution_count": 0,
   "metadata": {
    "colab": {},
    "colab_type": "code",
    "id": "is7Zm7jOgaDt",
    "outputId": "6bd508e7-814f-4c69-eb74-53d65d3b2a46"
   },
   "outputs": [
    {
     "data": {
      "text/plain": [
       "[10, 10.33, 'python', (1+2j), True, [10, 30]]"
      ]
     },
     "execution_count": 23,
     "metadata": {
      "tags": []
     },
     "output_type": "execute_result"
    }
   ],
   "source": [
    "a_list"
   ]
  },
  {
   "cell_type": "code",
   "execution_count": 0,
   "metadata": {
    "colab": {},
    "colab_type": "code",
    "id": "T3rnlRsOgaD4"
   },
   "outputs": [],
   "source": [
    "a_np_list = np.array([10,10.33]) # i given input 10 it is int 10.33 it is float"
   ]
  },
  {
   "cell_type": "code",
   "execution_count": 0,
   "metadata": {
    "colab": {},
    "colab_type": "code",
    "id": "x7TXGLzdgaEK",
    "outputId": "c65774bd-e7a0-4d4e-ccab-59ae245a1f76"
   },
   "outputs": [
    {
     "data": {
      "text/plain": [
       "array([10.  , 10.33])"
      ]
     },
     "execution_count": 25,
     "metadata": {
      "tags": []
     },
     "output_type": "execute_result"
    }
   ],
   "source": [
    "a_np_list # it converted integer into float # it is a homogeneous"
   ]
  },
  {
   "cell_type": "markdown",
   "metadata": {
    "colab_type": "text",
    "id": "fum3pVmQgaEn"
   },
   "source": [
    "## 3. NumPy stands for Numerical Python\n",
    "- Generally we will use numpy to store numbers.\n",
    "- However it can be used to store any collection of `single datatype` values\n",
    "- NumPy is a powerful **N-dimensional array object**"
   ]
  },
  {
   "cell_type": "markdown",
   "metadata": {
    "colab_type": "text",
    "id": "mdvPKg6igaEp"
   },
   "source": [
    "#### 3.1 How to identify given array is 1 d ??\n",
    "- 1d array is nothing but One Column/ Vector\n",
    "- in core python range function is equal to numpy arange function\n",
    "- using range ,we will get list as a output\n",
    "- using np.arange ,we will get array as a output"
   ]
  },
  {
   "cell_type": "code",
   "execution_count": 0,
   "metadata": {
    "colab": {},
    "colab_type": "code",
    "id": "GeZtzfEZgaEq",
    "outputId": "3bb1d327-24ff-43a7-b23f-7c946a9fed6d"
   },
   "outputs": [
    {
     "name": "stdout",
     "output_type": "stream",
     "text": [
      "Object `np.arange` not found.\n"
     ]
    }
   ],
   "source": [
    "a_1d_array = np.arange?"
   ]
  },
  {
   "cell_type": "code",
   "execution_count": 0,
   "metadata": {
    "colab": {},
    "colab_type": "code",
    "id": "tlVmv60igaEy"
   },
   "outputs": [],
   "source": [
    "a_1d_array = np.arange"
   ]
  },
  {
   "cell_type": "code",
   "execution_count": 0,
   "metadata": {
    "colab": {},
    "colab_type": "code",
    "id": "LV7LMfzrgaE2"
   },
   "outputs": [],
   "source": [
    "range?"
   ]
  },
  {
   "cell_type": "code",
   "execution_count": 0,
   "metadata": {
    "colab": {},
    "colab_type": "code",
    "id": "LQeuKwlQgaE5"
   },
   "outputs": [],
   "source": [
    "a_1d_array = np.arange(0,12,2)"
   ]
  },
  {
   "cell_type": "code",
   "execution_count": 0,
   "metadata": {
    "colab": {},
    "colab_type": "code",
    "id": "CpUmn1FrgaE9",
    "outputId": "8b6d9617-c16a-4c36-929a-bc744875805e"
   },
   "outputs": [
    {
     "data": {
      "text/plain": [
       "array([ 0,  2,  4,  6,  8, 10])"
      ]
     },
     "execution_count": 30,
     "metadata": {
      "tags": []
     },
     "output_type": "execute_result"
    }
   ],
   "source": [
    "a_1d_array"
   ]
  },
  {
   "cell_type": "code",
   "execution_count": 0,
   "metadata": {
    "colab": {},
    "colab_type": "code",
    "id": "J251zwoMgaFG",
    "outputId": "ca508fb6-297a-4941-8b93-58604601f40d",
    "scrolled": true
   },
   "outputs": [
    {
     "data": {
      "text/plain": [
       "1"
      ]
     },
     "execution_count": 31,
     "metadata": {
      "tags": []
     },
     "output_type": "execute_result"
    }
   ],
   "source": [
    "a_1d_array.ndim"
   ]
  },
  {
   "cell_type": "code",
   "execution_count": 0,
   "metadata": {
    "colab": {},
    "colab_type": "code",
    "id": "ERhNkXZqgaFQ",
    "outputId": "597665c9-9e94-414a-877e-62cb32e86641"
   },
   "outputs": [
    {
     "data": {
      "text/plain": [
       "(6,)"
      ]
     },
     "execution_count": 32,
     "metadata": {
      "tags": []
     },
     "output_type": "execute_result"
    }
   ],
   "source": [
    "a_1d_array.shape # in 1d array how many items available ?"
   ]
  },
  {
   "cell_type": "markdown",
   "metadata": {
    "colab_type": "text",
    "id": "O1Pwur9KgaFU"
   },
   "source": [
    "#### 3.1.1 reading numpy 1d array items"
   ]
  },
  {
   "cell_type": "code",
   "execution_count": 0,
   "metadata": {
    "colab": {},
    "colab_type": "code",
    "id": "97NlYyqmgaFW",
    "outputId": "1009c7f6-c52e-44e8-bfb7-e1cbebd4e5c3"
   },
   "outputs": [
    {
     "data": {
      "text/plain": [
       "0"
      ]
     },
     "execution_count": 33,
     "metadata": {
      "tags": []
     },
     "output_type": "execute_result"
    }
   ],
   "source": [
    "a_1d_array[0] # index method"
   ]
  },
  {
   "cell_type": "code",
   "execution_count": 0,
   "metadata": {
    "colab": {},
    "colab_type": "code",
    "id": "olAyBK4NgaFl",
    "outputId": "bba74bad-96c6-4375-8cb4-3433f3fb53cd"
   },
   "outputs": [
    {
     "data": {
      "text/plain": [
       "array([0, 2, 4])"
      ]
     },
     "execution_count": 34,
     "metadata": {
      "tags": []
     },
     "output_type": "execute_result"
    }
   ],
   "source": [
    "a_1d_array[0:3] # Slice Method"
   ]
  },
  {
   "cell_type": "code",
   "execution_count": 0,
   "metadata": {
    "colab": {},
    "colab_type": "code",
    "id": "I3qsqs52gaF3",
    "outputId": "dccd4941-5cd9-4cba-d11a-20b566f24266"
   },
   "outputs": [
    {
     "data": {
      "text/plain": [
       "array([0, 6])"
      ]
     },
     "execution_count": 35,
     "metadata": {
      "tags": []
     },
     "output_type": "execute_result"
    }
   ],
   "source": [
    "a_1d_array[[0,3]] # fancy Method"
   ]
  },
  {
   "cell_type": "markdown",
   "metadata": {
    "colab_type": "text",
    "id": "5Lk_rE__gaF9"
   },
   "source": [
    "#### 3.1.2 numpy array is mutable"
   ]
  },
  {
   "cell_type": "code",
   "execution_count": 0,
   "metadata": {
    "colab": {},
    "colab_type": "code",
    "collapsed": true,
    "id": "fX-ZRalPgaGC"
   },
   "outputs": [],
   "source": [
    "a_1d_array[1]=200 # update number 2 with 200"
   ]
  },
  {
   "cell_type": "code",
   "execution_count": 0,
   "metadata": {
    "colab": {},
    "colab_type": "code",
    "id": "rjuG6PhPgaGG",
    "outputId": "3661919a-5795-41ba-f787-0a5c40c83a95"
   },
   "outputs": [
    {
     "data": {
      "text/plain": [
       "array([  0, 200,   4,   6,   8,  10])"
      ]
     },
     "execution_count": 37,
     "metadata": {
      "tags": []
     },
     "output_type": "execute_result"
    }
   ],
   "source": [
    "a_1d_array"
   ]
  },
  {
   "cell_type": "markdown",
   "metadata": {
    "colab_type": "text",
    "id": "279jiqi6gaGV"
   },
   "source": [
    "#### 3.2 How to identify given array is 2 d ??\n",
    "- Table,Matrix,Black and white image"
   ]
  },
  {
   "cell_type": "code",
   "execution_count": 0,
   "metadata": {
    "colab": {},
    "colab_type": "code",
    "collapsed": true,
    "id": "99hsQcB6gaGW"
   },
   "outputs": [],
   "source": [
    "a_np_2d_array = np.arange(0,24,2).reshape(3,4)"
   ]
  },
  {
   "cell_type": "markdown",
   "metadata": {
    "colab_type": "text",
    "collapsed": true,
    "id": "RNczXfMAgaHd"
   },
   "source": [
    "- Here 4: No of items in 1 d array\n",
    "-    3: No of 1D arrays in 2D array"
   ]
  },
  {
   "cell_type": "code",
   "execution_count": 0,
   "metadata": {
    "colab": {},
    "colab_type": "code",
    "id": "r3jl0hZcgaHk",
    "outputId": "c85b48c8-aede-4bef-9463-261d0c4f0e77"
   },
   "outputs": [
    {
     "data": {
      "text/plain": [
       "array([[ 0,  2,  4,  6],\n",
       "       [ 8, 10, 12, 14],\n",
       "       [16, 18, 20, 22]])"
      ]
     },
     "execution_count": 39,
     "metadata": {
      "tags": []
     },
     "output_type": "execute_result"
    }
   ],
   "source": [
    "a_np_2d_array"
   ]
  },
  {
   "cell_type": "code",
   "execution_count": 0,
   "metadata": {
    "colab": {},
    "colab_type": "code",
    "id": "g2WfEPlBgaHw",
    "outputId": "1c54d408-bbed-433c-9f58-ab1d99d71516"
   },
   "outputs": [
    {
     "data": {
      "text/plain": [
       "(3, 4)"
      ]
     },
     "execution_count": 40,
     "metadata": {
      "tags": []
     },
     "output_type": "execute_result"
    }
   ],
   "source": [
    "a_np_2d_array.shape"
   ]
  },
  {
   "cell_type": "code",
   "execution_count": 0,
   "metadata": {
    "colab": {},
    "colab_type": "code",
    "id": "4B2aZI2IgaH4",
    "outputId": "8c496652-c84f-4e55-8029-f77df5e0823e"
   },
   "outputs": [
    {
     "data": {
      "text/plain": [
       "2"
      ]
     },
     "execution_count": 41,
     "metadata": {
      "tags": []
     },
     "output_type": "execute_result"
    }
   ],
   "source": [
    "a_np_2d_array.ndim"
   ]
  },
  {
   "cell_type": "code",
   "execution_count": 0,
   "metadata": {
    "colab": {},
    "colab_type": "code",
    "id": "MQGp0yYYgaIB",
    "outputId": "7c25f14b-f6e1-4398-92a9-73497ef018b3"
   },
   "outputs": [
    {
     "ename": "ValueError",
     "evalue": "cannot reshape array of size 13 into shape (3,4)",
     "output_type": "error",
     "traceback": [
      "\u001b[1;31m---------------------------------------------------------------------------\u001b[0m",
      "\u001b[1;31mValueError\u001b[0m                                Traceback (most recent call last)",
      "\u001b[1;32m<ipython-input-42-6d4a9d9804f4>\u001b[0m in \u001b[0;36m<module>\u001b[1;34m\u001b[0m\n\u001b[1;32m----> 1\u001b[1;33m \u001b[0ma_np_2d_array\u001b[0m \u001b[1;33m=\u001b[0m \u001b[0mnp\u001b[0m\u001b[1;33m.\u001b[0m\u001b[0marange\u001b[0m\u001b[1;33m(\u001b[0m\u001b[1;36m13\u001b[0m\u001b[1;33m)\u001b[0m\u001b[1;33m.\u001b[0m\u001b[0mreshape\u001b[0m\u001b[1;33m(\u001b[0m\u001b[1;36m3\u001b[0m\u001b[1;33m,\u001b[0m\u001b[1;36m4\u001b[0m\u001b[1;33m)\u001b[0m\u001b[1;33m\u001b[0m\u001b[0m\n\u001b[0m",
      "\u001b[1;31mValueError\u001b[0m: cannot reshape array of size 13 into shape (3,4)"
     ]
    }
   ],
   "source": [
    "a_np_2d_array = np.arange(13).reshape(3,4)"
   ]
  },
  {
   "cell_type": "code",
   "execution_count": 0,
   "metadata": {
    "colab": {},
    "colab_type": "code",
    "id": "9T-R-JgFgaIN",
    "outputId": "f39e5430-0b63-47b4-b483-fa0083c07c97"
   },
   "outputs": [
    {
     "ename": "ValueError",
     "evalue": "cannot reshape array of size 11 into shape (3,4)",
     "output_type": "error",
     "traceback": [
      "\u001b[1;31m---------------------------------------------------------------------------\u001b[0m",
      "\u001b[1;31mValueError\u001b[0m                                Traceback (most recent call last)",
      "\u001b[1;32m<ipython-input-43-6417df2a93bf>\u001b[0m in \u001b[0;36m<module>\u001b[1;34m\u001b[0m\n\u001b[1;32m----> 1\u001b[1;33m \u001b[0ma_np_2d_array\u001b[0m \u001b[1;33m=\u001b[0m \u001b[0mnp\u001b[0m\u001b[1;33m.\u001b[0m\u001b[0marange\u001b[0m\u001b[1;33m(\u001b[0m\u001b[1;36m11\u001b[0m\u001b[1;33m)\u001b[0m\u001b[1;33m.\u001b[0m\u001b[0mreshape\u001b[0m\u001b[1;33m(\u001b[0m\u001b[1;36m3\u001b[0m\u001b[1;33m,\u001b[0m\u001b[1;36m4\u001b[0m\u001b[1;33m)\u001b[0m\u001b[1;33m\u001b[0m\u001b[0m\n\u001b[0m",
      "\u001b[1;31mValueError\u001b[0m: cannot reshape array of size 11 into shape (3,4)"
     ]
    }
   ],
   "source": [
    "a_np_2d_array = np.arange(11).reshape(3,4)"
   ]
  },
  {
   "cell_type": "markdown",
   "metadata": {
    "colab_type": "text",
    "id": "snxsnnorgaIV"
   },
   "source": [
    "#### 3.2.1 Reading 2D np array"
   ]
  },
  {
   "cell_type": "code",
   "execution_count": 0,
   "metadata": {
    "colab": {},
    "colab_type": "code",
    "id": "kof4qhr6gaIW",
    "outputId": "c829508a-d717-431f-88c7-de589acea4f8"
   },
   "outputs": [
    {
     "data": {
      "text/plain": [
       "array([0, 2, 4, 6])"
      ]
     },
     "execution_count": 44,
     "metadata": {
      "tags": []
     },
     "output_type": "execute_result"
    }
   ],
   "source": [
    "a_np_2d_array[0] # 1st row"
   ]
  },
  {
   "cell_type": "code",
   "execution_count": 0,
   "metadata": {
    "colab": {},
    "colab_type": "code",
    "id": "0Ab_pRXagaIa",
    "outputId": "25de5715-123a-401b-8fa9-6471e1335bc5"
   },
   "outputs": [
    {
     "data": {
      "text/plain": [
       "0"
      ]
     },
     "execution_count": 45,
     "metadata": {
      "tags": []
     },
     "output_type": "execute_result"
    }
   ],
   "source": [
    "a_np_2d_array[0,0] # 1st row #1st column"
   ]
  },
  {
   "cell_type": "code",
   "execution_count": 0,
   "metadata": {
    "colab": {},
    "colab_type": "code",
    "id": "Ue_AZ2E7gaIe",
    "outputId": "3976702c-6dea-4994-ca26-3ab318cac513"
   },
   "outputs": [
    {
     "data": {
      "text/plain": [
       "4"
      ]
     },
     "execution_count": 46,
     "metadata": {
      "tags": []
     },
     "output_type": "execute_result"
    }
   ],
   "source": [
    "a_np_2d_array[0][2] # 1st row # 3rd column value"
   ]
  },
  {
   "cell_type": "code",
   "execution_count": 0,
   "metadata": {
    "colab": {},
    "colab_type": "code",
    "id": "HCc2rMoMgaIl",
    "outputId": "0bd09dc6-5eea-4ebb-8153-a94cc0606176"
   },
   "outputs": [
    {
     "data": {
      "text/plain": [
       "array([[ 0,  2],\n",
       "       [ 8, 10],\n",
       "       [16, 18]])"
      ]
     },
     "execution_count": 47,
     "metadata": {
      "tags": []
     },
     "output_type": "execute_result"
    }
   ],
   "source": [
    "a_np_2d_array[:,0:2] # all rows #first and secon columns"
   ]
  },
  {
   "cell_type": "code",
   "execution_count": 0,
   "metadata": {
    "colab": {},
    "colab_type": "code",
    "id": "jmwSe-z1gaIp",
    "outputId": "c0a66c3f-93e2-4b88-90e6-98f947275b7c"
   },
   "outputs": [
    {
     "data": {
      "text/plain": [
       "array([ 8, 10, 12, 14])"
      ]
     },
     "execution_count": 48,
     "metadata": {
      "tags": []
     },
     "output_type": "execute_result"
    }
   ],
   "source": [
    "a_np_2d_array[1,:] # all columns # second row"
   ]
  },
  {
   "cell_type": "markdown",
   "metadata": {
    "colab_type": "text",
    "id": "AfScrgAfgaIu"
   },
   "source": [
    "> In Machine learning we will use \n",
    "    - input(X) --> 2D np array\n",
    "    - output(y) --> 1D np array"
   ]
  },
  {
   "cell_type": "markdown",
   "metadata": {
    "colab_type": "text",
    "id": "dLdHyvQYgaIv"
   },
   "source": [
    "#### 3.3 How to identify given array is 3 d ??\n",
    "- Color image"
   ]
  },
  {
   "cell_type": "code",
   "execution_count": 0,
   "metadata": {
    "colab": {},
    "colab_type": "code",
    "collapsed": true,
    "id": "3KWuoKk8gaIw"
   },
   "outputs": [],
   "source": [
    "a_np_3d_array = np.arange(24).reshape(2,3,4)"
   ]
  },
  {
   "cell_type": "markdown",
   "metadata": {
    "colab_type": "text",
    "id": "WgXWjh5YgaIz"
   },
   "source": [
    "- Here : \n",
    "    - 4: No of items in 1 d array\n",
    "\n",
    "    - 3: No of 1D arrays in 2D array\n",
    "    \n",
    "    - 2: No of 2D arrays in 3D array"
   ]
  },
  {
   "cell_type": "code",
   "execution_count": 0,
   "metadata": {
    "colab": {},
    "colab_type": "code",
    "collapsed": true,
    "id": "XvU6kWFjgaI0"
   },
   "outputs": [],
   "source": [
    "a_np_3d_array"
   ]
  },
  {
   "cell_type": "code",
   "execution_count": 0,
   "metadata": {
    "colab": {},
    "colab_type": "code",
    "collapsed": true,
    "id": "vdIHGwPkgaI8"
   },
   "outputs": [],
   "source": [
    "a_np_3d_array.ndim"
   ]
  },
  {
   "cell_type": "code",
   "execution_count": 0,
   "metadata": {
    "colab": {},
    "colab_type": "code",
    "collapsed": true,
    "id": "wyja5jgBgaI_"
   },
   "outputs": [],
   "source": [
    "a_np_3d_array.shape"
   ]
  },
  {
   "cell_type": "markdown",
   "metadata": {
    "colab_type": "text",
    "id": "O1IOOJyFgaJJ"
   },
   "source": [
    "#### 3.4 How to identify given array is 4 d ??"
   ]
  },
  {
   "cell_type": "code",
   "execution_count": 0,
   "metadata": {
    "colab": {},
    "colab_type": "code",
    "collapsed": true,
    "id": "vlceXpikgaJL"
   },
   "outputs": [],
   "source": [
    "a_np_4d_array = np.arange(48).reshape(2,2,3,4)"
   ]
  },
  {
   "cell_type": "markdown",
   "metadata": {
    "colab_type": "text",
    "id": "hml9gtIHgaJT"
   },
   "source": [
    "Here \n",
    "- 4: No of items in 1 d array\n",
    "- 3: No of 1D arrays in 2D array    \n",
    "- 2: No of 2D arrays in 3D array\n",
    "- 2: No of 3D arrays in 4D array"
   ]
  },
  {
   "cell_type": "code",
   "execution_count": 0,
   "metadata": {
    "colab": {},
    "colab_type": "code",
    "collapsed": true,
    "id": "QKYZCWxrgaJb"
   },
   "outputs": [],
   "source": [
    "a_np_4d_array"
   ]
  },
  {
   "cell_type": "markdown",
   "metadata": {
    "colab_type": "text",
    "id": "fMWy1TG-gaJi"
   },
   "source": [
    "### 4. NumPy array occupies less memory"
   ]
  },
  {
   "cell_type": "code",
   "execution_count": 0,
   "metadata": {
    "colab": {},
    "colab_type": "code",
    "id": "9EOn8F63gaJn"
   },
   "outputs": [],
   "source": [
    "py_list = list(range(200)) # python list"
   ]
  },
  {
   "cell_type": "code",
   "execution_count": 0,
   "metadata": {
    "colab": {},
    "colab_type": "code",
    "id": "epRN3wVigaJx",
    "outputId": "adddfee9-220f-4f31-8fe6-4e8a42ca4156"
   },
   "outputs": [
    {
     "data": {
      "text/plain": [
       "(0, 199, 200)"
      ]
     },
     "execution_count": 2,
     "metadata": {
      "tags": []
     },
     "output_type": "execute_result"
    }
   ],
   "source": [
    "min(py_list),max(py_list),len(py_list)"
   ]
  },
  {
   "cell_type": "code",
   "execution_count": 0,
   "metadata": {
    "colab": {},
    "colab_type": "code",
    "id": "AkiNJKLTgaJ3"
   },
   "outputs": [],
   "source": [
    "import numpy as np\n",
    "np_list = np.array(list(range(200))) # numpy list"
   ]
  },
  {
   "cell_type": "code",
   "execution_count": 0,
   "metadata": {
    "colab": {},
    "colab_type": "code",
    "id": "jVyj9F-BgaJ6",
    "outputId": "fff3b890-473b-4171-fea5-1a7fdbabc7d6"
   },
   "outputs": [
    {
     "data": {
      "text/plain": [
       "(0, 199, 200)"
      ]
     },
     "execution_count": 4,
     "metadata": {
      "tags": []
     },
     "output_type": "execute_result"
    }
   ],
   "source": [
    "min(np_list),max(np_list),len(np_list)"
   ]
  },
  {
   "cell_type": "code",
   "execution_count": 0,
   "metadata": {
    "colab": {},
    "colab_type": "code",
    "id": "3KxOcQXVgaKI",
    "outputId": "d6fa8a43-45f1-4960-9b63-bb93a500ab34"
   },
   "outputs": [
    {
     "name": "stdout",
     "output_type": "stream",
     "text": [
      "1912\n",
      "896\n"
     ]
    }
   ],
   "source": [
    "import sys\n",
    "print(sys.getsizeof(py_list))\n",
    "print(sys.getsizeof(np_list))"
   ]
  },
  {
   "cell_type": "markdown",
   "metadata": {
    "colab_type": "text",
    "id": "eX8bCqmKgaKS"
   },
   "source": [
    "### 5. Working with `Basic Statistics`"
   ]
  },
  {
   "cell_type": "code",
   "execution_count": 3,
   "metadata": {
    "colab": {},
    "colab_type": "code",
    "id": "LO6nPJY9gaKT"
   },
   "outputs": [],
   "source": [
    "import numpy as np\n",
    "np_list = np.array(range(2,21,2))"
   ]
  },
  {
   "cell_type": "code",
   "execution_count": 0,
   "metadata": {
    "colab": {},
    "colab_type": "code",
    "id": "38FcixTAgaKV",
    "outputId": "75403298-cea5-4f26-85bc-2d70976cbd9d"
   },
   "outputs": [
    {
     "data": {
      "text/plain": [
       "array([ 2,  4,  6,  8, 10, 12, 14, 16, 18, 20])"
      ]
     },
     "execution_count": 51,
     "metadata": {
      "tags": []
     },
     "output_type": "execute_result"
    }
   ],
   "source": [
    "np_list"
   ]
  },
  {
   "cell_type": "markdown",
   "metadata": {
    "colab_type": "text",
    "id": "8xWMnk0wgaKZ"
   },
   "source": [
    "#### 5.1 mean\n",
    "- https://www.mathsisfun.com/mean.html\n",
    "- https://www.mathsisfun.com/numbers/geometric-mean.html\n",
    "- https://www.mathsisfun.com/numbers/harmonic-mean.html"
   ]
  },
  {
   "cell_type": "code",
   "execution_count": 0,
   "metadata": {
    "colab": {},
    "colab_type": "code",
    "id": "T4M6poH5gaKZ",
    "outputId": "6a665797-32a7-4453-8c36-3c540e1a37ac"
   },
   "outputs": [
    {
     "data": {
      "text/plain": [
       "11.0"
      ]
     },
     "execution_count": 52,
     "metadata": {
      "tags": []
     },
     "output_type": "execute_result"
    }
   ],
   "source": [
    "np.mean(np_list)"
   ]
  },
  {
   "cell_type": "markdown",
   "metadata": {
    "colab_type": "text",
    "id": "Ub2rAXv3gaKd"
   },
   "source": [
    "#### 5.2 median\n",
    "- https://www.mathsisfun.com/median.html\n",
    "\n",
    "- Step 1: oragnize data in asc\n",
    "    - case 1: if no of items are odd --> then median is --> `(no of items  + 1)/2`\n",
    "        - 1, 20,**30**,40,60\n",
    "\n",
    "    - case 2: if no of items are even --> then medians are --> `no of items/2`,`(no of items/2)+ 1`\n",
    "        - 1, 20,**30,40**,60,70\n",
    "\n",
    "            - avg of above two median  is our required median (30+40)/2 = 35\n",
    "\n"
   ]
  },
  {
   "cell_type": "code",
   "execution_count": 0,
   "metadata": {
    "colab": {},
    "colab_type": "code",
    "id": "nuMfVdzhgaKd",
    "outputId": "7eaf616f-1306-4a03-ed74-ed2aed6c0257"
   },
   "outputs": [
    {
     "data": {
      "text/plain": [
       "30.0"
      ]
     },
     "execution_count": 53,
     "metadata": {
      "tags": []
     },
     "output_type": "execute_result"
    }
   ],
   "source": [
    "np.median([1,20,30,40,60])"
   ]
  },
  {
   "cell_type": "code",
   "execution_count": 0,
   "metadata": {
    "colab": {},
    "colab_type": "code",
    "id": "vJ35LqhAgaKi",
    "outputId": "de07df04-ef10-441f-a027-007b862acc5d"
   },
   "outputs": [
    {
     "data": {
      "text/plain": [
       "35.0"
      ]
     },
     "execution_count": 54,
     "metadata": {
      "tags": []
     },
     "output_type": "execute_result"
    }
   ],
   "source": [
    "np.median([1,20,30,40,60,70])"
   ]
  },
  {
   "cell_type": "code",
   "execution_count": 0,
   "metadata": {
    "colab": {},
    "colab_type": "code",
    "id": "vYeAJsixgaKo",
    "outputId": "ff89d798-312d-417f-80ae-3b4c15439c0b"
   },
   "outputs": [
    {
     "data": {
      "text/plain": [
       "11.0"
      ]
     },
     "execution_count": 55,
     "metadata": {
      "tags": []
     },
     "output_type": "execute_result"
    }
   ],
   "source": [
    "np.median(np_list)"
   ]
  },
  {
   "cell_type": "markdown",
   "metadata": {},
   "source": [
    "#### 5.3. Mode\n",
    "- https://www.mathsisfun.com/mode.html"
   ]
  },
  {
   "cell_type": "code",
   "execution_count": 22,
   "metadata": {},
   "outputs": [],
   "source": [
    "a_np_array= np.array([6, 3, 9, 6, 6, 3,5, 9, 3])"
   ]
  },
  {
   "cell_type": "code",
   "execution_count": 23,
   "metadata": {},
   "outputs": [],
   "source": [
    "from scipy import stats"
   ]
  },
  {
   "cell_type": "code",
   "execution_count": 24,
   "metadata": {},
   "outputs": [
    {
     "data": {
      "text/plain": [
       "ModeResult(mode=array([3]), count=array([3]))"
      ]
     },
     "execution_count": 24,
     "metadata": {},
     "output_type": "execute_result"
    }
   ],
   "source": [
    "stats.mode(a_np_array)"
   ]
  },
  {
   "cell_type": "markdown",
   "metadata": {
    "colab_type": "text",
    "id": "Qrg1F-Q5gaKu"
   },
   "source": [
    "#### 5.3 Standard Deviation"
   ]
  },
  {
   "cell_type": "markdown",
   "metadata": {},
   "source": [
    "- https://www.mathsisfun.com/data/standard-deviation.html\n",
    "\n",
    "    $\\sigma = \\sqrt{ \\frac{1}{N}\\sum^N_{i=1}(x_{i}-\\mu)^2} $"
   ]
  },
  {
   "cell_type": "markdown",
   "metadata": {
    "colab_type": "text",
    "id": "c7X1WSG2gaKx"
   },
   "source": [
    "- It is useful to find out `outliers`\n",
    "- Square root of `variance`$ (\\sigma^2) $ is `standard deviation`$(\\sigma)$"
   ]
  },
  {
   "cell_type": "code",
   "execution_count": 4,
   "metadata": {
    "colab": {},
    "colab_type": "code",
    "id": "4TLwfv3QgaKy",
    "outputId": "9b1ef740-1a6e-4da6-f1c5-85caa32a736e"
   },
   "outputs": [
    {
     "data": {
      "text/plain": [
       "array([ 2,  4,  6,  8, 10, 12, 14, 16, 18, 20])"
      ]
     },
     "execution_count": 4,
     "metadata": {},
     "output_type": "execute_result"
    }
   ],
   "source": [
    "np_list"
   ]
  },
  {
   "cell_type": "code",
   "execution_count": 5,
   "metadata": {
    "colab": {},
    "colab_type": "code",
    "id": "ZTdeeydogaK8",
    "outputId": "a827aae7-1a15-42a1-80df-283fec312f11"
   },
   "outputs": [
    {
     "data": {
      "text/plain": [
       "5.744562646538029"
      ]
     },
     "execution_count": 5,
     "metadata": {},
     "output_type": "execute_result"
    }
   ],
   "source": [
    "np.std(np_list)"
   ]
  },
  {
   "cell_type": "code",
   "execution_count": 6,
   "metadata": {
    "colab": {},
    "colab_type": "code",
    "id": "FRG6uJiKgaLB"
   },
   "outputs": [],
   "source": [
    "std = np.std([600 ,470 ,170 ,430 ,300])"
   ]
  },
  {
   "cell_type": "code",
   "execution_count": 7,
   "metadata": {
    "colab": {},
    "colab_type": "code",
    "id": "gVDHGpAMgaLO",
    "outputId": "2e277540-b780-449a-a330-b7b0487eb917"
   },
   "outputs": [
    {
     "data": {
      "text/plain": [
       "147.32277488562318"
      ]
     },
     "execution_count": 7,
     "metadata": {},
     "output_type": "execute_result"
    }
   ],
   "source": [
    "std"
   ]
  },
  {
   "cell_type": "code",
   "execution_count": 8,
   "metadata": {
    "colab": {},
    "colab_type": "code",
    "id": "rdWtxavNgaLb"
   },
   "outputs": [],
   "source": [
    "mean = np.mean([600 ,470 ,170 ,430 ,300])"
   ]
  },
  {
   "cell_type": "code",
   "execution_count": 9,
   "metadata": {
    "colab": {},
    "colab_type": "code",
    "id": "QzVEaLZ4gaLf",
    "outputId": "e86e3a75-e4f0-47f0-e198-18368aa6d408"
   },
   "outputs": [
    {
     "data": {
      "text/plain": [
       "394.0"
      ]
     },
     "execution_count": 9,
     "metadata": {},
     "output_type": "execute_result"
    }
   ],
   "source": [
    "mean"
   ]
  },
  {
   "cell_type": "code",
   "execution_count": 10,
   "metadata": {
    "colab": {},
    "colab_type": "code",
    "id": "HePDOIjIgaLk"
   },
   "outputs": [],
   "source": [
    "upper = mean + std"
   ]
  },
  {
   "cell_type": "code",
   "execution_count": 11,
   "metadata": {
    "colab": {},
    "colab_type": "code",
    "id": "MoNhu0Q1gaLo"
   },
   "outputs": [],
   "source": [
    "lower = mean -std"
   ]
  },
  {
   "cell_type": "code",
   "execution_count": 12,
   "metadata": {
    "colab": {},
    "colab_type": "code",
    "id": "Bgypd7GugaLr",
    "outputId": "d09b26ee-e492-4c1e-c02b-8025e1f4fb7b"
   },
   "outputs": [
    {
     "data": {
      "text/plain": [
       "541.3227748856232"
      ]
     },
     "execution_count": 12,
     "metadata": {},
     "output_type": "execute_result"
    }
   ],
   "source": [
    "upper"
   ]
  },
  {
   "cell_type": "code",
   "execution_count": 13,
   "metadata": {
    "colab": {},
    "colab_type": "code",
    "id": "41OlQgZfgaLv",
    "outputId": "2d53105d-0c1b-4244-91c3-756506aa69b9"
   },
   "outputs": [
    {
     "data": {
      "text/plain": [
       "246.67722511437682"
      ]
     },
     "execution_count": 13,
     "metadata": {},
     "output_type": "execute_result"
    }
   ],
   "source": [
    "lower"
   ]
  },
  {
   "cell_type": "markdown",
   "metadata": {
    "colab_type": "text",
    "id": "qzk3L1lKgaLz"
   },
   "source": [
    "##### 5.3.1:outliers"
   ]
  },
  {
   "cell_type": "code",
   "execution_count": 14,
   "metadata": {
    "colab": {},
    "colab_type": "code",
    "id": "XaFpLpACgaL0"
   },
   "outputs": [],
   "source": [
    "np_1d_array = np.array([600 ,470 ,170 ,430 ,300])"
   ]
  },
  {
   "cell_type": "code",
   "execution_count": 15,
   "metadata": {
    "colab": {},
    "colab_type": "code",
    "id": "HYG91Y8ZgaL2",
    "outputId": "bbff494e-1cb1-47a7-99fc-6db4388514ec"
   },
   "outputs": [
    {
     "data": {
      "text/plain": [
       "array([600, 170])"
      ]
     },
     "execution_count": 15,
     "metadata": {},
     "output_type": "execute_result"
    }
   ],
   "source": [
    "np_1d_array[np.logical_or(upper<np_1d_array,lower>np_1d_array)]"
   ]
  },
  {
   "cell_type": "markdown",
   "metadata": {},
   "source": [
    "`Home Work: `\n",
    "\n",
    "Refer mean median mode calculations https://acadgild.com/blog/python-mean-median-mode\n",
    "\n",
    "read it : https://www.statisticshowto.datasciencecentral.com/probability-distribution/"
   ]
  },
  {
   "cell_type": "markdown",
   "metadata": {
    "colab_type": "text",
    "id": "JHdcTaH9gaL8"
   },
   "source": [
    "### 5.4.sort"
   ]
  },
  {
   "cell_type": "code",
   "execution_count": 0,
   "metadata": {
    "colab": {},
    "colab_type": "code",
    "id": "ypm0xMsNgaL9"
   },
   "outputs": [],
   "source": [
    "import numpy as np"
   ]
  },
  {
   "cell_type": "code",
   "execution_count": 0,
   "metadata": {
    "colab": {},
    "colab_type": "code",
    "id": "JtnBvP8YgaMA"
   },
   "outputs": [],
   "source": [
    "np.random.seed(1)\n",
    "x = np.random.randn(10)"
   ]
  },
  {
   "cell_type": "code",
   "execution_count": 0,
   "metadata": {
    "colab": {},
    "colab_type": "code",
    "id": "2LbixAEkgaMC",
    "outputId": "544df7be-f07b-4765-db9c-4b9559a33aa0"
   },
   "outputs": [
    {
     "data": {
      "text/plain": [
       "array([ 1.62434536, -0.61175641, -0.52817175, -1.07296862,  0.86540763,\n",
       "       -2.3015387 ,  1.74481176, -0.7612069 ,  0.3190391 , -0.24937038])"
      ]
     },
     "execution_count": 4,
     "metadata": {
      "tags": []
     },
     "output_type": "execute_result"
    }
   ],
   "source": [
    "x"
   ]
  },
  {
   "cell_type": "code",
   "execution_count": 0,
   "metadata": {
    "colab": {},
    "colab_type": "code",
    "id": "DWDBS9b9gaMG"
   },
   "outputs": [],
   "source": [
    "x.sort()"
   ]
  },
  {
   "cell_type": "code",
   "execution_count": 0,
   "metadata": {
    "colab": {},
    "colab_type": "code",
    "id": "K8PwIFvggaMJ",
    "outputId": "313e83ed-bbc3-4092-d7dd-70ef037268a6"
   },
   "outputs": [
    {
     "data": {
      "text/plain": [
       "array([-2.3015387 , -1.07296862, -0.7612069 , -0.61175641, -0.52817175,\n",
       "       -0.24937038,  0.3190391 ,  0.86540763,  1.62434536,  1.74481176])"
      ]
     },
     "execution_count": 6,
     "metadata": {
      "tags": []
     },
     "output_type": "execute_result"
    }
   ],
   "source": [
    "x"
   ]
  },
  {
   "cell_type": "markdown",
   "metadata": {
    "colab_type": "text",
    "id": "NeNV7d17gaMN"
   },
   "source": [
    "### 5.5. unique"
   ]
  },
  {
   "cell_type": "code",
   "execution_count": 0,
   "metadata": {
    "colab": {},
    "colab_type": "code",
    "id": "uXt9MacIgaMO",
    "outputId": "aef595d9-aff3-403b-d35f-46b2e80d79ec"
   },
   "outputs": [
    {
     "name": "stdout",
     "output_type": "stream",
     "text": [
      "[1 2 4]\n"
     ]
    }
   ],
   "source": [
    "array = np.array([1,2,1,4,2,1,4,2])\n",
    "print(np.unique(array))"
   ]
  },
  {
   "cell_type": "markdown",
   "metadata": {
    "colab_type": "text",
    "id": "raj3iVFxgaMS"
   },
   "source": [
    "### 5.6 Set Operations"
   ]
  },
  {
   "cell_type": "code",
   "execution_count": 0,
   "metadata": {
    "colab": {},
    "colab_type": "code",
    "id": "isqIEfYzgaMT",
    "outputId": "82a13510-df79-4e59-fdbd-2dc72f5ed42c"
   },
   "outputs": [
    {
     "name": "stdout",
     "output_type": "stream",
     "text": [
      "['desk' 'chair' 'bulb'] ['lamp' 'bulb' 'chair']\n"
     ]
    }
   ],
   "source": [
    "s1 = np.array(['desk','chair','bulb'])\n",
    "s2 = np.array(['lamp','bulb','chair'])\n",
    "print(s1, s2)"
   ]
  },
  {
   "cell_type": "code",
   "execution_count": 0,
   "metadata": {
    "colab": {},
    "colab_type": "code",
    "id": "aVo05iNqgaMY",
    "outputId": "8932b496-8b6b-4e3b-c2bc-3f761a6ddd85"
   },
   "outputs": [
    {
     "name": "stdout",
     "output_type": "stream",
     "text": [
      "['bulb' 'chair']\n"
     ]
    }
   ],
   "source": [
    "print( np.intersect1d(s1, s2) )"
   ]
  },
  {
   "cell_type": "code",
   "execution_count": 0,
   "metadata": {
    "colab": {},
    "colab_type": "code",
    "id": "RGNDRugsgaMc",
    "outputId": "1859ca9d-4b61-4141-b315-a1fb7f2d1e2c"
   },
   "outputs": [
    {
     "name": "stdout",
     "output_type": "stream",
     "text": [
      "['bulb' 'chair' 'desk' 'lamp']\n"
     ]
    }
   ],
   "source": [
    "print( np.union1d(s1, s2) )"
   ]
  },
  {
   "cell_type": "code",
   "execution_count": 0,
   "metadata": {
    "colab": {},
    "colab_type": "code",
    "id": "AxeVKRfogaMf",
    "outputId": "455bfac1-3543-42ec-98cd-2de79ac686b9"
   },
   "outputs": [
    {
     "name": "stdout",
     "output_type": "stream",
     "text": [
      "['desk']\n"
     ]
    }
   ],
   "source": [
    "print( np.setdiff1d(s1, s2) )# elements in s1 that are not in s2"
   ]
  },
  {
   "cell_type": "markdown",
   "metadata": {
    "colab_type": "text",
    "id": "26GbnnO9gaM8"
   },
   "source": [
    "### 5.7 Broadcasting\n",
    "- The term broadcasting describes how numpy treats arrays with different shapes during arithmetic operations\n",
    "- For more details, please see\n",
    "- [for more refer](https://docs.scipy.org/doc/numpy-1.10.1/user/basics.broadcasting.html)"
   ]
  },
  {
   "cell_type": "code",
   "execution_count": 0,
   "metadata": {
    "colab": {},
    "colab_type": "code",
    "id": "XCrLwjZJgaM9",
    "outputId": "d7a0171e-ec8c-485a-ffbe-afcd7cda691c"
   },
   "outputs": [
    {
     "name": "stdout",
     "output_type": "stream",
     "text": [
      "[[0. 0. 0.]\n",
      " [0. 0. 0.]\n",
      " [0. 0. 0.]\n",
      " [0. 0. 0.]]\n"
     ]
    }
   ],
   "source": [
    "import numpy as np\n",
    "start = np.zeros((4,3))\n",
    "print(start)"
   ]
  },
  {
   "cell_type": "code",
   "execution_count": 0,
   "metadata": {
    "colab": {},
    "colab_type": "code",
    "id": "_lc2QJjCgaNI",
    "outputId": "0e3046bc-9935-4787-9dca-7992c8032124"
   },
   "outputs": [
    {
     "name": "stdout",
     "output_type": "stream",
     "text": [
      "[1 0 2]\n"
     ]
    }
   ],
   "source": [
    "# create a rank 1 ndarray with 3 values\n",
    "add_rows = np.array([1, 0, 2])\n",
    "print(add_rows)"
   ]
  },
  {
   "cell_type": "code",
   "execution_count": 0,
   "metadata": {
    "colab": {},
    "colab_type": "code",
    "id": "p78i3qFrgaNO",
    "outputId": "bed7cd01-8263-43cf-f7a7-0c9959d64bd9"
   },
   "outputs": [
    {
     "name": "stdout",
     "output_type": "stream",
     "text": [
      "[[1. 0. 2.]\n",
      " [1. 0. 2.]\n",
      " [1. 0. 2.]\n",
      " [1. 0. 2.]]\n"
     ]
    }
   ],
   "source": [
    "y = start + add_rows  # add to each row of 'start' using broadcasting\n",
    "print(y)"
   ]
  },
  {
   "cell_type": "code",
   "execution_count": 0,
   "metadata": {
    "colab": {},
    "colab_type": "code",
    "id": "3NziezjpgaNX",
    "outputId": "16cffd7f-c05e-4e5d-b28b-099ab696e5a9"
   },
   "outputs": [
    {
     "name": "stdout",
     "output_type": "stream",
     "text": [
      "[[0]\n",
      " [1]\n",
      " [2]\n",
      " [3]]\n"
     ]
    }
   ],
   "source": [
    "# create an ndarray which is 4 x 1 to broadcast across columns\n",
    "add_cols = np.array([[0,1,2,3]])\n",
    "add_cols = add_cols.T\n",
    "print(add_cols)"
   ]
  },
  {
   "cell_type": "code",
   "execution_count": 0,
   "metadata": {
    "colab": {},
    "colab_type": "code",
    "id": "xMgvOpxBgaNd",
    "outputId": "04be24c3-1903-4b94-c0f9-ac6095bd9bf1"
   },
   "outputs": [
    {
     "name": "stdout",
     "output_type": "stream",
     "text": [
      "[[0. 0. 0.]\n",
      " [1. 1. 1.]\n",
      " [2. 2. 2.]\n",
      " [3. 3. 3.]]\n"
     ]
    }
   ],
   "source": [
    "# add to each column of 'start' using broadcasting\n",
    "y = start + add_cols \n",
    "print(y)"
   ]
  },
  {
   "cell_type": "code",
   "execution_count": 0,
   "metadata": {
    "colab": {},
    "colab_type": "code",
    "id": "NCdPGBPUgaNj",
    "outputId": "eb142446-e77c-4406-fced-d944f41d42e2"
   },
   "outputs": [
    {
     "name": "stdout",
     "output_type": "stream",
     "text": [
      "[[1. 1. 1.]\n",
      " [1. 1. 1.]\n",
      " [1. 1. 1.]\n",
      " [1. 1. 1.]]\n"
     ]
    }
   ],
   "source": [
    "# this will just broadcast in both dimensions\n",
    "add_scalar = np.array([1])  \n",
    "print(start+add_scalar)"
   ]
  },
  {
   "cell_type": "markdown",
   "metadata": {
    "colab_type": "text",
    "collapsed": true,
    "id": "cvxQpJxpgaNo"
   },
   "source": [
    "### 6.Working with random numbers with out seed (seed = same)"
   ]
  },
  {
   "cell_type": "code",
   "execution_count": 0,
   "metadata": {
    "colab": {},
    "colab_type": "code",
    "id": "3IYavMM0gaNp"
   },
   "outputs": [],
   "source": [
    "# generate 5 random integers between 10(Inclusive) and 50(Exclusive)\n",
    "import numpy as np"
   ]
  },
  {
   "cell_type": "code",
   "execution_count": 0,
   "metadata": {
    "colab": {},
    "colab_type": "code",
    "id": "7ScQn_aKgaNt",
    "outputId": "48933b1a-5fd1-4cb3-cb53-a63970e3efb8"
   },
   "outputs": [
    {
     "name": "stdout",
     "output_type": "stream",
     "text": [
      "[43 13 40 41 46]\n"
     ]
    }
   ],
   "source": [
    "print(np.random.randint(10,50,5))"
   ]
  },
  {
   "cell_type": "code",
   "execution_count": 0,
   "metadata": {
    "colab": {},
    "colab_type": "code",
    "id": "kx0zu6mOgaNw",
    "outputId": "471271fc-84a4-4a7e-cd65-3f25115de393"
   },
   "outputs": [
    {
     "name": "stdout",
     "output_type": "stream",
     "text": [
      "[29 30 37 30 35]\n"
     ]
    }
   ],
   "source": [
    "print(np.random.randint(10,50,5))"
   ]
  },
  {
   "cell_type": "markdown",
   "metadata": {
    "colab_type": "text",
    "id": "5QvjiZ1PgaN5"
   },
   "source": [
    "### 7. Working with random numbers with seed\n",
    "- seed is useful for reproducibility\n",
    "- Seed must be between 0 and 2**32 - 1"
   ]
  },
  {
   "cell_type": "code",
   "execution_count": 0,
   "metadata": {
    "colab": {},
    "colab_type": "code",
    "collapsed": true,
    "id": "SuF6ga24gaN-"
   },
   "outputs": [],
   "source": [
    "np.random.randint?"
   ]
  },
  {
   "cell_type": "code",
   "execution_count": 0,
   "metadata": {
    "colab": {},
    "colab_type": "code",
    "id": "ukg0sZJLgaOE",
    "outputId": "cfd7eae5-c607-4367-f64d-d9163bd27a51"
   },
   "outputs": [
    {
     "name": "stdout",
     "output_type": "stream",
     "text": [
      "[48 38 24 17 30]\n"
     ]
    }
   ],
   "source": [
    "np.random.seed(42)\n",
    "print(np.random.randint(10,50,5))"
   ]
  },
  {
   "cell_type": "code",
   "execution_count": 0,
   "metadata": {
    "colab": {},
    "colab_type": "code",
    "id": "ewhOwhP7gaOS",
    "outputId": "fd1aeb92-6b5c-4c61-e61a-4654aead614c"
   },
   "outputs": [
    {
     "name": "stdout",
     "output_type": "stream",
     "text": [
      "[48 38 24 17 30]\n"
     ]
    }
   ],
   "source": [
    "np.random.seed(42)\n",
    "print(np.random.randint(10,50,5))"
   ]
  },
  {
   "cell_type": "code",
   "execution_count": 0,
   "metadata": {
    "colab": {},
    "colab_type": "code",
    "id": "Rq73H_3fgaO5",
    "outputId": "df30b9a4-795a-43d7-f81b-8add382e06e9"
   },
   "outputs": [
    {
     "name": "stdout",
     "output_type": "stream",
     "text": [
      "[48 38 24 17 30]\n"
     ]
    }
   ],
   "source": [
    "np.random.seed(42)\n",
    "print(np.random.randint(10,50,5))"
   ]
  },
  {
   "cell_type": "code",
   "execution_count": 0,
   "metadata": {
    "colab": {},
    "colab_type": "code",
    "id": "NitsH-o4gaPW",
    "outputId": "8f3843e5-aca1-46e3-cd0e-cec11f0efc5e"
   },
   "outputs": [
    {
     "name": "stdout",
     "output_type": "stream",
     "text": [
      "[15 11 33 18 19]\n"
     ]
    }
   ],
   "source": [
    "np.random.seed(4)\n",
    "print(np.random.randint(10,50,5))"
   ]
  },
  {
   "cell_type": "code",
   "execution_count": 0,
   "metadata": {
    "colab": {},
    "colab_type": "code",
    "id": "4Ls1UQ3ygaPf",
    "outputId": "2fbb9a83-4260-4eab-c689-cd61bcd220c1"
   },
   "outputs": [
    {
     "name": "stdout",
     "output_type": "stream",
     "text": [
      "[15 11 33 18 19]\n"
     ]
    }
   ],
   "source": [
    "np.random.seed(4)\n",
    "print(np.random.randint(10,50,5))"
   ]
  },
  {
   "cell_type": "code",
   "execution_count": 0,
   "metadata": {
    "colab": {},
    "colab_type": "code",
    "collapsed": true,
    "id": "mwWNRaXwgaPj"
   },
   "outputs": [],
   "source": [
    "np.random.random?"
   ]
  },
  {
   "cell_type": "code",
   "execution_count": 0,
   "metadata": {
    "colab": {},
    "colab_type": "code",
    "collapsed": true,
    "id": "DhhTeGdOgaPm"
   },
   "outputs": [],
   "source": [
    "np.random.random(20)"
   ]
  },
  {
   "cell_type": "markdown",
   "metadata": {
    "colab_type": "text",
    "collapsed": true,
    "id": "YkXKKckNgaPo"
   },
   "source": [
    "> **For a given seed we will get same random numbers**"
   ]
  },
  {
   "cell_type": "code",
   "execution_count": 0,
   "metadata": {
    "colab": {},
    "colab_type": "code",
    "id": "wJjJmPudgaPp",
    "outputId": "99990278-5d01-4102-8512-1865380f3774"
   },
   "outputs": [
    {
     "name": "stdout",
     "output_type": "stream",
     "text": [
      "[13 30 15 36 18]\n"
     ]
    }
   ],
   "source": [
    "np.random.seed(8)\n",
    "print(np.random.randint(10,50,5))"
   ]
  },
  {
   "cell_type": "code",
   "execution_count": 0,
   "metadata": {
    "colab": {},
    "colab_type": "code",
    "id": "viRna19xgaPt",
    "outputId": "de450472-a9f3-4c28-cc62-6f7e8b9208ec"
   },
   "outputs": [
    {
     "name": "stdout",
     "output_type": "stream",
     "text": [
      "[13 30 15 36 18]\n"
     ]
    }
   ],
   "source": [
    "np.random.seed(8)\n",
    "print(np.random.randint(10,50,5))"
   ]
  },
  {
   "cell_type": "code",
   "execution_count": 0,
   "metadata": {
    "colab": {},
    "colab_type": "code",
    "id": "KYxc21VqgaPw",
    "outputId": "12ecc8f5-d43e-404d-cab9-3bd236d23c85"
   },
   "outputs": [
    {
     "name": "stdout",
     "output_type": "stream",
     "text": [
      "[13 30 15 36 18]\n"
     ]
    }
   ],
   "source": [
    "np.random.seed(8)\n",
    "print(np.random.randint(10,50,5))"
   ]
  },
  {
   "cell_type": "markdown",
   "metadata": {
    "colab_type": "text",
    "id": "sxxvFEKQgaP0"
   },
   "source": [
    "### 8.Working with linear algebra"
   ]
  },
  {
   "cell_type": "code",
   "execution_count": 0,
   "metadata": {
    "colab": {},
    "colab_type": "code",
    "id": "gWtMMxrSgaP0",
    "outputId": "ca3106fc-52cb-455b-d628-e585dcf16557",
    "scrolled": true
   },
   "outputs": [
    {
     "name": "stdout",
     "output_type": "stream",
     "text": [
      "[[ 0  1  2  3]\n",
      " [ 4  5  6  7]\n",
      " [ 8  9 10 11]]\n"
     ]
    }
   ],
   "source": [
    "# Create a matrix with 0(Inclusive) to 12(Exclusive) integers\n",
    "a = np.arange(12).reshape(3,-1) # -1 means \"whatever is needed\"\n",
    "print(a)"
   ]
  },
  {
   "cell_type": "code",
   "execution_count": 0,
   "metadata": {
    "colab": {},
    "colab_type": "code",
    "id": "f3arhxRQgaP5",
    "outputId": "b98207d4-d455-407e-b7a1-d578b7f41562"
   },
   "outputs": [
    {
     "name": "stdout",
     "output_type": "stream",
     "text": [
      "[[ 2  4  6  8]\n",
      " [10 12 14 16]\n",
      " [18 20 22 24]]\n"
     ]
    }
   ],
   "source": [
    "# Create a matrix with 12 random numbers\n",
    "b = np.arange(2,26,2).reshape(3,-1) # -1 means \"whatever is needed\"\n",
    "print(b)"
   ]
  },
  {
   "cell_type": "code",
   "execution_count": 0,
   "metadata": {
    "colab": {},
    "colab_type": "code",
    "id": "BBx1NpvxgaQD",
    "outputId": "1ba6a3e8-b310-4d1f-fa2e-998eb03d6de0"
   },
   "outputs": [
    {
     "name": "stdout",
     "output_type": "stream",
     "text": [
      "[[ 2  5  8 11]\n",
      " [14 17 20 23]\n",
      " [26 29 32 35]]\n"
     ]
    }
   ],
   "source": [
    "# Add these two matrices\n",
    "print(a+b)"
   ]
  },
  {
   "cell_type": "code",
   "execution_count": 0,
   "metadata": {
    "colab": {},
    "colab_type": "code",
    "id": "-Zear4vFgaQI",
    "outputId": "76b73698-b8ce-48e7-d3c7-4d55fff224a7"
   },
   "outputs": [
    {
     "name": "stdout",
     "output_type": "stream",
     "text": [
      "[[ 2  3  4  5]\n",
      " [ 6  7  8  9]\n",
      " [10 11 12 13]]\n"
     ]
    }
   ],
   "source": [
    "# subtract these two matrices\n",
    "print(b-a)"
   ]
  },
  {
   "cell_type": "code",
   "execution_count": 0,
   "metadata": {
    "colab": {},
    "colab_type": "code",
    "id": "iSwTgNpmgaQP",
    "outputId": "ddfcec6a-5d51-4eb5-b135-64684a345aa2"
   },
   "outputs": [
    {
     "data": {
      "text/plain": [
       "array([[  0,   4,  12,  24],\n",
       "       [ 40,  60,  84, 112],\n",
       "       [144, 180, 220, 264]])"
      ]
     },
     "execution_count": 94,
     "metadata": {
      "tags": []
     },
     "output_type": "execute_result"
    }
   ],
   "source": [
    "# multiply these two matrices\n",
    "a * b"
   ]
  },
  {
   "cell_type": "code",
   "execution_count": 0,
   "metadata": {
    "colab": {},
    "colab_type": "code",
    "id": "vbFSwv9rgaQS",
    "outputId": "45475515-8037-4645-8b00-11286e301121"
   },
   "outputs": [
    {
     "name": "stderr",
     "output_type": "stream",
     "text": [
      "C:\\Anaconda3\\lib\\site-packages\\ipykernel_launcher.py:2: RuntimeWarning: divide by zero encountered in true_divide\n",
      "  \n"
     ]
    },
    {
     "data": {
      "text/plain": [
       "array([[       inf, 4.        , 3.        , 2.66666667],\n",
       "       [2.5       , 2.4       , 2.33333333, 2.28571429],\n",
       "       [2.25      , 2.22222222, 2.2       , 2.18181818]])"
      ]
     },
     "execution_count": 95,
     "metadata": {
      "tags": []
     },
     "output_type": "execute_result"
    }
   ],
   "source": [
    "# divide these two matrices\n",
    "b/a"
   ]
  },
  {
   "cell_type": "markdown",
   "metadata": {
    "colab_type": "text",
    "id": "rt9VpdSlgaQW"
   },
   "source": [
    "### 9. Speedtest: ndarrays vs lists"
   ]
  },
  {
   "cell_type": "code",
   "execution_count": 0,
   "metadata": {
    "colab": {},
    "colab_type": "code",
    "collapsed": true,
    "id": "W2lPvMUbgaQW"
   },
   "outputs": [],
   "source": [
    "from numpy import arange\n",
    "from timeit import Timer\n",
    "size    = 1000000\n",
    "timeits = 1000"
   ]
  },
  {
   "cell_type": "code",
   "execution_count": 0,
   "metadata": {
    "colab": {},
    "colab_type": "code",
    "id": "-fN3lK0xgaQZ",
    "outputId": "6ee9ad49-eb18-413f-cccf-c11c05c1bde5"
   },
   "outputs": [
    {
     "name": "stdout",
     "output_type": "stream",
     "text": [
      "<class 'numpy.ndarray'>\n"
     ]
    }
   ],
   "source": [
    "# create the ndarray with values 0,1,2...,size-1\n",
    "nd_array = arange(size)\n",
    "print( type(nd_array) )"
   ]
  },
  {
   "cell_type": "code",
   "execution_count": 0,
   "metadata": {
    "colab": {},
    "colab_type": "code",
    "id": "JJGMypYngaQe",
    "outputId": "4c972393-7402-451e-f3b8-35ef33134e40"
   },
   "outputs": [
    {
     "data": {
      "text/plain": [
       "(0, 999999, 1000000)"
      ]
     },
     "execution_count": 98,
     "metadata": {
      "tags": []
     },
     "output_type": "execute_result"
    }
   ],
   "source": [
    "min(nd_array),max(nd_array),len(nd_array)"
   ]
  },
  {
   "cell_type": "code",
   "execution_count": 0,
   "metadata": {
    "colab": {},
    "colab_type": "code",
    "id": "wThPgebfgaQj",
    "outputId": "f3807873-022d-442c-c630-8d276ccb716d"
   },
   "outputs": [
    {
     "name": "stdout",
     "output_type": "stream",
     "text": [
      "Time taken by numpy ndarray: 0.000698 seconds\n"
     ]
    }
   ],
   "source": [
    "# timer expects the operation as a parameter, \n",
    "# here we pass nd_array.sum()\n",
    "timer_numpy = Timer(\"nd_array.sum()\", \"from __main__ import nd_array\")\n",
    "\n",
    "print(\"Time taken by numpy ndarray: %f seconds\" % \n",
    "      (timer_numpy.timeit(timeits)/timeits))"
   ]
  },
  {
   "cell_type": "code",
   "execution_count": 0,
   "metadata": {
    "colab": {},
    "colab_type": "code",
    "id": "h1OD2ytigaQm",
    "outputId": "3610ce32-9b4a-45d0-90a1-33211e0bf391"
   },
   "outputs": [
    {
     "name": "stdout",
     "output_type": "stream",
     "text": [
      "<class 'list'>\n"
     ]
    }
   ],
   "source": [
    "# create the list with values 0,1,2...,size-1\n",
    "a_list = list(range(size))\n",
    "print (type(a_list) )"
   ]
  },
  {
   "cell_type": "code",
   "execution_count": 0,
   "metadata": {
    "colab": {},
    "colab_type": "code",
    "id": "2YddWjmGgaQq",
    "outputId": "bf9e060b-b647-4f96-890e-e09e0f35623a"
   },
   "outputs": [
    {
     "data": {
      "text/plain": [
       "(0, 999999, 1000000)"
      ]
     },
     "execution_count": 102,
     "metadata": {
      "tags": []
     },
     "output_type": "execute_result"
    }
   ],
   "source": [
    "min(a_list),max(a_list),len(a_list)"
   ]
  },
  {
   "cell_type": "code",
   "execution_count": 0,
   "metadata": {
    "colab": {},
    "colab_type": "code",
    "id": "DopIzYDZgaQu",
    "outputId": "739e5bf4-dae1-4dab-fab2-fa16ccf01423"
   },
   "outputs": [
    {
     "name": "stdout",
     "output_type": "stream",
     "text": [
      "Time taken by list:  0.039344 seconds\n"
     ]
    }
   ],
   "source": [
    "# timer expects the operation as a parameter, here we pass sum(a_list)\n",
    "timer_list = Timer(\"sum(a_list)\", \"from __main__ import a_list\")\n",
    "\n",
    "print(\"Time taken by list:  %f seconds\" % \n",
    "      (timer_list.timeit(timeits)/timeits))"
   ]
  },
  {
   "cell_type": "markdown",
   "metadata": {
    "colab_type": "text",
    "id": "wEq8t_k7gaQx"
   },
   "source": [
    "> np array is faster then list"
   ]
  },
  {
   "cell_type": "markdown",
   "metadata": {
    "colab_type": "text",
    "id": "9y47GPwlgaQy"
   },
   "source": [
    "### 10.Read or Write to Disk"
   ]
  },
  {
   "cell_type": "markdown",
   "metadata": {
    "colab_type": "text",
    "id": "1kgwxZMXgaQz"
   },
   "source": [
    "#### 10.1 Binary Format:"
   ]
  },
  {
   "cell_type": "code",
   "execution_count": 0,
   "metadata": {
    "colab": {},
    "colab_type": "code",
    "collapsed": true,
    "id": "gowObWu7gaQ1"
   },
   "outputs": [],
   "source": [
    "x = np.array([ 23.23, 24.24] )"
   ]
  },
  {
   "cell_type": "code",
   "execution_count": 0,
   "metadata": {
    "colab": {},
    "colab_type": "code",
    "collapsed": true,
    "id": "6EONZvwkgaQ3"
   },
   "outputs": [],
   "source": [
    "x"
   ]
  },
  {
   "cell_type": "code",
   "execution_count": 0,
   "metadata": {
    "colab": {},
    "colab_type": "code",
    "collapsed": true,
    "id": "4h3w6-XegaQ7"
   },
   "outputs": [],
   "source": [
    "import os\n",
    "os.getcwd()"
   ]
  },
  {
   "cell_type": "code",
   "execution_count": 0,
   "metadata": {
    "colab": {},
    "colab_type": "code",
    "collapsed": true,
    "id": "HehgJZpIgaQ-"
   },
   "outputs": [],
   "source": [
    "np.save('an_array', x) # observe file in current working directory"
   ]
  },
  {
   "cell_type": "code",
   "execution_count": 0,
   "metadata": {
    "colab": {},
    "colab_type": "code",
    "collapsed": true,
    "id": "2z3YF-iNgaRB"
   },
   "outputs": [],
   "source": [
    "np.load('an_array.npy')"
   ]
  },
  {
   "cell_type": "markdown",
   "metadata": {
    "colab_type": "text",
    "id": "i6kdy3UhgaRE"
   },
   "source": [
    "#### 10.2 Text Format:"
   ]
  },
  {
   "cell_type": "code",
   "execution_count": 0,
   "metadata": {
    "colab": {},
    "colab_type": "code",
    "collapsed": true,
    "id": "_zuBbj_wgaRE"
   },
   "outputs": [],
   "source": [
    "np.savetxt('array.txt', X=x, delimiter=',') # writeing on to disk"
   ]
  },
  {
   "cell_type": "code",
   "execution_count": 0,
   "metadata": {
    "colab": {},
    "colab_type": "code",
    "collapsed": true,
    "id": "LLKii4b-gaRH"
   },
   "outputs": [],
   "source": [
    "np.loadtxt('array.txt', delimiter=',') # reading from disk"
   ]
  },
  {
   "cell_type": "markdown",
   "metadata": {
    "colab": {},
    "colab_type": "code",
    "collapsed": true,
    "id": "YJEeUJhkgaRJ"
   },
   "source": [
    "# home Work"
   ]
  },
  {
   "cell_type": "markdown",
   "metadata": {},
   "source": [
    "https://docs.scipy.org/doc/numpy/user/quickstart.html"
   ]
  },
  {
   "cell_type": "code",
   "execution_count": null,
   "metadata": {},
   "outputs": [],
   "source": []
  }
 ],
 "metadata": {
  "colab": {
   "name": "DS01_01_Numpy package.ipynb",
   "provenance": [],
   "version": "0.3.2"
  },
  "kernelspec": {
   "display_name": "Python 3",
   "language": "python",
   "name": "python3"
  },
  "language_info": {
   "codemirror_mode": {
    "name": "ipython",
    "version": 3
   },
   "file_extension": ".py",
   "mimetype": "text/x-python",
   "name": "python",
   "nbconvert_exporter": "python",
   "pygments_lexer": "ipython3",
   "version": "3.6.8"
  }
 },
 "nbformat": 4,
 "nbformat_minor": 1
}
