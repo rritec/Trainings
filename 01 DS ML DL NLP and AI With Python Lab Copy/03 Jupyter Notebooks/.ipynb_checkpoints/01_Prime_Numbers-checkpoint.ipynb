{
 "cells": [
  {
   "cell_type": "markdown",
   "metadata": {},
   "source": [
    "# Prime Numbers:\n",
    "---\n",
    "- A prime number is a whole number greater than 1 whose only factors are 1 and itself.\n",
    "- ![pn](https://github.com/rritec/datahexa/blob/master/images/prime%20numbers.jpg?raw=true)"
   ]
  },
  {
   "cell_type": "code",
   "execution_count": 6,
   "metadata": {},
   "outputs": [
    {
     "name": "stdout",
     "output_type": "stream",
     "text": [
      "Upto what number you need prime numbers : 100\n",
      " 2  3  5  7  11  13  17  19  23  29  31  37  41  43  47  53  59  61  67  71  73  79  83  89  97 "
     ]
    }
   ],
   "source": [
    "x=int(input(\"Upto what number you need prime numbers : \"))\n",
    "for n in range(2,x):\n",
    "    count = 0\n",
    "    for i in range(2,n//2+1):\n",
    "        if(n % i == 0):\n",
    "            count = count+1\n",
    "            break            \n",
    "    if(count == 0 and n !=1):\n",
    "        print(\" %d\" %n, end = \" \")"
   ]
  },
  {
   "cell_type": "code",
   "execution_count": null,
   "metadata": {
    "collapsed": true
   },
   "outputs": [],
   "source": []
  }
 ],
 "metadata": {
  "kernelspec": {
   "display_name": "Python 3",
   "language": "python",
   "name": "python3"
  },
  "language_info": {
   "codemirror_mode": {
    "name": "ipython",
    "version": 3
   },
   "file_extension": ".py",
   "mimetype": "text/x-python",
   "name": "python",
   "nbconvert_exporter": "python",
   "pygments_lexer": "ipython3",
   "version": "3.6.3"
  }
 },
 "nbformat": 4,
 "nbformat_minor": 2
}
