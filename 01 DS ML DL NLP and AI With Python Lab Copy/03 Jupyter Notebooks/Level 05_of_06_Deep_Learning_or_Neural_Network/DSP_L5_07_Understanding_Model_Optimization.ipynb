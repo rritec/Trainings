{
 "cells": [
  {
   "cell_type": "markdown",
   "metadata": {},
   "source": [
    "# Understanding `Model Optimization` (Learning Rate)\n",
    "----\n",
    "1. Why optimization is hard in deep learning ?\n",
    "    - Simultaneously optimizing 1000s of parameters with complex relationships\n",
    "    - Updates may not improve model meaningfully\n",
    "    - Updates too small (if learning rate is low) or too large (if learning rate is high)\n",
    "- **Scenario:** Try to optimize a model at a very low learning rate, a very high learning rate, and a `just right` learning rate.\n",
    "- We need to look at the results after running this exercise, `remembering that a low value for the loss function is good `"
   ]
  },
  {
   "cell_type": "markdown",
   "metadata": {},
   "source": [
    "## 1. Exercise 1: Let us optimize using <code> Stochastic Gradient Descent</code>"
   ]
  },
  {
   "cell_type": "markdown",
   "metadata": {},
   "source": [
    "### 1.1 Step 1 of 3: Get Data"
   ]
  },
  {
   "cell_type": "code",
   "execution_count": 12,
   "metadata": {},
   "outputs": [],
   "source": [
    "# Get data\n",
    "\n",
    "import pandas as pd\n",
    "from keras.utils import to_categorical\n",
    "\n",
    "df = pd.read_csv(\"titanic_all_numeric_train.csv\")\n",
    "X_train = df.drop(['survived'], axis=1).values\n",
    "y_train = to_categorical(df.survived)\n",
    "df = pd.read_csv(\"titanic_all_numeric_test.csv\")\n",
    "X_test= df.drop(['survived'], axis=1).values\n",
    "y_test = to_categorical(df.survived)"
   ]
  },
  {
   "cell_type": "code",
   "execution_count": 13,
   "metadata": {},
   "outputs": [],
   "source": [
    "n_features=X_train.shape[1]"
   ]
  },
  {
   "cell_type": "code",
   "execution_count": 14,
   "metadata": {},
   "outputs": [
    {
     "data": {
      "text/plain": [
       "10"
      ]
     },
     "execution_count": 14,
     "metadata": {},
     "output_type": "execute_result"
    }
   ],
   "source": [
    "n_features"
   ]
  },
  {
   "cell_type": "markdown",
   "metadata": {},
   "source": [
    "### 1.2.  Step 2 of 3: Create model as a function to loop from starting"
   ]
  },
  {
   "cell_type": "code",
   "execution_count": 15,
   "metadata": {},
   "outputs": [],
   "source": [
    "def get_new_model(input_dim = n_features):\n",
    "    model = Sequential()\n",
    "    model.add(Dense(100, activation='relu', input_dim = n_features)) # 1 hidden + 1 Input layer\n",
    "    model.add(Dense(100, activation='relu')) # 2nd hidden layer\n",
    "    model.add(Dense(2, activation='softmax')) # output layer\n",
    "    return(model)"
   ]
  },
  {
   "cell_type": "markdown",
   "metadata": {},
   "source": [
    "### 1.3. Step 3 of 3: Changing optimization parameters"
   ]
  },
  {
   "cell_type": "code",
   "execution_count": 5,
   "metadata": {},
   "outputs": [
    {
     "name": "stderr",
     "output_type": "stream",
     "text": [
      "Using TensorFlow backend.\n"
     ]
    }
   ],
   "source": [
    "# Import the SGD optimizer\n",
    "from keras.models import  Sequential\n",
    "from keras.layers import Dense\n",
    "from keras.optimizers import SGD"
   ]
  },
  {
   "cell_type": "code",
   "execution_count": 6,
   "metadata": {},
   "outputs": [],
   "source": [
    "# Create list of learning rates: lr_to_test\n",
    "lr_to_test = [.000001, 0.01, 1]"
   ]
  },
  {
   "cell_type": "code",
   "execution_count": 30,
   "metadata": {},
   "outputs": [
    {
     "name": "stdout",
     "output_type": "stream",
     "text": [
      "\n",
      "\n",
      "\n",
      "Testing model with learning rate: 1e-06\n",
      "\n",
      "\n",
      "Epoch 1/10\n",
      "891/891 [==============================] - 1s 1ms/step - loss: 2.8309 - acc: 0.6162\n",
      "Epoch 2/10\n",
      "891/891 [==============================] - 0s 56us/step - loss: 2.8214 - acc: 0.6162\n",
      "Epoch 3/10\n",
      "891/891 [==============================] - 0s 56us/step - loss: 2.8118 - acc: 0.6162\n",
      "Epoch 4/10\n",
      "891/891 [==============================] - 0s 51us/step - loss: 2.8022 - acc: 0.6162\n",
      "Epoch 5/10\n",
      "891/891 [==============================] - 0s 53us/step - loss: 2.7926 - acc: 0.6162\n",
      "Epoch 6/10\n",
      "891/891 [==============================] - 0s 51us/step - loss: 2.7829 - acc: 0.6162\n",
      "Epoch 7/10\n",
      "891/891 [==============================] - 0s 50us/step - loss: 2.7731 - acc: 0.6162\n",
      "Epoch 8/10\n",
      "891/891 [==============================] - 0s 57us/step - loss: 2.7633 - acc: 0.6162\n",
      "Epoch 9/10\n",
      "891/891 [==============================] - 0s 52us/step - loss: 2.7534 - acc: 0.6162\n",
      "Epoch 10/10\n",
      "891/891 [==============================] - 0s 57us/step - loss: 2.7435 - acc: 0.6162\n",
      "\n",
      "\n",
      "\n",
      "Testing model with learning rate: 0.01\n",
      "\n",
      "\n",
      "Epoch 1/10\n",
      "891/891 [==============================] - 1s 1ms/step - loss: 1.9167 - acc: 0.6184\n",
      "Epoch 2/10\n",
      "891/891 [==============================] - 0s 54us/step - loss: 0.8202 - acc: 0.6453\n",
      "Epoch 3/10\n",
      "891/891 [==============================] - 0s 54us/step - loss: 0.6477 - acc: 0.6622\n",
      "Epoch 4/10\n",
      "891/891 [==============================] - 0s 54us/step - loss: 0.6162 - acc: 0.6633\n",
      "Epoch 5/10\n",
      "891/891 [==============================] - 0s 53us/step - loss: 0.6233 - acc: 0.6813\n",
      "Epoch 6/10\n",
      "891/891 [==============================] - 0s 53us/step - loss: 0.6097 - acc: 0.6835\n",
      "Epoch 7/10\n",
      "891/891 [==============================] - 0s 54us/step - loss: 0.6246 - acc: 0.6712\n",
      "Epoch 8/10\n",
      "891/891 [==============================] - 0s 54us/step - loss: 0.5957 - acc: 0.6936\n",
      "Epoch 9/10\n",
      "891/891 [==============================] - 0s 51us/step - loss: 0.5867 - acc: 0.7093\n",
      "Epoch 10/10\n",
      "891/891 [==============================] - 0s 49us/step - loss: 0.5965 - acc: 0.6981\n",
      "\n",
      "\n",
      "\n",
      "Testing model with learning rate: 1\n",
      "\n",
      "\n",
      "Epoch 1/10\n",
      "891/891 [==============================] - 1s 2ms/step - loss: 6.0145 - acc: 0.6094\n",
      "Epoch 2/10\n",
      "891/891 [==============================] - 0s 85us/step - loss: 6.1867 - acc: 0.6162\n",
      "Epoch 3/10\n",
      "891/891 [==============================] - 0s 81us/step - loss: 6.1867 - acc: 0.6162\n",
      "Epoch 4/10\n",
      "891/891 [==============================] - 0s 90us/step - loss: 6.1867 - acc: 0.6162\n",
      "Epoch 5/10\n",
      "891/891 [==============================] - 0s 86us/step - loss: 6.1867 - acc: 0.6162\n",
      "Epoch 6/10\n",
      "891/891 [==============================] - 0s 91us/step - loss: 6.1867 - acc: 0.6162\n",
      "Epoch 7/10\n",
      "891/891 [==============================] - 0s 82us/step - loss: 6.1867 - acc: 0.6162\n",
      "Epoch 8/10\n",
      "891/891 [==============================] - 0s 82us/step - loss: 6.1867 - acc: 0.6162\n",
      "Epoch 9/10\n",
      "891/891 [==============================] - 0s 80us/step - loss: 6.1867 - acc: 0.6162\n",
      "Epoch 10/10\n",
      "891/891 [==============================] - 0s 72us/step - loss: 6.1867 - acc: 0.6162\n"
     ]
    }
   ],
   "source": [
    "# Loop over learning rates\n",
    "for lr in lr_to_test:\n",
    "    print(f'\\n\\n\\nTesting model with learning rate: {lr}\\n\\n' )    \n",
    "    # Build new model to test, unaffected by previous models\n",
    "    model = get_new_model()    \n",
    "    # Create SGD optimizer with specified learning rate: my_optimizer\n",
    "    my_optimizer = SGD(lr=lr)    \n",
    "    # Compile the model\n",
    "    model.compile(optimizer=my_optimizer, \n",
    "                  loss='categorical_crossentropy', \n",
    "                  metrics=['accuracy'])    \n",
    "    # Fit the model\n",
    "    model.fit(X_train, y_train,epochs=10,verbose=1)"
   ]
  },
  {
   "cell_type": "markdown",
   "metadata": {},
   "source": [
    "1. By observing above result which learning rate is good ?\n",
    "    \n",
    "    - <input type=\"radio\" disabled> 0.000001\n",
    "    - <input type=\"radio\" disabled checked> 0.01\n",
    "    - <input type=\"radio\" disabled> 1\n",
    "    - <input type=\"radio\" disabled> None of the above\n",
    "\n"
   ]
  },
  {
   "cell_type": "markdown",
   "metadata": {},
   "source": [
    "2. Which of the following could prevent a model from showing an improved loss in its `first few epochs`?\n",
    "\n",
    "    - <input type=\"radio\" disabled> Learning rate too low\n",
    "    - <input type=\"radio\" disabled> Learning rate too high\n",
    "    - <input type=\"radio\" disabled> Poor choice of activation function\n",
    "    - <input type=\"radio\" disabled checked> All of the above\n",
    "\n"
   ]
  },
  {
   "cell_type": "code",
   "execution_count": null,
   "metadata": {
    "collapsed": true
   },
   "outputs": [],
   "source": []
  }
 ],
 "metadata": {
  "kernelspec": {
   "display_name": "Python 3",
   "language": "python",
   "name": "python3"
  },
  "language_info": {
   "codemirror_mode": {
    "name": "ipython",
    "version": 3
   },
   "file_extension": ".py",
   "mimetype": "text/x-python",
   "name": "python",
   "nbconvert_exporter": "python",
   "pygments_lexer": "ipython3",
   "version": "3.6.9"
  }
 },
 "nbformat": 4,
 "nbformat_minor": 2
}
