{
 "cells": [
  {
   "cell_type": "markdown",
   "metadata": {},
   "source": [
    "# Creating Classification Models using<code> Keras & TensorFlow</code>\n",
    "----\n",
    "1. Use <code>categorical_crossentropy</code> as loss function for multi-class classification\n",
    "1. Use <code>binary_crossentropy</code> as loss function for binary classification \n",
    "- Similar to log loss: **Lower is better**\n",
    "- Add <code>metrics = ['accuracy']</code> to compile step for easy-to-understand diagnostics\n",
    "- Output layer should has separate node for each possible outcome\n",
    "-uses <code>softmax</code> for multi class and `sigmoid` for binary activation"
   ]
  },
  {
   "cell_type": "markdown",
   "metadata": {},
   "source": [
    "## Scenerio: Predict survival on the Titanic disaster\n",
    "1. Modelling with a dataset \"Titanic\" for a classification problem\n",
    "- You will use predictors/inputs such as \n",
    "    - age\n",
    "    - fare\n",
    "    - embarked\n",
    "    - .. etc to predict who will survive.\n",
    "- [Refer more information from kaggle](https://www.kaggle.com/startupsci/titanic-data-science-solutions/notebook)\n"
   ]
  },
  {
   "cell_type": "markdown",
   "metadata": {},
   "source": [
    "### 1. Import required modules"
   ]
  },
  {
   "cell_type": "code",
   "execution_count": 2,
   "metadata": {},
   "outputs": [
    {
     "name": "stderr",
     "output_type": "stream",
     "text": [
      "Using TensorFlow backend.\n"
     ]
    }
   ],
   "source": [
    "import pandas as pd\n",
    "from keras.utils import to_categorical\n",
    "\n",
    "# define Architecture\n",
    "from keras.models import Sequential\n",
    "from keras.layers import Dense\n",
    "\n",
    "# for Model Vizulization\n",
    "from IPython.display import SVG\n",
    "from keras.utils.vis_utils import model_to_dot"
   ]
  },
  {
   "cell_type": "markdown",
   "metadata": {},
   "source": [
    "### 2. Import the train and test data from different csv files"
   ]
  },
  {
   "cell_type": "markdown",
   "metadata": {},
   "source": [
    "#### 2.1 Load Train Data"
   ]
  },
  {
   "cell_type": "code",
   "execution_count": 4,
   "metadata": {},
   "outputs": [],
   "source": [
    "# Read Training data\n",
    "df = pd.read_csv(\"titanic_all_numeric_train.csv\")\n",
    "\n",
    "####  Separate X_train and y_train\n",
    "# create X_train and creat 2d numpy array\n",
    "X_train = df.drop(['survived'], axis=1).values\n",
    "\n",
    "# create y_train and creat 2d numpy array\n",
    "y_train = to_categorical(df.survived)"
   ]
  },
  {
   "cell_type": "code",
   "execution_count": 7,
   "metadata": {},
   "outputs": [
    {
     "data": {
      "text/plain": [
       "10"
      ]
     },
     "execution_count": 7,
     "metadata": {},
     "output_type": "execute_result"
    }
   ],
   "source": [
    "# Save the number of input columns: n_cols\n",
    "n_cols = X_train.shape[1]\n",
    "n_cols"
   ]
  },
  {
   "cell_type": "markdown",
   "metadata": {},
   "source": [
    "#### 2.2 Load Test Data"
   ]
  },
  {
   "cell_type": "code",
   "execution_count": 8,
   "metadata": {},
   "outputs": [],
   "source": [
    "df = pd.read_csv(\"titanic_all_numeric_test.csv\")\n",
    "\n",
    "# create X_test and creat 2d numpy array\n",
    "X_test = df.drop(['survived'], axis=1).values\n",
    "\n",
    "# create y_test and creat 2d numpy array\n",
    "y_test= to_categorical(df.survived)"
   ]
  },
  {
   "cell_type": "markdown",
   "metadata": {},
   "source": [
    "### 3. Define Architecture of the model"
   ]
  },
  {
   "cell_type": "code",
   "execution_count": 9,
   "metadata": {},
   "outputs": [
    {
     "name": "stderr",
     "output_type": "stream",
     "text": [
      "W1028 12:02:33.721199   960 deprecation_wrapper.py:119] From C:\\Users\\ramreddymyla\\Anaconda3\\envs\\dl\\lib\\site-packages\\keras\\backend\\tensorflow_backend.py:517: The name tf.placeholder is deprecated. Please use tf.compat.v1.placeholder instead.\n",
      "\n",
      "W1028 12:02:33.725165   960 deprecation_wrapper.py:119] From C:\\Users\\ramreddymyla\\Anaconda3\\envs\\dl\\lib\\site-packages\\keras\\backend\\tensorflow_backend.py:4138: The name tf.random_uniform is deprecated. Please use tf.random.uniform instead.\n",
      "\n"
     ]
    }
   ],
   "source": [
    "# Set up the model\n",
    "model = Sequential()\n",
    "\n",
    "# Add the first hidden layer and input layer\n",
    "model.add(Dense(32,activation='relu',input_shape=(n_cols,),name=\"Input_1stHiddenlayer\"))\n",
    "\n",
    "# Add the output layer\n",
    "model.add(Dense(2,activation='softmax',name =\"output_layer\"))"
   ]
  },
  {
   "cell_type": "code",
   "execution_count": 10,
   "metadata": {},
   "outputs": [
    {
     "data": {
      "image/svg+xml": [
       "<svg height=\"211pt\" viewBox=\"0.00 0.00 319.00 211.00\" width=\"319pt\" xmlns=\"http://www.w3.org/2000/svg\" xmlns:xlink=\"http://www.w3.org/1999/xlink\">\n",
       "<g class=\"graph\" id=\"graph0\" transform=\"scale(1 1) rotate(0) translate(4 207)\">\n",
       "<title>G</title>\n",
       "<polygon fill=\"white\" points=\"-4,4 -4,-207 315,-207 315,4 -4,4\" stroke=\"none\"/>\n",
       "<!-- 2135707224664 -->\n",
       "<g class=\"node\" id=\"node1\"><title>2135707224664</title>\n",
       "<polygon fill=\"none\" points=\"0,-83.5 0,-129.5 311,-129.5 311,-83.5 0,-83.5\" stroke=\"black\"/>\n",
       "<text font-family=\"Times New Roman,serif\" font-size=\"14.00\" text-anchor=\"middle\" x=\"89\" y=\"-102.8\">Input_1stHiddenlayer: Dense</text>\n",
       "<polyline fill=\"none\" points=\"178,-83.5 178,-129.5 \" stroke=\"black\"/>\n",
       "<text font-family=\"Times New Roman,serif\" font-size=\"14.00\" text-anchor=\"middle\" x=\"206\" y=\"-114.3\">input:</text>\n",
       "<polyline fill=\"none\" points=\"178,-106.5 234,-106.5 \" stroke=\"black\"/>\n",
       "<text font-family=\"Times New Roman,serif\" font-size=\"14.00\" text-anchor=\"middle\" x=\"206\" y=\"-91.3\">output:</text>\n",
       "<polyline fill=\"none\" points=\"234,-83.5 234,-129.5 \" stroke=\"black\"/>\n",
       "<text font-family=\"Times New Roman,serif\" font-size=\"14.00\" text-anchor=\"middle\" x=\"272.5\" y=\"-114.3\">(None, 10)</text>\n",
       "<polyline fill=\"none\" points=\"234,-106.5 311,-106.5 \" stroke=\"black\"/>\n",
       "<text font-family=\"Times New Roman,serif\" font-size=\"14.00\" text-anchor=\"middle\" x=\"272.5\" y=\"-91.3\">(None, 32)</text>\n",
       "</g>\n",
       "<!-- 2135707225672 -->\n",
       "<g class=\"node\" id=\"node2\"><title>2135707225672</title>\n",
       "<polygon fill=\"none\" points=\"25,-0.5 25,-46.5 286,-46.5 286,-0.5 25,-0.5\" stroke=\"black\"/>\n",
       "<text font-family=\"Times New Roman,serif\" font-size=\"14.00\" text-anchor=\"middle\" x=\"89\" y=\"-19.8\">output_layer: Dense</text>\n",
       "<polyline fill=\"none\" points=\"153,-0.5 153,-46.5 \" stroke=\"black\"/>\n",
       "<text font-family=\"Times New Roman,serif\" font-size=\"14.00\" text-anchor=\"middle\" x=\"181\" y=\"-31.3\">input:</text>\n",
       "<polyline fill=\"none\" points=\"153,-23.5 209,-23.5 \" stroke=\"black\"/>\n",
       "<text font-family=\"Times New Roman,serif\" font-size=\"14.00\" text-anchor=\"middle\" x=\"181\" y=\"-8.3\">output:</text>\n",
       "<polyline fill=\"none\" points=\"209,-0.5 209,-46.5 \" stroke=\"black\"/>\n",
       "<text font-family=\"Times New Roman,serif\" font-size=\"14.00\" text-anchor=\"middle\" x=\"247.5\" y=\"-31.3\">(None, 32)</text>\n",
       "<polyline fill=\"none\" points=\"209,-23.5 286,-23.5 \" stroke=\"black\"/>\n",
       "<text font-family=\"Times New Roman,serif\" font-size=\"14.00\" text-anchor=\"middle\" x=\"247.5\" y=\"-8.3\">(None, 2)</text>\n",
       "</g>\n",
       "<!-- 2135707224664&#45;&gt;2135707225672 -->\n",
       "<g class=\"edge\" id=\"edge2\"><title>2135707224664-&gt;2135707225672</title>\n",
       "<path d=\"M155.5,-83.3664C155.5,-75.1516 155.5,-65.6579 155.5,-56.7252\" fill=\"none\" stroke=\"black\"/>\n",
       "<polygon fill=\"black\" points=\"159,-56.6068 155.5,-46.6068 152,-56.6069 159,-56.6068\" stroke=\"black\"/>\n",
       "</g>\n",
       "<!-- 2135707225392 -->\n",
       "<g class=\"node\" id=\"node3\"><title>2135707225392</title>\n",
       "<polygon fill=\"none\" points=\"103.5,-166.5 103.5,-202.5 207.5,-202.5 207.5,-166.5 103.5,-166.5\" stroke=\"black\"/>\n",
       "<text font-family=\"Times New Roman,serif\" font-size=\"14.00\" text-anchor=\"middle\" x=\"155.5\" y=\"-180.8\">2135707225392</text>\n",
       "</g>\n",
       "<!-- 2135707225392&#45;&gt;2135707224664 -->\n",
       "<g class=\"edge\" id=\"edge1\"><title>2135707225392-&gt;2135707224664</title>\n",
       "<path d=\"M155.5,-166.254C155.5,-158.363 155.5,-148.749 155.5,-139.602\" fill=\"none\" stroke=\"black\"/>\n",
       "<polygon fill=\"black\" points=\"159,-139.591 155.5,-129.591 152,-139.591 159,-139.591\" stroke=\"black\"/>\n",
       "</g>\n",
       "</g>\n",
       "</svg>"
      ],
      "text/plain": [
       "<IPython.core.display.SVG object>"
      ]
     },
     "execution_count": 10,
     "metadata": {},
     "output_type": "execute_result"
    }
   ],
   "source": [
    "SVG(model_to_dot(model,show_shapes=True, show_layer_names=True,).create(prog='dot', format='svg'))"
   ]
  },
  {
   "cell_type": "markdown",
   "metadata": {},
   "source": [
    "### 4. Compile the model"
   ]
  },
  {
   "cell_type": "code",
   "execution_count": 12,
   "metadata": {},
   "outputs": [],
   "source": [
    "# Compile the model\n",
    "model.compile(optimizer='sgd', \n",
    "              loss='binary_crossentropy', \n",
    "              metrics=['accuracy'])"
   ]
  },
  {
   "cell_type": "markdown",
   "metadata": {},
   "source": [
    "### 5. Fit /Train the model"
   ]
  },
  {
   "cell_type": "code",
   "execution_count": 14,
   "metadata": {},
   "outputs": [
    {
     "name": "stdout",
     "output_type": "stream",
     "text": [
      "Epoch 1/100\n",
      "891/891 [==============================] - 0s 44us/step - loss: 0.5999 - acc: 0.7104\n",
      "Epoch 2/100\n",
      "891/891 [==============================] - 0s 60us/step - loss: 0.5981 - acc: 0.6947\n",
      "Epoch 3/100\n",
      "891/891 [==============================] - 0s 47us/step - loss: 0.5893 - acc: 0.6880\n",
      "Epoch 4/100\n",
      "891/891 [==============================] - 0s 40us/step - loss: 0.5786 - acc: 0.7071\n",
      "Epoch 5/100\n",
      "891/891 [==============================] - 0s 39us/step - loss: 0.5901 - acc: 0.6857\n",
      "Epoch 6/100\n",
      "891/891 [==============================] - 0s 40us/step - loss: 0.5853 - acc: 0.6970\n",
      "Epoch 7/100\n",
      "891/891 [==============================] - 0s 38us/step - loss: 0.5721 - acc: 0.6992\n",
      "Epoch 8/100\n",
      "891/891 [==============================] - 0s 48us/step - loss: 0.5737 - acc: 0.7071\n",
      "Epoch 9/100\n",
      "891/891 [==============================] - 0s 45us/step - loss: 0.5742 - acc: 0.7149\n",
      "Epoch 10/100\n",
      "891/891 [==============================] - 0s 47us/step - loss: 0.5752 - acc: 0.7026\n",
      "Epoch 11/100\n",
      "891/891 [==============================] - 0s 43us/step - loss: 0.5700 - acc: 0.7104\n",
      "Epoch 12/100\n",
      "891/891 [==============================] - 0s 46us/step - loss: 0.5773 - acc: 0.7093\n",
      "Epoch 13/100\n",
      "891/891 [==============================] - 0s 46us/step - loss: 0.5669 - acc: 0.7116\n",
      "Epoch 14/100\n",
      "891/891 [==============================] - 0s 49us/step - loss: 0.5622 - acc: 0.7138\n",
      "Epoch 15/100\n",
      "891/891 [==============================] - 0s 36us/step - loss: 0.5802 - acc: 0.6902\n",
      "Epoch 16/100\n",
      "891/891 [==============================] - 0s 47us/step - loss: 0.5615 - acc: 0.7127\n",
      "Epoch 17/100\n",
      "891/891 [==============================] - 0s 48us/step - loss: 0.5731 - acc: 0.6992\n",
      "Epoch 18/100\n",
      "891/891 [==============================] - 0s 43us/step - loss: 0.5588 - acc: 0.7273\n",
      "Epoch 19/100\n",
      "891/891 [==============================] - 0s 47us/step - loss: 0.5529 - acc: 0.7149\n",
      "Epoch 20/100\n",
      "891/891 [==============================] - 0s 43us/step - loss: 0.5577 - acc: 0.7059\n",
      "Epoch 21/100\n",
      "891/891 [==============================] - 0s 48us/step - loss: 0.5710 - acc: 0.7183\n",
      "Epoch 22/100\n",
      "891/891 [==============================] - 0s 47us/step - loss: 0.5580 - acc: 0.7217\n",
      "Epoch 23/100\n",
      "891/891 [==============================] - 0s 42us/step - loss: 0.5628 - acc: 0.7116\n",
      "Epoch 24/100\n",
      "891/891 [==============================] - 0s 46us/step - loss: 0.5797 - acc: 0.7127\n",
      "Epoch 25/100\n",
      "891/891 [==============================] - 0s 48us/step - loss: 0.5647 - acc: 0.7116\n",
      "Epoch 26/100\n",
      "891/891 [==============================] - 0s 43us/step - loss: 0.5577 - acc: 0.7127\n",
      "Epoch 27/100\n",
      "891/891 [==============================] - 0s 42us/step - loss: 0.5515 - acc: 0.7284\n",
      "Epoch 28/100\n",
      "891/891 [==============================] - 0s 45us/step - loss: 0.5554 - acc: 0.7116\n",
      "Epoch 29/100\n",
      "891/891 [==============================] - 0s 39us/step - loss: 0.5674 - acc: 0.7183\n",
      "Epoch 30/100\n",
      "891/891 [==============================] - 0s 40us/step - loss: 0.5604 - acc: 0.7160\n",
      "Epoch 31/100\n",
      "891/891 [==============================] - 0s 45us/step - loss: 0.5582 - acc: 0.7239\n",
      "Epoch 32/100\n",
      "891/891 [==============================] - 0s 42us/step - loss: 0.5543 - acc: 0.7306\n",
      "Epoch 33/100\n",
      "891/891 [==============================] - 0s 47us/step - loss: 0.5653 - acc: 0.7228\n",
      "Epoch 34/100\n",
      "891/891 [==============================] - 0s 51us/step - loss: 0.5489 - acc: 0.7329\n",
      "Epoch 35/100\n",
      "891/891 [==============================] - 0s 43us/step - loss: 0.5658 - acc: 0.7138\n",
      "Epoch 36/100\n",
      "891/891 [==============================] - 0s 47us/step - loss: 0.5568 - acc: 0.7183\n",
      "Epoch 37/100\n",
      "891/891 [==============================] - 0s 44us/step - loss: 0.5492 - acc: 0.7172\n",
      "Epoch 38/100\n",
      "891/891 [==============================] - 0s 39us/step - loss: 0.5533 - acc: 0.7194\n",
      "Epoch 39/100\n",
      "891/891 [==============================] - 0s 39us/step - loss: 0.5462 - acc: 0.7318\n",
      "Epoch 40/100\n",
      "891/891 [==============================] - 0s 40us/step - loss: 0.5511 - acc: 0.7306\n",
      "Epoch 41/100\n",
      "891/891 [==============================] - 0s 42us/step - loss: 0.5405 - acc: 0.7396\n",
      "Epoch 42/100\n",
      "891/891 [==============================] - 0s 40us/step - loss: 0.5470 - acc: 0.7262\n",
      "Epoch 43/100\n",
      "891/891 [==============================] - 0s 44us/step - loss: 0.5480 - acc: 0.7239\n",
      "Epoch 44/100\n",
      "891/891 [==============================] - 0s 46us/step - loss: 0.5611 - acc: 0.7127\n",
      "Epoch 45/100\n",
      "891/891 [==============================] - 0s 47us/step - loss: 0.5539 - acc: 0.7250\n",
      "Epoch 46/100\n",
      "891/891 [==============================] - 0s 44us/step - loss: 0.5560 - acc: 0.7329\n",
      "Epoch 47/100\n",
      "891/891 [==============================] - 0s 46us/step - loss: 0.5791 - acc: 0.7239\n",
      "Epoch 48/100\n",
      "891/891 [==============================] - 0s 44us/step - loss: 0.5327 - acc: 0.7452\n",
      "Epoch 49/100\n",
      "891/891 [==============================] - 0s 44us/step - loss: 0.5575 - acc: 0.7363\n",
      "Epoch 50/100\n",
      "891/891 [==============================] - 0s 44us/step - loss: 0.5474 - acc: 0.7340\n",
      "Epoch 51/100\n",
      "891/891 [==============================] - 0s 42us/step - loss: 0.5487 - acc: 0.7306\n",
      "Epoch 52/100\n",
      "891/891 [==============================] - 0s 44us/step - loss: 0.5417 - acc: 0.7093\n",
      "Epoch 53/100\n",
      "891/891 [==============================] - 0s 45us/step - loss: 0.5418 - acc: 0.7430\n",
      "Epoch 54/100\n",
      "891/891 [==============================] - 0s 53us/step - loss: 0.5365 - acc: 0.7475\n",
      "Epoch 55/100\n",
      "891/891 [==============================] - 0s 45us/step - loss: 0.5566 - acc: 0.7295\n",
      "Epoch 56/100\n",
      "891/891 [==============================] - 0s 53us/step - loss: 0.5321 - acc: 0.7464\n",
      "Epoch 57/100\n",
      "891/891 [==============================] - 0s 45us/step - loss: 0.5515 - acc: 0.7441\n",
      "Epoch 58/100\n",
      "891/891 [==============================] - 0s 37us/step - loss: 0.5286 - acc: 0.7475\n",
      "Epoch 59/100\n",
      "891/891 [==============================] - 0s 44us/step - loss: 0.5297 - acc: 0.7239\n",
      "Epoch 60/100\n",
      "891/891 [==============================] - 0s 42us/step - loss: 0.5509 - acc: 0.7351\n",
      "Epoch 61/100\n",
      "891/891 [==============================] - 0s 43us/step - loss: 0.5460 - acc: 0.7385\n",
      "Epoch 62/100\n",
      "891/891 [==============================] - 0s 39us/step - loss: 0.5577 - acc: 0.7262\n",
      "Epoch 63/100\n",
      "891/891 [==============================] - 0s 46us/step - loss: 0.5452 - acc: 0.7385\n",
      "Epoch 64/100\n",
      "891/891 [==============================] - 0s 43us/step - loss: 0.5350 - acc: 0.7430\n",
      "Epoch 65/100\n",
      "891/891 [==============================] - 0s 39us/step - loss: 0.5290 - acc: 0.7531\n",
      "Epoch 66/100\n",
      "891/891 [==============================] - 0s 40us/step - loss: 0.5335 - acc: 0.7486\n",
      "Epoch 67/100\n",
      "891/891 [==============================] - 0s 40us/step - loss: 0.5213 - acc: 0.7632\n",
      "Epoch 68/100\n",
      "891/891 [==============================] - 0s 37us/step - loss: 0.5459 - acc: 0.7531\n",
      "Epoch 69/100\n",
      "891/891 [==============================] - 0s 40us/step - loss: 0.5553 - acc: 0.7385\n",
      "Epoch 70/100\n",
      "891/891 [==============================] - 0s 40us/step - loss: 0.5445 - acc: 0.7396\n",
      "Epoch 71/100\n",
      "891/891 [==============================] - 0s 38us/step - loss: 0.5337 - acc: 0.7542\n",
      "Epoch 72/100\n",
      "891/891 [==============================] - 0s 40us/step - loss: 0.5264 - acc: 0.7565\n",
      "Epoch 73/100\n",
      "891/891 [==============================] - 0s 39us/step - loss: 0.5414 - acc: 0.7205\n",
      "Epoch 74/100\n",
      "891/891 [==============================] - 0s 40us/step - loss: 0.5218 - acc: 0.7363\n",
      "Epoch 75/100\n",
      "891/891 [==============================] - 0s 37us/step - loss: 0.5400 - acc: 0.7475\n",
      "Epoch 76/100\n",
      "891/891 [==============================] - 0s 40us/step - loss: 0.5375 - acc: 0.7565\n",
      "Epoch 77/100\n",
      "891/891 [==============================] - 0s 35us/step - loss: 0.5421 - acc: 0.7374\n",
      "Epoch 78/100\n",
      "891/891 [==============================] - 0s 40us/step - loss: 0.5326 - acc: 0.7553\n",
      "Epoch 79/100\n",
      "891/891 [==============================] - 0s 44us/step - loss: 0.5318 - acc: 0.7632\n",
      "Epoch 80/100\n",
      "891/891 [==============================] - 0s 39us/step - loss: 0.5615 - acc: 0.7464\n",
      "Epoch 81/100\n",
      "891/891 [==============================] - 0s 39us/step - loss: 0.5416 - acc: 0.7351\n",
      "Epoch 82/100\n",
      "891/891 [==============================] - 0s 43us/step - loss: 0.5408 - acc: 0.7374\n",
      "Epoch 83/100\n",
      "891/891 [==============================] - 0s 39us/step - loss: 0.5212 - acc: 0.7497\n",
      "Epoch 84/100\n"
     ]
    },
    {
     "name": "stdout",
     "output_type": "stream",
     "text": [
      "891/891 [==============================] - 0s 37us/step - loss: 0.5540 - acc: 0.7340\n",
      "Epoch 85/100\n",
      "891/891 [==============================] - 0s 40us/step - loss: 0.5177 - acc: 0.7643\n",
      "Epoch 86/100\n",
      "891/891 [==============================] - 0s 42us/step - loss: 0.5118 - acc: 0.7609\n",
      "Epoch 87/100\n",
      "891/891 [==============================] - 0s 38us/step - loss: 0.5146 - acc: 0.7688\n",
      "Epoch 88/100\n",
      "891/891 [==============================] - 0s 38us/step - loss: 0.5148 - acc: 0.7598\n",
      "Epoch 89/100\n",
      "891/891 [==============================] - 0s 37us/step - loss: 0.5277 - acc: 0.7508\n",
      "Epoch 90/100\n",
      "891/891 [==============================] - 0s 38us/step - loss: 0.5331 - acc: 0.7351\n",
      "Epoch 91/100\n",
      "891/891 [==============================] - 0s 38us/step - loss: 0.5295 - acc: 0.7407\n",
      "Epoch 92/100\n",
      "891/891 [==============================] - 0s 37us/step - loss: 0.5299 - acc: 0.7430\n",
      "Epoch 93/100\n",
      "891/891 [==============================] - 0s 38us/step - loss: 0.5338 - acc: 0.7497\n",
      "Epoch 94/100\n",
      "891/891 [==============================] - 0s 38us/step - loss: 0.5132 - acc: 0.7542\n",
      "Epoch 95/100\n",
      "891/891 [==============================] - 0s 38us/step - loss: 0.5252 - acc: 0.7508\n",
      "Epoch 96/100\n",
      "891/891 [==============================] - 0s 37us/step - loss: 0.5203 - acc: 0.7576\n",
      "Epoch 97/100\n",
      "891/891 [==============================] - 0s 37us/step - loss: 0.5156 - acc: 0.7508\n",
      "Epoch 98/100\n",
      "891/891 [==============================] - 0s 38us/step - loss: 0.5502 - acc: 0.7452\n",
      "Epoch 99/100\n",
      "891/891 [==============================] - 0s 40us/step - loss: 0.5212 - acc: 0.7531\n",
      "Epoch 100/100\n",
      "891/891 [==============================] - 0s 45us/step - loss: 0.5162 - acc: 0.7632\n"
     ]
    },
    {
     "data": {
      "text/plain": [
       "<keras.callbacks.History at 0x1f142320f60>"
      ]
     },
     "execution_count": 14,
     "metadata": {},
     "output_type": "execute_result"
    }
   ],
   "source": [
    "# Fit the model\n",
    "model.fit(X_train, \n",
    "          y_train,\n",
    "          epochs=100)"
   ]
  },
  {
   "cell_type": "markdown",
   "metadata": {},
   "source": [
    "### 6. Using Models\n",
    "- Save\n",
    "- Reload\n",
    "- Make predictions\n"
   ]
  },
  {
   "cell_type": "markdown",
   "metadata": {},
   "source": [
    "### 6.1 . Save the model"
   ]
  },
  {
   "cell_type": "code",
   "execution_count": 38,
   "metadata": {},
   "outputs": [
    {
     "data": {
      "text/plain": [
       "'C:\\\\Users\\\\ramreddymyla\\\\Google Drive\\\\01 DS ML DL NLP and AI With Python Lab Copy\\\\03 Jupyter Notebooks\\\\Level 05_of_06_Deep_Learning_or_Neural_Network'"
      ]
     },
     "execution_count": 38,
     "metadata": {},
     "output_type": "execute_result"
    }
   ],
   "source": [
    "import os\n",
    "os.getcwd()"
   ]
  },
  {
   "cell_type": "code",
   "execution_count": 40,
   "metadata": {},
   "outputs": [],
   "source": [
    "from keras.models import load_model\n",
    "model.save('model_file.h5')"
   ]
  },
  {
   "cell_type": "markdown",
   "metadata": {},
   "source": [
    "### 6.2. Reload the model"
   ]
  },
  {
   "cell_type": "code",
   "execution_count": 41,
   "metadata": {},
   "outputs": [],
   "source": [
    "my_model = load_model('model_file.h5')"
   ]
  },
  {
   "cell_type": "code",
   "execution_count": 42,
   "metadata": {},
   "outputs": [
    {
     "data": {
      "text/plain": [
       "keras.engine.sequential.Sequential"
      ]
     },
     "execution_count": 42,
     "metadata": {},
     "output_type": "execute_result"
    }
   ],
   "source": [
    "type(my_model)"
   ]
  },
  {
   "cell_type": "markdown",
   "metadata": {},
   "source": [
    "### 6.3. Make Predictions on new data / test data"
   ]
  },
  {
   "cell_type": "code",
   "execution_count": 43,
   "metadata": {},
   "outputs": [],
   "source": [
    "# Calculate predictions: predictions\n",
    "y_test_pred = my_model.predict(X_test)"
   ]
  },
  {
   "cell_type": "code",
   "execution_count": 44,
   "metadata": {},
   "outputs": [
    {
     "data": {
      "text/plain": [
       "array([[0.83954597, 0.16045408],\n",
       "       [0.3083513 , 0.6916488 ],\n",
       "       [0.7048405 , 0.29515955],\n",
       "       [0.3715442 , 0.6284558 ],\n",
       "       [0.8364934 , 0.1635066 ]], dtype=float32)"
      ]
     },
     "execution_count": 44,
     "metadata": {},
     "output_type": "execute_result"
    }
   ],
   "source": [
    "y_test_pred[:5]"
   ]
  },
  {
   "cell_type": "code",
   "execution_count": 45,
   "metadata": {},
   "outputs": [],
   "source": [
    "# Calculate predicted probability of survival: predicted_prob_true\n",
    "predicted_prob_true = y_test_pred[:,1]"
   ]
  },
  {
   "cell_type": "code",
   "execution_count": 46,
   "metadata": {},
   "outputs": [
    {
     "name": "stdout",
     "output_type": "stream",
     "text": [
      "[0.16045408 0.6916488  0.29515955 0.6284558  0.1635066  0.23746371\n",
      " 0.5947491  0.2857637  0.4244602  0.5663566  0.51269674 0.4889897\n",
      " 0.26472017 0.50055146 0.43152523 0.28749037 0.28055483 0.3553619\n",
      " 0.41905954 0.25492573 0.46863186 0.3221299  0.4476213  0.57326496\n",
      " 0.40189853 0.52675986 0.17523055 0.7751592  0.32292172 0.18284851\n",
      " 0.4942372  0.74653405 0.32062876 0.09739387 0.68342704 0.59356314\n",
      " 0.17528357 0.2542499  0.4073559  0.407274   0.16948467 0.4735213\n",
      " 0.18373454 0.5682397  0.41042405 0.18486889 0.3225325  0.32062876\n",
      " 0.33853883]\n"
     ]
    }
   ],
   "source": [
    "# print predicted_prob_true\n",
    "print(predicted_prob_true)"
   ]
  },
  {
   "cell_type": "code",
   "execution_count": 48,
   "metadata": {},
   "outputs": [
    {
     "data": {
      "text/plain": [
       "array([0., 1., 0., 1., 0., 0., 1., 0., 0., 1., 1., 0., 0., 1., 0., 0., 0.,\n",
       "       0., 0., 0., 0., 0., 0., 1., 0., 1., 0., 1., 0., 0., 0., 1., 0., 0.,\n",
       "       1., 1., 0., 0., 0., 0., 0., 0., 0., 1., 0., 0., 0., 0., 0.],\n",
       "      dtype=float32)"
      ]
     },
     "execution_count": 48,
     "metadata": {},
     "output_type": "execute_result"
    }
   ],
   "source": [
    "# print predicted_prob_true\n",
    "predicted_prob_true.round()"
   ]
  },
  {
   "cell_type": "markdown",
   "metadata": {},
   "source": [
    "> Please practice one example using iris dataset for Multi classes\n",
    "[refer iris dataset example](https://machinelearningmastery.com/multi-class-classification-tutorial-keras-deep-learning-library/)"
   ]
  },
  {
   "cell_type": "code",
   "execution_count": null,
   "metadata": {},
   "outputs": [],
   "source": []
  }
 ],
 "metadata": {
  "kernelspec": {
   "display_name": "Python 3",
   "language": "python",
   "name": "python3"
  },
  "language_info": {
   "codemirror_mode": {
    "name": "ipython",
    "version": 3
   },
   "file_extension": ".py",
   "mimetype": "text/x-python",
   "name": "python",
   "nbconvert_exporter": "python",
   "pygments_lexer": "ipython3",
   "version": "3.6.9"
  }
 },
 "nbformat": 4,
 "nbformat_minor": 2
}
