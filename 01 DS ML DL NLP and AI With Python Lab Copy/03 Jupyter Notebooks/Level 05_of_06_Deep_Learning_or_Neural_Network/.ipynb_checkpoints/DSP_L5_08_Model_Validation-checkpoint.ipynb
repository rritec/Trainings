{
 "cells": [
  {
   "cell_type": "markdown",
   "metadata": {},
   "source": [
    "# Model Validation\n",
    "---\n",
    "1. Validation in deep learning\n",
    "    - Commonly used validation is split rather than cross validation\n",
    "    - Deep learning widely used `on large datasets`\n",
    "    - Single validation score is based on large amount of data, and is `reliable`\n",
    "    - Repeated training from cross-validation would take `long time`"
   ]
  },
  {
   "cell_type": "markdown",
   "metadata": {},
   "source": [
    "## 1.Exercise 1: Evaluating model accuracy on validation dataset"
   ]
  },
  {
   "cell_type": "code",
   "execution_count": 1,
   "metadata": {},
   "outputs": [
    {
     "name": "stderr",
     "output_type": "stream",
     "text": [
      "Using TensorFlow backend.\n"
     ]
    }
   ],
   "source": [
    "# data\n",
    "import pandas as pd\n",
    "from keras.utils import to_categorical\n",
    "df = pd.read_csv(\"titanic_all_numeric_train.csv\")\n",
    "X_train = df.drop(['survived'], axis=1).values\n",
    "y_train = to_categorical(df.survived)\n",
    "df = pd.read_csv(\"titanic_all_numeric_test.csv\")\n",
    "X_test = df.drop(['survived'], axis=1).values"
   ]
  },
  {
   "cell_type": "code",
   "execution_count": 2,
   "metadata": {},
   "outputs": [],
   "source": [
    "from keras.models import Sequential\n",
    "from keras.layers import Dense"
   ]
  },
  {
   "cell_type": "code",
   "execution_count": 3,
   "metadata": {},
   "outputs": [
    {
     "name": "stderr",
     "output_type": "stream",
     "text": [
      "WARNING: Logging before flag parsing goes to stderr.\n",
      "W0819 12:29:19.818988  5280 deprecation_wrapper.py:119] From C:\\Users\\ramreddymyla\\Anaconda3\\envs\\dl\\lib\\site-packages\\keras\\backend\\tensorflow_backend.py:74: The name tf.get_default_graph is deprecated. Please use tf.compat.v1.get_default_graph instead.\n",
      "\n",
      "W0819 12:29:19.852935  5280 deprecation_wrapper.py:119] From C:\\Users\\ramreddymyla\\Anaconda3\\envs\\dl\\lib\\site-packages\\keras\\backend\\tensorflow_backend.py:517: The name tf.placeholder is deprecated. Please use tf.compat.v1.placeholder instead.\n",
      "\n",
      "W0819 12:29:19.857468  5280 deprecation_wrapper.py:119] From C:\\Users\\ramreddymyla\\Anaconda3\\envs\\dl\\lib\\site-packages\\keras\\backend\\tensorflow_backend.py:4138: The name tf.random_uniform is deprecated. Please use tf.random.uniform instead.\n",
      "\n",
      "W0819 12:29:19.947667  5280 deprecation_wrapper.py:119] From C:\\Users\\ramreddymyla\\Anaconda3\\envs\\dl\\lib\\site-packages\\keras\\optimizers.py:790: The name tf.train.Optimizer is deprecated. Please use tf.compat.v1.train.Optimizer instead.\n",
      "\n",
      "W0819 12:29:20.010124  5280 deprecation_wrapper.py:119] From C:\\Users\\ramreddymyla\\Anaconda3\\envs\\dl\\lib\\site-packages\\keras\\backend\\tensorflow_backend.py:3295: The name tf.log is deprecated. Please use tf.math.log instead.\n",
      "\n",
      "W0819 12:29:20.274282  5280 deprecation.py:323] From C:\\Users\\ramreddymyla\\Anaconda3\\envs\\dl\\lib\\site-packages\\tensorflow\\python\\ops\\math_grad.py:1250: add_dispatch_support.<locals>.wrapper (from tensorflow.python.ops.array_ops) is deprecated and will be removed in a future version.\n",
      "Instructions for updating:\n",
      "Use tf.where in 2.0, which has the same broadcast rule as np.where\n",
      "W0819 12:29:20.563125  5280 deprecation_wrapper.py:119] From C:\\Users\\ramreddymyla\\Anaconda3\\envs\\dl\\lib\\site-packages\\keras\\backend\\tensorflow_backend.py:986: The name tf.assign_add is deprecated. Please use tf.compat.v1.assign_add instead.\n",
      "\n"
     ]
    },
    {
     "name": "stdout",
     "output_type": "stream",
     "text": [
      "Train on 623 samples, validate on 268 samples\n",
      "Epoch 1/10\n",
      "623/623 [==============================] - 1s 1ms/step - loss: 1.6162 - acc: 0.5490 - val_loss: 0.7960 - val_acc: 0.7164\n",
      "Epoch 2/10\n",
      "623/623 [==============================] - 0s 117us/step - loss: 0.8537 - acc: 0.6549 - val_loss: 0.7025 - val_acc: 0.6493\n",
      "Epoch 3/10\n",
      "623/623 [==============================] - 0s 123us/step - loss: 0.7376 - acc: 0.6196 - val_loss: 0.7760 - val_acc: 0.6418\n",
      "Epoch 4/10\n",
      "623/623 [==============================] - 0s 95us/step - loss: 0.7400 - acc: 0.6276 - val_loss: 0.7258 - val_acc: 0.6418\n",
      "Epoch 5/10\n",
      "623/623 [==============================] - 0s 79us/step - loss: 0.8212 - acc: 0.5955 - val_loss: 0.6261 - val_acc: 0.7164\n",
      "Epoch 6/10\n",
      "623/623 [==============================] - 0s 117us/step - loss: 0.6546 - acc: 0.6613 - val_loss: 0.7081 - val_acc: 0.6418\n",
      "Epoch 7/10\n",
      "623/623 [==============================] - 0s 103us/step - loss: 0.6705 - acc: 0.6565 - val_loss: 0.5307 - val_acc: 0.7799\n",
      "Epoch 8/10\n",
      "623/623 [==============================] - 0s 85us/step - loss: 0.6009 - acc: 0.6870 - val_loss: 0.5110 - val_acc: 0.7537\n",
      "Epoch 9/10\n",
      "623/623 [==============================] - 0s 88us/step - loss: 0.5808 - acc: 0.6998 - val_loss: 0.5288 - val_acc: 0.7425\n",
      "Epoch 10/10\n",
      "623/623 [==============================] - 0s 96us/step - loss: 0.5741 - acc: 0.6998 - val_loss: 0.5916 - val_acc: 0.6940\n"
     ]
    }
   ],
   "source": [
    "# Save the number of columns in predictors: n_cols\n",
    "n_cols = X_train.shape[1]\n",
    "input_shape = (n_cols,)\n",
    "# Specify the model\n",
    "model = Sequential()\n",
    "model.add(Dense(100, activation='relu', input_shape = input_shape))\n",
    "model.add(Dense(100, activation='relu'))\n",
    "model.add(Dense(2, activation='softmax'))\n",
    "# Compile the model\n",
    "model.compile(optimizer='adam', \n",
    "              loss='categorical_crossentropy'\n",
    "              ,metrics=['accuracy'])\n",
    "# Fit the model\n",
    "hist = model.fit(X_train,\n",
    "                 y_train, \n",
    "                 validation_split=0.3,\n",
    "                epochs=10)"
   ]
  },
  {
   "cell_type": "markdown",
   "metadata": {},
   "source": [
    "## 2. Exercise 2: `Early stopping`, Optimizing the optimization"
   ]
  },
  {
   "cell_type": "code",
   "execution_count": 6,
   "metadata": {},
   "outputs": [],
   "source": [
    "# Import EarlyStopping\n",
    "from keras.callbacks import EarlyStopping"
   ]
  },
  {
   "cell_type": "code",
   "execution_count": 5,
   "metadata": {},
   "outputs": [],
   "source": [
    "EarlyStopping?"
   ]
  },
  {
   "cell_type": "code",
   "execution_count": 4,
   "metadata": {},
   "outputs": [
    {
     "name": "stdout",
     "output_type": "stream",
     "text": [
      "Train on 712 samples, validate on 179 samples\n",
      "Epoch 1/30\n",
      "712/712 [==============================] - 1s 1ms/step - loss: 0.9021 - acc: 0.6067 - val_loss: 0.6487 - val_acc: 0.6648\n",
      "Epoch 2/30\n",
      "712/712 [==============================] - 0s 126us/step - loss: 0.6724 - acc: 0.6587 - val_loss: 0.5703 - val_acc: 0.7374\n",
      "Epoch 3/30\n",
      "712/712 [==============================] - 0s 71us/step - loss: 0.6257 - acc: 0.6685 - val_loss: 0.5251 - val_acc: 0.7430\n",
      "Epoch 4/30\n",
      "712/712 [==============================] - 0s 110us/step - loss: 0.6295 - acc: 0.6756 - val_loss: 0.5580 - val_acc: 0.7486\n",
      "Epoch 5/30\n",
      "712/712 [==============================] - 0s 99us/step - loss: 0.5837 - acc: 0.7135 - val_loss: 0.4906 - val_acc: 0.7654\n",
      "Epoch 6/30\n",
      "712/712 [==============================] - 0s 116us/step - loss: 0.5659 - acc: 0.7065 - val_loss: 0.4954 - val_acc: 0.7989\n",
      "Epoch 7/30\n",
      "712/712 [==============================] - 0s 134us/step - loss: 0.5840 - acc: 0.7065 - val_loss: 0.4835 - val_acc: 0.7821\n",
      "Epoch 8/30\n",
      "712/712 [==============================] - 0s 111us/step - loss: 0.5686 - acc: 0.7191 - val_loss: 0.4664 - val_acc: 0.7765\n",
      "Epoch 9/30\n",
      "712/712 [==============================] - 0s 68us/step - loss: 0.5768 - acc: 0.7360 - val_loss: 0.4600 - val_acc: 0.7933\n",
      "Epoch 10/30\n",
      "712/712 [==============================] - 0s 81us/step - loss: 0.5733 - acc: 0.7065 - val_loss: 0.5361 - val_acc: 0.6872\n",
      "Epoch 11/30\n",
      "712/712 [==============================] - 0s 108us/step - loss: 0.5667 - acc: 0.7205 - val_loss: 0.4257 - val_acc: 0.8045\n",
      "Epoch 12/30\n",
      "712/712 [==============================] - 0s 92us/step - loss: 0.5180 - acc: 0.7458 - val_loss: 0.4227 - val_acc: 0.8101\n",
      "Epoch 13/30\n",
      "712/712 [==============================] - 0s 86us/step - loss: 0.5050 - acc: 0.7584 - val_loss: 0.4183 - val_acc: 0.8212\n",
      "Epoch 14/30\n",
      "712/712 [==============================] - 0s 135us/step - loss: 0.5280 - acc: 0.7753 - val_loss: 0.4035 - val_acc: 0.8212\n",
      "Epoch 15/30\n",
      "712/712 [==============================] - 0s 81us/step - loss: 0.5076 - acc: 0.7669 - val_loss: 0.4274 - val_acc: 0.8324\n",
      "Epoch 16/30\n",
      "712/712 [==============================] - 0s 93us/step - loss: 0.5128 - acc: 0.7640 - val_loss: 0.4061 - val_acc: 0.8045\n",
      "Epoch 17/30\n",
      "712/712 [==============================] - 0s 84us/step - loss: 0.5531 - acc: 0.7444 - val_loss: 0.4561 - val_acc: 0.8212\n"
     ]
    },
    {
     "data": {
      "text/plain": [
       "<keras.callbacks.History at 0x1862f5cc710>"
      ]
     },
     "execution_count": 4,
     "metadata": {},
     "output_type": "execute_result"
    }
   ],
   "source": [
    "# Save the number of columns in predictors: n_cols\n",
    "n_cols = X_train.shape[1]\n",
    "input_shape = (n_cols,)\n",
    "# Specify the model\n",
    "model = Sequential()\n",
    "model.add(Dense(100, activation='relu', input_shape = input_shape))\n",
    "model.add(Dense(100, activation='relu'))\n",
    "model.add(Dense(2, activation='softmax'))\n",
    "# Compile the model\n",
    "model.compile(optimizer='adam', \n",
    "              loss='categorical_crossentropy', \n",
    "              metrics=['accuracy'])\n",
    "# Define early_stopping_monitor\n",
    "early_stopping_monitor = EarlyStopping(patience=3)\n",
    "# Fit the model\n",
    "model.fit(X_train, y_train, \n",
    "          epochs=30, \n",
    "          validation_split=0.2, \n",
    "          callbacks=[early_stopping_monitor])\n"
   ]
  },
  {
   "cell_type": "markdown",
   "metadata": {},
   "source": [
    "## 3. Exercise 3: Experimenting with `Wider Networks`"
   ]
  },
  {
   "cell_type": "markdown",
   "metadata": {},
   "source": [
    "### 3.1. create a model with `Less Nodes(example 10 nodes)`"
   ]
  },
  {
   "cell_type": "code",
   "execution_count": 24,
   "metadata": {},
   "outputs": [],
   "source": [
    "# Define early_stopping_monitor\n",
    "early_stopping_monitor = EarlyStopping(patience=2)\n",
    "# Create the new model: model_1\n",
    "model_1 = Sequential()\n",
    "# Add the first and second layers\n",
    "model_1.add(Dense(10, activation='relu', input_shape=input_shape))\n",
    "model_1.add(Dense(10, activation='relu'))\n",
    "# Add the output layer\n",
    "model_1.add(Dense(2, activation='softmax'))\n",
    "# Compile model_1\n",
    "model_1.compile(optimizer='adam', \n",
    "                loss='categorical_crossentropy', \n",
    "                metrics=['accuracy'])"
   ]
  },
  {
   "cell_type": "markdown",
   "metadata": {},
   "source": [
    "### 3.2. create a model with `More Nodes(example 100 nodes)`"
   ]
  },
  {
   "cell_type": "code",
   "execution_count": 25,
   "metadata": {},
   "outputs": [],
   "source": [
    "# Create the new model: model_2\n",
    "model_2 = Sequential()\n",
    "# Add the first and second layers\n",
    "model_2.add(Dense(100, activation='relu', input_shape=input_shape))\n",
    "model_2.add(Dense(100, activation='relu'))\n",
    "# Add the output layer\n",
    "model_2.add(Dense(2, activation='softmax'))\n",
    "# Compile model_2\n",
    "model_2.compile(optimizer='adam', \n",
    "                loss='categorical_crossentropy', \n",
    "                metrics=['accuracy'])"
   ]
  },
  {
   "cell_type": "markdown",
   "metadata": {},
   "source": [
    "### 3.3. Fit both the models"
   ]
  },
  {
   "cell_type": "code",
   "execution_count": 26,
   "metadata": {},
   "outputs": [
    {
     "name": "stdout",
     "output_type": "stream",
     "text": [
      "Train on 712 samples, validate on 179 samples\n",
      "Epoch 1/15\n",
      "712/712 [==============================] - 1s 2ms/step - loss: 0.6807 - acc: 0.6138 - val_loss: 0.6571 - val_acc: 0.6983\n",
      "Epoch 2/15\n",
      "712/712 [==============================] - 0s 108us/step - loss: 0.6609 - acc: 0.6629 - val_loss: 0.6209 - val_acc: 0.6816\n",
      "Epoch 3/15\n",
      "712/712 [==============================] - 0s 107us/step - loss: 0.6372 - acc: 0.6629 - val_loss: 0.5764 - val_acc: 0.7039\n",
      "Epoch 4/15\n",
      "712/712 [==============================] - 0s 75us/step - loss: 0.6198 - acc: 0.6615 - val_loss: 0.5582 - val_acc: 0.6983\n",
      "Epoch 5/15\n",
      "712/712 [==============================] - 0s 81us/step - loss: 0.6155 - acc: 0.6629 - val_loss: 0.5493 - val_acc: 0.7095\n",
      "Epoch 6/15\n",
      "712/712 [==============================] - 0s 109us/step - loss: 0.6138 - acc: 0.6685 - val_loss: 0.5427 - val_acc: 0.7207\n",
      "Epoch 7/15\n",
      "712/712 [==============================] - 0s 87us/step - loss: 0.6129 - acc: 0.6699 - val_loss: 0.5467 - val_acc: 0.7207\n",
      "Epoch 8/15\n",
      "712/712 [==============================] - 0s 112us/step - loss: 0.6117 - acc: 0.6671 - val_loss: 0.5442 - val_acc: 0.7151\n"
     ]
    }
   ],
   "source": [
    "# Fit model_1 # with 10 nodes\n",
    "model_1_training = model_1.fit(X_train, y_train, \n",
    "                               epochs=15, \n",
    "                               validation_split=0.2, \n",
    "                               callbacks=[early_stopping_monitor])"
   ]
  },
  {
   "cell_type": "code",
   "execution_count": 27,
   "metadata": {},
   "outputs": [
    {
     "name": "stdout",
     "output_type": "stream",
     "text": [
      "Train on 712 samples, validate on 179 samples\n",
      "Epoch 1/15\n",
      "712/712 [==============================] - 1s 2ms/step - loss: 1.1571 - acc: 0.6166 - val_loss: 0.5701 - val_acc: 0.6983\n",
      "Epoch 2/15\n",
      "712/712 [==============================] - 0s 115us/step - loss: 0.7008 - acc: 0.6306 - val_loss: 0.5383 - val_acc: 0.7039\n",
      "Epoch 3/15\n",
      "712/712 [==============================] - 0s 126us/step - loss: 0.6227 - acc: 0.6601 - val_loss: 0.5544 - val_acc: 0.7095\n",
      "Epoch 4/15\n",
      "712/712 [==============================] - 0s 103us/step - loss: 0.6536 - acc: 0.6685 - val_loss: 0.5108 - val_acc: 0.7598\n",
      "Epoch 5/15\n",
      "712/712 [==============================] - 0s 96us/step - loss: 0.6047 - acc: 0.6826 - val_loss: 0.5066 - val_acc: 0.7542\n",
      "Epoch 6/15\n",
      "712/712 [==============================] - 0s 155us/step - loss: 0.5975 - acc: 0.6882 - val_loss: 0.4804 - val_acc: 0.7598\n",
      "Epoch 7/15\n",
      "712/712 [==============================] - 0s 114us/step - loss: 0.5633 - acc: 0.7022 - val_loss: 0.4877 - val_acc: 0.7765\n",
      "Epoch 8/15\n",
      "712/712 [==============================] - 0s 98us/step - loss: 0.5543 - acc: 0.7149 - val_loss: 0.4977 - val_acc: 0.7598\n"
     ]
    }
   ],
   "source": [
    "# Fit model_2 # with 100 nodes\n",
    "model_2_training = model_2.fit(X_train, y_train, \n",
    "                               epochs=15, \n",
    "                               validation_split=0.2, \n",
    "                               callbacks=[early_stopping_monitor])                                "
   ]
  },
  {
   "cell_type": "markdown",
   "metadata": {},
   "source": [
    "### 3.4. Observe the graph"
   ]
  },
  {
   "cell_type": "code",
   "execution_count": 28,
   "metadata": {},
   "outputs": [
    {
     "data": {
      "image/png": "[encoded data removed]",
      "text/plain": [
       "<Figure size 432x288 with 1 Axes>"
      ]
     },
     "metadata": {
      "needs_background": "light"
     },
     "output_type": "display_data"
    }
   ],
   "source": [
    "# Create the plot\n",
    "import matplotlib.pyplot as plt\n",
    "plt.plot(model_1_training.history['val_loss'], 'r',\n",
    "         model_2_training.history['val_loss'], 'b')\n",
    "plt.xlabel('Epochs')\n",
    "plt.ylabel('Validation score')\n",
    "plt.show()"
   ]
  },
  {
   "cell_type": "markdown",
   "metadata": {},
   "source": [
    "> Note: Model_2 <font size=\"3\" color=\"blue\">blue</font> line in the graph has less loss ,so it is good . i.e wider networks are good\n"
   ]
  },
  {
   "cell_type": "markdown",
   "metadata": {},
   "source": [
    "## 4. Exercise 4: Adding layers to a network(`Deeper Network`)\n",
    "- In above exercise 3, you’ve seen how to experiment with wider networks.\n",
    "- In this exercise, you'll try a `Deeper Network (More Hidden Layers)`."
   ]
  },
  {
   "cell_type": "markdown",
   "metadata": {},
   "source": [
    "### 4.1. Create a model (`With One Layer`)"
   ]
  },
  {
   "cell_type": "code",
   "execution_count": 29,
   "metadata": {},
   "outputs": [],
   "source": [
    "# The input shape to use in the first hidden layer\n",
    "input_shape = (n_cols,)\n",
    "# Create the new model: model_1\n",
    "model_1 = Sequential()\n",
    "# Add one hidden layer\n",
    "model_1.add(Dense(50, activation='relu', input_shape=input_shape)) \n",
    "# Add the output layer\n",
    "model_1.add(Dense(2, activation='softmax'))\n",
    "# Compile model_1\n",
    "model_1.compile(optimizer='adam', loss='categorical_crossentropy', metrics=['accuracy'])"
   ]
  },
  {
   "cell_type": "markdown",
   "metadata": {},
   "source": [
    "### 4.2. Create a model (`With Three Layers`)"
   ]
  },
  {
   "cell_type": "code",
   "execution_count": 30,
   "metadata": {},
   "outputs": [],
   "source": [
    "# Create the new model: model_2\n",
    "model_2 = Sequential()\n",
    "# Add the first, second, and third hidden layers\n",
    "model_2.add(Dense(50, activation='relu', input_shape=input_shape))\n",
    "model_2.add(Dense(50, activation='relu'))\n",
    "model_2.add(Dense(50, activation='relu'))\n",
    "# Add the output layer\n",
    "model_2.add(Dense(2, activation='softmax'))\n",
    "# Compile model_2\n",
    "model_2.compile(optimizer='adam', loss='categorical_crossentropy', metrics=['accuracy'])"
   ]
  },
  {
   "cell_type": "markdown",
   "metadata": {},
   "source": [
    "### 4.3. Fit Models"
   ]
  },
  {
   "cell_type": "code",
   "execution_count": 31,
   "metadata": {},
   "outputs": [],
   "source": [
    "# Fit model 1\n",
    "model_1_training = model_1.fit(X_train, y_train, \n",
    "                               epochs=20, \n",
    "                               validation_split=0.4, \n",
    "                               callbacks=[early_stopping_monitor], \n",
    "                               verbose=False)\n",
    "# Fit model 2\n",
    "model_2_training = model_2.fit(X_train, y_train, \n",
    "                               epochs=20, \n",
    "                               validation_split=0.4, \n",
    "                               callbacks=[early_stopping_monitor], \n",
    "                               verbose=False)"
   ]
  },
  {
   "cell_type": "markdown",
   "metadata": {},
   "source": [
    "### 4.4. Observe the graph"
   ]
  },
  {
   "cell_type": "code",
   "execution_count": 32,
   "metadata": {},
   "outputs": [
    {
     "data": {
      "image/png": "[encoded data removed]",
      "text/plain": [
       "<Figure size 432x288 with 1 Axes>"
      ]
     },
     "metadata": {
      "needs_background": "light"
     },
     "output_type": "display_data"
    }
   ],
   "source": [
    "# Create the plot\n",
    "plt.plot(model_1_training.history['val_loss'], 'r', \n",
    "         model_2_training.history['val_loss'], 'b')\n",
    "plt.xlabel('Epochs')\n",
    "plt.ylabel('Validation score')\n",
    "plt.show()"
   ]
  },
  {
   "cell_type": "markdown",
   "metadata": {},
   "source": [
    "> Note: Model_2 <font size=\"3\" color=\"blue\">blue</font> line in the graph has less loss ,so it is good. That means deeper networks are good\n"
   ]
  },
  {
   "cell_type": "code",
   "execution_count": null,
   "metadata": {
    "collapsed": true
   },
   "outputs": [],
   "source": []
  }
 ],
 "metadata": {
  "kernelspec": {
   "display_name": "Python 3",
   "language": "python",
   "name": "python3"
  },
  "language_info": {
   "codemirror_mode": {
    "name": "ipython",
    "version": 3
   },
   "file_extension": ".py",
   "mimetype": "text/x-python",
   "name": "python",
   "nbconvert_exporter": "python",
   "pygments_lexer": "ipython3",
   "version": "3.6.9"
  }
 },
 "nbformat": 4,
 "nbformat_minor": 2
}
