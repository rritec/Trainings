{
 "cells": [
  {
   "cell_type": "code",
   "execution_count": 1,
   "metadata": {},
   "outputs": [
    {
     "name": "stdout",
     "output_type": "stream",
     "text": [
      "# packages in environment at C:\\Users\\ramreddymyla\\Anaconda3:\n",
      "#\n",
      "# Name                    Version                   Build  Channel\n",
      "tensorflow                1.13.1           py36h21ff451_1    conda-forge\n",
      "tensorflow-estimator      1.13.0                     py_0  \n"
     ]
    }
   ],
   "source": [
    "!conda list tensorflow"
   ]
  },
  {
   "cell_type": "code",
   "execution_count": 2,
   "metadata": {},
   "outputs": [
    {
     "name": "stdout",
     "output_type": "stream",
     "text": [
      "# packages in environment at C:\\Users\\ramreddymyla\\Anaconda3:\n",
      "#\n",
      "# Name                    Version                   Build  Channel\n",
      "keras                     2.2.4                    py36_1    conda-forge\n",
      "keras-applications        1.0.7                      py_1    conda-forge\n",
      "keras-preprocessing       1.0.9                      py_1    conda-forge\n"
     ]
    }
   ],
   "source": [
    "!conda list keras"
   ]
  },
  {
   "cell_type": "code",
   "execution_count": null,
   "metadata": {},
   "outputs": [],
   "source": []
  }
 ],
 "metadata": {
  "kernelspec": {
   "display_name": "Python 3",
   "language": "python",
   "name": "python3"
  },
  "language_info": {
   "codemirror_mode": {
    "name": "ipython",
    "version": 3
   },
   "file_extension": ".py",
   "mimetype": "text/x-python",
   "name": "python",
   "nbconvert_exporter": "python",
   "pygments_lexer": "ipython3",
   "version": "3.6.5"
  }
 },
 "nbformat": 4,
 "nbformat_minor": 2
}
