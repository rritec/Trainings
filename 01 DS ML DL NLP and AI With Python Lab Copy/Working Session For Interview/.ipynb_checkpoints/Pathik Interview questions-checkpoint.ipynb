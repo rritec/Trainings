{
 "cells": [
  {
   "cell_type": "code",
   "execution_count": 0,
   "metadata": {
    "colab": {},
    "colab_type": "code",
    "id": "XMQmYvuWH_d6"
   },
   "outputs": [],
   "source": []
  },
  {
   "cell_type": "markdown",
   "metadata": {
    "colab_type": "text",
    "id": "M7Sk5uNGIIUY"
   },
   "source": [
    "## Interview questions\n",
    "\n",
    "what is factor analysis?\n",
    "\n",
    "what is the use of hypothetical testing , anova , auto-correlation to buid model?\n",
    "\n",
    "Agile methodolgy and scrum process in project that how would we use this for our project?\n",
    "\n",
    "Correct me if I'm wrong, Scrum is an agile method to manage a project. Scrum can be expressed as a framework for the managing the overall project. There exists agile and waterfall methodologies that are popularly used. What methodolgy we use can be the wish of the management or the manager or the firm.So here we can\n",
    "\n",
    "How would we know that this machine learning algorithm is best for our data sets? How would we choose machine learning algorithm based on business problem?\n",
    "\n",
    "Log Loss Function\n",
    "\n",
    "addressed overfitting by implementing of algorithm regularization methods like L2 and L1 what is the meaning of that?\n",
    "\n",
    "how descriptive statistics used for handled anomolies such as removing duplicates and handling missing value?\n",
    "\n",
    "bagging and boosting?\n",
    "\n",
    "What is deployment of model and real time feeding of data to model?\n",
    "\n",
    "What are the important things that should be evaluated the data distribution.\n",
    "\n",
    "how would we predict user preference based on segmentation using General Additive Models?\n",
    "\n",
    "Data Normalization?\n",
    "\n",
    "How we will test our model ?\n",
    "\n",
    "Overfitting and underfitting?\n",
    "\n",
    "How will we check Robusteness and relaibility of logistic Regression Model?\n",
    "\n",
    "what is the construction behind ROC curve?"
   ]
  }
 ],
 "metadata": {
  "colab": {
   "collapsed_sections": [],
   "name": "Pathik Interview questions",
   "provenance": [],
   "version": "0.3.2"
  },
  "kernelspec": {
   "display_name": "Python 3",
   "language": "python",
   "name": "python3"
  },
  "language_info": {
   "codemirror_mode": {
    "name": "ipython",
    "version": 3
   },
   "file_extension": ".py",
   "mimetype": "text/x-python",
   "name": "python",
   "nbconvert_exporter": "python",
   "pygments_lexer": "ipython3",
   "version": "3.7.4"
  }
 },
 "nbformat": 4,
 "nbformat_minor": 1
}
