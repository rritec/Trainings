{
 "cells": [
  {
   "cell_type": "code",
   "execution_count": 0,
   "metadata": {
    "colab": {},
    "colab_type": "code",
    "id": "fZ2qROYCjXJf"
   },
   "outputs": [],
   "source": [
    "\n",
    "# Unknow things in CV explanation"
   ]
  },
  {
   "cell_type": "markdown",
   "metadata": {
    "colab_type": "text",
    "id": "i-xeLegQkAKN"
   },
   "source": [
    "# What is Pipeline\n",
    "- [airflowpipeline](https://airflow.apache.org/)\n"
   ]
  },
  {
   "cell_type": "markdown",
   "metadata": {
    "colab_type": "text",
    "id": "ycOZk3BGj0OC"
   },
   "source": [
    "-"
   ]
  },
  {
   "cell_type": "markdown",
   "metadata": {
    "colab_type": "text",
    "id": "lF3GQvzmQI1a"
   },
   "source": []
  },
  {
   "cell_type": "markdown",
   "metadata": {
    "colab_type": "text",
    "id": "RdqUEROKlEQo"
   },
   "source": [
    "# What are variables ?\n",
    "- attributes/dimension/feature/column/document\n",
    "- human features (no of legs,weight,height,color,..etc)"
   ]
  },
  {
   "cell_type": "markdown",
   "metadata": {
    "colab_type": "text",
    "id": "OXIJd90Wlu8o"
   },
   "source": [
    "# How Many features available?\n",
    "- Any number is correct\n",
    "- based on business statement, the number of fetures will be from 1 to 10000(text analytics)\n",
    "- how to reduce Number of fetures\n",
    "  - PCA\n",
    "  - Dimension reductionality\n",
    "  - corelation\n",
    "  - chi squre\n",
    "  - a/b testing\n",
    "    - [refer](https://towardsdatascience.com/the-math-behind-a-b-testing-with-example-code-part-1-of-2-7be752e1d06f)"
   ]
  },
  {
   "cell_type": "code",
   "execution_count": 0,
   "metadata": {
    "colab": {},
    "colab_type": "code",
    "id": "lIVi5mL4nff3"
   },
   "outputs": [],
   "source": [
    "How to get data from hive ?"
   ]
  },
  {
   "cell_type": "markdown",
   "metadata": {
    "colab_type": "text",
    "id": "LGPaH1DYoMeN"
   },
   "source": [
    "# How to get data from hive? and how to clean data?\n",
    "- use pyhive to import the data\n",
    "- preproccing\n",
    "  - outliers\n",
    "  - categorical to numbers (get_dummies/onehotencoding(sklearn),to_categorical(keras))\n",
    "    - https://drive.google.com/open?id=1sXT3XG2gwKjaRN7vBGK5c1MBkhntJbY_\n",
    "    - https://drive.google.com/open?id=1PCUzPyRcyJuyJq_s22FxQo5rqQgz8nM4\n",
    "    - https://drive.google.com/open?id=1vlnVYc7E6iwshxvF6IGV1HYZrcWq3c6_\n"
   ]
  },
  {
   "cell_type": "code",
   "execution_count": 0,
   "metadata": {
    "colab": {},
    "colab_type": "code",
    "id": "SjnnL542rdpa"
   },
   "outputs": [],
   "source": []
  },
  {
   "cell_type": "markdown",
   "metadata": {
    "colab_type": "text",
    "id": "64G8BoR2sihZ"
   },
   "source": [
    "# Oozie Work flow engine to run multiple hive and pig jobs ??\n"
   ]
  },
  {
   "cell_type": "markdown",
   "metadata": {
    "colab_type": "text",
    "id": "LiKyAE_qZiMr"
   },
   "source": [
    "What is deployment of model and real time feeding of data to model?\n",
    "\n",
    "\n",
    "\n",
    "\n",
    "\n",
    "\n",
    "\n",
    "\n",
    "\n",
    "\n"
   ]
  },
  {
   "cell_type": "markdown",
   "metadata": {
    "colab_type": "text",
    "id": "2ZEGR-O3r39V"
   },
   "source": []
  },
  {
   "cell_type": "markdown",
   "metadata": {
    "colab_type": "text",
    "id": "h7Ei55fyR3O1"
   },
   "source": [
    "#post\n",
    "- statement"
   ]
  }
 ],
 "metadata": {
  "colab": {
   "collapsed_sections": [],
   "name": "Interview Questions and Answers.ipynb",
   "provenance": []
  },
  "kernelspec": {
   "display_name": "Python 3",
   "language": "python",
   "name": "python3"
  },
  "language_info": {
   "codemirror_mode": {
    "name": "ipython",
    "version": 3
   },
   "file_extension": ".py",
   "mimetype": "text/x-python",
   "name": "python",
   "nbconvert_exporter": "python",
   "pygments_lexer": "ipython3",
   "version": "3.7.4"
  }
 },
 "nbformat": 4,
 "nbformat_minor": 1
}
